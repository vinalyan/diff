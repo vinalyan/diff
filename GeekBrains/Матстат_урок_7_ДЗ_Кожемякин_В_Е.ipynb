{
  "nbformat": 4,
  "nbformat_minor": 0,
  "metadata": {
    "kernelspec": {
      "display_name": "Python 3",
      "language": "python",
      "name": "python3"
    },
    "language_info": {
      "codemirror_mode": {
        "name": "ipython",
        "version": 3
      },
      "file_extension": ".py",
      "mimetype": "text/x-python",
      "name": "python",
      "nbconvert_exporter": "python",
      "pygments_lexer": "ipython3",
      "version": "3.8.3"
    },
    "colab": {
      "name": "Матстат_урок_7_ДЗ_Кожемякин_В_Е-checkpoint.ipynb",
      "provenance": [],
      "include_colab_link": true
    }
  },
  "cells": [
    {
      "cell_type": "markdown",
      "metadata": {
        "id": "view-in-github",
        "colab_type": "text"
      },
      "source": [
        "<a href=\"https://colab.research.google.com/github/vinalyan/diff/blob/master/GeekBrains/%D0%9C%D0%B0%D1%82%D1%81%D1%82%D0%B0%D1%82_%D1%83%D1%80%D0%BE%D0%BA_7_%D0%94%D0%97_%D0%9A%D0%BE%D0%B6%D0%B5%D0%BC%D1%8F%D0%BA%D0%B8%D0%BD_%D0%92_%D0%95.ipynb\" target=\"_parent\"><img src=\"https://colab.research.google.com/assets/colab-badge.svg\" alt=\"Open In Colab\"/></a>"
      ]
    },
    {
      "cell_type": "markdown",
      "metadata": {
        "id": "dOM1SkF-uUpB"
      },
      "source": [
        "# Настройки"
      ]
    },
    {
      "cell_type": "code",
      "metadata": {
        "id": "kOK6L8hguUpC"
      },
      "source": [
        "import numpy as np\n",
        "import matplotlib.pyplot as plt\n",
        "\n"
      ],
      "execution_count": 132,
      "outputs": []
    },
    {
      "cell_type": "markdown",
      "metadata": {
        "id": "L_HYmXbIuUpI"
      },
      "source": [
        "# Задание №1\n",
        "Даны значения величины заработной платы заемщиков банка (zp) и значения их поведенческого кредитного скоринга (ks): zp = [35, 45, 190, 200, 40, 70, 54, 150, 120, 110], ks = [401, 574, 874, 919, 459, 739, 653, 902, 746, 832]. Используя математические операции, посчитать коэффициенты линейной регрессии, приняв за X заработную плату (то есть, zp - признак), а за y - значения скорингового балла (то есть, ks - целевая переменная). Произвести расчет как с использованием intercept, так и без."
      ]
    },
    {
      "cell_type": "markdown",
      "metadata": {
        "id": "3p7xG9icuyNc"
      },
      "source": [
        "##Решение\n"
      ]
    },
    {
      "cell_type": "markdown",
      "metadata": {
        "id": "gZtbLseou8OQ"
      },
      "source": [
        "### Расчет методом линейных квадратов\n",
        "Предположим, что зависимость скоринга от заработной платы описывается следующей формулой:\n",
        "$$y = a + bx$$\n",
        "где:"
      ]
    },
    {
      "cell_type": "markdown",
      "metadata": {
        "id": "eP7TFKCCuUpJ"
      },
      "source": [
        "\n",
        "$$b = \\frac{\\overline{yx} - \\overline{y} \\cdot {\\overline{x}}}{\\overline{x^2} - (\\overline{x})^2};$$\n",
        "$$a = \\overline{y} - b \\cdot {\\overline{x}}.$$"
      ]
    },
    {
      "cell_type": "code",
      "metadata": {
        "id": "zuXerKxVuUpK"
      },
      "source": [
        "\n",
        "x = np.array([35, 45, 190, 200, 40, 70, 54, 150, 120, 110], dtype=np.float64)\n",
        "y = np.array([401, 574, 874, 919, 459, 739, 653, 902, 746, 832], dtype= np.float64)"
      ],
      "execution_count": 133,
      "outputs": []
    },
    {
      "cell_type": "code",
      "metadata": {
        "id": "-v8yBRuOuUpY",
        "outputId": "d0b8b225-89f6-47d0-dccf-bbdb0f509662",
        "colab": {
          "base_uri": "https://localhost:8080/",
          "height": 0
        }
      },
      "source": [
        "b = (np.mean(y * x) - np.mean(x) * np.mean(y)) / (np.mean(x**2) - np.mean(x) ** 2)\n",
        "b"
      ],
      "execution_count": 134,
      "outputs": [
        {
          "output_type": "execute_result",
          "data": {
            "text/plain": [
              "2.620538882402765"
            ]
          },
          "metadata": {
            "tags": []
          },
          "execution_count": 134
        }
      ]
    },
    {
      "cell_type": "code",
      "metadata": {
        "id": "S9uftbLBuUpc",
        "outputId": "f7a1ddf5-efe1-4ca5-add4-2e3c9d4ae9c3",
        "colab": {
          "base_uri": "https://localhost:8080/",
          "height": 0
        }
      },
      "source": [
        "a = np.mean(y) - b*np.mean(x)\n",
        "a"
      ],
      "execution_count": 135,
      "outputs": [
        {
          "output_type": "execute_result",
          "data": {
            "text/plain": [
              "444.1773573243596"
            ]
          },
          "metadata": {
            "tags": []
          },
          "execution_count": 135
        }
      ]
    },
    {
      "cell_type": "markdown",
      "metadata": {
        "id": "8Cgj9GcOuUph"
      },
      "source": [
        "Тогда математическая зависимость скоррига имеет следующи вид\n",
        "$$y = 444.2 + 2.62 \\cdot x$$"
      ]
    },
    {
      "cell_type": "code",
      "metadata": {
        "id": "iGZwD4ITuUpm",
        "outputId": "d97e394c-9f12-42f5-a2aa-40e47f4a43e4",
        "colab": {
          "base_uri": "https://localhost:8080/",
          "height": 0
        }
      },
      "source": [
        "# \n",
        "y_pred= a + b*x\n",
        "y_pred"
      ],
      "execution_count": 136,
      "outputs": [
        {
          "output_type": "execute_result",
          "data": {
            "text/plain": [
              "array([535.89621821, 562.10160703, 942.07974498, 968.2851338 ,\n",
              "       548.99891262, 627.61507909, 585.68645697, 837.25818968,\n",
              "       758.64202321, 732.43663439])"
            ]
          },
          "metadata": {
            "tags": []
          },
          "execution_count": 136
        }
      ]
    },
    {
      "cell_type": "markdown",
      "metadata": {
        "id": "C_ste13MuUqB"
      },
      "source": [
        "### Расчет через матрицы"
      ]
    },
    {
      "cell_type": "markdown",
      "metadata": {
        "id": "k2vfPw1kyQOr"
      },
      "source": [
        "$$\\hat{B} = (X^T \\cdot X )^{-1}\\cdot X^T\\cdot Y$$"
      ]
    },
    {
      "cell_type": "code",
      "metadata": {
        "id": "sn9DDsI9uUqC"
      },
      "source": [
        "ym = y.reshape(10,1)\n",
        "xm = x.reshape(10,1)\n",
        "xm = np.hstack([np.ones((10,1)),xm])"
      ],
      "execution_count": 137,
      "outputs": []
    },
    {
      "cell_type": "code",
      "metadata": {
        "id": "m6urlh0CDEwB",
        "outputId": "4bf2b2aa-bed2-4494-e27b-6d062fda0efc",
        "colab": {
          "base_uri": "https://localhost:8080/",
          "height": 0
        }
      },
      "source": [
        "xm"
      ],
      "execution_count": 138,
      "outputs": [
        {
          "output_type": "execute_result",
          "data": {
            "text/plain": [
              "array([[  1.,  35.],\n",
              "       [  1.,  45.],\n",
              "       [  1., 190.],\n",
              "       [  1., 200.],\n",
              "       [  1.,  40.],\n",
              "       [  1.,  70.],\n",
              "       [  1.,  54.],\n",
              "       [  1., 150.],\n",
              "       [  1., 120.],\n",
              "       [  1., 110.]])"
            ]
          },
          "metadata": {
            "tags": []
          },
          "execution_count": 138
        }
      ]
    },
    {
      "cell_type": "code",
      "metadata": {
        "id": "QszHrQrbuUqJ",
        "outputId": "20630dd7-f219-4c05-b7da-099f5f983491",
        "colab": {
          "base_uri": "https://localhost:8080/",
          "height": 0
        }
      },
      "source": [
        "#тут считаем с интерцептором\n",
        "BM_i = np.dot(np.linalg.inv(xm.T@xm),xm.T@ym)\n",
        "BM_i"
      ],
      "execution_count": 139,
      "outputs": [
        {
          "output_type": "execute_result",
          "data": {
            "text/plain": [
              "array([[444.17735732],\n",
              "       [  2.62053888]])"
            ]
          },
          "metadata": {
            "tags": []
          },
          "execution_count": 139
        }
      ]
    },
    {
      "cell_type": "markdown",
      "metadata": {
        "id": "3XpHePIvuUqL"
      },
      "source": [
        "Похоже на то, что посчиатали выше, но вот если посчтитать без интерцептора, то получится другая цифра"
      ]
    },
    {
      "cell_type": "code",
      "metadata": {
        "id": "yXaD-ObpuUqL",
        "outputId": "7c164ee8-2d5a-4ec1-c53f-79837020b4e6",
        "colab": {
          "base_uri": "https://localhost:8080/",
          "height": 0
        }
      },
      "source": [
        "#А тут посчитаем без интерцепотора\n",
        "xm_1 = x.reshape(10,1)\n",
        "BM = np.dot(np.linalg.inv(np.dot(xm_1.T,xm_1)),xm_1.T@ym)\n",
        "BM"
      ],
      "execution_count": 140,
      "outputs": [
        {
          "output_type": "execute_result",
          "data": {
            "text/plain": [
              "array([[5.88982042]])"
            ]
          },
          "metadata": {
            "tags": []
          },
          "execution_count": 140
        }
      ]
    },
    {
      "cell_type": "code",
      "metadata": {
        "id": "VQf5WECruUqN",
        "outputId": "2c1b1b56-8579-43da-9021-dc469b6b963e",
        "colab": {
          "base_uri": "https://localhost:8080/",
          "height": 0
        }
      },
      "source": [
        "#А теперь посчитаем новые y по формулие бех интерцепта\n",
        "ym_pred = BM*x\n",
        "ym_pred = ym_pred.reshape(10,)\n",
        "ym_pred"
      ],
      "execution_count": 141,
      "outputs": [
        {
          "output_type": "execute_result",
          "data": {
            "text/plain": [
              "array([ 206.1437147 ,  265.04191891, 1119.06587983, 1177.96408403,\n",
              "        235.59281681,  412.28742941,  318.05030269,  883.47306302,\n",
              "        706.77845042,  647.88024621])"
            ]
          },
          "metadata": {
            "tags": []
          },
          "execution_count": 141
        }
      ]
    },
    {
      "cell_type": "markdown",
      "metadata": {
        "id": "64dmgbYHxjEi"
      },
      "source": [
        "##Ответ\n",
        "Математическая модель скорринга с интерцептором:\n",
        "$$y = 444.2 + 2.62 \\cdot x$$\n",
        "\n",
        "Математическая модель скорринга без интерцептора:\n",
        "$$y = 5.889 \\cdot x$$\n"
      ]
    },
    {
      "cell_type": "code",
      "metadata": {
        "id": "UhrUBjQJuUqQ",
        "outputId": "8a022521-5fd3-4217-8a6f-949e2801668a",
        "colab": {
          "base_uri": "https://localhost:8080/",
          "height": 0
        }
      },
      "source": [
        "plt.scatter(x, y)\n",
        "plt.plot(x, y_pred, label = 'DLD')\n",
        "plt.plot(x, ym_pred)\n",
        "plt.xlabel('Заработанная плата заемщиков')\n",
        "plt.ylabel('Кредитный скоринг')\n",
        "\n",
        "plt.show()"
      ],
      "execution_count": 142,
      "outputs": [
        {
          "output_type": "display_data",
          "data": {
            "image/png": "[encoded data removed]",
            "text/plain": [
              "<Figure size 432x288 with 1 Axes>"
            ]
          },
          "metadata": {
            "tags": [],
            "needs_background": "light"
          }
        }
      ]
    },
    {
      "cell_type": "code",
      "metadata": {
        "id": "5rXcnzupoamF",
        "outputId": "392815a9-9752-4c77-bf6c-c0f3b9a16c1d",
        "colab": {
          "base_uri": "https://localhost:8080/",
          "height": 0
        }
      },
      "source": [
        "#ошибки\n",
        "mse_i = ((y - y_pred)**2).sum() / 10\n",
        "mse = ((y - ym_pred)**2).sum() / 10\n",
        "A_mean_i = 100 * np.mean(np.abs((y - y_pred) / y))\n",
        "A_mean = 100 * np.mean(np.abs((y - ym_pred) / y))\n",
        "\n",
        "print('Ошибка с интерцептором: {}'.format(mse_i) )\n",
        "print('Ошибка без интерцептором: {}'.format(mse)) \n",
        "print('Ошибка апроксимации с интерцептором: {}'.format(A_mean_i)) \n",
        "print('Ошибка апроксимации без интерцептора: {}'.format(A_mean)) "
      ],
      "execution_count": 143,
      "outputs": [
        {
          "output_type": "stream",
          "text": [
            "Ошибка с интерцептором: 6470.414201176658\n",
            "Ошибка без интерцептором: 56516.8584157194\n",
            "Ошибка апроксимации с интерцептором: 11.46925184356171\n",
            "Ошибка апроксимации без интерцептора: 33.225451661167305\n"
          ],
          "name": "stdout"
        }
      ]
    },
    {
      "cell_type": "markdown",
      "metadata": {
        "id": "TjNwo0m3uUqT"
      },
      "source": [
        "# Задание № 2 \n",
        "Посчитать коэффициент линейной регрессии при заработной плате (zp), используя градиентный спуск (без intercept).\n",
        "\n"
      ]
    },
    {
      "cell_type": "code",
      "metadata": {
        "id": "W7yTLqSRuUqT"
      },
      "source": [
        "def mse_(B1, y=y, x=x, n=10):\n",
        "    return np.sum((B1*x-y)**2 / n)"
      ],
      "execution_count": 144,
      "outputs": []
    },
    {
      "cell_type": "code",
      "metadata": {
        "id": "8UQ8IIrluUqW"
      },
      "source": [
        "alpha = 1e-6"
      ],
      "execution_count": 145,
      "outputs": []
    },
    {
      "cell_type": "code",
      "metadata": {
        "id": "X8iNKAKvuUqY",
        "outputId": "b32c4176-c529-4252-d5dc-4aaffd515be6",
        "colab": {
          "base_uri": "https://localhost:8080/",
          "height": 0
        }
      },
      "source": [
        "B1 = 0.1\n",
        "for i in range(200):\n",
        "    B1 -=alpha*np.sum((B1*x-y)*x)\n",
        "    mse = mse_(B1)\n",
        "    if i%10 == 0:\n",
        "        print('{}: B1 = {}, mse = {}'.format(i, B1, mse))"
      ],
      "execution_count": 146,
      "outputs": [
        {
          "output_type": "stream",
          "text": [
            "0: B1 = 0.8976404, mse = 399855.3735371353\n",
            "10: B1 = 4.756006774962103, mse = 74227.13760583635\n",
            "20: B1 = 5.632311000041535, mse = 57430.39993575823\n",
            "30: B1 = 5.831335410961975, mse = 56563.98122501428\n",
            "40: B1 = 5.87653742529511, mse = 56519.28913080692\n",
            "50: B1 = 5.886803613700461, mse = 56516.98379822366\n",
            "60: B1 = 5.889135249268676, mse = 56516.864883269845\n",
            "70: B1 = 5.88966480553711, mse = 56516.85874933221\n",
            "80: B1 = 5.889785077266216, mse = 56516.858432928006\n",
            "90: B1 = 5.88981239313364, mse = 56516.85841660707\n",
            "100: B1 = 5.889818597057196, mse = 56516.85841576519\n",
            "110: B1 = 5.889820006079537, mse = 56516.85841572176\n",
            "120: B1 = 5.88982032609379, mse = 56516.85841571953\n",
            "130: B1 = 5.889820398774767, mse = 56516.85841571941\n",
            "140: B1 = 5.889820415281921, mse = 56516.858415719405\n",
            "150: B1 = 5.889820419030992, mse = 56516.858415719405\n",
            "160: B1 = 5.889820419882473, mse = 56516.8584157194\n",
            "170: B1 = 5.889820420075861, mse = 56516.85841571941\n",
            "180: B1 = 5.889820420119782, mse = 56516.8584157194\n",
            "190: B1 = 5.889820420129757, mse = 56516.858415719405\n"
          ],
          "name": "stdout"
        }
      ]
    },
    {
      "cell_type": "code",
      "metadata": {
        "id": "mHRP4-F2uUqb",
        "outputId": "b69f0184-e332-4d81-84c1-3df62df8d609",
        "colab": {
          "base_uri": "https://localhost:8080/",
          "height": 0
        }
      },
      "source": [
        "B1"
      ],
      "execution_count": 147,
      "outputs": [
        {
          "output_type": "execute_result",
          "data": {
            "text/plain": [
              "5.889820420131917"
            ]
          },
          "metadata": {
            "tags": []
          },
          "execution_count": 147
        }
      ]
    },
    {
      "cell_type": "markdown",
      "metadata": {
        "id": "DqMxMIqdgzL2"
      },
      "source": [
        "Видно, что ответ такой же как в задании № 1"
      ]
    },
    {
      "cell_type": "markdown",
      "metadata": {
        "id": "jWVQC7jsjbWb"
      },
      "source": [
        "## Ответ\n",
        "$\\beta_1 = 5,89$"
      ]
    },
    {
      "cell_type": "markdown",
      "metadata": {
        "id": "JRZGGkXajQGb"
      },
      "source": [
        "# Задание №3\n",
        "В каких случаях для вычисления доверительных интервалов и проверки статистических гипотез используется таблица значений функции Лапласа, а в каких - таблица критических точек распределения Стьюдента?\n",
        "\n"
      ]
    },
    {
      "cell_type": "markdown",
      "metadata": {
        "id": "lvi4mGJVjokL"
      },
      "source": [
        "## Ответ\n",
        "При проверке статистических гипотех и для вычисления доверительных интервалов таблица значений Лапласа используется если известо СКО генеральной совокупности.\n",
        "\n",
        "Если СКО генеральной совокупности не известно, то используется таблица критических точек распределения Стьюдент."
      ]
    },
    {
      "cell_type": "markdown",
      "metadata": {
        "id": "i2pMcifPkXVT"
      },
      "source": [
        "# Задание №4\n",
        "Произвести вычисления как в пункте 2, но с вычислением intercept. Учесть, что изменение коэффициентов должно производиться на каждом шаге одновременно (то есть изменение одного коэффициента не должно влиять на изменение другого во время одной итерации)."
      ]
    },
    {
      "cell_type": "markdown",
      "metadata": {
        "id": "Og8HTO4HkgLq"
      },
      "source": [
        "### Решение"
      ]
    },
    {
      "cell_type": "markdown",
      "metadata": {
        "id": "G9UjRER1Lj05"
      },
      "source": [
        "Попытался сделать по аналогии, судя по всему это был не лучший вариант7"
      ]
    },
    {
      "cell_type": "code",
      "metadata": {
        "id": "l1m0tICWnwLz"
      },
      "source": [
        "x = np.array([35, 45, 190, 200, 40, 70, 54, 150, 120, 110], dtype=np.float64)\n",
        "y = np.array([401, 574, 874, 919, 459, 739, 653, 902, 746, 832], dtype= np.float64)"
      ],
      "execution_count": 148,
      "outputs": []
    },
    {
      "cell_type": "code",
      "metadata": {
        "id": "MYz_6Kr5kdZK"
      },
      "source": [
        "##Определим среднюю квадратичную ошибкуё\n",
        "def mse_(B0, B1, y=y, x=x, n=10):\n",
        "    return np.sum((B0 + B1* x - y) ** 2 / n)"
      ],
      "execution_count": 149,
      "outputs": []
    },
    {
      "cell_type": "code",
      "metadata": {
        "id": "ZQxtUNWZlIg7",
        "outputId": "711d37f1-cf61-4e6d-80c2-d03ad0b20820",
        "colab": {
          "base_uri": "https://localhost:8080/",
          "height": 221
        }
      },
      "source": [
        "B0 = 0\n",
        "B1 = 0\n",
        "alpha = 1e-6\n",
        "\n",
        "for i in range(600):\n",
        "    B0 -=alpha*np.sum(B0 + (B1 * x - y) * x)\n",
        "    B1 -=alpha*np.sum(B0 + (B1 * x - y) * x)\n",
        "    \n",
        "\n",
        "    mse = mse_(B0, B1)\n",
        "    if i%50 == 0:\n",
        "        print('{}: B0 = {}, B1 = {}, mse = {}'.format(i, round(B0, 4), round(B1, 5), round(mse),5))"
      ],
      "execution_count": 150,
      "outputs": [
        {
          "output_type": "stream",
          "text": [
            "0: B0 = 0.8114, B1 = 0.81141, mse = 410801.0\n",
            "50: B0 = 5.8864, B1 = 5.88633, mse = 55221.0\n",
            "100: B0 = 5.8894, B1 = 5.88939, mse = 55224.0\n",
            "150: B0 = 5.8895, B1 = 5.88939, mse = 55224.0\n",
            "200: B0 = 5.8895, B1 = 5.88939, mse = 55224.0\n",
            "250: B0 = 5.8895, B1 = 5.88939, mse = 55224.0\n",
            "300: B0 = 5.8895, B1 = 5.88939, mse = 55224.0\n",
            "350: B0 = 5.8895, B1 = 5.88939, mse = 55224.0\n",
            "400: B0 = 5.8895, B1 = 5.88939, mse = 55224.0\n",
            "450: B0 = 5.8895, B1 = 5.88939, mse = 55224.0\n",
            "500: B0 = 5.8895, B1 = 5.88939, mse = 55224.0\n",
            "550: B0 = 5.8895, B1 = 5.88939, mse = 55224.0\n"
          ],
          "name": "stdout"
        }
      ]
    },
    {
      "cell_type": "code",
      "metadata": {
        "id": "k0VccKmDmJkg",
        "outputId": "9f70a12c-5d18-4d49-dd9a-f56a99a419a9",
        "colab": {
          "base_uri": "https://localhost:8080/",
          "height": 68
        }
      },
      "source": [
        "y_grad_i = B0 + B1 * x\n",
        "y_grad_i"
      ],
      "execution_count": 151,
      "outputs": [
        {
          "output_type": "execute_result",
          "data": {
            "text/plain": [
              "array([ 212.01820414,  270.91213337, 1124.87410726, 1183.76803649,\n",
              "        241.46516875,  418.14695645,  323.91666968,  889.29839032,\n",
              "        712.61660262,  653.72267339])"
            ]
          },
          "metadata": {
            "tags": []
          },
          "execution_count": 151
        }
      ]
    },
    {
      "cell_type": "code",
      "metadata": {
        "id": "AtVCvrOOmH-8",
        "outputId": "dfb0abe3-6ad0-4dea-f076-a8ff1588caf4",
        "colab": {
          "base_uri": "https://localhost:8080/",
          "height": 279
        }
      },
      "source": [
        "plt.scatter(x, y)\n",
        "plt.plot(x, y_pred)\n",
        "plt.plot(x, ym_pred)\n",
        "plt.plot(x, y_grad_i)\n",
        "plt.xlabel('Заработанная плата заемщиков')\n",
        "plt.ylabel('Кредитный скоринг')\n",
        "\n",
        "plt.show()"
      ],
      "execution_count": 152,
      "outputs": [
        {
          "output_type": "display_data",
          "data": {
            "image/png": "[encoded data removed]",
            "text/plain": [
              "<Figure size 432x288 with 1 Axes>"
            ]
          },
          "metadata": {
            "tags": [],
            "needs_background": "light"
          }
        }
      ]
    },
    {
      "cell_type": "markdown",
      "metadata": {
        "id": "YSUIbSIiL5I5"
      },
      "source": [
        "Судя по графику получилось ровно тоже саомое, что и в задаче 2. Скорее всего неправильно сичтал.\n",
        "Попробую потом, когда пойму как по настоящему устроен этот градиентный спуск."
      ]
    }
  ]
}