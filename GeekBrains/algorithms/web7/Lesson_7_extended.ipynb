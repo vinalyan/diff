{
  "nbformat": 4,
  "nbformat_minor": 0,
  "metadata": {
    "colab": {
      "name": "Lesson_7(edited).ipynb",
      "provenance": [],
      "collapsed_sections": []
    },
    "kernelspec": {
      "display_name": "Python 3",
      "language": "python",
      "name": "python3"
    },
    "language_info": {
      "codemirror_mode": {
        "name": "ipython",
        "version": 3
      },
      "file_extension": ".py",
      "mimetype": "text/x-python",
      "name": "python",
      "nbconvert_exporter": "python",
      "pygments_lexer": "ipython3",
      "version": "3.6.8"
    }
  },
  "cells": [
    {
      "cell_type": "markdown",
      "metadata": {
        "id": "pkNPdXJtuf9t"
      },
      "source": [
        "# Урок 7. Классификация с помощью kNN. Кластеризация K-means"
      ]
    },
    {
      "cell_type": "markdown",
      "metadata": {
        "id": "tmKYn3-dniaD"
      },
      "source": [
        "**План занятия**\n",
        "\n",
        "* [Теоретическая часть](#theory)\n",
        "    * [Меры и метрики расстояния между объектами](#metrics)\n",
        "    * [Алгоритм kNN](#knn)\n",
        "        * [Реализация алгоритма kNN](#implement_knn)\n",
        "    * [Обучение без учителя. Кластеризация. K-means](#unsupervised)\n",
        "        * [Внутренние метрики](#in)\n",
        "        * [Внешние метрики](#out)\n",
        "        * [Алгоритм K-means (K-средних)](#kmeans)\n",
        "* [Домашнее задание](#hw)"
      ]
    },
    {
      "cell_type": "markdown",
      "metadata": {
        "id": "b_yuPusRniaD"
      },
      "source": [
        "## <center>Теоретическая часть<a class=\"anchor\" id=\"theory\"></a><center>"
      ]
    },
    {
      "cell_type": "markdown",
      "metadata": {
        "id": "JWKvWqaKuf9v"
      },
      "source": [
        "В этом уроке речь пойдет о так называемых *метрических алгоритмах*, то есть об алгоритмах, построенных на вычислении расстояний между объектами. Для начала нам нужно определить, какими способами эти расстояния можно вычислять."
      ]
    },
    {
      "cell_type": "markdown",
      "metadata": {
        "id": "zDVBc3sfuf9w"
      },
      "source": [
        "## Меры и метрики расстояния между объектами<a class='anchor' id='metrics'>"
      ]
    },
    {
      "cell_type": "markdown",
      "metadata": {
        "id": "tr0vgrRduf9x"
      },
      "source": [
        "Понятие метрических пространств, метрик и некоторые их примеры уже рассматривались вами на курсе по линейной алгебре в рамках обучения по профессии. В этом разделе мы вспомним, какие могут быть метрики и их применение в плоскости машинного обучения."
      ]
    },
    {
      "cell_type": "markdown",
      "metadata": {
        "id": "xwD8b7Truf9y"
      },
      "source": [
        "Метрика является функцией, задающей расстояние в метрическом пространстве. Как мы помним из курса линейной алгебры, она должна удовлетворять трем аксиомам:\n",
        "\n",
        "1. $\\rho(x, y) \\geq 0, \\rho(x, y) = 0 \\Leftrightarrow x = y;$\n",
        "2. $\\rho(x, y) = \\rho (y, x);$\n",
        "3. $\\rho(x, y) \\leq \\rho(x, z) + \\rho(z, y).$"
      ]
    },
    {
      "cell_type": "markdown",
      "metadata": {
        "id": "jLK_Bvxiuf9z"
      },
      "source": [
        "Евклидова метрика\n",
        "\n",
        "$$\\large {\\rho(x, y) = \\sqrt{\\sum_{i=1}^{n}(x_{i}-y_{i})^{2}}}$$\n",
        "\n",
        "и манхэттенская метрика\n",
        "\n",
        "$$\\rho(x, y) = \\sum_{i=1}^{n}|x_{i}-y_{i}|$$\n",
        "\n",
        "уже должны быть вам знакомы. \n",
        "\n",
        "<img src='https://github.com/vinalyan/diff/blob/master/GeekBrains/algorithms/web7/images/euc_manh.jpg?raw=1'>\n",
        "\n",
        "Также можно показать обобщение этих двух метрик - метрика Минковского:\n",
        "\n",
        "$$\\rho(x, y) = \\left ( \\sum_{i=1}^{n}|x_{i}-y_{i}|^{q} \\right )^{\\frac{1}{q}}.$$\n",
        "\n",
        "При этом при $q = 1$ получаем манхэттенскую ($L_{1}$) метрику, при $q = 2$ - евклидову ($L_{2}$) метрику."
      ]
    },
    {
      "cell_type": "markdown",
      "metadata": {
        "id": "6VHDuUyFuf9z"
      },
      "source": [
        "Кроме этого, в метрических алгоритмах часто используются так называемые меры близости. В отличие от метрик, которые тем меньше, чем объекты более похожи, меры близости увеличиваются при увеличении похожести (близости) объектов."
      ]
    },
    {
      "cell_type": "markdown",
      "metadata": {
        "id": "E5Qvkxxauf90"
      },
      "source": [
        "Примером такой функции может быть *косинусное сходство (косинусная мера)*:\n",
        "\n",
        "$$\\text{cos}\\theta = \\frac{\\left \\langle x, y \\right \\rangle}{||x||\\cdot||y||} = \\frac{\\sum_{i=1}^{n}x_{i}y_{i}}{\\sqrt{\\sum_{i=1}^{n}x_{i}^{2}}\\sqrt{\\sum_{i=1}^{n}y_{i}^{2}}}.$$"
      ]
    },
    {
      "cell_type": "markdown",
      "metadata": {
        "id": "mUl9cSZ9uf91"
      },
      "source": [
        "Из этой функции также вытекает *косинусное расстояние*:\n",
        "\n",
        "$$\\rho_{cos}(x, y) = 1 - \\text{cos}\\theta = 1 - \\frac{\\sum_{i=1}^{n}x_{i}y_{i}}{\\sqrt{\\sum_{i=1}^{n}x_{i}^{2}}\\sqrt{\\sum_{i=1}^{n}y_{i}^{2}}}.$$\n",
        "\n",
        "Именно такая формула используется в функции `scipy.spatial.distance.cosine()` из библиотеки scipy, возвращающая косинусное расстояние между двумя векторами.\n",
        "\n",
        "<img src='https://github.com/vinalyan/diff/blob/master/GeekBrains/algorithms/web7/images/trig.png?raw=1'>\n",
        "\n",
        "__Аналитический смысл__: объекты представлены в виде векторов, между двумя векторами образуется угол, значение косинуса этого угла – это и есть косинусная мера (следует из формулы скалярного произведения). "
      ]
    },
    {
      "cell_type": "markdown",
      "metadata": {
        "id": "BVefMMeWuf91"
      },
      "source": [
        "Косинусная мера часто используется в анализе текстов.\n",
        "\n",
        "<img src='https://github.com/vinalyan/diff/blob/master/GeekBrains/algorithms/web7/images/cosine.png?raw=1'>\n",
        "\n",
        "\n",
        "__Почему эта функция - метрика?__\n",
        "\n",
        "* f(x, x) = 0 - потому что cos(0)=1\n",
        "* f(x,y) = f(y,x) - по симметрии - очевидно, что угол между x и y равен углу между y и x\n",
        "* неравенство треугольника (физический смысл)"
      ]
    },
    {
      "cell_type": "markdown",
      "metadata": {
        "id": "x3S2TJ8luf92"
      },
      "source": [
        "Кроме косинусной меры в прикладных задачах могут использоваться и другие функции - коэффициент Дайса, коэффициент Жаккара, коэффициент перекрытия (см. доп. материалы)."
      ]
    },
    {
      "cell_type": "markdown",
      "metadata": {
        "id": "29Ii-h2Auf94"
      },
      "source": [
        "## Алгоритм kNN<a class='anchor' id='knn'>"
      ]
    },
    {
      "cell_type": "markdown",
      "metadata": {
        "id": "-gROL4l_uf94"
      },
      "source": [
        "Начнем обсуждение метрических алгоритмов с алгоритма kNN. Данный алгоритм является еще одним способом решения задачи классификации. Расшифровывается его название как \"k ближайших соседей (k nearest neighbours)\"."
      ]
    },
    {
      "cell_type": "markdown",
      "metadata": {
        "id": "EqQdBzZyuf95"
      },
      "source": [
        "Суть его довольно проста и заключается в принципе отнесения объекту к тому классу, представители которого преобладают рядом с ним. Таким образом, упрощенно алгоритм классификации выглядит следующим образом:\n",
        "\n",
        "- найти расстояние от объекта $u$ до каждого из объектов $x$ обучающей выборки;\n",
        "- выбрать $k$ объектов, расстояние до которых минимально;\n",
        "- отнести объект к классу, к которому относится большинство из выбранных $k$ ближайших соседей, то есть провести голосование.\n",
        "\n",
        "При этом метод можно адаптировать под регрессию: в этом случае находится не метка класса, а среднее значение ответа среди $k$ соседей."
      ]
    },
    {
      "cell_type": "markdown",
      "metadata": {
        "id": "2BUoFdweniaD"
      },
      "source": [
        "<img src='https://github.com/vinalyan/diff/blob/master/GeekBrains/algorithms/web7/images/knn.png?raw=1' width=600px>"
      ]
    },
    {
      "cell_type": "markdown",
      "metadata": {
        "id": "MSwxja77uf96"
      },
      "source": [
        "Интересной особенностью метода является то, что на этапе обучения не строится модель, а просто запоминается обучающая выборка. Вычисления начинаются именно на этапе решения задачи классификации конкретного объекта (поэтому этот алгоритм можно назвать ленивым)."
      ]
    },
    {
      "cell_type": "markdown",
      "metadata": {
        "id": "Y_cbFzhxniaD"
      },
      "source": [
        "Логичным усовершенствованием алгоритма kNN является добавление соседям весов (так называемое \"взвешенное голосование\"), зависящих от их порядкового номера или расстояния до классифицируемого объекта (чем ближе объект обучающей выборки, тем больше его вес).\n",
        "\n",
        "<img src='https://github.com/vinalyan/diff/blob/master/GeekBrains/algorithms/web7/images/knn_weighted.png?raw=1' width=550px>\n",
        "\n",
        "**От номера соседа $i$ веса можно определять как:**\n",
        "\n",
        "### - $w(i) = q^{i}$,   $q \\in (0,1)$;"
      ]
    },
    {
      "cell_type": "code",
      "metadata": {
        "id": "lEKSsmT3niaD"
      },
      "source": [
        "import matplotlib.pyplot as plt\n",
        "import numpy as np\n",
        "\n",
        "import warnings\n",
        "warnings.filterwarnings('ignore')"
      ],
      "execution_count": null,
      "outputs": []
    },
    {
      "cell_type": "code",
      "metadata": {
        "id": "eu-Q6eODniaD",
        "outputId": "da1bf52b-fcdc-4b31-d821-631f531de3e9"
      },
      "source": [
        "dots = np.linspace(1, 10, 100)\n",
        "q = 0.25\n",
        "value = list(map(lambda x: q ** x, dots))\n",
        "\n",
        "plt.xlabel('x')\n",
        "plt.ylabel('$q^x$')\n",
        "plt.grid()\n",
        "plt.plot(dots, value);"
      ],
      "execution_count": null,
      "outputs": [
        {
          "output_type": "display_data",
          "data": {
            "image/png": "[encoded data removed]",
            "text/plain": [
              "<Figure size 432x288 with 1 Axes>"
            ]
          },
          "metadata": {
            "tags": [],
            "needs_background": "light"
          }
        }
      ]
    },
    {
      "cell_type": "markdown",
      "metadata": {
        "id": "fiWhUwzfniaE"
      },
      "source": [
        "### - $w(i) = \\frac{1}{i}$;"
      ]
    },
    {
      "cell_type": "code",
      "metadata": {
        "id": "dbkrtXprniaE",
        "outputId": "c09b5ccc-c892-4bf3-e0dc-598dee647bae"
      },
      "source": [
        "dots = np.linspace(1, 10, 100)\n",
        "value = list(map(lambda x: 1/x, dots))\n",
        "\n",
        "plt.xlabel('x')\n",
        "plt.ylabel('1/x')\n",
        "plt.grid()\n",
        "plt.plot(dots, value);"
      ],
      "execution_count": null,
      "outputs": [
        {
          "output_type": "display_data",
          "data": {
            "image/png": "[encoded data removed]",
            "text/plain": [
              "<Figure size 432x288 with 1 Axes>"
            ]
          },
          "metadata": {
            "tags": [],
            "needs_background": "light"
          }
        }
      ]
    },
    {
      "cell_type": "markdown",
      "metadata": {
        "id": "Y4hdjRYZniaE"
      },
      "source": [
        "**От расстояния $d$ веса можно определять как:**\n",
        "\n",
        "### - $w(d) = q^{d}$,   $q \\in (0,1)$;"
      ]
    },
    {
      "cell_type": "code",
      "metadata": {
        "id": "_BP7Te0NniaE",
        "outputId": "84dd912e-6c56-4f08-c311-f67dda154117"
      },
      "source": [
        "dots = np.linspace(0, 10, 100)\n",
        "q = 0.5\n",
        "value = list(map(lambda d: q ** d, dots))\n",
        "\n",
        "plt.xlabel('d')\n",
        "plt.ylabel('$q^d$')\n",
        "plt.grid()\n",
        "plt.plot(dots, value);"
      ],
      "execution_count": null,
      "outputs": [
        {
          "output_type": "display_data",
          "data": {
            "image/png": "[encoded data removed]",
            "text/plain": [
              "<Figure size 432x288 with 1 Axes>"
            ]
          },
          "metadata": {
            "tags": [],
            "needs_background": "light"
          }
        }
      ]
    },
    {
      "cell_type": "markdown",
      "metadata": {
        "id": "vdf3Lx85niaE"
      },
      "source": [
        "### - $w(d) = \\frac{1}{d+a}$,\n",
        "брать вес $\\frac{1}{d}$ по аналогии с номером соседа - неудачное решение, так как при $d = 0$ вес будет бесконечно большим, что приводит к переобучению"
      ]
    },
    {
      "cell_type": "code",
      "metadata": {
        "id": "QlE7haw9niaE",
        "outputId": "4926b66f-7c25-4fce-a665-1b5f329067f5"
      },
      "source": [
        "dots = np.linspace(0, 10, 100)\n",
        "a = 1\n",
        "value = list(map(lambda d: 1/(d + a), dots))\n",
        "\n",
        "plt.xlabel('d')\n",
        "plt.ylabel('$1/(d + a)^b$')\n",
        "plt.grid()\n",
        "plt.plot(dots, value);"
      ],
      "execution_count": null,
      "outputs": [
        {
          "output_type": "display_data",
          "data": {
            "image/png": "[encoded data removed]",
            "text/plain": [
              "<Figure size 432x288 with 1 Axes>"
            ]
          },
          "metadata": {
            "tags": [],
            "needs_background": "light"
          }
        }
      ]
    },
    {
      "cell_type": "markdown",
      "metadata": {
        "id": "Y_6VaBrnuf96"
      },
      "source": [
        "Существуют и другие способы вычисления весов."
      ]
    },
    {
      "cell_type": "markdown",
      "metadata": {
        "id": "NYubreR8uf97"
      },
      "source": [
        "Часто перед работой по алгоритму kNN требуется проводить нормализацию признаков, так как они могут иметь разные единицы измерения, что может искажать расстояние между объектами."
      ]
    },
    {
      "cell_type": "markdown",
      "metadata": {
        "id": "4xYJJr-Wuf98"
      },
      "source": [
        "В общем и целом получается, что при работе с алгоритмом kNN исследователю требуется подобрать три параметра - количество соседей k, метрика расстояния и способ вычисления весов. Для получения лучшего качества работы алгоритма эти параметры нужно подбирать на отложенной выборке или при помощи кросс-валидации."
      ]
    },
    {
      "cell_type": "markdown",
      "metadata": {
        "id": "ANWmZgT2uf99"
      },
      "source": [
        "### Реализация алгоритма kNN<a class='anchor' id='implement_knn'>"
      ]
    },
    {
      "cell_type": "code",
      "metadata": {
        "id": "ChmkZ71kuf9-"
      },
      "source": [
        "import numpy as np\n",
        "from sklearn.model_selection import train_test_split\n",
        "import matplotlib.pyplot as plt\n",
        "from matplotlib.colors import ListedColormap"
      ],
      "execution_count": null,
      "outputs": []
    },
    {
      "cell_type": "markdown",
      "metadata": {
        "id": "V5FaldH6uf-B"
      },
      "source": [
        "Загрузим один из \"игрушечных\" датасетов из sklearn."
      ]
    },
    {
      "cell_type": "code",
      "metadata": {
        "id": "_49Y22E9uf-C"
      },
      "source": [
        "X, y = load_iris(return_X_y=True)\n",
        "\n",
        "# Для наглядности возьмем только первые два признака (всего в датасете их 4)\n",
        "X = X[:, :2]"
      ],
      "execution_count": null,
      "outputs": []
    },
    {
      "cell_type": "markdown",
      "metadata": {
        "id": "ZpwmydFPuf-F"
      },
      "source": [
        "Разделим выборку на обучающую и тестовую"
      ]
    },
    {
      "cell_type": "code",
      "metadata": {
        "id": "ACYClLghuf-F"
      },
      "source": [
        "X_train, X_test, y_train, y_test = train_test_split(X, y,\n",
        "                                                    test_size=0.2,\n",
        "                                                    random_state=1,\n",
        "                                                    stratify=y)"
      ],
      "execution_count": null,
      "outputs": []
    },
    {
      "cell_type": "code",
      "metadata": {
        "id": "Johgj2p6uf-J",
        "outputId": "081c6165-bd71-4800-9ab1-78646f5489fd"
      },
      "source": [
        "cmap = ListedColormap(['red', 'green', 'blue'])\n",
        "plt.figure(figsize=(7, 7))\n",
        "plt.scatter(X[:, 0], X[:, 1], c=y, cmap=cmap);"
      ],
      "execution_count": null,
      "outputs": [
        {
          "output_type": "display_data",
          "data": {
            "image/png": "[encoded data removed]",
            "text/plain": [
              "<Figure size 504x504 with 1 Axes>"
            ]
          },
          "metadata": {
            "tags": [],
            "needs_background": "light"
          }
        }
      ]
    },
    {
      "cell_type": "markdown",
      "metadata": {
        "id": "59xP1kfUuf-O"
      },
      "source": [
        "Используем евклидову метрику. Реализуем функцию для ее подсчета."
      ]
    },
    {
      "cell_type": "code",
      "metadata": {
        "id": "MKipIKeGuf-P"
      },
      "source": [
        "def e_metrics(x1, x2):\n",
        "    \n",
        "    distance = 0\n",
        "    for i in range(len(x1)):\n",
        "        distance += np.square(x1[i] - x2[i])\n",
        "        \n",
        "    distance = np.sum(np.square(x1 - x2))\n",
        "\n",
        "    return np.sqrt(distance)"
      ],
      "execution_count": null,
      "outputs": []
    },
    {
      "cell_type": "markdown",
      "metadata": {
        "id": "1tvFJ8-ouf-T"
      },
      "source": [
        "Реализуем алгоритм поиска k ближайших соседей."
      ]
    },
    {
      "cell_type": "code",
      "metadata": {
        "id": "0wXqR0U1niaF"
      },
      "source": [
        "# {class_item: 0 for class_item in set(y_train)}"
      ],
      "execution_count": null,
      "outputs": []
    },
    {
      "cell_type": "code",
      "metadata": {
        "id": "LIKuDr9huf-V"
      },
      "source": [
        "def knn(x_train, y_train, x_test, k):\n",
        "    \n",
        "    answers = []\n",
        "    for x in x_test:\n",
        "        test_distances = []\n",
        "            \n",
        "        for i in range(len(x_train)):\n",
        "            \n",
        "            # расчет расстояния от классифицируемого объекта до\n",
        "            # объекта обучающей выборки\n",
        "            distance = e_metrics(x, x_train[i])\n",
        "            \n",
        "            # Записываем в список значение расстояния и ответа на объекте обучающей выборки\n",
        "            test_distances.append((distance, y_train[i]))\n",
        "        \n",
        "        # создаем словарь со всеми возможными классами\n",
        "        classes = {class_item: 0 for class_item in set(y_train)}\n",
        "        \n",
        "        # Сортируем список и среди первых k элементов подсчитаем частоту появления разных классов\n",
        "        for d in sorted(test_distances)[0:k]:\n",
        "            classes[d[1]] += 1\n",
        "\n",
        "        # Записываем в список ответов наиболее часто встречающийся класс\n",
        "        answers.append(sorted(classes, key=classes.get)[-1])\n",
        "        \n",
        "    return answers"
      ],
      "execution_count": null,
      "outputs": []
    },
    {
      "cell_type": "markdown",
      "metadata": {
        "id": "7DVrbUPyuf-X"
      },
      "source": [
        "Напишем функцию для вычисления точности"
      ]
    },
    {
      "cell_type": "code",
      "metadata": {
        "id": "eK2Bn_7ouf-Y"
      },
      "source": [
        "def accuracy(pred, y):\n",
        "    return (sum(pred == y) / len(y))"
      ],
      "execution_count": null,
      "outputs": []
    },
    {
      "cell_type": "markdown",
      "metadata": {
        "id": "SprqYVBQuf-a"
      },
      "source": [
        "Проверим работу алгоритма при различных k"
      ]
    },
    {
      "cell_type": "code",
      "metadata": {
        "id": "8K98g57quf-a",
        "outputId": "be768ef7-9825-4ffb-9dc6-516565e92263"
      },
      "source": [
        "k = 2\n",
        "\n",
        "y_pred = knn(X_train, y_train, X_test, k)\n",
        "\n",
        "print(f'Точность алгоритма при k = {k}: {accuracy(y_pred, y_test):.3f}')"
      ],
      "execution_count": null,
      "outputs": [
        {
          "output_type": "stream",
          "text": [
            "Точность алгоритма при k = 2: 0.733\n"
          ],
          "name": "stdout"
        }
      ]
    },
    {
      "cell_type": "markdown",
      "metadata": {
        "id": "YahR_F7xuf-d"
      },
      "source": [
        "Построим график распределения классов."
      ]
    },
    {
      "cell_type": "code",
      "metadata": {
        "id": "vN4DDyMauf-e"
      },
      "source": [
        "def get_graph(X_train, y_train, k):\n",
        "    cmap_light = ListedColormap(['#FFAAAA', '#AAFFAA','#00AAFF'])\n",
        "\n",
        "    h = .02\n",
        "\n",
        "    # Расчет пределов графика\n",
        "    x_min, x_max = X_train[:, 0].min() - 1, X_train[:, 0].max() + 1\n",
        "    y_min, y_max = X_train[:, 1].min() - 1, X_train[:, 1].max() + 1\n",
        "    xx, yy = np.meshgrid(np.arange(x_min, x_max, h), np.arange(y_min, y_max, h))\n",
        "    print(np.c_[xx.ravel(), yy.ravel()].shape)\n",
        "\n",
        "    # Получим предсказания для всех точек\n",
        "    Z = knn(X_train, y_train, np.c_[xx.ravel(), yy.ravel()], k)\n",
        "    # Построим график\n",
        "    Z = np.array(Z).reshape(xx.shape)\n",
        "    plt.figure(figsize=(7,7))\n",
        "    plt.pcolormesh(xx, yy, Z, cmap=cmap_light)\n",
        "\n",
        "    # Добавим на график обучающую выборку\n",
        "    plt.scatter(X_train[:, 0], X_train[:, 1], c=y_train, cmap=cmap)\n",
        "    plt.xlim(xx.min(), xx.max())\n",
        "    plt.ylim(yy.min(), yy.max())\n",
        "    plt.title(f\"Трехклассовая kNN классификация при k = {k}\")\n",
        "    plt.show()"
      ],
      "execution_count": null,
      "outputs": []
    },
    {
      "cell_type": "code",
      "metadata": {
        "id": "6Z1jj6BcniaF"
      },
      "source": [
        "# get_graph(X_train, y_train, k)"
      ],
      "execution_count": null,
      "outputs": []
    },
    {
      "cell_type": "code",
      "metadata": {
        "id": "B0twiiFZuf-i",
        "outputId": "81463ebb-c1a8-47ff-ff83-a6b1dd4aec39"
      },
      "source": [
        "%%time\n",
        "get_graph(X_train, y_train, k)"
      ],
      "execution_count": null,
      "outputs": [
        {
          "output_type": "stream",
          "text": [
            "(58800, 2)\n"
          ],
          "name": "stdout"
        },
        {
          "output_type": "display_data",
          "data": {
            "image/png": "[encoded data removed]",
            "text/plain": [
              "<Figure size 504x504 with 1 Axes>"
            ]
          },
          "metadata": {
            "tags": [],
            "needs_background": "light"
          }
        },
        {
          "output_type": "stream",
          "text": [
            "CPU times: user 2min 5s, sys: 20 ms, total: 2min 5s\n",
            "Wall time: 2min 5s\n"
          ],
          "name": "stdout"
        }
      ]
    },
    {
      "cell_type": "code",
      "metadata": {
        "id": "_HyO60dnuf-l",
        "outputId": "41fd701f-8531-4efb-90eb-9f394051e35a"
      },
      "source": [
        "k = 3\n",
        "\n",
        "y_pred = knn(X_train, y_train, X_test, k)\n",
        "\n",
        "print(f'Точность алгоритма при k = {k}: {accuracy(y_pred, y_test):.3f}')"
      ],
      "execution_count": null,
      "outputs": [
        {
          "output_type": "stream",
          "text": [
            "Точность алгоритма при k = 3: 0.733\n"
          ],
          "name": "stdout"
        }
      ]
    },
    {
      "cell_type": "code",
      "metadata": {
        "id": "zuxShjfxuf-n",
        "outputId": "21f96cdd-2d09-4cf2-d943-7835c2e222e7"
      },
      "source": [
        "%%time\n",
        "get_graph(X_train, y_train, k)"
      ],
      "execution_count": null,
      "outputs": [
        {
          "output_type": "stream",
          "text": [
            "(58800, 2)\n"
          ],
          "name": "stdout"
        },
        {
          "output_type": "display_data",
          "data": {
            "image/png": "[encoded data removed]",
            "text/plain": [
              "<Figure size 504x504 with 1 Axes>"
            ]
          },
          "metadata": {
            "tags": [],
            "needs_background": "light"
          }
        },
        {
          "output_type": "stream",
          "text": [
            "CPU times: user 1min 13s, sys: 124 ms, total: 1min 13s\n",
            "Wall time: 1min 13s\n"
          ],
          "name": "stdout"
        }
      ]
    },
    {
      "cell_type": "code",
      "metadata": {
        "id": "v276kSfFuf-q",
        "outputId": "0dc08804-d25b-4764-c798-0287ab74690e"
      },
      "source": [
        "k = 5\n",
        "\n",
        "y_pred = knn(X_train, y_train, X_test, k)\n",
        "\n",
        "print(f'Точность алгоритма при k = {k}: {accuracy(y_pred, y_test):.3f}')"
      ],
      "execution_count": null,
      "outputs": [
        {
          "output_type": "stream",
          "text": [
            "Точность алгоритма при k = 5: 0.733\n"
          ],
          "name": "stdout"
        }
      ]
    },
    {
      "cell_type": "code",
      "metadata": {
        "id": "N0uMulUpuf-u",
        "outputId": "16611f87-8ab1-4ac2-f4ef-79dedd7847db"
      },
      "source": [
        "%%time\n",
        "get_graph(X_train, y_train, k)"
      ],
      "execution_count": null,
      "outputs": [
        {
          "output_type": "stream",
          "text": [
            "(58800, 2)\n"
          ],
          "name": "stdout"
        },
        {
          "output_type": "display_data",
          "data": {
            "image/png": "[encoded data removed]",
            "text/plain": [
              "<Figure size 504x504 with 1 Axes>"
            ]
          },
          "metadata": {
            "tags": [],
            "needs_background": "light"
          }
        },
        {
          "output_type": "stream",
          "text": [
            "CPU times: user 1min 8s, sys: 160 ms, total: 1min 8s\n",
            "Wall time: 1min 8s\n"
          ],
          "name": "stdout"
        }
      ]
    },
    {
      "cell_type": "code",
      "metadata": {
        "id": "i-FpThNiuf-0",
        "outputId": "332854a5-a1e9-4e4e-dc6e-b5b15f1acd81"
      },
      "source": [
        "k = 10\n",
        "\n",
        "y_pred = knn(X_train, y_train, X_test, k)\n",
        "\n",
        "print(f'Точность алгоритма при k = {k}: {accuracy(y_pred, y_test):.3f}')"
      ],
      "execution_count": null,
      "outputs": [
        {
          "output_type": "stream",
          "text": [
            "Точность алгоритма при k = 10: 0.767\n"
          ],
          "name": "stdout"
        }
      ]
    },
    {
      "cell_type": "code",
      "metadata": {
        "id": "U1nSITJluf-3",
        "outputId": "49d8fca3-4aaf-4c74-9ef8-15133b13f7d8"
      },
      "source": [
        "%%time\n",
        "get_graph(X_train, y_train, k)"
      ],
      "execution_count": null,
      "outputs": [
        {
          "output_type": "stream",
          "text": [
            "(58800, 2)\n"
          ],
          "name": "stdout"
        },
        {
          "output_type": "display_data",
          "data": {
            "image/png": "[encoded data removed]",
            "text/plain": [
              "<Figure size 504x504 with 1 Axes>"
            ]
          },
          "metadata": {
            "tags": [],
            "needs_background": "light"
          }
        },
        {
          "output_type": "stream",
          "text": [
            "CPU times: user 1min 9s, sys: 148 ms, total: 1min 9s\n",
            "Wall time: 1min 9s\n"
          ],
          "name": "stdout"
        }
      ]
    },
    {
      "cell_type": "markdown",
      "metadata": {
        "id": "QHVr1RTKuf-6"
      },
      "source": [
        "При увеличении k мы на графиках наблюдаем, как алгоритм меньше концентрируется на выбросах, однако, точность на тестовой выборке при этом увеличивается."
      ]
    },
    {
      "cell_type": "markdown",
      "metadata": {
        "id": "FI4PknXjniaF"
      },
      "source": [
        "Рассматриваемый метод, несмотря на положительные стороны в виде легкости интерпретации, простоты и удобства использования, обладает некоторыми минусами, в частности, он плохо работает на датасетах с большим количеством признаков.\n",
        "\n",
        "Например, если мы имеем три объекта, при этом второй отличается от первого только значением одного признака, но значительно, а третий отличается от первого незначительно в каждом признаке, расстояния от первого объекта до второго и третьего могут совпадать. Несущественные различия в каждом признаке могут иметь большее значение, чем большое различие в одном признаке. Такое поведение в ряде случаев будет нежелательным. \n"
      ]
    },
    {
      "cell_type": "code",
      "metadata": {
        "id": "uL2TswRPniaF",
        "outputId": "986eb056-6f45-4269-ce85-ec00e6525937"
      },
      "source": [
        "x = np.zeros((2000))\n",
        "y = np.zeros((2000))\n",
        "y[2] = 100\n",
        "\n",
        "e_metrics(x, y)"
      ],
      "execution_count": null,
      "outputs": [
        {
          "output_type": "execute_result",
          "data": {
            "text/plain": [
              "100.0"
            ]
          },
          "metadata": {
            "tags": []
          },
          "execution_count": 12
        }
      ]
    },
    {
      "cell_type": "code",
      "metadata": {
        "id": "uTU1DmIZniaF",
        "outputId": "6f374c52-3185-44ea-af8b-b9c182c4c62b"
      },
      "source": [
        "x = np.zeros((2000))\n",
        "z = np.ones((2000))\n",
        "e_metrics(x, z)"
      ],
      "execution_count": null,
      "outputs": [
        {
          "output_type": "execute_result",
          "data": {
            "text/plain": [
              "44.721359549995796"
            ]
          },
          "metadata": {
            "tags": []
          },
          "execution_count": 13
        }
      ]
    },
    {
      "cell_type": "markdown",
      "metadata": {
        "id": "qbAXUnqUuf-7"
      },
      "source": [
        "Второй пример - случай, когда количество признаком сравнимо с количеством объектов. В этом случае может возникнуть ситуация, когда расстояния между любыми двумя объектами почти одинаковы. В двумерном пространстве (на плоскости) три точки могут располагаться по вершинам равностороннего треугольника, при этом расстояния между ними будут равны; в трехмерном пространстве то же самое справедливо для четырех точек на вершинах тетраэдра - расстояние между любыми двумя точками будет одинаково. В общем случае это означает, что в $n$-мерном пространстве можно выбрать $n+1$ точку так, чтобы расстояние между любыми двумя точками было одинаковым.\n",
        "\n",
        "<img src='https://github.com/vinalyan/diff/blob/master/GeekBrains/algorithms/web7/images/trtet.png?raw=1' width=400px>\n",
        "\n",
        "Третий пример - так называемое \"проклятие размерности\". Суть его заключается в том, что при наличии $n$ бинарных признаков в пространстве признаков будет возможно $2^{n}$ различных объектов вида $x = (0,1,0,0,1,...,1)$, и размер обучающей выборки, необходимый, чтобы описать все пространство объектов (то есть все возможные комбинации таких признаков) также будет порядка $2^{n}$. Чтобы покрыть не все пространство, а долю объектов $\\alpha$ (то есть долю объема $\\alpha$) нужно будет описать гиперкуб с длиной ребра $e_{p} = \\alpha^{n}$. Например, в 10-мерном пространстве признаков чтобы покрыть 1% объема нужно взять гиперкуб с длиной $e_{10}(0,01) = 0.63$, то есть взять окрестность длиной больше половины ребра исходного пространства. Чем больше признаков, тем меньше будет область, которая покрывается во время поиска на заданном расстоянии. Таким образом, при сохранении требований по точности нахождения объекта в пространстве, количество требуемых данных для этого при увеличении количества признаков растет экспоненциально (подробнее про это явление см. в доп. материалах).\n",
        "\n",
        "Рассмотрим для примера куб с ребром 1 и в нем рассмотрим куб с ребром $\\frac{1}{2}$. Посмотрим, какую долю он будет занимать в первом кубе.\n",
        "<img src='https://github.com/vinalyan/diff/blob/master/GeekBrains/algorithms/web7/images/curse.png?raw=1' width=400px>"
      ]
    },
    {
      "cell_type": "markdown",
      "metadata": {
        "id": "b6H4U6Fcuf-8"
      },
      "source": [
        "## Обучение без учителя. Кластеризация. K-means<a class='anchor' id='unsupervised'>"
      ]
    },
    {
      "cell_type": "markdown",
      "metadata": {
        "id": "X38-NciTuf-9"
      },
      "source": [
        "До этого мы рассматривали методы обучения с учителем, то есть задачи, в которых изначально есть размеченная обучающая выборка данных с известными ответами на них и тестовая выборка, на которой проверяется качество алгоритма. В этом разделе речь пойдет об _обучении без учителя (unsupervised learning)_ - случае, когда в роли обучающей выборки выступает просто набор объектов $x_{1},...,x_{l}$, и он же выступает в роли тестовой выборки, а задача состоит в проставлении меток $y_{1},...,y_{l}$ так, что бы объекты с одной и той же меткой были похожи, а с разными - нет. То есть все объекты в пространстве признаков нужно разделить на группы, найти структуру в данных. Это и называется _кластеризацией_. Если раньше мы имели примеры ответов $y$, то сейчас их нет, и нужно строить свои отображения $x \\rightarrow y$, отвечающие некоторым свойствам, например, тому, что похожие объекты отображаются в одну метку, а непохожие - в разные. По-простому задачу кластеризации можно сформулировать так: имеется множество точек, которые скапливаются в кластера, нужно найти возможность относить точки к тому или иному кластеру и предсказывать, в какой кластер попадет новая точка."
      ]
    },
    {
      "cell_type": "markdown",
      "metadata": {
        "id": "6JvHEMvdniaF"
      },
      "source": [
        "<img src='https://github.com/vinalyan/diff/blob/master/GeekBrains/algorithms/web7/images/clusters.png?raw=1' width=600px>"
      ]
    },
    {
      "cell_type": "markdown",
      "metadata": {
        "id": "9cba7q4vuf--"
      },
      "source": [
        "Примерами кластеризации может быть группирование новостей по темам, музыки по жанрам, клиентов по типу поведения и т.д."
      ]
    },
    {
      "cell_type": "markdown",
      "metadata": {
        "id": "L5fLWrfFuf-_"
      },
      "source": [
        "Логично возникает вопрос, как измерять качество кластеризации. Есть большое количество инструментов оценки качества кластеризации, они разделяются на _внутренние_ (основанные только на свойствах выборки и кластеров) и _внешние_ (использующие данные об истинном распределении объектов по кластерам, если оно известно)."
      ]
    },
    {
      "cell_type": "markdown",
      "metadata": {
        "id": "O1Oyn7heuf_A"
      },
      "source": [
        "## Внутренние метрики <a class='anchor' id='in'>\n",
        "\n",
        "- Внутрикластерное расстояние (также называется компактностью кластеров, cluster cohesion): $$\\sum_{k=1}^{K}\\sum_{i=1}^{l}[a(x_{i})=k]\\rho(x_{i}, c_{k}),$$ где $K$ - количество кластеров, $c_{k}$ - центр кластера. Этот функционал нужно минимизировать, так как в идеальном случае все объекты в одном кластере одинаковы, и расстояние между ними равно нулю.\n",
        "\n",
        "\n",
        "- Межкластерное расстояние (отделимость кластеров, cluster separation): $$\\sum_{i,j=1}^{l}[a(x_{i}) \\neq a(x_{j})]\\rho(x_{i}, x_{j}).$$ Этот функционал наоборот нужно максимизировать, так как объекты из разных кластеров должны максимально различаться, то есть иметь максимальное расстояние между собой.\n"
      ]
    },
    {
      "cell_type": "markdown",
      "metadata": {
        "id": "YQBp8_IDniaF"
      },
      "source": [
        "- Часто используются те же формулы, но включающие не расстояние ρ, а его квадрат, получая квадратичное внутрикластерное и межкластерное расстояние:\n",
        "\n",
        "    $$\\sum_{k=1}^{K}\\sum_{i=1}^{l}[a(x_{i})=k]\\rho^{2}(x_{i}, c_{k}),$$\n",
        "    $$\\sum_{i,j=1}^{l}[a(x_{i}) \\neq a(x_{j})]\\rho^{2}(x_{i}, x_{j}).$$\n",
        "\n",
        "\n",
        "- Среднее внутрикластерное расстояние (среднее расстояние внутри каждого кластера, просуммированное по всем кластерам) и среднее межкластерное расстояние (минимизируется и максимизируется, соответственно, по аналогии с двумя первыми функционалами):\n",
        "\n",
        "    $$\\sum_{k=1}^{K}\\frac{1}{|k|}\\sum_{i=1}^{l}[a(x_{i})=k]\\rho(x_{i}, c_{k}),$$\n",
        "    $$\\frac{1}{K}\\sum_{i,j=1}^{l}[a(x_{i}) \\neq a(x_{j})]\\rho(x_{i}, x_{j}),$$ где $|k|$ - количество элементов в кластере под номером $k$.\n",
        "\n",
        "- По аналогии с квадратичным внутрикластерным и межкластерным расстоянием - среднее квадратичное внутрикластерное и межкластерное расстояние.\n",
        "\n",
        "    $$\\sum_{k=1}^{K}\\frac{1}{|k|}\\sum_{i=1}^{l}[a(x_{i})=k]\\rho^{2}(x_{i}, c_{k}),$$\n",
        "    $$\\frac{1}{K}\\sum_{i,j=1}^{l}[a(x_{i}) \\neq a(x_{j})]\\rho^{2}(x_{i}, x_{j}).$$ \n",
        "    \n",
        "- Силуэт (Silhouette) является мерой того, насколько объект похож на свой собственный кластер (сплоченность) по сравнению с другими кластерами (разделение).\n",
        "$$s = \\frac{1}{n}\\sum{\\frac{b-a}{max(a, b)},}$$\n",
        "где а — среднее расстояние от данного объекта до объектов из того же кластера, b — среднее расстояние от данного объекта до объектов из ближайшего кластера (отличного от того, в котором лежит сам объект)\n",
        "\n",
        "<img src='https://github.com/vinalyan/diff/blob/master/GeekBrains/algorithms/web7/images/silhouette.png?raw=1' width=400>\n",
        "\n",
        "\n"
      ]
    },
    {
      "cell_type": "markdown",
      "metadata": {
        "id": "86Fs9Fbeuf_A"
      },
      "source": [
        "## **Внешние метрики** <a class='anchor' id='out'>\n",
        "Эти метрики используются, если есть дополнительные знания о кластеризуемой выборке, например, известно истинное распределение по кластерам. Задачу можно рассматривать как задачу многоклассовой классификации с использованием соответствующих метрик. В этом случае примерами могут быть:"
      ]
    },
    {
      "cell_type": "code",
      "metadata": {
        "id": "G3g3XyksniaF"
      },
      "source": [
        "true = [0, 0, 0, 1, 1, 1]\n",
        "pred = [1, 1, 1, 0, 0, 0]"
      ],
      "execution_count": null,
      "outputs": []
    },
    {
      "cell_type": "markdown",
      "metadata": {
        "id": "lNDA_8T9niaG"
      },
      "source": [
        "### - Rand Index (RI) \n",
        "Доля объектов, для которых разбиения (исходное и полученное в результате кластеризации) \"согласованы\".\n",
        " $$Rand = \\frac{a+b}{a+b+c+d} = \\frac{a+b}{{n \\choose 2 }}, где$$\n",
        " \n",
        " $ {n \\choose 2} = {\\frac{n(n-1)}{2}}$\n",
        "\n",
        "Здесь количество пар объектов $(x_{i}.x_{j})$, \n",
        " - а - принадлежат одному кластеру и одному классу,\n",
        " - b - принадлежат разным кластерам и разным классам,\n",
        " - c - принадлежат разным кластерам, но одному классу,\n",
        " - d - принадлежат одному кластеру, но разным классам.\n",
        " \n",
        "Этот индекс оценивает, сколько пар объектов, находившихся в одном классе, и пар объектов, находившихся в разных классах, сохранили это состояние после работы алгоритма. Он принимает значение от 0 до 1, где 1 - полное совпадение полученных кластеров и исходными классами, 0 - полное отсутствие совпадений."
      ]
    },
    {
      "cell_type": "code",
      "metadata": {
        "id": "IGkN1IfrniaG"
      },
      "source": [
        "from sklearn.metrics.cluster import contingency_matrix#, pair_confusion_matrix\n",
        "\n",
        "\n",
        "def pair_confusion_matrix(labels_true, labels_pred):\n",
        "    n_samples = np.int64(len(labels_true))\n",
        "    contingency = contingency_matrix(\n",
        "        labels_true, labels_pred\n",
        "    )\n",
        "    n_c = contingency.sum(axis=1)\n",
        "    n_k = contingency.sum(axis=0)\n",
        "    sum_squares = (contingency ** 2).sum()\n",
        "    C = np.empty((2, 2), dtype=np.int64)\n",
        "    \n",
        "    C[1, 1] = sum_squares - n_samples\n",
        "    C[0, 1] = contingency.dot(n_k).sum() - sum_squares\n",
        "    C[1, 0] = contingency.T.dot(n_c).sum() - sum_squares\n",
        "    C[0, 0] = n_samples ** 2 - C[0, 1] - C[1, 0] - sum_squares\n",
        "    return C"
      ],
      "execution_count": null,
      "outputs": []
    },
    {
      "cell_type": "code",
      "metadata": {
        "id": "Slj2TgwZniaG"
      },
      "source": [
        "true = [0, 0, 0, 1, 1, 1]\n",
        "pred = [0, 1, 1, 0, 1, 2]"
      ],
      "execution_count": null,
      "outputs": []
    },
    {
      "cell_type": "code",
      "metadata": {
        "id": "-pyKQW9jniaG",
        "outputId": "3de65997-43f3-4e65-ec76-d87a7f0fa490"
      },
      "source": [
        "# b d\n",
        "# c a\n",
        "pair_confusion_matrix(true, pred)"
      ],
      "execution_count": null,
      "outputs": [
        {
          "output_type": "execute_result",
          "data": {
            "text/plain": [
              "array([[12,  6],\n",
              "       [10,  2]])"
            ]
          },
          "metadata": {
            "tags": []
          },
          "execution_count": 135
        }
      ]
    },
    {
      "cell_type": "code",
      "metadata": {
        "id": "xaYwSr5RniaG"
      },
      "source": [
        "def rand_index(labels_true, labels_pred):\n",
        "    contingency = pair_confusion_matrix(labels_true, labels_pred)\n",
        "    numerator = contingency.diagonal().sum()\n",
        "    denominator = contingency.sum()\n",
        "\n",
        "    return numerator / denominator"
      ],
      "execution_count": null,
      "outputs": []
    },
    {
      "cell_type": "code",
      "metadata": {
        "id": "sCjBOosrniaG",
        "outputId": "f4940759-211b-4915-ceea-7e078eeae131"
      },
      "source": [
        "rand_index(true, pred)"
      ],
      "execution_count": null,
      "outputs": [
        {
          "output_type": "execute_result",
          "data": {
            "text/plain": [
              "0.4666666666666667"
            ]
          },
          "metadata": {
            "tags": []
          },
          "execution_count": 46
        }
      ]
    },
    {
      "cell_type": "code",
      "metadata": {
        "id": "6BaeF1mOniaG",
        "outputId": "265fcfcf-77c7-4f88-c4ed-b002267e203d"
      },
      "source": [
        "contingency_matrix(\n",
        "        true, pred\n",
        "    )"
      ],
      "execution_count": null,
      "outputs": [
        {
          "output_type": "execute_result",
          "data": {
            "text/plain": [
              "array([[1, 2, 0],\n",
              "       [1, 1, 1]])"
            ]
          },
          "metadata": {
            "tags": []
          },
          "execution_count": 47
        }
      ]
    },
    {
      "cell_type": "markdown",
      "metadata": {
        "id": "Xs-id4HtniaG"
      },
      "source": [
        "### - Adjusted Rand Index (ARI)\n",
        "\n",
        "Нормированная доля объектов, для которых разбиения (исходное и полученное в результате кластеризации) \"согласованы\".\n",
        "\n",
        "\n",
        "$$ARI= {\\frac {\\left.\\sum _{ij}{\\binom {n_{ij}}{2}}-\\left[\\sum _{i}{\\binom {a_{i}}{2}}\\sum _{j}{\\binom {b_{j}}{2}}\\right]\\right/{\\binom {n}{2}}}{\\left.{\\frac {1}{2}}\\left[\\sum _{i}{\\binom {a_{i}}{2}}+\\sum _{j}{\\binom {b_{j}}{2}}\\right]-\\left[\\sum _{i}{\\binom {a_{i}}{2}}\\sum _{j}{\\binom {b_{j}}{2}}\\right]\\right/{\\binom {n}{2}}}} =  {\\frac {2 * (a*d - b*c)}{(a+b) * (b+d) + (a + c) * (c + d)}}$$\n",
        "\n",
        "<img src='https://github.com/vinalyan/diff/blob/master/GeekBrains/algorithms/web7/images/contingency_table.png?raw=1' width=250>\n",
        "\n",
        "Принимает значения в диапазоне [−1,1]\n"
      ]
    },
    {
      "cell_type": "code",
      "metadata": {
        "id": "rES47reEniaG"
      },
      "source": [
        "def adj_rand_index(labels_true, labels_pred):\n",
        "    (d, c), (b, a) = pair_confusion_matrix(labels_true, labels_pred)\n",
        "\n",
        "    # Special cases: empty data or full agreement\n",
        "    if b == 0 and c == 0:\n",
        "        return 1.0\n",
        "\n",
        "    return 2. * (a * d - b * c) / ((a + b) * (b + d) +\n",
        "                                       (a + c) * (c + d))"
      ],
      "execution_count": null,
      "outputs": []
    },
    {
      "cell_type": "code",
      "metadata": {
        "id": "oGY-G6FrniaG",
        "outputId": "ab605591-abe6-43ce-d083-3f7652410693"
      },
      "source": [
        "adj_rand_index(true, pred)"
      ],
      "execution_count": null,
      "outputs": [
        {
          "output_type": "execute_result",
          "data": {
            "text/plain": [
              "-0.17647058823529413"
            ]
          },
          "metadata": {
            "tags": []
          },
          "execution_count": 49
        }
      ]
    },
    {
      "cell_type": "markdown",
      "metadata": {
        "id": "chS6-kT7niaG"
      },
      "source": [
        "### - Homogenity, Completeness, V-measure\n",
        "\n",
        "Определяются с использованием функций энтропии\n",
        "K — результат кластеризации, C — истинное разбиение выборки на классы\n",
        "\n",
        "**Гомогенность** измеряет, насколько каждый кластер состоит из объектов одного класса.\n",
        "\n",
        "\n",
        "$$h = 1 - \\frac{H(C|K)}{H(C)}$$\n",
        "\n",
        "$$H(C|K) = - \\sum_{j=1}^m{\\sum_{i=1}^n{p(c_i, k_j)\\log \\frac{p(c_i, k_j)}{p(k_i)}}}$$\n",
        "\n",
        "$$H(C) = - \\sum_{i=1}^n{p(c_i)\\log p(c_i)}$$"
      ]
    },
    {
      "cell_type": "markdown",
      "metadata": {
        "id": "IzS6p1RZniaG"
      },
      "source": [
        "**Полнота** измеряет, насколько объекты одного класса относятся к одному кластеру.\n",
        "\n",
        "$$c = 1 - \\frac{H(K|C)}{H(K)}$$\n",
        "\n",
        "$$H(K|C) = - \\sum_{j=1}^m{\\sum_{i=1}^n{p(k_i, c_j)\\log \\frac{p(k_i, c_j)}{p(c_i)}}}$$\n",
        "\n",
        "$$H(K) = - \\sum_{i=1}^n{p(k_i)\\log p(k_i)}$$"
      ]
    },
    {
      "cell_type": "markdown",
      "metadata": {
        "id": "YuohsRm9niaG"
      },
      "source": [
        "\n",
        "**V-мера**\n",
        "\n",
        "Для учёта гомогенности и полноты одновременно вводится V-мера, как их среднее гармоническое:\n",
        "\n",
        "$$v = 2\\frac{hc}{h+c}$$\n",
        "\n",
        "Принимают значения в диапазоне [0,1]"
      ]
    },
    {
      "cell_type": "code",
      "metadata": {
        "id": "n7NnoiFvniaG"
      },
      "source": [
        "true = np.array([0, 0, 0, 1, 1, 1])\n",
        "pred = np.array([0, 1, 1, 0, 1, 2])"
      ],
      "execution_count": null,
      "outputs": []
    },
    {
      "cell_type": "code",
      "metadata": {
        "id": "MeHTOEsXniaG",
        "outputId": "987edee6-ee43-406a-f1f1-32399e108293"
      },
      "source": [
        "cm = contingency_matrix(true, pred)\n",
        "cm"
      ],
      "execution_count": null,
      "outputs": [
        {
          "output_type": "execute_result",
          "data": {
            "text/plain": [
              "array([[1, 1, 1, 0, 0, 0],\n",
              "       [0, 0, 0, 1, 1, 1]])"
            ]
          },
          "metadata": {
            "tags": []
          },
          "execution_count": 137
        }
      ]
    },
    {
      "cell_type": "markdown",
      "metadata": {
        "id": "g5E_CsrTniaG"
      },
      "source": [
        "**Гомогенность**\n",
        "$$H(C|K) = - \\sum_{j=1}^m{\\sum_{i=1}^n{p(c_i, k_j)\\log \\frac{p(c_i, k_j)}{p(k_i)}}}$$\n",
        "\n",
        "$$H(C) = - \\sum_{i=1}^n{p(c_i)\\log p(c_i)}$$"
      ]
    },
    {
      "cell_type": "code",
      "metadata": {
        "id": "ImywxJ9AniaG",
        "outputId": "2cdea32d-0d81-458e-ae72-f2416db2b23a"
      },
      "source": [
        "cm"
      ],
      "execution_count": null,
      "outputs": [
        {
          "output_type": "execute_result",
          "data": {
            "text/plain": [
              "array([[1, 1, 1, 0, 0, 0],\n",
              "       [0, 0, 0, 1, 1, 1]])"
            ]
          },
          "metadata": {
            "tags": []
          },
          "execution_count": 138
        }
      ]
    },
    {
      "cell_type": "code",
      "metadata": {
        "id": "tzBe1KlLniaG",
        "outputId": "cd033ef5-7617-4187-fb17-a40ab66fad30"
      },
      "source": [
        "h_c_k = 0\n",
        "for j in range(cm.shape[1]):\n",
        "    for i in range(cm.shape[0]):\n",
        "        size = np.sum(cm)\n",
        "        p_c_k = cm[i][j] / size\n",
        "        p_k = np.sum(cm[:, j]) / size\n",
        "        if p_c_k == 0:\n",
        "            continue\n",
        "        h_c_k += p_c_k * np.log2(p_c_k / p_k)\n",
        "        \n",
        "h_c = 0\n",
        "for i in range(cm.shape[0]):\n",
        "    size = np.sum(cm)\n",
        "    p_c = np.sum(cm[i]) / size\n",
        "\n",
        "    h_c += p_c * np.log2(p_c)\n",
        "        \n",
        "h = 1 - h_c_k/ h_c\n",
        "h"
      ],
      "execution_count": null,
      "outputs": [
        {
          "output_type": "execute_result",
          "data": {
            "text/plain": [
              "1.0"
            ]
          },
          "metadata": {
            "tags": []
          },
          "execution_count": 139
        }
      ]
    },
    {
      "cell_type": "markdown",
      "metadata": {
        "id": "J1AhQwxuniaG"
      },
      "source": [
        "**Полнота**\n",
        "\n",
        "$$H(K|C) = - \\sum_{j=1}^m{\\sum_{i=1}^n{p(k_i, c_j)\\log \\frac{p(k_i, c_j)}{p(c_i)}}}$$\n",
        "\n",
        "$$H(K) = - \\sum_{i=1}^n{p(k_i)\\log p(k_i)}$$\n"
      ]
    },
    {
      "cell_type": "code",
      "metadata": {
        "id": "mB2TtX6kniaG"
      },
      "source": [
        "true = np.array([0, 0, 0, 1, 1, 1])\n",
        "pred = np.array([0, 1, 1, 0, 1, 2])"
      ],
      "execution_count": null,
      "outputs": []
    },
    {
      "cell_type": "code",
      "metadata": {
        "id": "ZvlM59XvniaG",
        "outputId": "2b1b8a91-ab32-4468-a2c8-1f47c4bcd440"
      },
      "source": [
        "cm = contingency_matrix(true, pred)\n",
        "cm"
      ],
      "execution_count": null,
      "outputs": [
        {
          "output_type": "execute_result",
          "data": {
            "text/plain": [
              "array([[1, 2, 0],\n",
              "       [1, 1, 1]])"
            ]
          },
          "metadata": {
            "tags": []
          },
          "execution_count": 93
        }
      ]
    },
    {
      "cell_type": "code",
      "metadata": {
        "id": "n8BBRuCrniaG",
        "outputId": "f765d639-2723-43d2-b673-97f15afd72f3"
      },
      "source": [
        "h_k_c = 0\n",
        "for j in range(cm.shape[0]):\n",
        "    for i in range(cm.shape[1]):\n",
        "        size = np.sum(cm)\n",
        "        p_k_c = cm[j][i] / size\n",
        "        p_c = np.sum(cm[j]) / size\n",
        "        \n",
        "        if p_k_c == 0:\n",
        "            continue\n",
        "        h_k_c += p_k_c * np.log2((p_k_c / p_c) + 1e-18)\n",
        "        \n",
        "h_k = 0\n",
        "for i in range(cm.shape[1]):\n",
        "    size = np.sum(cm)\n",
        "    p_k = np.sum(cm[:, i]) / size\n",
        "\n",
        "    h_k += p_k * np.log2(p_k + 1e-18)\n",
        "h_k += 1e-18\n",
        "        \n",
        "c = 1 - h_k_c/ h_k\n",
        "c"
      ],
      "execution_count": null,
      "outputs": [
        {
          "output_type": "execute_result",
          "data": {
            "text/plain": [
              "0.1422191316026441"
            ]
          },
          "metadata": {
            "tags": []
          },
          "execution_count": 94
        }
      ]
    },
    {
      "cell_type": "markdown",
      "metadata": {
        "id": "ucRXict1niaG"
      },
      "source": [
        "**V-мера**\n",
        "\n",
        "$$v = 2\\frac{hc}{h+c}$$\n"
      ]
    },
    {
      "cell_type": "code",
      "metadata": {
        "id": "wThPh-ZsniaG",
        "outputId": "2c644813-6b0d-493c-db35-e09e4035ac17"
      },
      "source": [
        "2 * h * c / (h + c)"
      ],
      "execution_count": null,
      "outputs": [
        {
          "output_type": "execute_result",
          "data": {
            "text/plain": [
              "0.16877288934313645"
            ]
          },
          "metadata": {
            "tags": []
          },
          "execution_count": 74
        }
      ]
    },
    {
      "cell_type": "code",
      "metadata": {
        "id": "oLuk2kXLniaG",
        "outputId": "847b86ee-4893-41ca-8eea-1ca71e341e43"
      },
      "source": [
        "from sklearn.metrics.cluster import homogeneity_completeness_v_measure\n",
        "homogeneity_completeness_v_measure(true, pred)"
      ],
      "execution_count": null,
      "outputs": [
        {
          "output_type": "execute_result",
          "data": {
            "text/plain": [
              "(0.20751874963942177, 0.14221913160264413, 0.1687728893431364)"
            ]
          },
          "metadata": {
            "tags": []
          },
          "execution_count": 75
        }
      ]
    },
    {
      "cell_type": "markdown",
      "metadata": {
        "id": "5POKW_CGuf_B"
      },
      "source": [
        "Про другие внутренние и внешние метрики качества кластеризации можно почитать в дополнительных материалах."
      ]
    },
    {
      "cell_type": "markdown",
      "metadata": {
        "id": "oq8LyMncuf_B"
      },
      "source": [
        "### Алгоритм K-means (K-средних)<a class='anchor' id='kmeans'>"
      ]
    },
    {
      "cell_type": "markdown",
      "metadata": {
        "id": "1MkCdvo5niaG"
      },
      "source": [
        "<img src='https://github.com/vinalyan/diff/blob/master/GeekBrains/algorithms/web7/images/kmeans.png?raw=1' width=800px>"
      ]
    },
    {
      "cell_type": "markdown",
      "metadata": {
        "id": "Slqzj4Siuf_C"
      },
      "source": [
        "Одним из самых простых и популярных алгоритмов кластеризации является алгоритм _K-means (K-средних)_. Заключается он в следующих шагах:\n",
        "\n",
        "1. Выбрать количество кластеров $k$, на которые будут делиться данные.\n",
        "\n",
        "\n",
        "2. Случайным образом выбрать в пространстве данных $k$ точек $c_{k}$ (центроидов) - центров будущих кластеров.\n",
        "\n",
        "\n",
        "3. Для каждой точки из выборки посчитать, к какому из центроидов она ближе.\n",
        "\n",
        "\n",
        "4. Переместить каждый центроид в центр выборки, отнесенной к этому центроиду, определив его как среднее арифметическое всех точек кластера:\n",
        "\n",
        "$$c_{k} = \\frac{\\sum_{i=1}^{l}[a(x_{i})=k]x_{i}}{\\sum_{i=1}^{l}[a(x_{i}) = k]}.$$\n",
        "\n",
        "\n",
        "5. Повторить шаги 3-4 до сходимости алгоритма (обычно это оценивается по величине смещения центроида после каждого шага - сходимость означает непревышение смещения какого-то заданного значения).\n",
        "\n",
        "Результат работы алгоритма значительно зависит от начального выбора центроидов. Существует много методик их выбора, наиболее удачным из которых считается k-means++. Он заключается в последовательном выборе начальных приближений так, что вероятность выбрать в качестве центроида следующую точку пропорциональна квадрату расстояния от нее до ближайшего центроида."
      ]
    },
    {
      "cell_type": "markdown",
      "metadata": {
        "id": "2v7sbNMFuf_D"
      },
      "source": [
        "Проблемой метода также является необходимость знать число кластеров, на которые будет делиться выборка. В случае, когда это число неизвестно, вариантом ее решения может быть последовательная кластеризация на разное число кластеров (например, от 1 до 10) с последующим анализом качества работы алгоритма, например, по сумме квадратов внутрикластерных расстояний     $$\\sum_{k=1}^{K}\\sum_{i=1}^{l}[a(x_{i})=k]\\rho^{2}(x_{i}, c_{k}),$$ - выбирается такое число кластеров, начиная с которого при увеличении количества кластеров функционал падает незначительно."
      ]
    },
    {
      "cell_type": "markdown",
      "metadata": {
        "id": "FuTqIMGxniaG"
      },
      "source": [
        "<img src='https://github.com/vinalyan/diff/blob/master/GeekBrains/algorithms/web7/images/elbow.png?raw=1'>"
      ]
    },
    {
      "cell_type": "markdown",
      "metadata": {
        "id": "nEhfY3kMuf_E"
      },
      "source": [
        "Сделаем простую реализацию алгоритма K-means своими руками на Python."
      ]
    },
    {
      "cell_type": "markdown",
      "metadata": {
        "id": "xDbkTkTYuf_F"
      },
      "source": [
        "Вначале сгенерируем три облака точек с помощью инструментов `sklearn`."
      ]
    },
    {
      "cell_type": "code",
      "metadata": {
        "id": "qRhCTQdZuf_G"
      },
      "source": [
        "from sklearn.datasets import make_blobs, make_moons\n",
        "\n",
        "X, y = make_blobs(n_samples=100, random_state=1)\n",
        "# X, y = make_moons(n_samples=200, noise=0.05, random_state=1)"
      ],
      "execution_count": null,
      "outputs": []
    },
    {
      "cell_type": "markdown",
      "metadata": {
        "id": "Vv0J1xcDuf_H"
      },
      "source": [
        "Изобразим точки на графике."
      ]
    },
    {
      "cell_type": "code",
      "metadata": {
        "id": "I6VqFOARuf_I",
        "outputId": "0b4f8980-a699-4bc3-9256-6c6f6d029839"
      },
      "source": [
        "plt.figure(figsize=(7, 7))\n",
        "plt.scatter(X[:, 0], X[:, 1]);"
      ],
      "execution_count": null,
      "outputs": [
        {
          "output_type": "display_data",
          "data": {
            "image/png": "[encoded data removed]",
            "text/plain": [
              "<Figure size 504x504 with 1 Axes>"
            ]
          },
          "metadata": {
            "tags": [],
            "needs_background": "light"
          }
        }
      ]
    },
    {
      "cell_type": "markdown",
      "metadata": {
        "id": "a421abi0uf_L"
      },
      "source": [
        "В качестве метрики расстояния будем использовать евклидово расстояние, функция для которого была написана ранее. В качестве центроидов выберем первые k элементов датасета. Реализуем основной цикл алгоритма."
      ]
    },
    {
      "cell_type": "code",
      "metadata": {
        "id": "7LSTomiyuf_L"
      },
      "source": [
        "def kmeans(data, k, max_iterations, min_distance):\n",
        "    # Создадим словарь для кластеризации\n",
        "    clusters = {i: [] for i in range(k)}\n",
        "    \n",
        "    # инициализируем центроиды как первые k элементов датасета\n",
        "    centroids = [data[i] for i in range(k)]\n",
        "    \n",
        "    for _ in range(max_iterations):\n",
        "        # кластеризуем объекты по центроидам\n",
        "        for x in data:\n",
        "            # определим расстояния от объекта до каждого центроида\n",
        "            distances = [e_metrics(x, centroid) for centroid in centroids]\n",
        "            # отнесем объект к кластеру, до центроида которого наименьшее расстояние\n",
        "            cluster = distances.index(min(distances))\n",
        "            clusters[cluster].append(x)\n",
        "        \n",
        "        # сохраним предыдущие центроиды в отдельный список для последующего сравнения сновыми\n",
        "        old_centroids = centroids.copy()\n",
        "        \n",
        "        # пересчитаем центроиды как среднее по кластерам\n",
        "        for cluster in clusters:\n",
        "            centroids[cluster] = np.mean(clusters[cluster], axis=0)\n",
        "            \n",
        "        # сравним величину смещения центроидов с минимальной\n",
        "        optimal = True\n",
        "        for centroid in range(len(centroids)):\n",
        "            if np.linalg.norm(centroids[centroid] - old_centroids[centroid], ord=2) > min_distance:\n",
        "                optimal = False\n",
        "                break\n",
        "        \n",
        "        # если все смещения меньше минимального, останавливаем алгоритм  \n",
        "        if optimal:\n",
        "            break\n",
        "    \n",
        "    return old_centroids, clusters"
      ],
      "execution_count": null,
      "outputs": []
    },
    {
      "cell_type": "markdown",
      "metadata": {
        "id": "hF5nlCxFuf_O"
      },
      "source": [
        "Напишем функцию для визуализации кластеров"
      ]
    },
    {
      "cell_type": "code",
      "metadata": {
        "id": "D5RysDcPuf_O"
      },
      "source": [
        "def visualize(centroids, clusters):\n",
        "    colors = ['r', 'g', 'b', 'orange', 'y']\n",
        "    \n",
        "    plt.figure(figsize=(7,7))\n",
        "    \n",
        "    # нанесем на график центроиды\n",
        "    for centroid in centroids:\n",
        "        plt.scatter(centroid[0], centroid[1], marker='x', s=130, c='black')\n",
        "        \n",
        "    # нанесем объекты раскрашенные по классам\n",
        "    for cluster_item in clusters:\n",
        "        for x in clusters[cluster_item]:\n",
        "            plt.scatter(x[0], x[1], color=colors[cluster_item])\n",
        "            \n",
        "    plt.show()"
      ],
      "execution_count": null,
      "outputs": []
    },
    {
      "cell_type": "code",
      "metadata": {
        "id": "Hsy8q0FOuf_Q"
      },
      "source": [
        "# определим максимальное количество итераций\n",
        "max_iterations = 1\n",
        "\n",
        "# и минимальное расстояние между центроидами до пересчета и после него, при котором нужно остановить алгоритм\n",
        "min_distance = 1e-4\n",
        "\n",
        "# сразу определим известное нам количество кластеров\n",
        "k = 3"
      ],
      "execution_count": null,
      "outputs": []
    },
    {
      "cell_type": "markdown",
      "metadata": {
        "id": "ykFQU-1guf_S"
      },
      "source": [
        "Проверим результат алгоритма после одной итерации"
      ]
    },
    {
      "cell_type": "code",
      "metadata": {
        "id": "DzJTqoBuuf_T",
        "outputId": "7b5eb959-2373-4657-f33d-e6f40a2ecd4c"
      },
      "source": [
        "centroids, clusters = kmeans(X, k, max_iterations, min_distance)\n",
        "\n",
        "visualize(centroids, clusters)"
      ],
      "execution_count": null,
      "outputs": [
        {
          "output_type": "display_data",
          "data": {
            "image/png": "[encoded data removed]",
            "text/plain": [
              "<Figure size 504x504 with 1 Axes>"
            ]
          },
          "metadata": {
            "tags": [],
            "needs_background": "light"
          }
        }
      ]
    },
    {
      "cell_type": "markdown",
      "metadata": {
        "id": "3_Zi1CuPuf_W"
      },
      "source": [
        "Проверим работу алгоритма при различном числе итераций."
      ]
    },
    {
      "cell_type": "code",
      "metadata": {
        "id": "Rt7c3Vdxuf_X",
        "outputId": "f95a9a45-7366-4837-fece-6e25d9163c8b"
      },
      "source": [
        "max_iterations = 3\n",
        "\n",
        "centroids, clusters = kmeans(X, k, max_iterations, min_distance)\n",
        "\n",
        "visualize(centroids, clusters)"
      ],
      "execution_count": null,
      "outputs": [
        {
          "output_type": "display_data",
          "data": {
            "image/png": "[encoded data removed]",
            "text/plain": [
              "<Figure size 504x504 with 1 Axes>"
            ]
          },
          "metadata": {
            "tags": [],
            "needs_background": "light"
          }
        }
      ]
    },
    {
      "cell_type": "code",
      "metadata": {
        "id": "YfMBMBlQuf_a",
        "outputId": "959c1659-47cd-4df4-af49-74d2f591a3b7"
      },
      "source": [
        "max_iterations = 5\n",
        "\n",
        "centroids, clusters = kmeans(X, k, max_iterations, min_distance)\n",
        "\n",
        "visualize(centroids, clusters)"
      ],
      "execution_count": null,
      "outputs": [
        {
          "output_type": "display_data",
          "data": {
            "image/png": "[encoded data removed]",
            "text/plain": [
              "<Figure size 504x504 with 1 Axes>"
            ]
          },
          "metadata": {
            "tags": [],
            "needs_background": "light"
          }
        }
      ]
    },
    {
      "cell_type": "code",
      "metadata": {
        "id": "tfdoJFyUuf_c",
        "outputId": "536aeb9d-4b54-4333-867e-1473a026deae"
      },
      "source": [
        "max_iterations = 10\n",
        "\n",
        "centroids, clusters = kmeans(X, k, max_iterations, min_distance)\n",
        "\n",
        "visualize(centroids, clusters)"
      ],
      "execution_count": null,
      "outputs": [
        {
          "output_type": "display_data",
          "data": {
            "image/png": "[encoded data removed]",
            "text/plain": [
              "<Figure size 504x504 with 1 Axes>"
            ]
          },
          "metadata": {
            "tags": [],
            "needs_background": "light"
          }
        }
      ]
    },
    {
      "cell_type": "markdown",
      "metadata": {
        "id": "K_E1dFmeuf_e"
      },
      "source": [
        "Видно, как при увеличении количества итераций центроиды перемещаются в центр образующихся кластеров."
      ]
    },
    {
      "cell_type": "markdown",
      "metadata": {
        "id": "Fb9vr5iXuf_e"
      },
      "source": [
        "Как и говорилось ранее, метод K-means очень чувствителен к выбору начальных центров кластеров, и это является одним из его основных минусов, среди которых также сложность работы с разными формами кластеров (они, например, могут быть вытянутыми, образовывать фигуры и т.п.). В связи с этим существуют другие методы кластеризации, о которых можно прочитать в дополнительных материалах. Там же есть сравнение работы алгоритмов с кластерами различных форм."
      ]
    },
    {
      "cell_type": "markdown",
      "metadata": {
        "id": "eJtXDWyxniaH"
      },
      "source": [
        "## Домашнее задание<a class='anchor' id='hw'>"
      ]
    },
    {
      "cell_type": "markdown",
      "metadata": {
        "id": "C1kOMJqTniaH"
      },
      "source": [
        "1. К алгоритму kNN, реализованному на уроке, реализовать добавление весов для соседей по любому из показанных на уроке принципов.\n",
        "2. *Написать функцию подсчета метрики качества кластеризации как среднее квадратичное внутрикластерное расстояние и построить график ее зависимости от количества кластеров k (взять от 1 до 10) для выборки данных из данного урока (создать датасет, как в методичке)."
      ]
    },
    {
      "cell_type": "markdown",
      "metadata": {
        "id": "hYIYaQg6niaH"
      },
      "source": [
        "Проект: \n",
        "1. https://www.kaggle.com/c/regression-tutors-expected-math-exam-results регрессия\n",
        "1. https://www.kaggle.com/c/classification-choose-tutors классификация"
      ]
    },
    {
      "cell_type": "markdown",
      "metadata": {
        "id": "L_LkljD0uf_f"
      },
      "source": [
        "## Дополнительные матриалы"
      ]
    },
    {
      "cell_type": "markdown",
      "metadata": {
        "id": "zw4kpwm0uf_f"
      },
      "source": [
        "1. Факторный, дискриминантный и кластерный анализ: Пер. с англ./Дж.-О. Ким, Ч. У. Мьюллер, У. Р. Клекка и др.; Под ред. И. С. Енюкова. — М.: Финансы и статистика, 1989.— 215 с.\n",
        "2. [Об использовании мер сходства при анализе документации](http://ceur-ws.org/Vol-803/paper18.pdf)\n",
        "3. [KNN Algorithm](https://medium.com/datadriveninvestor/knn-algorithm-and-implementation-from-scratch-b9f9b739c28f)\n",
        "4. [Проклятие размерности](http://www.machinelearning.ru/wiki/index.php?title=%D0%9F%D1%80%D0%BE%D0%BA%D0%BB%D1%8F%D1%82%D0%B8%D0%B5_%D1%80%D0%B0%D0%B7%D0%BC%D0%B5%D1%80%D0%BD%D0%BE%D1%81%D1%82%D0%B8); ([Иллюстрация](https://www.youtube.com/watch?v=R2hQIJb0Lis))\n",
        "5. [Оценка качества кластеризации](http://neerc.ifmo.ru/wiki/index.php?title=%D0%9E%D1%86%D0%B5%D0%BD%D0%BA%D0%B0_%D0%BA%D0%B0%D1%87%D0%B5%D1%81%D1%82%D0%B2%D0%B0_%D0%B2_%D0%B7%D0%B0%D0%B4%D0%B0%D1%87%D0%B5_%D0%BA%D0%BB%D0%B0%D1%81%D1%82%D0%B5%D1%80%D0%B8%D0%B7%D0%B0%D1%86%D0%B8%D0%B8)\n",
        "6. [Обзор алгоритмов кластеризации данных](https://habr.com/ru/post/101338/)\n",
        "7. [Работа алгоритмов кластеризации на классах разной формы](https://scikit-learn.org/stable/modules/clustering.html)"
      ]
    },
    {
      "cell_type": "markdown",
      "metadata": {
        "id": "1t_D5kponiaH"
      },
      "source": [
        "## Summary"
      ]
    },
    {
      "cell_type": "markdown",
      "metadata": {
        "id": "4gv93gCpniaH"
      },
      "source": [
        "__kNN__\n",
        "* Метрический алгоритм классификации по \"ближайшим соседям\"\n",
        "* Разновидности: ближайший сосед, k ближайших соседей, k взвешанных ближайших соседей\n",
        "* Алгоритм интерпретируем\n",
        "* Проблемы и их решения\n",
        "    * Выбор метрики __->__ нет единого алгоритма, позволяющего выбрать метрику, поэтому используют что-то из \"стандартного\" (например, Евклидова)\n",
        "    * Выбор числа соседей k __->__ подбор на основании кросс-валидации\n",
        "    * Много признаков - \"проклятие размерности\" __->__ предварительный отбор признаков (feature selection)\n",
        "\n",
        "__k-means__\n",
        "* Кластеризует неразмеченные объекты, помогая найти структуру в данных\n",
        "* Является метрическим алгоритмом\n",
        "* Можно использовать для генерации нового признака - номера кластера\n",
        "* Проблемы и их решения\n",
        "    * Алгоритм чувствителен к выбору начальных центров кластеров __->__ как вариант, на начальном этапе принимать в качестве центров самые отдаленные точки\n",
        "    * Необходимо заранее знать количество кластеров __->__ выбор исходя из природы данных, либо оценка исходя из распределений признаков или 2D/3D представления объектов (PCA, TSNE)\n",
        "    * Не гарантируется достижение глобального минимума суммарного квадратичного отклонения, а только одного из локальных минимумов (пример на картинке ниже) __->__ инициализировать начальные центры не случайно\n",
        "    \n",
        "<img src=\"https://upload.wikimedia.org/wikipedia/commons/thumb/7/7c/K-means_convergence_to_a_local_minimum.png/1920px-K-means_convergence_to_a_local_minimum.png\" style=\"width: 1000px;\">"
      ]
    },
    {
      "cell_type": "markdown",
      "metadata": {
        "id": "UjUIlbDYniaH"
      },
      "source": [
        "### Определения\n",
        "*Метрические алгоритмы*\n",
        "\n",
        "**Метрический алгоритм** — алгоритм машинного обучения, основанный на вычислении оценок сходства между объектами.\n",
        "\n",
        "Три аксиомы, которые должны удовлетворяться, чтобы функция считалась метрикой:\n",
        "\n",
        "1. $\\rho(x, y) \\geq 0, \\rho(x, y) = 0 \\Leftrightarrow x = y;$\n",
        "2. $\\rho(x, y) = \\rho (y, x);$\n",
        "3. $\\rho(x, y) \\leq \\rho(x, z) + \\rho(z, y).$\n",
        "\n",
        "**Косинусное сходство (косинусная мера)**:\n",
        "\n",
        "$$\\text{cos}\\theta = \\frac{\\left \\langle x, y \\right \\rangle}{||x||\\cdot||y||} = \\frac{\\sum_{i=1}^{n}x_{i}y_{i}}{\\sqrt{\\sum_{i=1}^{n}x_{i}^{2}}\\sqrt{\\sum_{i=1}^{n}y_{i}^{2}}}.$$\n",
        "**Косинусное расстояние**:\n",
        "\n",
        "$$\\rho_{cos}(x, y) = 1 - \\text{cos}\\theta = 1 - \\frac{\\sum_{i=1}^{n}x_{i}y_{i}}{\\sqrt{\\sum_{i=1}^{n}x_{i}^{2}}\\sqrt{\\sum_{i=1}^{n}y_{i}^{2}}}.$$\n",
        "\n",
        "___________\n",
        "\n",
        "*Внутренние метрики качества кластеризации*\n",
        "\n",
        "**Silhouette** —- является мерой того, насколько объект похож на свой собственный кластер (сплоченность) по сравнению с другими кластерами (разделение).\n",
        "\n",
        "$$s = \\frac{1}{n}\\sum{\\frac{b-a}{max(a, b)}}$$\n",
        "- а — среднее расстояние от данного объекта до объектов из того же кластера\n",
        "- b — среднее расстояние от данного объекта до объектов из ближайшего кластера (отличного от того, в котором лежит сам объект)\n",
        "\n",
        "___________\n",
        "*Внешние метрики качества кластеризации*\n",
        "\n",
        "**Rand Index (RI)** — Доля объектов, для которых разбиения (исходное и полученное в результате кластеризации) \"согласованы\".\n",
        " $$Rand = \\frac{a+b}{a+b+c+d} = \\frac{a+b}{{n \\choose 2 }}, где$$\n",
        " \n",
        " $ {n \\choose 2} = {\\frac{n(n-1)}{2}}$\n",
        "\n",
        "Здесь количество пар объектов $(x_{i}.x_{j})$, \n",
        " - а - принадлежат одному кластеру и одному классу,\n",
        " - b - принадлежат разным кластерам и разным классам,\n",
        " - c - принадлежат разным кластерам, но одному классу,\n",
        " - d - принадлежат одному кластеру, но разным классам.\n",
        "\n",
        "**Adjusted Rand Index (ARI)** — Нормированная доля объектов, для которых разбиения (исходное и полученное в результате кластеризации) \"согласованы\".\n",
        "\n",
        "\n",
        "$$ARI= \\frac{RI - \\text{Expected_RI}}{max(RI) - \\text{Expected_RI}} =  {\\frac {2 * (a*d - b*c)}{(a+b) * (b+d) + (a + c) * (c + d)}}$$\n",
        "\n",
        "**Гомогенность** измеряет, насколько каждый кластер состоит из объектов одного класса.\n",
        "\n",
        "$$h = 1 - \\frac{H(C|K)}{H(C)}$$\n",
        "\n",
        "**Полнота** измеряет, насколько объекты одного класса относятся к одному кластеру.\n",
        "\n",
        "$$c = 1 - \\frac{H(K|C)}{H(K)}$$\n",
        "\n",
        "**V-мера**\n",
        "\n",
        "Для учёта гомогенности и полноты одновременно вводится V-мера, как их среднее гармоническое:\n",
        "\n",
        "$$v = 2\\frac{hc}{h+c}$$\n"
      ]
    }
  ]
}