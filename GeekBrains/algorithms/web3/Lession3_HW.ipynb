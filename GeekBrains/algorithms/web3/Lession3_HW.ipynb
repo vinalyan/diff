{
  "nbformat": 4,
  "nbformat_minor": 0,
  "metadata": {
    "colab": {
      "name": "Lession3_HW.ipynb",
      "provenance": [],
      "authorship_tag": "ABX9TyOa+m1LMXs/2i547Bonq5VF",
      "include_colab_link": true
    },
    "kernelspec": {
      "name": "python3",
      "display_name": "Python 3"
    }
  },
  "cells": [
    {
      "cell_type": "markdown",
      "metadata": {
        "id": "view-in-github",
        "colab_type": "text"
      },
      "source": [
        "<a href=\"https://colab.research.google.com/github/vinalyan/diff/blob/master/GeekBrains/algorithms/web3/Lession3_HW.ipynb\" target=\"_parent\"><img src=\"https://colab.research.google.com/assets/colab-badge.svg\" alt=\"Open In Colab\"/></a>"
      ]
    },
    {
      "cell_type": "markdown",
      "metadata": {
        "id": "NNxlV6kkVCVn"
      },
      "source": [
        "# Настройки"
      ]
    },
    {
      "cell_type": "code",
      "metadata": {
        "id": "TP3HBN9HVueZ"
      },
      "source": [
        "import numpy as np\n",
        "import matplotlib.pyplot as plt"
      ],
      "execution_count": null,
      "outputs": []
    },
    {
      "cell_type": "code",
      "metadata": {
        "id": "nLzFcPY7pR6Q"
      },
      "source": [
        "X = np.array([ [   1,    1,  500,    1],\n",
        "               [   1,    1,  700,    1],\n",
        "               [   1,    2,  750,    2],\n",
        "               [   1,    5,  600,    1],\n",
        "               [   1,    3, 1450,    2],\n",
        "               [   1,    0,  800,    1],\n",
        "               [   1,    5, 1500,    3],\n",
        "               [   1,   10, 2000,    3],\n",
        "               [   1,    1,  450,    1],\n",
        "               [   1,    2, 1000,    2]], dtype = np.float64)\n",
        "\n",
        "y = np.array([0, 0, 1, 0, 1, 0, 1, 0, 1, 1], dtype = np.float64)"
      ],
      "execution_count": null,
      "outputs": []
    },
    {
      "cell_type": "code",
      "metadata": {
        "id": "hWKoHkTWpVmT"
      },
      "source": [
        "def standard_scale(x):\n",
        "    res = (x - x.mean()) / x.std()\n",
        "    return res"
      ],
      "execution_count": null,
      "outputs": []
    },
    {
      "cell_type": "code",
      "metadata": {
        "id": "JLTqFL_Wpem6"
      },
      "source": [
        "X_st = X.copy()\n",
        "X_st[:, 2] = standard_scale(X[:, 2])\n",
        "#X_st"
      ],
      "execution_count": null,
      "outputs": []
    },
    {
      "cell_type": "code",
      "metadata": {
        "id": "oGJ56E9Jp-sM"
      },
      "source": [
        "def sigmoid(z):\n",
        "    res = 1 / (1 + np.exp(-z))\n",
        "    return res"
      ],
      "execution_count": null,
      "outputs": []
    },
    {
      "cell_type": "markdown",
      "metadata": {
        "id": "mffFF8XWVLgP"
      },
      "source": [
        "## Задание №1\n",
        "Дана функция:\n",
        "\n",
        "```\n",
        "def calc_logloss(y, y_pred):\n",
        "    err = - np.mean(y * np.log(y_pred) + (1.0 - y) * np.log(1.0 - y_pred))\n",
        "    return err\n",
        "```\n",
        "\n",
        "Измените ее так, чтобы нули по возможности не попадали в `np.log.\n"
      ]
    },
    {
      "cell_type": "code",
      "metadata": {
        "id": "-f5Un41yVrGk"
      },
      "source": [
        "def calc_logloss(y, y_pred):\n",
        " #-----------Вот тут все яростно начала менять\n",
        "  y_pred.dtype = 'float' #делаем float, это если передали int, без этого у меня все ломалось\n",
        "  for i in range(y_pred.size):\n",
        "    if y_pred[i] == 0: y_pred[i] += 1e-12 # увеличиваем 0\n",
        "    if y_pred[i] == 1: y_pred[i] -= 1e-12 # уменьшаем 1\n",
        " #--------------Закончил тут---------------\n",
        "  err = - np.mean(y * np.log(y_pred) + (1.0 - y) * np.log(1.0 - y_pred))\n",
        "  return err"
      ],
      "execution_count": null,
      "outputs": []
    },
    {
      "cell_type": "markdown",
      "metadata": {
        "id": "DTD-1leemnuX"
      },
      "source": [
        "### Проверка"
      ]
    },
    {
      "cell_type": "code",
      "metadata": {
        "id": "dawMg9IYUUbO",
        "outputId": "a9b653bb-dacb-4043-ff97-3e7947c3474b",
        "colab": {
          "base_uri": "https://localhost:8080/"
        }
      },
      "source": [
        "# Пример применения\n",
        "y1 = np.array([0, 0, 1, 1])\n",
        "y_pred1 = np.array([0, 0, 1, 1])\n",
        "calc_logloss(y1, y_pred1)"
      ],
      "execution_count": null,
      "outputs": [
        {
          "output_type": "execute_result",
          "data": {
            "text/plain": [
              "372.2200359606911"
            ]
          },
          "metadata": {
            "tags": []
          },
          "execution_count": 22
        }
      ]
    },
    {
      "cell_type": "markdown",
      "metadata": {
        "id": "7j_z7TJvoe5S"
      },
      "source": [
        "## Задание №2\n",
        "Подберите аргументы функции `eval_model` для логистической регрессии таким образом, чтобы `log loss` был минимальным.\n",
        "\n",
        "\n"
      ]
    },
    {
      "cell_type": "code",
      "metadata": {
        "id": "dW6XWnRtnyZ6"
      },
      "source": [
        "'''\n",
        "Для возможности перебора немногоп подправил оригинальную функцию:\n",
        "1. добавил аргумент log, что бы лишнее в консоль не печаталось\n",
        "2. добавил возвращения ошибки.\n",
        "'''\n",
        "def eval_model(X, y, iterations, eta=1e-4, log = False):\n",
        "    np.random.seed(42)\n",
        "    W = np.random.randn(X.shape[1])\n",
        "    n = X.shape[0]\n",
        " \n",
        "    for i in range(iterations):\n",
        "        z = np.dot(X, W)\n",
        "        y_pred = sigmoid(z)\n",
        "        err = calc_logloss(y, y_pred)\n",
        " \n",
        "        dQ = 1/n * X.T @ (y_pred - y)\n",
        "        W -= eta * dQ\n",
        "        if i % (iterations / 10) == 0 and log == True:\n",
        "            print(i, W, err)\n",
        "    return W, err"
      ],
      "execution_count": null,
      "outputs": []
    },
    {
      "cell_type": "markdown",
      "metadata": {
        "id": "rLOvKxRkre8P"
      },
      "source": [
        "Я начал увеличивать шаг обучения и с каждым увеличением величина ошибки уменьшалась. \n",
        "\n",
        "Дойдя до значения 43 я получил следующее:"
      ]
    },
    {
      "cell_type": "code",
      "metadata": {
        "id": "YYdibzMcyACv",
        "outputId": "02649fae-cfb5-47f1-f86e-1391daac9725",
        "colab": {
          "base_uri": "https://localhost:8080/"
        }
      },
      "source": [
        "W, err = eval_model(X_st, y, iterations=100, eta=43, log = True)\n",
        "print(f'{W} , {err}')"
      ],
      "execution_count": null,
      "outputs": [
        {
          "output_type": "stream",
          "text": [
            "0 [-15.81692176 -62.52593187  -0.52966946 -22.82125969] 1.1785958344356262\n",
            "10 [-16.21852227 -70.82420336  22.52166573  37.13434584] 10.844170893131377\n",
            "20 [-22.74861485 -75.2843981   41.25089132  92.87414383] 11.052417295157841\n",
            "30 [-43.31135003 -94.90991969  55.71214313 116.24862224] 10.007655955556704\n",
            "40 [ -56.2745726  -106.88315766   62.01162585  147.27538428] 9.74425756543967\n",
            "50 [-67.80832189 -66.56375681  62.31908064 165.85125096] 6.061428703803298\n",
            "60 [-91.0837189  -94.13189459  39.60675879 142.57414663] 9.653688420939044\n",
            "70 [-97.80121907 -47.5078655   37.35298593 167.77733098] 5.312635231370138\n",
            "80 [-109.83774783  -42.31857807   17.80883028  164.36817793] 4.195525170841562\n",
            "90 [-132.65261191  -87.06396207   11.33114908  161.13078357] 10.839293628566182\n",
            "[-136.82430958  -39.63381199    4.3592653   174.15961879] , 4.9335794283202565\n"
          ],
          "name": "stdout"
        },
        {
          "output_type": "stream",
          "text": [
            "/usr/local/lib/python3.6/dist-packages/ipykernel_launcher.py:2: RuntimeWarning: overflow encountered in exp\n",
            "  \n"
          ],
          "name": "stderr"
        }
      ]
    },
    {
      "cell_type": "markdown",
      "metadata": {
        "id": "EWFNftqUyEM3"
      },
      "source": [
        "Не знаю,что это за ошибка `/usr/local/lib/python3.6/dist-packages/ipykernel_launcher.py:2: RuntimeWarning: overflow encountered in exp` но решил больше шаг обучения выше 42 не поднимать.\n",
        "\n",
        "Дальше пробую только итерации\n"
      ]
    },
    {
      "cell_type": "code",
      "metadata": {
        "id": "bSGUtT50o7i_",
        "outputId": "30e4ef15-ac80-4100-a379-4c367e800cb3",
        "colab": {
          "base_uri": "https://localhost:8080/"
        }
      },
      "source": [
        "W, err = eval_model(X_st, y, iterations=1000, eta=42, log = True)\n",
        "print(f'{W} , {err}')"
      ],
      "execution_count": null,
      "outputs": [
        {
          "output_type": "stream",
          "text": [
            "0 [-15.43753488 -61.07505588  -0.50228904 -22.25511343] 1.1785958344356262\n",
            "100 [-145.23972174  -89.66939915    1.3347783   154.64848933] 7.155983402482875\n",
            "200 [-228.54258713  -34.01727577  -46.8865921   218.51461031] 1.0061783759126954\n",
            "300 [-254.90120395  -33.44419342  -58.89371356  227.61490646] 0.009629101208102588\n",
            "400 [-255.64725607  -33.55572363  -60.45785134  226.86885435] 0.008769226786393015\n",
            "500 [-256.21808887  -33.83558672  -61.83932145  226.29802155] 0.00813901597866202\n",
            "600 [-256.70735474  -34.16222726  -63.10641401  225.80875568] 0.007616368103170175\n",
            "700 [-257.14585713  -34.50076272  -64.28597577  225.3702533 ] 0.007165585438961663\n",
            "800 [-257.54798854  -34.83776275  -65.39320931  224.9681219 ] 0.006769154373950373\n",
            "900 [-257.92185435  -35.16744394  -66.43835996  224.59425622] 0.0064162465646364795\n",
            "[-258.26919299  -35.48413787  -67.41936454  224.24692024] , 0.006102331354744664\n"
          ],
          "name": "stdout"
        }
      ]
    },
    {
      "cell_type": "code",
      "metadata": {
        "id": "HhwGGuCwpKav",
        "outputId": "0ec1224b-d676-4edb-c2a3-94c78acec44f",
        "colab": {
          "base_uri": "https://localhost:8080/"
        }
      },
      "source": [
        "W, err1 = eval_model(X_st, y, iterations=80000, eta=42, log = True)\n",
        "print(f'{W} , {err1}')"
      ],
      "execution_count": null,
      "outputs": [
        {
          "output_type": "stream",
          "text": [
            "0 [-15.43753488 -61.07505588  -0.50228904 -22.25511343] 1.1785958344356262\n",
            "8000 [-277.1281587   -25.38454845  -80.21830008  219.82556541] 0.003215539869465098\n",
            "16000 [-289.31958282  -19.86244732  -86.17945887  220.35044134] 0.0024135209723537944\n",
            "24000 [-296.50405327  -20.31071564  -88.35747316  225.73728951] 0.002158553086036731\n",
            "32000 [-302.96933704  -20.71431287  -90.31728894  230.58528025] 0.0019521072391086366\n",
            "40000 [-308.84596145  -21.08120291  -92.09862818  234.99194558] 0.0017815664368636783\n",
            "48000 [-314.23186767  -21.41748697  -93.73119147  239.03070088] 0.0016383325952318774\n",
            "56000 [-319.20247004  -21.72786425  -95.23784691  242.75807836] 0.0015163461083322124\n",
            "64000 [-323.81706547  -22.01603053  -96.6365745   246.21852999] 0.001411214385743527\n",
            "72000 [-328.12311624  -22.28494458  -97.94176518  249.44763715] 0.001319676051017665\n",
            "[-332.15871088  -22.53698115  -99.16496738  252.47395462] , 0.0012392686008307543\n"
          ],
          "name": "stdout"
        }
      ]
    },
    {
      "cell_type": "code",
      "metadata": {
        "id": "WfW-ORbcuAEZ",
        "outputId": "3f397e26-fbc6-4177-f2a4-e67229fb11a7",
        "colab": {
          "base_uri": "https://localhost:8080/"
        }
      },
      "source": [
        "W,err1 = eval_model(X_st, y, iterations=550000, eta=42, log = True)\n",
        "print(f'{W} , {err1}')"
      ],
      "execution_count": null,
      "outputs": [
        {
          "output_type": "stream",
          "text": [
            "0 [-15.43753488 -61.07505588  -0.50228904 -22.25511343] 1.1785958344356262\n",
            "55000 [-318.60170179  -21.69034956  -95.05574715  242.30756925] 0.0015305951872766513\n",
            "110000 [-345.3749021   -23.36245357 -103.1707689   262.38501225] 0.0010086037246125883\n",
            "165000 [-364.2224187   -24.53982266 -108.8832592   276.51944088] 0.0007517774843862235\n",
            "220000 [-378.77582671  -25.44905355 -113.29415097  287.43377827] 0.0005990867131859774\n",
            "275000 [-390.63157188  -26.18980098 -116.88737696  296.32511094] 0.0004979007898562723\n",
            "330000 [-400.63428734  -26.81480239 -119.91896001  303.82680885] 0.00042593189377466284\n",
            "385000 [-409.28527645  -27.35536338 -122.54084911  310.31479747] 0.0003721271607262518\n",
            "440000 [-416.90652456  -27.83159376 -124.85063844  316.03053712] 0.0003303830793228837\n",
            "495000 [-423.71716048  -28.25718057 -126.91474512  321.13835722] 0.00029705456517439\n",
            "[-429.87296259  -28.64185454 -128.7803844   325.7550807 ] , 0.00026983107823810686\n"
          ],
          "name": "stdout"
        }
      ]
    },
    {
      "cell_type": "code",
      "metadata": {
        "id": "tW_gUzUlubV3",
        "outputId": "f98a7a6f-ab3f-4eac-9f00-ec032ba39a77",
        "colab": {
          "base_uri": "https://localhost:8080/"
        }
      },
      "source": [
        "W,err1 = eval_model(X_st, y, iterations=5550000, eta=42, log = True)\n",
        "print(f'{W} , {err1}')"
      ],
      "execution_count": null,
      "outputs": [
        {
          "output_type": "stream",
          "text": [
            "0 [-15.43753488 -61.07505588  -0.50228904 -22.25511343] 1.1785958344356262\n",
            "555000 [-430.40444952  -28.67506726 -128.94146191  326.1536854 ] 0.0002676009673576453\n",
            "1110000 [-472.09114969  -31.28018659 -141.57533148  357.41810801] 0.000139553287189345\n",
            "1665000 [-497.13130517  -32.84509067 -149.16411199  376.19801206] 9.437737980766933e-05\n",
            "2220000 [-515.08563491  -33.96718231 -154.60541075  389.66365077] 7.129454844303694e-05\n",
            "2775000 [-529.09191596  -34.84254212 -158.85019219  400.16829565] 5.7283064066111235e-05\n",
            "3330000 [-540.57713467  -35.5603463  -162.3309292   408.78216543] 4.787391706363708e-05\n",
            "3885000 [-550.31182262  -36.16874851 -165.28114366  416.08314963] 4.111949649004064e-05\n",
            "4440000 [-558.75965732  -36.6967263  -167.84136008  422.41900176] 3.6035228846867986e-05\n",
            "4995000 [-566.22145845  -37.16307961 -170.10274621  428.01533397] 3.206983338424257e-05\n",
            "[-572.90351009  -37.58070041 -172.12781934  433.02685776] , 2.8890600950768108e-05\n"
          ],
          "name": "stdout"
        }
      ]
    },
    {
      "cell_type": "markdown",
      "metadata": {
        "id": "yvr4X5i3x4Up"
      },
      "source": [
        "В этот момент потерял интерес к выкручиванию итераций. Тут что-то явно не так как положено."
      ]
    },
    {
      "cell_type": "markdown",
      "metadata": {
        "id": "uq4Iq-VrxbmM"
      },
      "source": [
        "## Задание №3. \n",
        "Создайте функцию `calc_pred_proba`, возвращающую предсказанную вероятность класса 1 (на вход подаются `W`, который уже посчитан функцией `eval_model` и `X`, на выходе - массив `y_pred_proba`).\n"
      ]
    },
    {
      "cell_type": "markdown",
      "metadata": {
        "id": "p9RTFNNun20B"
      },
      "source": [
        "Вероятность решил считать по формуле:\n",
        "\n",
        "$$p_{+} = \\sigma(\\left \\langle w,x_{i} \\right \\rangle) $$\n"
      ]
    },
    {
      "cell_type": "code",
      "metadata": {
        "id": "UMiqzKHOxlzb"
      },
      "source": [
        "def calc_pred(W, X):\n",
        "  m = X.shape[0]\n",
        "  y_pred_proba = np.zeros(m)\n",
        "  y_pred_proba = np.squeeze(sigmoid(np.dot(X, W)))\n",
        "  return y_pred_proba"
      ],
      "execution_count": null,
      "outputs": []
    },
    {
      "cell_type": "code",
      "metadata": {
        "id": "ISZ3S1oU0X8D",
        "outputId": "887f9415-f540-49b7-e9dd-0b41c597c342",
        "colab": {
          "base_uri": "https://localhost:8080/"
        }
      },
      "source": [
        "p = calc_pred(W, X_st)\n",
        "for i in range(p.size):\n",
        "  p[i] = round(p[i],4)\n",
        "  print(p[i])"
      ],
      "execution_count": null,
      "outputs": [
        {
          "output_type": "stream",
          "text": [
            "0.0014\n",
            "0.0084\n",
            "1.0\n",
            "0.0\n",
            "1.0\n",
            "1.0\n",
            "1.0\n",
            "0.1871\n",
            "0.0009\n",
            "1.0\n"
          ],
          "name": "stdout"
        }
      ]
    },
    {
      "cell_type": "markdown",
      "metadata": {
        "id": "snM27ciub0zQ"
      },
      "source": [
        "## Задание №4\n",
        "Создайте функцию `calc_pred`, возвращающую предсказанный класс (на вход подаются `W`, который уже посчитан функцией `eval_model` и `X`, на выходе - массив `y_pred`)."
      ]
    },
    {
      "cell_type": "code",
      "metadata": {
        "id": "NzQ4SpZXcBIX"
      },
      "source": [
        "def calc_pred(W, X, G = 0.5):\n",
        "    \n",
        "    m = X.shape[0]\n",
        "    \n",
        "    y_predicted = np.zeros(m)\n",
        "\n",
        "    A = np.squeeze(sigmoid(np.dot(X, W)))\n",
        "\n",
        "    # За порог отнесения к тому или иному классу примем вероятность 0.5\n",
        "    for i in range(A.shape[0]):\n",
        "        if (A[i] > G): \n",
        "            y_predicted[i] = 1\n",
        "        elif (A[i] <= G):\n",
        "            y_predicted[i] = 0\n",
        "\n",
        "    return y_predicted"
      ],
      "execution_count": null,
      "outputs": []
    },
    {
      "cell_type": "code",
      "metadata": {
        "id": "jIAVI0vfcHNH"
      },
      "source": [
        "y_pred_proba = calc_pred(W, X_st, 0.5)"
      ],
      "execution_count": null,
      "outputs": []
    },
    {
      "cell_type": "code",
      "metadata": {
        "id": "kY_D8-dYqho-",
        "outputId": "2af94f3a-ae18-47f5-cce6-ddb3bc403413",
        "colab": {
          "base_uri": "https://localhost:8080/"
        }
      },
      "source": [
        "for i in range(p.size):\n",
        "  p[i] = round(p[i],4)\n",
        "  print(f'p: {round(p[i], 3)}| a(x): {y_pred_proba[i]}| y: {y[i]}' )"
      ],
      "execution_count": null,
      "outputs": [
        {
          "output_type": "stream",
          "text": [
            "p: 0.001| a(x): 0.0| y: 0.0\n",
            "p: 0.008| a(x): 0.0| y: 0.0\n",
            "p: 1.0| a(x): 1.0| y: 1.0\n",
            "p: 0.0| a(x): 0.0| y: 0.0\n",
            "p: 1.0| a(x): 1.0| y: 1.0\n",
            "p: 1.0| a(x): 1.0| y: 0.0\n",
            "p: 1.0| a(x): 1.0| y: 1.0\n",
            "p: 0.187| a(x): 0.0| y: 0.0\n",
            "p: 0.001| a(x): 0.0| y: 1.0\n",
            "p: 1.0| a(x): 1.0| y: 1.0\n"
          ],
          "name": "stdout"
        }
      ]
    },
    {
      "cell_type": "markdown",
      "metadata": {
        "id": "tCazsGaprN_p"
      },
      "source": [
        "Вроде работает все работает."
      ]
    },
    {
      "cell_type": "markdown",
      "metadata": {
        "id": "r7xx9LSBtGu7"
      },
      "source": [
        "## Задание №5 \n",
        "Реализуйте функции для подсчета `Accuracy`, матрицы ошибок, точности и полноты, а также F1 score."
      ]
    },
    {
      "cell_type": "markdown",
      "metadata": {
        "id": "YLTJSVpt2xjh"
      },
      "source": [
        "$$accuracy(a,x) = \\frac{1}{l} \\sum^{l}_{i=1}[a(x_{i})=y_{i}]$$\n",
        "\n",
        "$$precision(a, X) = \\frac{TP}{TP+FP}$$\n",
        "\n",
        "\n",
        "$$recall(a, X) = \\frac{TP}{TP+FN}$$\n"
      ]
    },
    {
      "cell_type": "code",
      "metadata": {
        "id": "eQMQFvlt-jZo"
      },
      "source": [
        "#Рассчитываем accuracy\n",
        "def calc_acuracy(y_pred_proba, y):\n",
        "  accuracy = 0\n",
        "  for i in range(y.size):\n",
        "    if y_pred_proba[i] == y[i]: accuracy = accuracy + 1\n",
        "  accuracy = accuracy / y.size\n",
        "  return accuracy"
      ],
      "execution_count": null,
      "outputs": []
    },
    {
      "cell_type": "code",
      "metadata": {
        "id": "PrGyZZHqCjkD",
        "outputId": "912cd64d-8c4d-42f2-ace7-76f488ff77ec",
        "colab": {
          "base_uri": "https://localhost:8080/"
        }
      },
      "source": [
        "calc_acuracy(y_pred_proba, y)"
      ],
      "execution_count": null,
      "outputs": [
        {
          "output_type": "execute_result",
          "data": {
            "text/plain": [
              "0.8"
            ]
          },
          "metadata": {
            "tags": []
          },
          "execution_count": 166
        }
      ]
    },
    {
      "cell_type": "markdown",
      "metadata": {
        "id": "Fk7j9nEo8gRv"
      },
      "source": [
        "|  <empty>   | $$y = 1$$ | $$y = 0$$ |\n",
        "--- | --- | ---\n",
        "| __$$a_{1}(x) = 1$$__  |   $TP$    |   $FP$   |\n",
        "| __$$a_{1}(x) = 0$$__ |   $FN$   |   $TN$  |"
      ]
    },
    {
      "cell_type": "code",
      "metadata": {
        "id": "St9c-9ks28Xk"
      },
      "source": [
        "def calc_error_matrix(y_pred_proba, y):\n",
        "  TP = 0\n",
        "  FP = 0\n",
        "  FN = 0 \n",
        "  TN = 0\n",
        "  for i in range(y.size):\n",
        "    if y_pred_proba[i] == 1 and y[i] == 1: TP = TP + 1\n",
        "    if y_pred_proba[i] == 1 and y[i] == 0: FP = FP + 1\n",
        "    if y_pred_proba[i] == 0 and y[i] == 1: FN = FN + 1\n",
        "    if y_pred_proba[i] == 0 and y[i] == 0: TN = TN + 1\n",
        "  precision = TP / (TP + FP)\n",
        "  recall = TP / (TP + FN)\n",
        "  f_1 = 2 * precision * recall / (precision + recall) \n",
        "  return np.array([[TP, FP],[FN,TN]]), precision, recall, f_1"
      ],
      "execution_count": null,
      "outputs": []
    },
    {
      "cell_type": "markdown",
      "metadata": {
        "id": "BPjHsFHWEUou"
      },
      "source": [
        "$$F_{1} = 2 \\cdot\\frac{precision \\cdot recall}{ precision + recall}$$\n"
      ]
    },
    {
      "cell_type": "code",
      "metadata": {
        "id": "LqQX5OAv6r4O",
        "outputId": "cfcd3bac-45f2-428f-9bc4-53ad956b2178",
        "colab": {
          "base_uri": "https://localhost:8080/"
        }
      },
      "source": [
        "calc_error_matrix(y_pred_proba, y)"
      ],
      "execution_count": null,
      "outputs": [
        {
          "output_type": "execute_result",
          "data": {
            "text/plain": [
              "(array([[4, 1],\n",
              "        [1, 4]]), 0.8, 0.8, 0.8000000000000002)"
            ]
          },
          "metadata": {
            "tags": []
          },
          "execution_count": 182
        }
      ]
    }
  ]
}