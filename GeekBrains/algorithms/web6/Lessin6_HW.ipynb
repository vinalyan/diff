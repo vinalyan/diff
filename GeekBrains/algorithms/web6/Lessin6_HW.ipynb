{
  "nbformat": 4,
  "nbformat_minor": 0,
  "metadata": {
    "colab": {
      "name": "Lessin6_HW.ipynb",
      "provenance": [],
      "authorship_tag": "ABX9TyN6iZUgYFJWhJe4Q/iwrDzm",
      "include_colab_link": true
    },
    "kernelspec": {
      "name": "python3",
      "display_name": "Python 3"
    }
  },
  "cells": [
    {
      "cell_type": "markdown",
      "metadata": {
        "id": "view-in-github",
        "colab_type": "text"
      },
      "source": [
        "<a href=\"https://colab.research.google.com/github/vinalyan/diff/blob/master/GeekBrains/algorithms/web6/Lessin6_HW.ipynb\" target=\"_parent\"><img src=\"https://colab.research.google.com/assets/colab-badge.svg\" alt=\"Open In Colab\"/></a>"
      ]
    },
    {
      "cell_type": "markdown",
      "metadata": {
        "id": "g2UMeCcw2XaB"
      },
      "source": [
        "Используя файл Lesson_6_extended.ipynb (он в web6.zip в материалах)::\n",
        "\n",
        "1. \n",
        "2. * Модифицировать реализованный алгоритм градиентного бустинга, чтобы получился стохастический градиентный бустинг. Размер подвыборки принять равным 0.5. Сравнить на одном графике кривые изменения ошибки на тестовой выборке в зависимости от числа итераций."
      ]
    },
    {
      "cell_type": "markdown",
      "metadata": {
        "id": "xkEb0f_14edE"
      },
      "source": [
        "# Реализация алгоритма градиентрого бустинга из лекции\n"
      ]
    },
    {
      "cell_type": "code",
      "metadata": {
        "id": "nFaFTz9y6EmL"
      },
      "source": [
        "from sklearn import model_selection\n",
        "from sklearn.tree import DecisionTreeRegressor\n",
        "from sklearn.datasets import load_diabetes\n",
        "import matplotlib.pyplot as plt\n",
        "import numpy as np"
      ],
      "execution_count": 3,
      "outputs": []
    },
    {
      "cell_type": "code",
      "metadata": {
        "id": "xURRnpbA66lt"
      },
      "source": [
        "def gb_predict(X, trees_list, eta):\n",
        "    # Реализуемый алгоритм градиентного бустинга будет инициализироваться нулевыми значениями,\n",
        "    # поэтому все деревья из списка trees_list уже являются дополнительными и при предсказании\n",
        "    # прибавляются с шагом eta\n",
        "    \n",
        "    predictions = np.zeros(X.shape[0])\n",
        "    for i, x in enumerate(X):\n",
        "        prediction = 0\n",
        "        for alg in trees_list:\n",
        "            prediction += eta * alg.predict([x])[0]\n",
        "        predictions[i] = prediction\n",
        "        \n",
        "    predictions = np.array(\n",
        "        [sum([eta * alg.predict([x])[0] for alg in trees_list]) for x in X]\n",
        "    )\n",
        "\n",
        "    return predictions"
      ],
      "execution_count": 4,
      "outputs": []
    },
    {
      "cell_type": "code",
      "metadata": {
        "id": "vcwSyCz666qA"
      },
      "source": [
        "#функция ошибки\n",
        "def mean_squared_error(y_real, prediction):\n",
        "    return (sum((y_real - prediction)**2)) / len(y_real)\n",
        "\n",
        "def residual(y, z):\n",
        "    return - (z - y)"
      ],
      "execution_count": 5,
      "outputs": []
    },
    {
      "cell_type": "code",
      "metadata": {
        "id": "SPeCWp48667J"
      },
      "source": [
        "def gb_fit(n_trees, max_depth, X_train, X_test, y_train, y_test, eta):\n",
        "    \n",
        "    # Деревья будем записывать в список\n",
        "    trees = []\n",
        "       \n",
        "    for i in range(n_trees):\n",
        "        tree = DecisionTreeRegressor(max_depth=max_depth, random_state=42)\n",
        "\n",
        "        # первый алгоритм просто обучаем на выборке и добавляем в список\n",
        "        if len(trees) == 0:\n",
        "            # обучаем первое дерево на обучающей выборке\n",
        "            tree.fit(X_train, y_train)\n",
        "            \n",
        "        else:\n",
        "            # Получим ответы на текущей композиции\n",
        "            target = gb_predict(X_train, trees, eta)\n",
        "            \n",
        "            # алгоритмы начиная со второго обучаем на сдвиг\n",
        "            tree.fit(X_train, residual(y_train, target))\n",
        "            \n",
        "        trees.append(tree)\n",
        "        \n",
        "    return trees #train_errors, test_errors"
      ],
      "execution_count": 26,
      "outputs": []
    },
    {
      "cell_type": "markdown",
      "metadata": {
        "id": "uyzdZBwx6FyK"
      },
      "source": [
        "# Задание 1\n",
        "Для реализованной модели градиентного бустинга построить графики зависимости ошибки от количества деревьев в ансамбле и от максимальной глубины деревьев. Сделать выводы о зависимости ошибки от этих параметров."
      ]
    },
    {
      "cell_type": "code",
      "metadata": {
        "colab": {
          "base_uri": "https://localhost:8080/"
        },
        "id": "2EwxjuG06PLw",
        "outputId": "c45cbbb5-36a6-4857-f6ca-d38c1d4c6ef0"
      },
      "source": [
        "X, y = load_diabetes(return_X_y=True)\n",
        "X.shape, y.shape"
      ],
      "execution_count": 27,
      "outputs": [
        {
          "output_type": "execute_result",
          "data": {
            "text/plain": [
              "((442, 10), (442,))"
            ]
          },
          "metadata": {
            "tags": []
          },
          "execution_count": 27
        }
      ]
    },
    {
      "cell_type": "code",
      "metadata": {
        "colab": {
          "base_uri": "https://localhost:8080/"
        },
        "id": "H9KkKlwt6VNx",
        "outputId": "1690930d-8ec9-44db-bac2-4226f001b70c"
      },
      "source": [
        "X_train, X_test, y_train, y_test = model_selection.train_test_split(X, y, test_size=0.30, random_state=32)\n",
        "X_train.shape, X_test.shape, y_train.shape, y_test.shape"
      ],
      "execution_count": 28,
      "outputs": [
        {
          "output_type": "execute_result",
          "data": {
            "text/plain": [
              "((309, 10), (133, 10), (309,), (133,))"
            ]
          },
          "metadata": {
            "tags": []
          },
          "execution_count": 28
        }
      ]
    },
    {
      "cell_type": "code",
      "metadata": {
        "colab": {
          "base_uri": "https://localhost:8080/"
        },
        "id": "WbYMNe44Sbzh",
        "outputId": "3604d962-adce-4d87-f3de-0b5916430793"
      },
      "source": [
        "# Будем записывать ошибки на обучающей и тестовой выборке на каждой итерации в список\n",
        "train_errors_list = []\n",
        "test_errors_list = []\n",
        "eta = 1\n",
        "max_depth = 5\n",
        "\n",
        "num_trees = [1, 5, 10, 30, 50]\n",
        "eta, max_depth, train_errors_list, test_errors_list"
      ],
      "execution_count": 30,
      "outputs": [
        {
          "output_type": "execute_result",
          "data": {
            "text/plain": [
              "(1, 5, [], [])"
            ]
          },
          "metadata": {
            "tags": []
          },
          "execution_count": 30
        }
      ]
    },
    {
      "cell_type": "code",
      "metadata": {
        "colab": {
          "base_uri": "https://localhost:8080/"
        },
        "id": "Lo7vS5jRSo6e",
        "outputId": "44f239c4-8a54-4d92-8cc3-efda24dc66fe"
      },
      "source": [
        "for n_trees in num_trees:\n",
        "  trees = gb_fit(n_trees, max_depth, X_train, X_test, y_train, y_test, eta)\n",
        "\n",
        "  train_error = mean_squared_error(y_train, gb_predict(X_train, trees, eta))\n",
        "  test_errors = mean_squared_error(y_test, gb_predict(X_test, trees, eta))\n",
        "  train_errors_list.append(train_error)\n",
        "  test_errors_list.append(test_errors)\n",
        "  print(f'Кол-во деревьев: {n_trees}, Глубина: {max_depth}, Шаг: {eta}, Ошибка на обуч: {train_error: .3f}, Ошибка на тестовой: {test_errors: .3f}')"
      ],
      "execution_count": 31,
      "outputs": [
        {
          "output_type": "stream",
          "text": [
            "Кол-во деревьев: 1, Глубина: 5, Шаг: 1, Ошибка на обуч:  1759.426, Ошибка на тестовой:  3952.008\n",
            "Кол-во деревьев: 5, Глубина: 5, Шаг: 1, Ошибка на обуч:  670.995, Ошибка на тестовой:  4916.298\n",
            "Кол-во деревьев: 10, Глубина: 5, Шаг: 1, Ошибка на обуч:  91.211, Ошибка на тестовой:  5395.317\n",
            "Кол-во деревьев: 30, Глубина: 5, Шаг: 1, Ошибка на обуч:  0.205, Ошибка на тестовой:  5654.593\n",
            "Кол-во деревьев: 50, Глубина: 5, Шаг: 1, Ошибка на обуч:  0.000, Ошибка на тестовой:  5664.300\n"
          ],
          "name": "stdout"
        }
      ]
    },
    {
      "cell_type": "code",
      "metadata": {
        "colab": {
          "base_uri": "https://localhost:8080/",
          "height": 279
        },
        "id": "ETSgSgsFX-Uz",
        "outputId": "d2689c45-d634-4d06-8c97-bbc8221e8933"
      },
      "source": [
        "plt.xlabel('Количество деревьев')\n",
        "plt.ylabel('Ошибка')\n",
        "plt.plot(num_trees, train_errors_list, label='train error')\n",
        "plt.plot(num_trees, test_errors_list, label='test error')\n",
        "plt.legend(loc='upper right')\n",
        "plt.show()"
      ],
      "execution_count": 32,
      "outputs": [
        {
          "output_type": "display_data",
          "data": {
            "image/png": "[encoded data removed]",
            "text/plain": [
              "<Figure size 432x288 with 1 Axes>"
            ]
          },
          "metadata": {
            "tags": [],
            "needs_background": "light"
          }
        }
      ]
    },
    {
      "cell_type": "markdown",
      "metadata": {
        "id": "tguk_ou1yIHS"
      },
      "source": [
        "как-то мгновенно переобучение происходит."
      ]
    },
    {
      "cell_type": "code",
      "metadata": {
        "colab": {
          "base_uri": "https://localhost:8080/"
        },
        "id": "rsMNuMhYZoGM",
        "outputId": "c9e3bffb-cdb2-4524-f93f-1289dd874fec"
      },
      "source": [
        "train_errors_list.clear()\n",
        "test_errors_list.clear()\n",
        "\n",
        "eta = 1\n",
        "n_trees = 10\n",
        "max_depth_list = [1, 5, 7, 10]\n",
        "eta, train_errors_list, test_errors_list"
      ],
      "execution_count": 33,
      "outputs": [
        {
          "output_type": "execute_result",
          "data": {
            "text/plain": [
              "(1, [], [])"
            ]
          },
          "metadata": {
            "tags": []
          },
          "execution_count": 33
        }
      ]
    },
    {
      "cell_type": "code",
      "metadata": {
        "colab": {
          "base_uri": "https://localhost:8080/"
        },
        "id": "dhBVbRz3fKjF",
        "outputId": "8071a596-b482-47f0-ad86-3fe07c97cf38"
      },
      "source": [
        "for max_depth in max_depth_list:\n",
        "  trees = gb_fit(n_trees, max_depth, X_train, X_test, y_train, y_test, eta)\n",
        "  train_error = mean_squared_error(y_train, gb_predict(X_train, trees, eta))\n",
        "  test_errors = mean_squared_error(y_test, gb_predict(X_test, trees, eta))\n",
        "  train_errors_list.append(train_error)\n",
        "  test_errors_list.append(test_errors)\n",
        "  print(f'Кол-во деревьев: {n_trees}, Глубина: {max_depth}, Шаг: {eta}, Ошибка на обуч: {train_error: .3f}, Ошибка на тестовой: {test_errors: .3f}')"
      ],
      "execution_count": 34,
      "outputs": [
        {
          "output_type": "stream",
          "text": [
            "Кол-во деревьев: 10, Глубина: 1, Шаг: 1, Ошибка на обуч:  2807.180, Ошибка на тестовой:  3140.266\n",
            "Кол-во деревьев: 10, Глубина: 5, Шаг: 1, Ошибка на обуч:  91.211, Ошибка на тестовой:  5395.317\n",
            "Кол-во деревьев: 10, Глубина: 7, Шаг: 1, Ошибка на обуч:  2.471, Ошибка на тестовой:  5801.346\n",
            "Кол-во деревьев: 10, Глубина: 10, Шаг: 1, Ошибка на обуч:  0.000, Ошибка на тестовой:  6364.372\n"
          ],
          "name": "stdout"
        }
      ]
    },
    {
      "cell_type": "code",
      "metadata": {
        "colab": {
          "base_uri": "https://localhost:8080/",
          "height": 279
        },
        "id": "5mTK-8vFeWVq",
        "outputId": "f8443add-9a2a-460c-baca-bcfee43989c7"
      },
      "source": [
        "plt.xlabel('Глубина')\n",
        "plt.ylabel('Ошибка')\n",
        "#plt.xlim(0, n_trees)\n",
        "plt.plot(max_depth_list, train_errors_list, label='train error')\n",
        "plt.plot(max_depth_list, test_errors_list, label='test error')\n",
        "plt.legend(loc='upper right')\n",
        "plt.show()"
      ],
      "execution_count": 35,
      "outputs": [
        {
          "output_type": "display_data",
          "data": {
            "image/png": "[encoded data removed]",
            "text/plain": [
              "<Figure size 432x288 with 1 Axes>"
            ]
          },
          "metadata": {
            "tags": [],
            "needs_background": "light"
          }
        }
      ]
    },
    {
      "cell_type": "code",
      "metadata": {
        "colab": {
          "base_uri": "https://localhost:8080/"
        },
        "id": "_pw1UFT4vvao",
        "outputId": "48999afe-2c7e-41a5-8437-b4b6e499ddd5"
      },
      "source": [
        "train_errors_list.clear()\n",
        "test_errors_list.clear()\n",
        "\n",
        "n_trees = 10\n",
        "max_depth = 5\n",
        "\n",
        "eta_list = [0.01, 0.1, 0.5, 1]\n",
        "max_depth, train_errors_list, test_errors_list"
      ],
      "execution_count": 36,
      "outputs": [
        {
          "output_type": "execute_result",
          "data": {
            "text/plain": [
              "(5, [], [])"
            ]
          },
          "metadata": {
            "tags": []
          },
          "execution_count": 36
        }
      ]
    },
    {
      "cell_type": "code",
      "metadata": {
        "colab": {
          "base_uri": "https://localhost:8080/"
        },
        "id": "yimLzY-Fzzuw",
        "outputId": "253dbfba-8031-44d5-c243-7f280e42d502"
      },
      "source": [
        "for eta in eta_list:\n",
        "  trees = gb_fit(n_trees, max_depth, X_train, X_test, y_train, y_test, eta)\n",
        "  train_error = mean_squared_error(y_train, gb_predict(X_train, trees, eta))\n",
        "  test_errors = mean_squared_error(y_test, gb_predict(X_test, trees, eta))\n",
        "  train_errors_list.append(train_error)\n",
        "  test_errors_list.append(test_errors)\n",
        "  print(f'Кол-во деревьев: {n_trees}, Глубина: {max_depth}, Шаг: {eta}, Ошибка на обуч: {train_error: .3f}, Ошибка на тестовой: {test_errors: .3f}')"
      ],
      "execution_count": 37,
      "outputs": [
        {
          "output_type": "stream",
          "text": [
            "Кол-во деревьев: 10, Глубина: 5, Шаг: 0.01, Ошибка на обуч:  24765.480, Ошибка на тестовой:  22619.246\n",
            "Кол-во деревьев: 10, Глубина: 5, Шаг: 0.1, Ошибка на обуч:  4799.702, Ошибка на тестовой:  5460.605\n",
            "Кол-во деревьев: 10, Глубина: 5, Шаг: 0.5, Ошибка на обуч:  260.980, Ошибка на тестовой:  3484.633\n",
            "Кол-во деревьев: 10, Глубина: 5, Шаг: 1, Ошибка на обуч:  91.211, Ошибка на тестовой:  5395.317\n"
          ],
          "name": "stdout"
        }
      ]
    },
    {
      "cell_type": "code",
      "metadata": {
        "colab": {
          "base_uri": "https://localhost:8080/",
          "height": 279
        },
        "id": "ALL37YlL0pu1",
        "outputId": "57000ef4-7894-4974-c558-d81b3c042298"
      },
      "source": [
        "plt.xlabel('Глубина')\n",
        "plt.ylabel('Шаг')\n",
        "#plt.xlim(0, n_trees)\n",
        "plt.plot(eta_list, train_errors_list, label='train error')\n",
        "plt.plot(eta_list, test_errors_list, label='test error')\n",
        "plt.legend(loc='upper right')\n",
        "plt.show()"
      ],
      "execution_count": 38,
      "outputs": [
        {
          "output_type": "display_data",
          "data": {
            "image/png": "[encoded data removed]",
            "text/plain": [
              "<Figure size 432x288 with 1 Axes>"
            ]
          },
          "metadata": {
            "tags": [],
            "needs_background": "light"
          }
        }
      ]
    },
    {
      "cell_type": "code",
      "metadata": {
        "id": "gI82_7NmAvbd"
      },
      "source": [
        ""
      ],
      "execution_count": null,
      "outputs": []
    }
  ]
}