{
  "nbformat": 4,
  "nbformat_minor": 0,
  "metadata": {
    "colab": {
      "name": "Lessin6_HW.ipynb",
      "provenance": [],
      "authorship_tag": "ABX9TyOgMGRIDyDhp+nKYZvHh7dU",
      "include_colab_link": true
    },
    "kernelspec": {
      "name": "python3",
      "display_name": "Python 3"
    }
  },
  "cells": [
    {
      "cell_type": "markdown",
      "metadata": {
        "id": "view-in-github",
        "colab_type": "text"
      },
      "source": [
        "<a href=\"https://colab.research.google.com/github/vinalyan/diff/blob/master/GeekBrains/algorithms/web6/Lessin6_HW.ipynb\" target=\"_parent\"><img src=\"https://colab.research.google.com/assets/colab-badge.svg\" alt=\"Open In Colab\"/></a>"
      ]
    },
    {
      "cell_type": "markdown",
      "metadata": {
        "id": "g2UMeCcw2XaB"
      },
      "source": [
        "Используя файл Lesson_6_extended.ipynb (он в web6.zip в материалах)::\n",
        "\n",
        "1. \n",
        "2. * Модифицировать реализованный алгоритм градиентного бустинга, чтобы получился стохастический градиентный бустинг. Размер подвыборки принять равным 0.5. Сравнить на одном графике кривые изменения ошибки на тестовой выборке в зависимости от числа итераций."
      ]
    },
    {
      "cell_type": "markdown",
      "metadata": {
        "id": "xkEb0f_14edE"
      },
      "source": [
        "# Реализация алгоритма градиентрого бустинга из лекции\n"
      ]
    },
    {
      "cell_type": "code",
      "metadata": {
        "id": "nFaFTz9y6EmL"
      },
      "source": [
        "from sklearn import model_selection\n",
        "from sklearn.tree import DecisionTreeRegressor\n",
        "from sklearn.datasets import load_diabetes\n",
        "import matplotlib.pyplot as plt\n",
        "import numpy as np"
      ],
      "execution_count": 264,
      "outputs": []
    },
    {
      "cell_type": "code",
      "metadata": {
        "id": "xURRnpbA66lt"
      },
      "source": [
        "def gb_predict(X, trees_list, eta):\n",
        "    # Реализуемый алгоритм градиентного бустинга будет инициализироваться нулевыми значениями,\n",
        "    # поэтому все деревья из списка trees_list уже являются дополнительными и при предсказании\n",
        "    # прибавляются с шагом eta\n",
        "    \n",
        "    predictions = np.zeros(X.shape[0])\n",
        "    for i, x in enumerate(X):\n",
        "        prediction = 0\n",
        "        for alg in trees_list:\n",
        "            prediction += eta * alg.predict([x])[0]\n",
        "        predictions[i] = prediction\n",
        "        \n",
        "    predictions = np.array(\n",
        "        [sum([eta * alg.predict([x])[0] for alg in trees_list]) for x in X]\n",
        "    )\n",
        "\n",
        "    return predictions"
      ],
      "execution_count": 265,
      "outputs": []
    },
    {
      "cell_type": "code",
      "metadata": {
        "id": "vcwSyCz666qA"
      },
      "source": [
        "#функция ошибки\n",
        "def mean_squared_error(y_real, prediction):\n",
        "    return (sum((y_real - prediction)**2)) / len(y_real)\n",
        "\n",
        "def residual(y, z):\n",
        "    return - (z - y)"
      ],
      "execution_count": 266,
      "outputs": []
    },
    {
      "cell_type": "code",
      "metadata": {
        "id": "SPeCWp48667J"
      },
      "source": [
        "def gb_fit(n_trees, max_depth, X_train, X_test, y_train, y_test, eta):\n",
        "    \n",
        "    # Деревья будем записывать в список\n",
        "    trees = []\n",
        "    \n",
        "    # Будем записывать ошибки на обучающей и тестовой выборке на каждой итерации в список\n",
        "    #train_errors = []\n",
        "    #test_errors = []\n",
        "    \n",
        "    for i in range(n_trees):\n",
        "        tree = DecisionTreeRegressor(max_depth=max_depth, random_state=42)\n",
        "\n",
        "        # первый алгоритм просто обучаем на выборке и добавляем в список\n",
        "        if len(trees) == 0:\n",
        "            # обучаем первое дерево на обучающей выборке\n",
        "            tree.fit(X_train, y_train)\n",
        "            \n",
        "         #   train_errors.append(mean_squared_error(y_train, gb_predict(X_train, trees, eta)))\n",
        "        #    test_errors.append(mean_squared_error(y_test, gb_predict(X_test, trees, eta)))\n",
        "        else:\n",
        "            # Получим ответы на текущей композиции\n",
        "            target = gb_predict(X_train, trees, eta)\n",
        "            \n",
        "            # алгоритмы начиная со второго обучаем на сдвиг\n",
        "            tree.fit(X_train, residual(y_train, target))\n",
        "            \n",
        "          #  train_errors.append(mean_squared_error(y_train, gb_predict(X_train, trees, eta)))\n",
        "          #  test_errors.append(mean_squared_error(y_test, gb_predict(X_test, trees, eta)))\n",
        "\n",
        "        trees.append(tree)\n",
        "        \n",
        "    return trees #train_errors, test_errors"
      ],
      "execution_count": 267,
      "outputs": []
    },
    {
      "cell_type": "markdown",
      "metadata": {
        "id": "uyzdZBwx6FyK"
      },
      "source": [
        "# Задание 1\n",
        "Для реализованной модели градиентного бустинга построить графики зависимости ошибки от количества деревьев в ансамбле и от максимальной глубины деревьев. Сделать выводы о зависимости ошибки от этих параметров."
      ]
    },
    {
      "cell_type": "code",
      "metadata": {
        "id": "2EwxjuG06PLw",
        "outputId": "74979a92-00a8-4099-9a11-8b7ab7989b2d",
        "colab": {
          "base_uri": "https://localhost:8080/"
        }
      },
      "source": [
        "X, y = load_diabetes(return_X_y=True)\n",
        "X.shape, y.shape"
      ],
      "execution_count": 268,
      "outputs": [
        {
          "output_type": "execute_result",
          "data": {
            "text/plain": [
              "((442, 10), (442,))"
            ]
          },
          "metadata": {
            "tags": []
          },
          "execution_count": 268
        }
      ]
    },
    {
      "cell_type": "code",
      "metadata": {
        "id": "H9KkKlwt6VNx"
      },
      "source": [
        "X_train, X_test, y_train, y_test = model_selection.train_test_split(X, y, test_size=0.25, random_state=32)"
      ],
      "execution_count": 269,
      "outputs": []
    },
    {
      "cell_type": "code",
      "metadata": {
        "id": "pgjJo29i6XrR"
      },
      "source": [
        "# Число деревьев в ансамбле\n",
        "n_trees = 30\n",
        "\n",
        "# Максимальная глубина деревьев\n",
        "max_depth = 5\n",
        "\n",
        "# Шаг\n",
        "eta = 1\n",
        "\n",
        "trees = gb_fit(n_trees, max_depth, X_train, X_test, y_train, y_test, eta)"
      ],
      "execution_count": 282,
      "outputs": []
    },
    {
      "cell_type": "code",
      "metadata": {
        "id": "qhne6WGcKbA9"
      },
      "source": [
        "def evaluate_alg(X_train, X_test, y_train, y_test, trees, eta):\n",
        "    train_prediction = gb_predict(X_train, trees, eta)\n",
        "\n",
        "    print(f'Ошибка алгоритма из {n_trees} деревьев глубиной {max_depth} \\\n",
        "    с шагом {eta} на тренировочной выборке: {mean_squared_error(y_train, train_prediction)}')\n",
        "\n",
        "    test_prediction = gb_predict(X_test, trees, eta)\n",
        "\n",
        "    print(f'Ошибка алгоритма из {n_trees} деревьев глубиной {max_depth} \\\n",
        "    с шагом {eta} на тестовой выборке: {mean_squared_error(y_test, test_prediction)}')"
      ],
      "execution_count": 283,
      "outputs": []
    },
    {
      "cell_type": "code",
      "metadata": {
        "id": "RxWLeW2kKh-k",
        "outputId": "f462fcfd-eed3-4a6f-c5e2-95c9928139d5",
        "colab": {
          "base_uri": "https://localhost:8080/"
        }
      },
      "source": [
        "evaluate_alg(X_train, X_test, y_train, y_test, trees, eta)"
      ],
      "execution_count": 284,
      "outputs": [
        {
          "output_type": "stream",
          "text": [
            "Ошибка алгоритма из 30 деревьев глубиной 5     с шагом 1 на тренировочной выборке: 0.34956896529076004\n",
            "Ошибка алгоритма из 30 деревьев глубиной 5     с шагом 1 на тестовой выборке: 5894.980506757785\n"
          ],
          "name": "stdout"
        }
      ]
    },
    {
      "cell_type": "code",
      "metadata": {
        "id": "WbYMNe44Sbzh",
        "outputId": "af54d021-6ebf-4e76-bff1-b954517caae3",
        "colab": {
          "base_uri": "https://localhost:8080/"
        }
      },
      "source": [
        "    # Будем записывать ошибки на обучающей и тестовой выборке на каждой итерации в список\n",
        "train_errors_list = []\n",
        "test_errors_list = []\n",
        "eta = 0.1\n",
        "max_depth = 5\n",
        "\n",
        "num_trees = [1, 5, 10, 30, 50]\n",
        "eta, max_depth, train_errors_list, test_errors_list"
      ],
      "execution_count": 316,
      "outputs": [
        {
          "output_type": "execute_result",
          "data": {
            "text/plain": [
              "(0.1, 5, [], [])"
            ]
          },
          "metadata": {
            "tags": []
          },
          "execution_count": 316
        }
      ]
    },
    {
      "cell_type": "code",
      "metadata": {
        "id": "Lo7vS5jRSo6e",
        "outputId": "216d26f3-38db-4b6e-a2ef-59e9c63c3bd9",
        "colab": {
          "base_uri": "https://localhost:8080/"
        }
      },
      "source": [
        "for n_trees in num_trees:\n",
        "  trees = gb_fit(n_trees, max_depth, X_train, X_test, y_train, y_test, eta)\n",
        "\n",
        "  train_error = mean_squared_error(y_train, gb_predict(X_train, trees, eta))\n",
        "  test_errors = mean_squared_error(y_test, gb_predict(X_test, trees, eta))\n",
        "  train_errors_list.append(train_error)\n",
        "  test_errors_list.append(test_errors)\n",
        "  print(f'Кол-во деревьев: {n_trees}, Глубина: {max_depth}, Шаг: {eta}, Ошибка на обуч: {train_error: .3f}, Ошибка на тестовой: {test_errors: .3f}')"
      ],
      "execution_count": 317,
      "outputs": [
        {
          "output_type": "stream",
          "text": [
            "Кол-во деревьев: 1, Глубина: 5, Шаг: 0.1, Ошибка на обуч:  24475.287, Ошибка на тестовой:  22172.340\n",
            "Кол-во деревьев: 5, Глубина: 5, Шаг: 0.1, Ошибка на обуч:  11433.321, Ошибка на тестовой:  10632.390\n",
            "Кол-во деревьев: 10, Глубина: 5, Шаг: 0.1, Ошибка на обуч:  4806.366, Ошибка на тестовой:  5433.033\n",
            "Кол-во деревьев: 30, Глубина: 5, Шаг: 0.1, Ошибка на обуч:  587.636, Ошибка на тестовой:  3151.546\n",
            "Кол-во деревьев: 50, Глубина: 5, Шаг: 0.1, Ошибка на обуч:  292.878, Ошибка на тестовой:  3288.911\n"
          ],
          "name": "stdout"
        }
      ]
    },
    {
      "cell_type": "code",
      "metadata": {
        "id": "wov6NUt2tAKL",
        "outputId": "ea8faa42-56eb-4b02-9872-bac773b4ba4c",
        "colab": {
          "base_uri": "https://localhost:8080/"
        }
      },
      "source": [
        "train_errors_list"
      ],
      "execution_count": 318,
      "outputs": [
        {
          "output_type": "execute_result",
          "data": {
            "text/plain": [
              "[24475.286642307867,\n",
              " 11433.32118856565,\n",
              " 4806.366355253684,\n",
              " 587.6355094736241,\n",
              " 292.87778620802044]"
            ]
          },
          "metadata": {
            "tags": []
          },
          "execution_count": 318
        }
      ]
    },
    {
      "cell_type": "code",
      "metadata": {
        "id": "ETSgSgsFX-Uz",
        "outputId": "de1a4a03-70f3-44d8-c481-fb66a561008a",
        "colab": {
          "base_uri": "https://localhost:8080/",
          "height": 279
        }
      },
      "source": [
        "plt.xlabel('Количество деревьев')\n",
        "plt.ylabel('Ошибка')\n",
        "#plt.xlim(0, n_trees)\n",
        "plt.plot(num_trees, train_errors_list, label='train error')\n",
        "plt.plot(num_trees, test_errors_list, label='test error')\n",
        "plt.legend(loc='upper right')\n",
        "plt.show()"
      ],
      "execution_count": 319,
      "outputs": [
        {
          "output_type": "display_data",
          "data": {
            "image/png": "[encoded data removed]",
            "text/plain": [
              "<Figure size 432x288 with 1 Axes>"
            ]
          },
          "metadata": {
            "tags": [],
            "needs_background": "light"
          }
        }
      ]
    },
    {
      "cell_type": "code",
      "metadata": {
        "id": "rsMNuMhYZoGM",
        "outputId": "6d15f8b1-c7c5-4c64-da74-b0410b8444b1",
        "colab": {
          "base_uri": "https://localhost:8080/"
        }
      },
      "source": [
        "train_errors_list.clear()\n",
        "test_errors_list.clear()\n",
        "\n",
        "eta = 0.1\n",
        "n_trees = 10\n",
        "max_depth_list = [1, 5, 10, 30, 50]\n",
        "eta, train_errors_list, test_errors_list"
      ],
      "execution_count": 326,
      "outputs": [
        {
          "output_type": "execute_result",
          "data": {
            "text/plain": [
              "(0.1, [], [])"
            ]
          },
          "metadata": {
            "tags": []
          },
          "execution_count": 326
        }
      ]
    },
    {
      "cell_type": "code",
      "metadata": {
        "id": "dhBVbRz3fKjF",
        "outputId": "68b74965-6e8c-4c59-f6eb-46c0326c4995",
        "colab": {
          "base_uri": "https://localhost:8080/"
        }
      },
      "source": [
        "for max_depth in max_depth_list:\n",
        "  trees = gb_fit(n_trees, max_depth, X_train, X_test, y_train, y_test, eta)\n",
        "  train_error = mean_squared_error(y_train, gb_predict(X_train, trees, eta))\n",
        "  test_errors = mean_squared_error(y_test, gb_predict(X_test, trees, eta))\n",
        "  train_errors_list.append(train_error)\n",
        "  test_errors_list.append(test_errors)\n",
        "  print(f'Кол-во деревьев: {n_trees}, Глубина: {max_depth}, Шаг: {eta}, Ошибка на обуч: {train_error: .3f}, Ошибка на тестовой: {test_errors: .3f}')"
      ],
      "execution_count": 327,
      "outputs": [
        {
          "output_type": "stream",
          "text": [
            "Кол-во деревьев: 10, Глубина: 1, Шаг: 0.1, Ошибка на обуч:  6865.031, Ошибка на тестовой:  5899.764\n",
            "Кол-во деревьев: 10, Глубина: 5, Шаг: 0.1, Ошибка на обуч:  4806.366, Ошибка на тестовой:  5433.033\n",
            "Кол-во деревьев: 10, Глубина: 10, Шаг: 0.1, Ошибка на обуч:  3637.234, Ошибка на тестовой:  6154.796\n",
            "Кол-во деревьев: 10, Глубина: 30, Шаг: 0.1, Ошибка на обуч:  3623.389, Ошибка на тестовой:  6873.632\n",
            "Кол-во деревьев: 10, Глубина: 50, Шаг: 0.1, Ошибка на обуч:  3623.389, Ошибка на тестовой:  6873.632\n"
          ],
          "name": "stdout"
        }
      ]
    },
    {
      "cell_type": "code",
      "metadata": {
        "id": "5mTK-8vFeWVq",
        "outputId": "f60de916-6121-48c6-ddbb-ca5d2aa1690f",
        "colab": {
          "base_uri": "https://localhost:8080/",
          "height": 281
        }
      },
      "source": [
        "plt.xlabel('Шаг')\n",
        "plt.ylabel('Ошибка')\n",
        "#plt.xlim(0, n_trees)\n",
        "plt.plot(eta_list, train_errors_list, label='train error')\n",
        "plt.plot(eta_list, test_errors_list, label='test error')\n",
        "plt.legend(loc='upper right')\n",
        "plt.show()"
      ],
      "execution_count": 328,
      "outputs": [
        {
          "output_type": "display_data",
          "data": {
            "image/png": "[encoded data removed]",
            "text/plain": [
              "<Figure size 432x288 with 1 Axes>"
            ]
          },
          "metadata": {
            "tags": [],
            "needs_background": "light"
          }
        }
      ]
    }
  ]
}