{
  "nbformat": 4,
  "nbformat_minor": 0,
  "metadata": {
    "colab": {
      "name": "Lessin6_HW.ipynb",
      "provenance": [],
      "authorship_tag": "ABX9TyPvBqdmuX+xqjq9+O4QZ24i",
      "include_colab_link": true
    },
    "kernelspec": {
      "name": "python3",
      "display_name": "Python 3"
    }
  },
  "cells": [
    {
      "cell_type": "markdown",
      "metadata": {
        "id": "view-in-github",
        "colab_type": "text"
      },
      "source": [
        "<a href=\"https://colab.research.google.com/github/vinalyan/diff/blob/master/GeekBrains/algorithms/web6/Lessin6_HW.ipynb\" target=\"_parent\"><img src=\"https://colab.research.google.com/assets/colab-badge.svg\" alt=\"Open In Colab\"/></a>"
      ]
    },
    {
      "cell_type": "markdown",
      "metadata": {
        "id": "g2UMeCcw2XaB"
      },
      "source": [
        "Используя файл Lesson_6_extended.ipynb (он в web6.zip в материалах)::\n",
        "\n"
      ]
    },
    {
      "cell_type": "markdown",
      "metadata": {
        "id": "xkEb0f_14edE"
      },
      "source": [
        "# Реализация алгоритма градиентрого бустинга из лекции\n"
      ]
    },
    {
      "cell_type": "code",
      "metadata": {
        "id": "nFaFTz9y6EmL"
      },
      "source": [
        "from sklearn import model_selection\n",
        "from sklearn.tree import DecisionTreeRegressor\n",
        "from sklearn.datasets import make_regression\n",
        "import matplotlib.pyplot as plt\n",
        "import numpy as np\n",
        "from sklearn.metrics import r2_score"
      ],
      "execution_count": 230,
      "outputs": []
    },
    {
      "cell_type": "code",
      "metadata": {
        "id": "xURRnpbA66lt"
      },
      "source": [
        "def gb_predict(X, trees_list, eta):\n",
        "    # Реализуемый алгоритм градиентного бустинга будет инициализироваться нулевыми значениями,\n",
        "    # поэтому все деревья из списка trees_list уже являются дополнительными и при предсказании\n",
        "    # прибавляются с шагом eta\n",
        "    \n",
        "    predictions = np.zeros(X.shape[0])\n",
        "    for i, x in enumerate(X):\n",
        "        prediction = 0\n",
        "        for alg in trees_list:\n",
        "            prediction += eta * alg.predict([x])[0]\n",
        "        predictions[i] = prediction\n",
        "        \n",
        "    predictions = np.array(\n",
        "        [sum([eta * alg.predict([x])[0] for alg in trees_list]) for x in X]\n",
        "    )\n",
        "\n",
        "    return predictions"
      ],
      "execution_count": 231,
      "outputs": []
    },
    {
      "cell_type": "code",
      "metadata": {
        "id": "vcwSyCz666qA"
      },
      "source": [
        "#функция ошибки\n",
        "def mean_squared_error(y_real, prediction):\n",
        "    return (sum((y_real - prediction)**2)) / len(y_real)\n",
        "\n",
        "def residual(y, z):\n",
        "    return - (z - y)"
      ],
      "execution_count": 232,
      "outputs": []
    },
    {
      "cell_type": "code",
      "metadata": {
        "id": "SPeCWp48667J"
      },
      "source": [
        "def gb_fit(n_trees, max_depth, X_train, X_test, y_train, y_test, eta):\n",
        "    \n",
        "    # Деревья будем записывать в список\n",
        "    trees = []\n",
        "       \n",
        "    for i in range(n_trees):\n",
        "        tree = DecisionTreeRegressor(max_depth=max_depth, random_state=42)\n",
        "\n",
        "        # первый алгоритм просто обучаем на выборке и добавляем в список\n",
        "        if len(trees) == 0:\n",
        "            # обучаем первое дерево на обучающей выборке\n",
        "            tree.fit(X_train, y_train)\n",
        "            \n",
        "        else:\n",
        "            # Получим ответы на текущей композиции\n",
        "            target = gb_predict(X_train, trees, eta)\n",
        "            \n",
        "            # алгоритмы начиная со второго обучаем на сдвиг\n",
        "            tree.fit(X_train, residual(y_train, target))\n",
        "            \n",
        "        trees.append(tree)\n",
        "        \n",
        "    return trees #train_errors, test_errors"
      ],
      "execution_count": 233,
      "outputs": []
    },
    {
      "cell_type": "markdown",
      "metadata": {
        "id": "uyzdZBwx6FyK"
      },
      "source": [
        "# Задание 1\n",
        "Для реализованной модели градиентного бустинга построить графики зависимости ошибки от количества деревьев в ансамбле и от максимальной глубины деревьев. Сделать выводы о зависимости ошибки от этих параметров."
      ]
    },
    {
      "cell_type": "code",
      "metadata": {
        "id": "OVLQSWO5PSLd"
      },
      "source": [
        "X, y, coef = make_regression(n_samples=500, n_features=2, n_informative=2, n_targets=1, \n",
        "                                      noise=5, coef=True, random_state=2)"
      ],
      "execution_count": 234,
      "outputs": []
    },
    {
      "cell_type": "code",
      "metadata": {
        "colab": {
          "base_uri": "https://localhost:8080/"
        },
        "id": "nw-B37PHPVlx",
        "outputId": "b5fbe647-2713-4bfe-8ce9-2e44f0365b69"
      },
      "source": [
        "X_train, X_test, y_train, y_test = model_selection.train_test_split(X, y, test_size=0.30, random_state=32)\n",
        "X_train.shape, X_test.shape, y_train.shape, y_test.shape"
      ],
      "execution_count": 235,
      "outputs": [
        {
          "output_type": "execute_result",
          "data": {
            "text/plain": [
              "((350, 2), (150, 2), (350,), (150,))"
            ]
          },
          "metadata": {
            "tags": []
          },
          "execution_count": 235
        }
      ]
    },
    {
      "cell_type": "markdown",
      "metadata": {
        "id": "haFbpoTsH0tZ"
      },
      "source": [
        "## Зависимость от количества деревьев"
      ]
    },
    {
      "cell_type": "code",
      "metadata": {
        "colab": {
          "base_uri": "https://localhost:8080/"
        },
        "id": "WbYMNe44Sbzh",
        "outputId": "dc284faf-0234-48f9-eb9a-a5aedad38a54"
      },
      "source": [
        "# Будем записывать ошибки на обучающей и тестовой выборке на каждой итерации в список\n",
        "train_errors_list = []\n",
        "test_errors_list = []\n",
        "eta = 1\n",
        "max_depth = 5\n",
        "\n",
        "num_trees = [1, 5, 10, 30, 50]\n",
        "eta, max_depth, train_errors_list, test_errors_list"
      ],
      "execution_count": 236,
      "outputs": [
        {
          "output_type": "execute_result",
          "data": {
            "text/plain": [
              "(1, 5, [], [])"
            ]
          },
          "metadata": {
            "tags": []
          },
          "execution_count": 236
        }
      ]
    },
    {
      "cell_type": "code",
      "metadata": {
        "colab": {
          "base_uri": "https://localhost:8080/"
        },
        "id": "Lo7vS5jRSo6e",
        "outputId": "10976cdd-e8bb-4bb6-be16-e591f20c728f"
      },
      "source": [
        "for n_trees in num_trees:\n",
        "  trees = gb_fit(n_trees, max_depth, X_train, X_test, y_train, y_test, eta)\n",
        "\n",
        "  train_error = mean_squared_error(y_train, gb_predict(X_train, trees, eta))\n",
        "  test_errors = mean_squared_error(y_test, gb_predict(X_test, trees, eta))\n",
        "  train_errors_list.append(train_error)\n",
        "  test_errors_list.append(test_errors)\n",
        "  print(f'Кол-во деревьев: {n_trees}, Глубина: {max_depth}, Шаг: {eta}, Ошибка на обуч: {train_error: .3f}, Ошибка на тестовой: {test_errors: .3f}, R2: {r2_score(y_test, gb_predict(X_test, trees, eta)): .3f}')"
      ],
      "execution_count": 237,
      "outputs": [
        {
          "output_type": "stream",
          "text": [
            "Кол-во деревьев: 1, Глубина: 5, Шаг: 1, Ошибка на обуч:  648.294, Ошибка на тестовой:  1589.420, R2:  0.877\n",
            "Кол-во деревьев: 5, Глубина: 5, Шаг: 1, Ошибка на обуч:  117.695, Ошибка на тестовой:  720.751, R2:  0.944\n",
            "Кол-во деревьев: 10, Глубина: 5, Шаг: 1, Ошибка на обуч:  47.544, Ошибка на тестовой:  781.514, R2:  0.940\n",
            "Кол-во деревьев: 30, Глубина: 5, Шаг: 1, Ошибка на обуч:  0.498, Ошибка на тестовой:  772.845, R2:  0.940\n",
            "Кол-во деревьев: 50, Глубина: 5, Шаг: 1, Ошибка на обуч:  0.005, Ошибка на тестовой:  779.934, R2:  0.940\n"
          ],
          "name": "stdout"
        }
      ]
    },
    {
      "cell_type": "code",
      "metadata": {
        "colab": {
          "base_uri": "https://localhost:8080/",
          "height": 279
        },
        "id": "ETSgSgsFX-Uz",
        "outputId": "70381ae0-2796-44a6-f931-342be81f4dc4"
      },
      "source": [
        "plt.xlabel('Количество деревьев')\n",
        "plt.ylabel('Ошибка')\n",
        "plt.plot(num_trees, train_errors_list, label='train error')\n",
        "plt.plot(num_trees, test_errors_list, label='test error')\n",
        "plt.legend(loc='upper right')\n",
        "plt.show()"
      ],
      "execution_count": 238,
      "outputs": [
        {
          "output_type": "display_data",
          "data": {
            "image/png": "[encoded data removed]",
            "text/plain": [
              "<Figure size 432x288 with 1 Axes>"
            ]
          },
          "metadata": {
            "tags": [],
            "needs_background": "light"
          }
        }
      ]
    },
    {
      "cell_type": "markdown",
      "metadata": {
        "id": "SEUiK5VIbe3F"
      },
      "source": [
        "Переобучение начинается где-то между пятью и десятью деревьями"
      ]
    },
    {
      "cell_type": "code",
      "metadata": {
        "colab": {
          "base_uri": "https://localhost:8080/"
        },
        "id": "aT6R81HcVuUE",
        "outputId": "57b04a73-75f5-4972-84c2-a047c8e37db5"
      },
      "source": [
        "#Проверим руками\n",
        "%time\n",
        "n_trees = 5\n",
        "max_depth = 5\n",
        "eta = 1\n",
        "trees = gb_fit(n_trees, max_depth, X_train, X_test, y_train, y_test, eta)\n",
        "\n",
        "train_error = mean_squared_error(y_train, gb_predict(X_train, trees, eta))\n",
        "test_errors = mean_squared_error(y_test, gb_predict(X_test, trees, eta))\n",
        "\n",
        "print(f'Кол-во деревьев: {n_trees}, Глубина: {max_depth}, Шаг: {eta}, Ошибка на обуч: {train_error: .3f}, Ошибка на тестовой: {test_errors: .3f}, R2: {r2_score(y_test, gb_predict(X_test, trees, eta)):.3f}')"
      ],
      "execution_count": 239,
      "outputs": [
        {
          "output_type": "stream",
          "text": [
            "CPU times: user 4 µs, sys: 0 ns, total: 4 µs\n",
            "Wall time: 7.63 µs\n",
            "Кол-во деревьев: 5, Глубина: 5, Шаг: 1, Ошибка на обуч:  117.695, Ошибка на тестовой:  720.751, R2: 0.944\n"
          ],
          "name": "stdout"
        }
      ]
    },
    {
      "cell_type": "code",
      "metadata": {
        "colab": {
          "base_uri": "https://localhost:8080/"
        },
        "id": "5rSbJcCKbvLk",
        "outputId": "eb8b63b7-5d04-4ef6-e7b1-0523f0f3f73c"
      },
      "source": [
        "#Проверим руками\n",
        "%time\n",
        "n_trees = 6\n",
        "max_depth = 5\n",
        "eta = 1\n",
        "trees = gb_fit(n_trees, max_depth, X_train, X_test, y_train, y_test, eta)\n",
        "\n",
        "train_error = mean_squared_error(y_train, gb_predict(X_train, trees, eta))\n",
        "test_errors = mean_squared_error(y_test, gb_predict(X_test, trees, eta))\n",
        "\n",
        "print(f'Кол-во деревьев: {n_trees}, Глубина: {max_depth}, Шаг: {eta}, Ошибка на обуч: {train_error: .3f}, Ошибка на тестовой: {test_errors: .3f}, R2: {r2_score(y_test, gb_predict(X_test, trees, eta)):.3f}')"
      ],
      "execution_count": 240,
      "outputs": [
        {
          "output_type": "stream",
          "text": [
            "CPU times: user 4 µs, sys: 0 ns, total: 4 µs\n",
            "Wall time: 8.58 µs\n",
            "Кол-во деревьев: 6, Глубина: 5, Шаг: 1, Ошибка на обуч:  100.071, Ошибка на тестовой:  742.163, R2: 0.943\n"
          ],
          "name": "stdout"
        }
      ]
    },
    {
      "cell_type": "markdown",
      "metadata": {
        "id": "tguk_ou1yIHS"
      },
      "source": [
        "Похоже, что на для наших данных лучше всего показывает себя лес из 5 деревьев.\n",
        "Начиная с 6 деревьев ошибка на обучаюшей выборке продолжает падать, а на тестовой повышаться.\n",
        "Думаю, что это ведет к переобучению.\n",
        "\n"
      ]
    },
    {
      "cell_type": "markdown",
      "metadata": {
        "id": "FCPecnJlH8xo"
      },
      "source": [
        "## Зависимость от губины"
      ]
    },
    {
      "cell_type": "markdown",
      "metadata": {
        "id": "_zIWyfujUh4d"
      },
      "source": [
        "Проверим как влияет глубина.\n",
        "Проверять будем на пяти деревьях, так как такой лес показал себя луяче всего в предыдущей проверке"
      ]
    },
    {
      "cell_type": "code",
      "metadata": {
        "colab": {
          "base_uri": "https://localhost:8080/"
        },
        "id": "rsMNuMhYZoGM",
        "outputId": "7600ef9c-ceab-474b-ec27-8ed4988fce79"
      },
      "source": [
        "train_errors_list.clear()\n",
        "test_errors_list.clear()\n",
        "\n",
        "eta = 1\n",
        "n_trees = 5\n",
        "max_depth_list = [1, 5, 7,8,9,10]\n",
        "eta, train_errors_list, test_errors_list"
      ],
      "execution_count": 241,
      "outputs": [
        {
          "output_type": "execute_result",
          "data": {
            "text/plain": [
              "(1, [], [])"
            ]
          },
          "metadata": {
            "tags": []
          },
          "execution_count": 241
        }
      ]
    },
    {
      "cell_type": "code",
      "metadata": {
        "colab": {
          "base_uri": "https://localhost:8080/"
        },
        "id": "dhBVbRz3fKjF",
        "outputId": "eec63745-4810-408c-e029-ced77229be29"
      },
      "source": [
        "for max_depth in max_depth_list:\n",
        "  trees = gb_fit(n_trees, max_depth, X_train, X_test, y_train, y_test, eta)\n",
        "  train_error = mean_squared_error(y_train, gb_predict(X_train, trees, eta))\n",
        "  test_errors = mean_squared_error(y_test, gb_predict(X_test, trees, eta))\n",
        "  train_errors_list.append(train_error)\n",
        "  test_errors_list.append(test_errors)\n",
        "  print(f'Кол-во деревьев: {n_trees}, Глубина: {max_depth}, Шаг: {eta}, Ошибка на обуч: {train_error: .3f}, Ошибка на тестовой: {test_errors: .3f}, R2: {r2_score(y_test, gb_predict(X_test, trees, eta)): .3f}')"
      ],
      "execution_count": 242,
      "outputs": [
        {
          "output_type": "stream",
          "text": [
            "Кол-во деревьев: 5, Глубина: 1, Шаг: 1, Ошибка на обуч:  2399.598, Ошибка на тестовой:  2915.442, R2:  0.775\n",
            "Кол-во деревьев: 5, Глубина: 5, Шаг: 1, Ошибка на обуч:  117.695, Ошибка на тестовой:  720.751, R2:  0.944\n",
            "Кол-во деревьев: 5, Глубина: 7, Шаг: 1, Ошибка на обуч:  14.540, Ошибка на тестовой:  602.655, R2:  0.953\n",
            "Кол-во деревьев: 5, Глубина: 8, Шаг: 1, Ошибка на обуч:  1.394, Ошибка на тестовой:  657.563, R2:  0.949\n",
            "Кол-во деревьев: 5, Глубина: 9, Шаг: 1, Ошибка на обуч:  0.487, Ошибка на тестовой:  641.026, R2:  0.951\n",
            "Кол-во деревьев: 5, Глубина: 10, Шаг: 1, Ошибка на обуч:  0.000, Ошибка на тестовой:  655.146, R2:  0.949\n"
          ],
          "name": "stdout"
        }
      ]
    },
    {
      "cell_type": "code",
      "metadata": {
        "colab": {
          "base_uri": "https://localhost:8080/",
          "height": 279
        },
        "id": "5mTK-8vFeWVq",
        "outputId": "5f34239d-2082-45b6-ee69-84593c7328f2"
      },
      "source": [
        "plt.xlabel('Глубина')\n",
        "plt.ylabel('Ошибка')\n",
        "#plt.xlim(0, n_trees)\n",
        "plt.plot(max_depth_list, train_errors_list, label='train error')\n",
        "plt.plot(max_depth_list, test_errors_list, label='test error')\n",
        "plt.legend(loc='upper right')\n",
        "plt.show()"
      ],
      "execution_count": 243,
      "outputs": [
        {
          "output_type": "display_data",
          "data": {
            "image/png": "[encoded data removed]",
            "text/plain": [
              "<Figure size 432x288 with 1 Axes>"
            ]
          },
          "metadata": {
            "tags": [],
            "needs_background": "light"
          }
        }
      ]
    },
    {
      "cell_type": "markdown",
      "metadata": {
        "id": "PuLX-4xyU4WI"
      },
      "source": [
        "Похоже, что для наших данных лучше всего подходит 5 деревьев и глубина 7.\n",
        "Дальше начинается переобучение."
      ]
    },
    {
      "cell_type": "markdown",
      "metadata": {
        "id": "fCMJ1QQyIFKm"
      },
      "source": [
        "## Зависимость от шага"
      ]
    },
    {
      "cell_type": "code",
      "metadata": {
        "colab": {
          "base_uri": "https://localhost:8080/"
        },
        "id": "_pw1UFT4vvao",
        "outputId": "3cb98a6f-149c-4462-9c5a-0e59e4496a96"
      },
      "source": [
        "train_errors_list.clear()\n",
        "test_errors_list.clear()\n",
        "\n",
        "n_trees = 5\n",
        "max_depth = 7\n",
        "\n",
        "eta_list = [0.01, 0.1, 0.5, 0.6, 0.7, 0.8, 1]\n",
        "max_depth, train_errors_list, test_errors_list"
      ],
      "execution_count": 244,
      "outputs": [
        {
          "output_type": "execute_result",
          "data": {
            "text/plain": [
              "(7, [], [])"
            ]
          },
          "metadata": {
            "tags": []
          },
          "execution_count": 244
        }
      ]
    },
    {
      "cell_type": "code",
      "metadata": {
        "colab": {
          "base_uri": "https://localhost:8080/"
        },
        "id": "yimLzY-Fzzuw",
        "outputId": "f97dee55-5065-48f1-d8b8-4d280e7af24e"
      },
      "source": [
        "for eta in eta_list:\n",
        "  trees = gb_fit(n_trees, max_depth, X_train, X_test, y_train, y_test, eta)\n",
        "  train_error = mean_squared_error(y_train, gb_predict(X_train, trees, eta))\n",
        "  test_errors = mean_squared_error(y_test, gb_predict(X_test, trees, eta))\n",
        "  train_errors_list.append(train_error)\n",
        "  test_errors_list.append(test_errors)\n",
        "  print(f'Кол-во деревьев: {n_trees}, Глубина: {max_depth}, Шаг: {eta}, Ошибка на обуч: {train_error: .3f}, Ошибка на тестовой: {test_errors: .3f}, R2: {r2_score(y_test, gb_predict(X_test, trees, eta)): .3f}')"
      ],
      "execution_count": 245,
      "outputs": [
        {
          "output_type": "stream",
          "text": [
            "Кол-во деревьев: 5, Глубина: 7, Шаг: 0.01, Ошибка на обуч:  11852.654, Ошибка на тестовой:  12019.607, R2:  0.072\n",
            "Кол-во деревьев: 5, Глубина: 7, Шаг: 0.1, Ошибка на обуч:  4616.662, Ошибка на тестовой:  5279.074, R2:  0.593\n",
            "Кол-во деревьев: 5, Глубина: 7, Шаг: 0.5, Ошибка на обуч:  20.518, Ошибка на тестовой:  412.071, R2:  0.968\n",
            "Кол-во деревьев: 5, Глубина: 7, Шаг: 0.6, Ошибка на обуч:  6.956, Ошибка на тестовой:  374.474, R2:  0.971\n",
            "Кол-во деревьев: 5, Глубина: 7, Шаг: 0.7, Ошибка на обуч:  6.440, Ошибка на тестовой:  395.722, R2:  0.969\n",
            "Кол-во деревьев: 5, Глубина: 7, Шаг: 0.8, Ошибка на обуч:  7.254, Ошибка на тестовой:  484.237, R2:  0.963\n",
            "Кол-во деревьев: 5, Глубина: 7, Шаг: 1, Ошибка на обуч:  14.540, Ошибка на тестовой:  602.655, R2:  0.953\n"
          ],
          "name": "stdout"
        }
      ]
    },
    {
      "cell_type": "code",
      "metadata": {
        "colab": {
          "base_uri": "https://localhost:8080/",
          "height": 279
        },
        "id": "ALL37YlL0pu1",
        "outputId": "29d07856-afde-47ab-d88b-9ed06d37a3e0"
      },
      "source": [
        "plt.xlabel('Шаг')\n",
        "plt.ylabel('Ошибка')\n",
        "#plt.xlim(0, n_trees)\n",
        "plt.plot(eta_list, train_errors_list, label='train error')\n",
        "plt.plot(eta_list, test_errors_list, label='test error')\n",
        "plt.legend(loc='upper right')\n",
        "plt.show()"
      ],
      "execution_count": 246,
      "outputs": [
        {
          "output_type": "display_data",
          "data": {
            "image/png": "[encoded data removed]",
            "text/plain": [
              "<Figure size 432x288 with 1 Axes>"
            ]
          },
          "metadata": {
            "tags": [],
            "needs_background": "light"
          }
        }
      ]
    },
    {
      "cell_type": "markdown",
      "metadata": {
        "id": "wO-OMFOQfVKL"
      },
      "source": [
        "Ну тут уже лучший вариант шаг = 0.6, при прочих равных"
      ]
    },
    {
      "cell_type": "markdown",
      "metadata": {
        "id": "3ewIe3XMdWDv"
      },
      "source": [
        "## Выводы\n",
        "Как именно влияют показатели я, честно говоря не очень понял, но понял, что их надо тонко настраивать.\n",
        "И они явно сильно зависят один от другого.\n",
        "\n",
        "Лучший вариант, который у меня получился\n",
        "* Кол-во деревьев: 5 \n",
        "* Глубина: 7\n",
        "* Шаг: 0.6\n",
        "* Ошибка на обуч: 6.956\n",
        "* Ошибка на тестовой:  374.474\n",
        "* R2:  0.971\n"
      ]
    },
    {
      "cell_type": "markdown",
      "metadata": {
        "id": "JsaaoYnTkPHQ"
      },
      "source": [
        "# Задание №2. * \n",
        "Модифицировать реализованный алгоритм градиентного бустинга, чтобы получился стохастический градиентный бустинг. \n",
        "Размер подвыборки принять равным 0.5. Сравнить на одном графике кривые изменения ошибки на тестовой выборке в зависимости от числа итераций."
      ]
    },
    {
      "cell_type": "code",
      "metadata": {
        "id": "rrcSaq0HkUxX"
      },
      "source": [
        "def gbs_fit(n_trees, max_depth, X_train, X_test, y_train, y_test, eta):\n",
        "    \n",
        "    # Деревья будем записывать в список\n",
        "    trees = []\n",
        "    \n",
        "    #-----ТУТ РЕЖЕМ ВЫБОРКУ ПОПОЛАМ----------\n",
        "    idx_train = np.random.randint(X_train.shape[0], size = X_train.shape[0] // 2)\n",
        "    X_train_tmp = X_train[idx_train].copy()\n",
        "    y_train_tmp = y_train[idx_train].copy()\n",
        "\n",
        "    #-------ТУТ ЗАКАНЧИВАЕМ------------------------\n",
        "\n",
        "    # Будем записывать ошибки на обучающей и тестовой выборке на каждой итерации в список\n",
        "    train_errors = []\n",
        "    test_errors = []\n",
        "\n",
        "    for i in range(n_trees):\n",
        "        tree = DecisionTreeRegressor(max_depth=max_depth, random_state=42)\n",
        "\n",
        "        # первый алгоритм просто обучаем на выборке и добавляем в список\n",
        "        if len(trees) == 0:\n",
        "            # обучаем первое дерево на половине выборки\n",
        "            tree.fit(X_train_tmp, y_train_tmp)\n",
        "\n",
        "            train_errors.append(mean_squared_error(y_train, gb_predict(X_train, trees, eta)))\n",
        "            test_errors.append(mean_squared_error(y_test, gb_predict(X_test, trees, eta)))\n",
        "\n",
        "        else:\n",
        "            # Получим ответы на текущей композиции\n",
        "            target = gb_predict(X_train_tmp, trees, eta)\n",
        "            \n",
        "            # алгоритмы начиная со второго обучаем на сдвиг\n",
        "            tree.fit(X_train_tmp, residual(y_train_tmp, target))\n",
        "\n",
        "            train_errors.append(mean_squared_error(y_train, gb_predict(X_train, trees, eta)))\n",
        "            test_errors.append(mean_squared_error(y_test, gb_predict(X_test, trees, eta)))\n",
        "            \n",
        "        trees.append(tree)\n",
        "        \n",
        "    return trees, train_errors, test_errors"
      ],
      "execution_count": 258,
      "outputs": []
    },
    {
      "cell_type": "code",
      "metadata": {
        "id": "XmyXjZeglx7U",
        "outputId": "1f7f72b4-f9f6-45a2-d220-bf19874bb72d",
        "colab": {
          "base_uri": "https://localhost:8080/"
        }
      },
      "source": [
        "#Проверим руками\n",
        "%time\n",
        "n_trees = 6\n",
        "max_depth = 7\n",
        "eta = 0.6\n",
        "trees,train_err, test_err = gbs_fit(n_trees, max_depth, X_train, X_test, y_train, y_test, eta)\n",
        "\n",
        "train_error = mean_squared_error(y_train, gb_predict(X_train, trees, eta))\n",
        "test_errors = mean_squared_error(y_test, gb_predict(X_test, trees, eta))\n",
        "\n",
        "print(f'Кол-во деревьев: {n_trees}, Глубина: {max_depth}, Шаг: {eta}, Ошибка на обуч: {train_error: .3f}, Ошибка на тестовой: {test_errors: .3f}, R2: {r2_score(y_test, gb_predict(X_test, trees, eta)):.3f}')"
      ],
      "execution_count": 260,
      "outputs": [
        {
          "output_type": "stream",
          "text": [
            "CPU times: user 3 µs, sys: 0 ns, total: 3 µs\n",
            "Wall time: 5.48 µs\n",
            "Кол-во деревьев: 6, Глубина: 7, Шаг: 0.6, Ошибка на обуч:  568.869, Ошибка на тестовой:  1132.801, R2: 0.913\n"
          ],
          "name": "stdout"
        }
      ]
    },
    {
      "cell_type": "code",
      "metadata": {
        "id": "JbAM4yUjnG13",
        "outputId": "e5d51acc-7207-42e5-aaa9-32318cf372c9",
        "colab": {
          "base_uri": "https://localhost:8080/",
          "height": 279
        }
      },
      "source": [
        "def get_error_plot(n_trees, train_err, test_err):\n",
        "    plt.xlabel('Iteration number')\n",
        "    plt.ylabel('MSE')\n",
        "    plt.xlim(0, n_trees)\n",
        "    plt.plot(list(range(n_trees)), train_err, label='train error')\n",
        "    plt.plot(list(range(n_trees)), test_err, label='test error')\n",
        "    plt.legend(loc='upper right')\n",
        "    plt.show()\n",
        "get_error_plot(n_trees, train_err, test_err)"
      ],
      "execution_count": 261,
      "outputs": [
        {
          "output_type": "display_data",
          "data": {
            "image/png": "[encoded data removed]",
            "text/plain": [
              "<Figure size 432x288 with 1 Axes>"
            ]
          },
          "metadata": {
            "tags": [],
            "needs_background": "light"
          }
        }
      ]
    },
    {
      "cell_type": "markdown",
      "metadata": {
        "id": "fkfNFQR1pKAd"
      },
      "source": [
        "При условиях:\n",
        "* Кол-во деревьев: 5 \n",
        "* Глубина: 7\n",
        "* Шаг: 0.6\n",
        "\n",
        "Результат градиентного бустинга\n",
        "* Ошибка на обуч: 6.956\n",
        "* Ошибка на тестовой:  374.474\n",
        "* R2:  0.971\n",
        "\n",
        "\n",
        "Результат стахостичесого градиентного бустинга\n",
        "* Ошибка на обуч:  718.683, \n",
        "* Ошибка на тестовой:  1202.202, \n",
        "* R2: 0.907\n",
        "\n",
        "При прочих равных результаты сильно разнятся. \n",
        "\n",
        "Варианат два:\n",
        "1. ошибка в реализации\n",
        "2. для стахостического бустинга надо отдельно подбирать параметры\n",
        "\n",
        "Время работы на сравнивал, так как для ускорения работы функции `gb_predict` удалил из нее рассчет ошибки на каждой итерации.\n",
        "\n",
        "При этом чисто теоретически стахостический должен работать быстрее."
      ]
    }
  ]
}