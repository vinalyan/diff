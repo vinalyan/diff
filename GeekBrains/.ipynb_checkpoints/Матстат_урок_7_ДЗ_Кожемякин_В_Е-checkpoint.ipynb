{
  "nbformat": 4,
  "nbformat_minor": 0,
  "metadata": {
    "kernelspec": {
      "display_name": "Python 3",
      "language": "python",
      "name": "python3"
    },
    "language_info": {
      "codemirror_mode": {
        "name": "ipython",
        "version": 3
      },
      "file_extension": ".py",
      "mimetype": "text/x-python",
      "name": "python",
      "nbconvert_exporter": "python",
      "pygments_lexer": "ipython3",
      "version": "3.8.3"
    },
    "colab": {
      "name": "Матстат_урок_7_ДЗ_Кожемякин_В_Е-checkpoint.ipynb",
      "provenance": []
    }
  },
  "cells": [
    {
      "cell_type": "markdown",
      "metadata": {
        "id": "K9h_sJmNuUo_"
      },
      "source": [
        "\n",
        "\n",
        "2.Посчитать коэффициент линейной регрессии при заработной плате (zp), используя градиентный спуск (без intercept).\n",
        "\n",
        "\n",
        "3.В каких случаях для вычисления доверительных интервалов и проверки статистических гипотез используется таблица значений функции Лапласа, а в каких - таблица критических точек распределения Стьюдента? \n",
        "\n",
        "*4. Произвести вычисления как в пункте 2, но с вычислением intercept. Учесть, что изменение коэффициентов должно производиться на каждом шаге одновременно (то есть изменение одного коэффициента не должно влиять на изменение другого во время одной итерации)."
      ]
    },
    {
      "cell_type": "markdown",
      "metadata": {
        "id": "dOM1SkF-uUpB"
      },
      "source": [
        "# Настройки"
      ]
    },
    {
      "cell_type": "code",
      "metadata": {
        "id": "kOK6L8hguUpC"
      },
      "source": [
        "import numpy as np\n",
        "import matplotlib.pyplot as plt\n",
        "\n"
      ],
      "execution_count": 1,
      "outputs": []
    },
    {
      "cell_type": "markdown",
      "metadata": {
        "id": "L_HYmXbIuUpI"
      },
      "source": [
        "# Задание №1\n",
        "Даны значения величины заработной платы заемщиков банка (zp) и значения их поведенческого кредитного скоринга (ks): zp = [35, 45, 190, 200, 40, 70, 54, 150, 120, 110], ks = [401, 574, 874, 919, 459, 739, 653, 902, 746, 832]. Используя математические операции, посчитать коэффициенты линейной регрессии, приняв за X заработную плату (то есть, zp - признак), а за y - значения скорингового балла (то есть, ks - целевая переменная). Произвести расчет как с использованием intercept, так и без."
      ]
    },
    {
      "cell_type": "markdown",
      "metadata": {
        "id": "3p7xG9icuyNc"
      },
      "source": [
        "##Решение\n"
      ]
    },
    {
      "cell_type": "markdown",
      "metadata": {
        "id": "gZtbLseou8OQ"
      },
      "source": [
        "### Расчет методом линейных квадратов\n",
        "Предположим, что зависимость скоринга от заработной платы описывается следующей формулой:\n",
        "$$y = a + bx$$\n",
        "где:"
      ]
    },
    {
      "cell_type": "markdown",
      "metadata": {
        "id": "eP7TFKCCuUpJ"
      },
      "source": [
        "\n",
        "$$b = \\frac{\\overline{yx} - \\overline{y} \\cdot {\\overline{x}}}{\\overline{x^2} - (\\overline{x})^2};$$\n",
        "$$a = \\overline{y} - b \\cdot {\\overline{x}}.$$"
      ]
    },
    {
      "cell_type": "code",
      "metadata": {
        "id": "zuXerKxVuUpK"
      },
      "source": [
        "\n",
        "x = np.array([35, 45, 190, 200, 40, 70, 54, 150, 120, 110], dtype=np.float64)\n",
        "y = np.array([401, 574, 874, 919, 459, 739, 653, 902, 746, 832], dtype= np.float64)"
      ],
      "execution_count": 3,
      "outputs": []
    },
    {
      "cell_type": "code",
      "metadata": {
        "id": "-v8yBRuOuUpY",
        "outputId": "05556f64-c04d-4383-c3f0-80a864c6566f",
        "colab": {
          "base_uri": "https://localhost:8080/",
          "height": 34
        }
      },
      "source": [
        "b = (np.mean(y * x) - np.mean(x) * np.mean(y)) / (np.mean(x**2) - np.mean(x) ** 2)\n",
        "b"
      ],
      "execution_count": 4,
      "outputs": [
        {
          "output_type": "execute_result",
          "data": {
            "text/plain": [
              "2.620538882402765"
            ]
          },
          "metadata": {
            "tags": []
          },
          "execution_count": 4
        }
      ]
    },
    {
      "cell_type": "code",
      "metadata": {
        "id": "S9uftbLBuUpc",
        "outputId": "dfbae9a4-5f79-4f81-9376-8cfc0ab9c241",
        "colab": {
          "base_uri": "https://localhost:8080/",
          "height": 34
        }
      },
      "source": [
        "a = np.mean(y) - b*np.mean(x)\n",
        "a"
      ],
      "execution_count": 5,
      "outputs": [
        {
          "output_type": "execute_result",
          "data": {
            "text/plain": [
              "444.1773573243596"
            ]
          },
          "metadata": {
            "tags": []
          },
          "execution_count": 5
        }
      ]
    },
    {
      "cell_type": "markdown",
      "metadata": {
        "id": "8Cgj9GcOuUph"
      },
      "source": [
        "Тогда математическая зависимость скоррига имеет следующи вид\n",
        "$$y = 444.2 + 2.62 \\cdot x$$"
      ]
    },
    {
      "cell_type": "code",
      "metadata": {
        "id": "iGZwD4ITuUpm",
        "outputId": "affc10af-5e02-47f1-b750-4b4ed3a6c36f",
        "colab": {
          "base_uri": "https://localhost:8080/",
          "height": 68
        }
      },
      "source": [
        "# \n",
        "y_pred= a + b*x\n",
        "y_pred"
      ],
      "execution_count": 6,
      "outputs": [
        {
          "output_type": "execute_result",
          "data": {
            "text/plain": [
              "array([535.89621821, 562.10160703, 942.07974498, 968.2851338 ,\n",
              "       548.99891262, 627.61507909, 585.68645697, 837.25818968,\n",
              "       758.64202321, 732.43663439])"
            ]
          },
          "metadata": {
            "tags": []
          },
          "execution_count": 6
        }
      ]
    },
    {
      "cell_type": "code",
      "metadata": {
        "id": "n_sWJIhLuUpp",
        "outputId": "14876482-1158-44f8-e415-029812fab869",
        "colab": {
          "base_uri": "https://localhost:8080/",
          "height": 279
        }
      },
      "source": [
        "plt.scatter(x, y)\n",
        "plt.plot(x, y_pred)\n",
        "plt.xlabel('Заработанная плата заемщиков')\n",
        "plt.ylabel('Кредитный скоринг')\n",
        "plt.show()"
      ],
      "execution_count": 7,
      "outputs": [
        {
          "output_type": "display_data",
          "data": {
            "image/png": "[encoded data removed]",
            "text/plain": [
              "<Figure size 432x288 with 1 Axes>"
            ]
          },
          "metadata": {
            "tags": [],
            "needs_background": "light"
          }
        }
      ]
    },
    {
      "cell_type": "code",
      "metadata": {
        "id": "VIzOJGRkuUpr",
        "outputId": "a50e1fe5-a251-4cca-d00c-8294457d0c15"
      },
      "source": [
        "r = b * np.std(x) / np.std(y)\n",
        "r"
      ],
      "execution_count": null,
      "outputs": [
        {
          "output_type": "execute_result",
          "data": {
            "text/plain": [
              "0.8874900920739162"
            ]
          },
          "metadata": {
            "tags": []
          },
          "execution_count": 141
        }
      ]
    },
    {
      "cell_type": "markdown",
      "metadata": {
        "id": "C_ste13MuUqB"
      },
      "source": [
        "## Расчет через матрицы"
      ]
    },
    {
      "cell_type": "code",
      "metadata": {
        "id": "sn9DDsI9uUqC",
        "outputId": "595adcd5-786f-445f-91c4-988ca38633f2",
        "colab": {
          "base_uri": "https://localhost:8080/",
          "height": 187
        }
      },
      "source": [
        "ym = y.reshape(10,1)\n",
        "ym"
      ],
      "execution_count": 21,
      "outputs": [
        {
          "output_type": "execute_result",
          "data": {
            "text/plain": [
              "array([[401.],\n",
              "       [574.],\n",
              "       [874.],\n",
              "       [919.],\n",
              "       [459.],\n",
              "       [739.],\n",
              "       [653.],\n",
              "       [902.],\n",
              "       [746.],\n",
              "       [832.]])"
            ]
          },
          "metadata": {
            "tags": []
          },
          "execution_count": 21
        }
      ]
    },
    {
      "cell_type": "code",
      "metadata": {
        "id": "BpFWtbLmuUqD",
        "outputId": "a7d5e303-7e49-4d36-b2a0-7cc0d295bc26",
        "colab": {
          "base_uri": "https://localhost:8080/",
          "height": 187
        }
      },
      "source": [
        "xm = x.reshape(10,1)\n",
        "xm"
      ],
      "execution_count": 22,
      "outputs": [
        {
          "output_type": "execute_result",
          "data": {
            "text/plain": [
              "array([[ 35.],\n",
              "       [ 45.],\n",
              "       [190.],\n",
              "       [200.],\n",
              "       [ 40.],\n",
              "       [ 70.],\n",
              "       [ 54.],\n",
              "       [150.],\n",
              "       [120.],\n",
              "       [110.]])"
            ]
          },
          "metadata": {
            "tags": []
          },
          "execution_count": 22
        }
      ]
    },
    {
      "cell_type": "code",
      "metadata": {
        "id": "QU9wkSyouUqG",
        "outputId": "da76cd70-3073-4915-cbc6-176cf269f8d5",
        "colab": {
          "base_uri": "https://localhost:8080/",
          "height": 187
        }
      },
      "source": [
        "xm = np.hstack([np.ones((10,1)),xm])\n",
        "xm"
      ],
      "execution_count": 23,
      "outputs": [
        {
          "output_type": "execute_result",
          "data": {
            "text/plain": [
              "array([[  1.,  35.],\n",
              "       [  1.,  45.],\n",
              "       [  1., 190.],\n",
              "       [  1., 200.],\n",
              "       [  1.,  40.],\n",
              "       [  1.,  70.],\n",
              "       [  1.,  54.],\n",
              "       [  1., 150.],\n",
              "       [  1., 120.],\n",
              "       [  1., 110.]])"
            ]
          },
          "metadata": {
            "tags": []
          },
          "execution_count": 23
        }
      ]
    },
    {
      "cell_type": "code",
      "metadata": {
        "id": "QszHrQrbuUqJ",
        "outputId": "ff6133b3-1ad8-4671-d6f4-dbabc564153e",
        "colab": {
          "base_uri": "https://localhost:8080/",
          "height": 51
        }
      },
      "source": [
        "#тут считаем с интерцептором\n",
        "BM_i = np.dot(np.linalg.inv(np.dot(xm.T,xm)),xm.T@ym)\n",
        "BM_i"
      ],
      "execution_count": 24,
      "outputs": [
        {
          "output_type": "execute_result",
          "data": {
            "text/plain": [
              "array([[444.17735732],\n",
              "       [  2.62053888]])"
            ]
          },
          "metadata": {
            "tags": []
          },
          "execution_count": 24
        }
      ]
    },
    {
      "cell_type": "markdown",
      "metadata": {
        "id": "3XpHePIvuUqL"
      },
      "source": [
        "Похоже на то, что посчиатали выше, но вот если посчтитать без интерцептора, то получится другая цифра"
      ]
    },
    {
      "cell_type": "code",
      "metadata": {
        "id": "yXaD-ObpuUqL",
        "outputId": "5e957f9d-f150-4970-dd52-b644e7faa552",
        "colab": {
          "base_uri": "https://localhost:8080/",
          "height": 34
        }
      },
      "source": [
        "xm = x.reshape(10,1)\n",
        "xm\n",
        "BM = np.dot(np.linalg.inv(np.dot(xm.T,xm)),xm.T@ym)\n",
        "BM"
      ],
      "execution_count": 25,
      "outputs": [
        {
          "output_type": "execute_result",
          "data": {
            "text/plain": [
              "array([[5.88982042]])"
            ]
          },
          "metadata": {
            "tags": []
          },
          "execution_count": 25
        }
      ]
    },
    {
      "cell_type": "code",
      "metadata": {
        "id": "VQf5WECruUqN",
        "outputId": "7a94bb30-b741-4e96-ef50-c88dda5058bf",
        "colab": {
          "base_uri": "https://localhost:8080/",
          "height": 68
        }
      },
      "source": [
        "ym_pred = BM*x\n",
        "ym_pred = ym_pred.reshape(10,)\n",
        "ym_pred"
      ],
      "execution_count": 31,
      "outputs": [
        {
          "output_type": "execute_result",
          "data": {
            "text/plain": [
              "array([ 206.1437147 ,  265.04191891, 1119.06587983, 1177.96408403,\n",
              "        235.59281681,  412.28742941,  318.05030269,  883.47306302,\n",
              "        706.77845042,  647.88024621])"
            ]
          },
          "metadata": {
            "tags": []
          },
          "execution_count": 31
        }
      ]
    },
    {
      "cell_type": "markdown",
      "metadata": {
        "id": "64dmgbYHxjEi"
      },
      "source": [
        "##Ответ\n",
        "Математическая модель скорринга с интерцептором:\n",
        "$$y = 444.2 + 2.62 \\cdot x$$\n",
        "\n",
        "Математическая модель скорринга без интерцептора:\n",
        "$$y = 5.889 \\cdot x$$\n"
      ]
    },
    {
      "cell_type": "code",
      "metadata": {
        "id": "UhrUBjQJuUqQ",
        "outputId": "1085f6e3-01bb-4c8f-c065-d3cccea3a1b1",
        "colab": {
          "base_uri": "https://localhost:8080/",
          "height": 279
        }
      },
      "source": [
        "plt.scatter(x, y)\n",
        "plt.plot(x, y_pred)\n",
        "plt.plot(x, ym_pred)\n",
        "plt.xlabel('Заработанная плата заемщиков')\n",
        "plt.ylabel('Кредитный скоринг')\n",
        "plt.show()"
      ],
      "execution_count": 34,
      "outputs": [
        {
          "output_type": "display_data",
          "data": {
            "image/png": "[encoded data removed]",
            "text/plain": [
              "<Figure size 432x288 with 1 Axes>"
            ]
          },
          "metadata": {
            "tags": [],
            "needs_background": "light"
          }
        }
      ]
    },
    {
      "cell_type": "markdown",
      "metadata": {
        "id": "sRUt5KVRxi4H"
      },
      "source": [
        ""
      ]
    },
    {
      "cell_type": "markdown",
      "metadata": {
        "id": "TjNwo0m3uUqT"
      },
      "source": [
        "# 2 Тут во всю градиентный спуск"
      ]
    },
    {
      "cell_type": "code",
      "metadata": {
        "id": "W7yTLqSRuUqT"
      },
      "source": [
        "def mse_(B1, y=y, x=x, n=10):\n",
        "    return np.sum((B1*x-y)**2 / n)"
      ],
      "execution_count": null,
      "outputs": []
    },
    {
      "cell_type": "code",
      "metadata": {
        "id": "QBd2rdxfuUqV"
      },
      "source": [
        "B1 = 0"
      ],
      "execution_count": null,
      "outputs": []
    },
    {
      "cell_type": "code",
      "metadata": {
        "id": "8UQ8IIrluUqW"
      },
      "source": [
        "alpha = 1e-6"
      ],
      "execution_count": null,
      "outputs": []
    },
    {
      "cell_type": "code",
      "metadata": {
        "id": "X8iNKAKvuUqY",
        "outputId": "a197f173-5e50-46b1-a829-26e90217e33e"
      },
      "source": [
        "B1 = 0.1\n",
        "for i in range(200):\n",
        "    B1 -=alpha*np.sum((B1*x-y)*x)\n",
        "    mse = mse_(B1)\n",
        "    if i%5 == 0:\n",
        "        print('{}: B1 = {}, mse = {}'.format(i, B1, mse))"
      ],
      "execution_count": null,
      "outputs": [
        {
          "output_type": "stream",
          "text": [
            "0: B1 = 0.8976404, mse = 399855.3735371353\n",
            "5: B1 = 3.510702552944429, mse = 134495.19489143853\n",
            "10: B1 = 4.756006774962103, mse = 74227.13760583635\n",
            "15: B1 = 5.349480069742942, mse = 60539.18055245229\n",
            "20: B1 = 5.632311000041535, mse = 57430.39993575823\n",
            "25: B1 = 5.767099432540606, mse = 56724.34008438373\n",
            "30: B1 = 5.831335410961975, mse = 56563.98122501428\n",
            "35: B1 = 5.861948282164993, mse = 56527.56085112073\n",
            "40: B1 = 5.87653742529511, mse = 56519.28913080692\n",
            "45: B1 = 5.88349015755794, mse = 56517.410474724216\n",
            "50: B1 = 5.886803613700461, mse = 56516.98379822366\n",
            "55: B1 = 5.888382703933389, mse = 56516.88689233556\n",
            "60: B1 = 5.889135249268676, mse = 56516.864883269845\n",
            "65: B1 = 5.889493888990367, mse = 56516.85988461615\n",
            "70: B1 = 5.88966480553711, mse = 56516.85874933221\n",
            "75: B1 = 5.88974625905211, mse = 56516.85849148886\n",
            "80: B1 = 5.889785077266216, mse = 56516.858432928006\n",
            "85: B1 = 5.889803576820796, mse = 56516.85841962778\n",
            "90: B1 = 5.88981239313364, mse = 56516.85841660707\n",
            "95: B1 = 5.889816594714378, mse = 56516.858415921\n",
            "100: B1 = 5.889818597057196, mse = 56516.85841576519\n",
            "105: B1 = 5.88981955131156, mse = 56516.8584157298\n",
            "110: B1 = 5.889820006079537, mse = 56516.85841572176\n",
            "115: B1 = 5.889820222807823, mse = 56516.858415719944\n",
            "120: B1 = 5.88982032609379, mse = 56516.85841571953\n",
            "125: B1 = 5.889820375316671, mse = 56516.85841571945\n",
            "130: B1 = 5.889820398774767, mse = 56516.85841571941\n",
            "135: B1 = 5.889820409954167, mse = 56516.8584157194\n",
            "140: B1 = 5.889820415281921, mse = 56516.858415719405\n",
            "145: B1 = 5.889820417820964, mse = 56516.85841571941\n",
            "150: B1 = 5.889820419030992, mse = 56516.858415719405\n",
            "155: B1 = 5.889820419607655, mse = 56516.858415719405\n",
            "160: B1 = 5.889820419882473, mse = 56516.8584157194\n",
            "165: B1 = 5.889820420013444, mse = 56516.85841571941\n",
            "170: B1 = 5.889820420075861, mse = 56516.85841571941\n",
            "175: B1 = 5.889820420105606, mse = 56516.858415719405\n",
            "180: B1 = 5.889820420119782, mse = 56516.8584157194\n",
            "185: B1 = 5.889820420126537, mse = 56516.85841571941\n",
            "190: B1 = 5.889820420129757, mse = 56516.858415719405\n",
            "195: B1 = 5.889820420131292, mse = 56516.85841571941\n"
          ],
          "name": "stdout"
        }
      ]
    },
    {
      "cell_type": "code",
      "metadata": {
        "id": "mHRP4-F2uUqb"
      },
      "source": [
        "B1"
      ],
      "execution_count": null,
      "outputs": []
    },
    {
      "cell_type": "code",
      "metadata": {
        "id": "ELHZZ79guUqd"
      },
      "source": [
        "y_grad = B1*x\n",
        "y_grad"
      ],
      "execution_count": null,
      "outputs": []
    },
    {
      "cell_type": "code",
      "metadata": {
        "id": "6tYKP0RTuUqf"
      },
      "source": [
        "plt.scatter(x, y)\n",
        "plt.plot(x, y_pred_i)\n",
        "plt.plot(x, y_pred)\n",
        "plt.plot(x, y_grad)\n",
        "plt.xlabel('Заработанная плата заемщиков')\n",
        "plt.ylabel('Кредитный скоринг')\n",
        "plt.show()"
      ],
      "execution_count": null,
      "outputs": []
    }
  ]
}