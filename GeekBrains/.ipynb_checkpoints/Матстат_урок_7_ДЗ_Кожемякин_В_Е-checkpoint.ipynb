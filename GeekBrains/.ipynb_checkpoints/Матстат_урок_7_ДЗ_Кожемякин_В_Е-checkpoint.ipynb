{
  "nbformat": 4,
  "nbformat_minor": 0,
  "metadata": {
    "kernelspec": {
      "display_name": "Python 3",
      "language": "python",
      "name": "python3"
    },
    "language_info": {
      "codemirror_mode": {
        "name": "ipython",
        "version": 3
      },
      "file_extension": ".py",
      "mimetype": "text/x-python",
      "name": "python",
      "nbconvert_exporter": "python",
      "pygments_lexer": "ipython3",
      "version": "3.8.3"
    },
    "colab": {
      "name": "Матстат_урок_7_ДЗ_Кожемякин_В_Е-checkpoint.ipynb",
      "provenance": [],
      "include_colab_link": true
    }
  },
  "cells": [
    {
      "cell_type": "markdown",
      "metadata": {
        "id": "view-in-github",
        "colab_type": "text"
      },
      "source": [
        "<a href=\"https://colab.research.google.com/github/vinalyan/diff/blob/master/GeekBrains/.ipynb_checkpoints/%D0%9C%D0%B0%D1%82%D1%81%D1%82%D0%B0%D1%82_%D1%83%D1%80%D0%BE%D0%BA_7_%D0%94%D0%97_%D0%9A%D0%BE%D0%B6%D0%B5%D0%BC%D1%8F%D0%BA%D0%B8%D0%BD_%D0%92_%D0%95-checkpoint.ipynb\" target=\"_parent\"><img src=\"https://colab.research.google.com/assets/colab-badge.svg\" alt=\"Open In Colab\"/></a>"
      ]
    },
    {
      "cell_type": "markdown",
      "metadata": {
        "id": "K9h_sJmNuUo_"
      },
      "source": [
        "Даны значения величины заработной платы заемщиков банка (zp) и значения их поведенческого кредитного скоринга (ks): zp = [35, 45, 190, 200, 40, 70, 54, 150, 120, 110], ks = [401, 574, 874, 919, 459, 739, 653, 902, 746, 832]. Используя математические операции, посчитать коэффициенты линейной регрессии, приняв за X заработную плату (то есть, zp - признак), а за y - значения скорингового балла (то есть, ks - целевая переменная). Произвести расчет как с использованием intercept, так и без.\n",
        "\n",
        "2.Посчитать коэффициент линейной регрессии при заработной плате (zp), используя градиентный спуск (без intercept).\n",
        "\n",
        "\n",
        "3.В каких случаях для вычисления доверительных интервалов и проверки статистических гипотез используется таблица значений функции Лапласа, а в каких - таблица критических точек распределения Стьюдента? \n",
        "\n",
        "*4. Произвести вычисления как в пункте 2, но с вычислением intercept. Учесть, что изменение коэффициентов должно производиться на каждом шаге одновременно (то есть изменение одного коэффициента не должно влиять на изменение другого во время одной итерации)."
      ]
    },
    {
      "cell_type": "markdown",
      "metadata": {
        "id": "dOM1SkF-uUpB"
      },
      "source": [
        "# Настройкий"
      ]
    },
    {
      "cell_type": "code",
      "metadata": {
        "id": "kOK6L8hguUpC"
      },
      "source": [
        "import numpy as np\n",
        "import matplotlib.pyplot as plt\n",
        "\n"
      ],
      "execution_count": null,
      "outputs": []
    },
    {
      "cell_type": "markdown",
      "metadata": {
        "id": "L_HYmXbIuUpI"
      },
      "source": [
        "# Задание №1\n"
      ]
    },
    {
      "cell_type": "markdown",
      "metadata": {
        "id": "eP7TFKCCuUpJ"
      },
      "source": [
        "$$b = \\frac{\\overline{yx} - \\overline{y} \\cdot {\\overline{x}}}{\\overline{x^2} - (\\overline{x})^2};$$\n",
        "$$a = \\overline{y} - b \\cdot {\\overline{x}}.$$"
      ]
    },
    {
      "cell_type": "code",
      "metadata": {
        "id": "zuXerKxVuUpK"
      },
      "source": [
        "\n",
        "x = np.array([35, 45, 190, 200, 40, 70, 54, 150, 120, 110], dtype=np.float64)\n",
        "y = np.array([401, 574, 874, 919, 459, 739, 653, 902, 746, 832], dtype= np.float64)"
      ],
      "execution_count": null,
      "outputs": []
    },
    {
      "cell_type": "code",
      "metadata": {
        "id": "_11EZ-RsuUpP",
        "outputId": "d6eca657-6d98-4a99-808e-dba977eb20f5"
      },
      "source": [
        "x.mean()"
      ],
      "execution_count": null,
      "outputs": [
        {
          "output_type": "execute_result",
          "data": {
            "text/plain": [
              "101.4"
            ]
          },
          "metadata": {
            "tags": []
          },
          "execution_count": 138
        }
      ]
    },
    {
      "cell_type": "code",
      "metadata": {
        "id": "UJs19nUhuUpU",
        "outputId": "2c737d7c-fb49-4936-b659-ad0af14e2956"
      },
      "source": [
        "x.sum()/10"
      ],
      "execution_count": null,
      "outputs": [
        {
          "output_type": "execute_result",
          "data": {
            "text/plain": [
              "101.4"
            ]
          },
          "metadata": {
            "tags": []
          },
          "execution_count": 140
        }
      ]
    },
    {
      "cell_type": "code",
      "metadata": {
        "id": "-v8yBRuOuUpY",
        "outputId": "4a960c01-ef0a-432f-ef2c-7b144446d0f6"
      },
      "source": [
        "b = (np.mean(y * x) - np.mean(x) * np.mean(y)) / (np.mean(x**2) - np.mean(x) ** 2)\n",
        "b"
      ],
      "execution_count": null,
      "outputs": [
        {
          "output_type": "execute_result",
          "data": {
            "text/plain": [
              "2.620538882402765"
            ]
          },
          "metadata": {
            "tags": []
          },
          "execution_count": 79
        }
      ]
    },
    {
      "cell_type": "code",
      "metadata": {
        "id": "S9uftbLBuUpc",
        "outputId": "1142246f-0e39-43a7-d0e5-31bab42f4b9a"
      },
      "source": [
        "a = np.mean(y) - b*np.mean(x)\n",
        "a"
      ],
      "execution_count": null,
      "outputs": [
        {
          "output_type": "execute_result",
          "data": {
            "text/plain": [
              "444.1773573243596"
            ]
          },
          "metadata": {
            "tags": []
          },
          "execution_count": 80
        }
      ]
    },
    {
      "cell_type": "markdown",
      "metadata": {
        "id": "8Cgj9GcOuUph"
      },
      "source": [
        "$$y = 444.2 + 2.62 \\cdot x$$"
      ]
    },
    {
      "cell_type": "code",
      "metadata": {
        "id": "BiXDaB8muUpi",
        "outputId": "51cac09f-1494-434f-c634-e52ef1f4e1cd"
      },
      "source": [
        "# рассчет коэффициентов с интерцептом\n",
        "y_pred_i= a + b*x\n",
        "y_pred_i"
      ],
      "execution_count": null,
      "outputs": [
        {
          "output_type": "execute_result",
          "data": {
            "text/plain": [
              "array([535.89621821, 562.10160703, 942.07974498, 968.2851338 ,\n",
              "       548.99891262, 627.61507909, 585.68645697, 837.25818968,\n",
              "       758.64202321, 732.43663439])"
            ]
          },
          "metadata": {
            "tags": []
          },
          "execution_count": 81
        }
      ]
    },
    {
      "cell_type": "code",
      "metadata": {
        "id": "iGZwD4ITuUpm",
        "outputId": "f59fa5c4-dcb3-4f5f-9bf3-f807cb58f6bc"
      },
      "source": [
        "# рассчет коэффициентов без интерцепта\n",
        "y_pred= b*x\n",
        "y_pred"
      ],
      "execution_count": null,
      "outputs": [
        {
          "output_type": "execute_result",
          "data": {
            "text/plain": [
              "array([ 91.71886088, 117.92424971, 497.90238766, 524.10777648,\n",
              "       104.8215553 , 183.43772177, 141.50909965, 393.08083236,\n",
              "       314.46466589, 288.25927706])"
            ]
          },
          "metadata": {
            "tags": []
          },
          "execution_count": 82
        }
      ]
    },
    {
      "cell_type": "code",
      "metadata": {
        "id": "n_sWJIhLuUpp",
        "outputId": "fd106620-55cd-46fb-a1c6-46273f77e04f"
      },
      "source": [
        "plt.scatter(x, y)\n",
        "plt.plot(x, y_pred_i)\n",
        "plt.plot(x, y_pred)\n",
        "plt.xlabel('Заработанная плата заемщиков')\n",
        "plt.ylabel('Кредитный скоринг')\n",
        "plt.show()"
      ],
      "execution_count": null,
      "outputs": [
        {
          "output_type": "display_data",
          "data": {
            "image/png": "[encoded data removed]",
            "text/plain": [
              "<Figure size 432x288 with 1 Axes>"
            ]
          },
          "metadata": {
            "tags": [],
            "needs_background": "light"
          }
        }
      ]
    },
    {
      "cell_type": "code",
      "metadata": {
        "id": "VIzOJGRkuUpr",
        "outputId": "a50e1fe5-a251-4cca-d00c-8294457d0c15"
      },
      "source": [
        "r = b * np.std(x) / np.std(y)\n",
        "r"
      ],
      "execution_count": null,
      "outputs": [
        {
          "output_type": "execute_result",
          "data": {
            "text/plain": [
              "0.8874900920739162"
            ]
          },
          "metadata": {
            "tags": []
          },
          "execution_count": 141
        }
      ]
    },
    {
      "cell_type": "code",
      "metadata": {
        "id": "6Yxzb-tSuUpu",
        "outputId": "c790916b-847e-4e94-811b-3054a5f8e4a4"
      },
      "source": [
        "R2 = r**2\n",
        "R2"
      ],
      "execution_count": null,
      "outputs": [
        {
          "output_type": "execute_result",
          "data": {
            "text/plain": [
              "0.7876386635293682"
            ]
          },
          "metadata": {
            "tags": []
          },
          "execution_count": 143
        }
      ]
    },
    {
      "cell_type": "code",
      "metadata": {
        "id": "99r6QMBBuUpw"
      },
      "source": [
        ""
      ],
      "execution_count": null,
      "outputs": []
    },
    {
      "cell_type": "markdown",
      "metadata": {
        "id": "7kLj8DbmuUpy"
      },
      "source": [
        "Качество модели найдем с помощью средней ошибки аппроксимации $\\overline {A}$:"
      ]
    },
    {
      "cell_type": "code",
      "metadata": {
        "id": "tTr9aW74uUpz",
        "outputId": "89d42ade-4d33-4de7-f898-8477cc13ffe3"
      },
      "source": [
        "A_mean_i = 100 * np.mean(np.abs((y - y_pred_i) / y))\n",
        "A_mean_i"
      ],
      "execution_count": null,
      "outputs": [
        {
          "output_type": "execute_result",
          "data": {
            "text/plain": [
              "11.46925184356171"
            ]
          },
          "metadata": {
            "tags": []
          },
          "execution_count": 84
        }
      ]
    },
    {
      "cell_type": "code",
      "metadata": {
        "id": "iOdTcjgVuUp1",
        "outputId": "fae87402-8020-4f3c-8537-7e252cb6eb70"
      },
      "source": [
        "A_mean = 100 * np.mean(np.abs((y - y_pred) / y))\n",
        "A_mean"
      ],
      "execution_count": null,
      "outputs": [
        {
          "output_type": "execute_result",
          "data": {
            "text/plain": [
              "65.2875936982184"
            ]
          },
          "metadata": {
            "tags": []
          },
          "execution_count": 85
        }
      ]
    },
    {
      "cell_type": "code",
      "metadata": {
        "id": "N4jcDZA6uUp4",
        "outputId": "cec1c26e-7302-47ba-cf9a-768f0a75bb3d"
      },
      "source": [
        "mse = ((y - y_pred)**2).sum() / 10\n",
        "mse"
      ],
      "execution_count": null,
      "outputs": [
        {
          "output_type": "execute_result",
          "data": {
            "text/plain": [
              "203763.93896082853"
            ]
          },
          "metadata": {
            "tags": []
          },
          "execution_count": 119
        }
      ]
    },
    {
      "cell_type": "code",
      "metadata": {
        "id": "pE2O2uuPuUp6",
        "outputId": "16b2b9d7-46d9-48c9-f547-68c4e6126684"
      },
      "source": [
        "mse_i = ((y - y_pred_i)**2).sum() / 10\n",
        "mse_i"
      ],
      "execution_count": null,
      "outputs": [
        {
          "output_type": "execute_result",
          "data": {
            "text/plain": [
              "6470.414201176658"
            ]
          },
          "metadata": {
            "tags": []
          },
          "execution_count": 120
        }
      ]
    },
    {
      "cell_type": "code",
      "metadata": {
        "id": "2EeHdqSMuUp8",
        "outputId": "b480b542-6f11-4e14-fc5c-699a73957d06"
      },
      "source": [
        "y - y_pred_i"
      ],
      "execution_count": null,
      "outputs": [
        {
          "output_type": "execute_result",
          "data": {
            "text/plain": [
              "array([-134.89621821,   11.89839297,  -68.07974498,  -49.2851338 ,\n",
              "        -89.99891262,  111.38492091,   67.31354303,   64.74181032,\n",
              "        -12.64202321,   99.56336561])"
            ]
          },
          "metadata": {
            "tags": []
          },
          "execution_count": 88
        }
      ]
    },
    {
      "cell_type": "code",
      "metadata": {
        "id": "vlxjr2_AuUp_",
        "outputId": "a7ad8b9e-1d3e-4875-d83d-d76702e902f5"
      },
      "source": [
        "y - y_pred"
      ],
      "execution_count": null,
      "outputs": [
        {
          "output_type": "execute_result",
          "data": {
            "text/plain": [
              "array([309.28113912, 456.07575029, 376.09761234, 394.89222352,\n",
              "       354.1784447 , 555.56227823, 511.49090035, 508.91916764,\n",
              "       431.53533411, 543.74072294])"
            ]
          },
          "metadata": {
            "tags": []
          },
          "execution_count": 89
        }
      ]
    },
    {
      "cell_type": "markdown",
      "metadata": {
        "id": "C_ste13MuUqB"
      },
      "source": [
        "## Посчтитать через матрицы"
      ]
    },
    {
      "cell_type": "code",
      "metadata": {
        "id": "sn9DDsI9uUqC",
        "outputId": "c96637a4-29a5-4792-f882-d62d14268514"
      },
      "source": [
        "ym = y.reshape(10,1)\n",
        "ym"
      ],
      "execution_count": null,
      "outputs": [
        {
          "output_type": "execute_result",
          "data": {
            "text/plain": [
              "array([[401.],\n",
              "       [574.],\n",
              "       [874.],\n",
              "       [919.],\n",
              "       [459.],\n",
              "       [739.],\n",
              "       [653.],\n",
              "       [902.],\n",
              "       [746.],\n",
              "       [832.]])"
            ]
          },
          "metadata": {
            "tags": []
          },
          "execution_count": 103
        }
      ]
    },
    {
      "cell_type": "code",
      "metadata": {
        "id": "BpFWtbLmuUqD",
        "outputId": "830cb9a0-72d9-4096-ab86-ec70d272cdf8"
      },
      "source": [
        "xm = x.reshape(10,1)\n",
        "xm"
      ],
      "execution_count": null,
      "outputs": [
        {
          "output_type": "execute_result",
          "data": {
            "text/plain": [
              "array([[ 35.],\n",
              "       [ 45.],\n",
              "       [190.],\n",
              "       [200.],\n",
              "       [ 40.],\n",
              "       [ 70.],\n",
              "       [ 54.],\n",
              "       [150.],\n",
              "       [120.],\n",
              "       [110.]])"
            ]
          },
          "metadata": {
            "tags": []
          },
          "execution_count": 114
        }
      ]
    },
    {
      "cell_type": "code",
      "metadata": {
        "id": "QU9wkSyouUqG",
        "outputId": "a31b69ae-bfa8-4f72-b07d-f85fdee8d29e"
      },
      "source": [
        "xm = np.hstack([np.ones((10,1)),xm])\n",
        "xm"
      ],
      "execution_count": null,
      "outputs": [
        {
          "output_type": "execute_result",
          "data": {
            "text/plain": [
              "array([[  1.,  35.],\n",
              "       [  1.,  45.],\n",
              "       [  1., 190.],\n",
              "       [  1., 200.],\n",
              "       [  1.,  40.],\n",
              "       [  1.,  70.],\n",
              "       [  1.,  54.],\n",
              "       [  1., 150.],\n",
              "       [  1., 120.],\n",
              "       [  1., 110.]])"
            ]
          },
          "metadata": {
            "tags": []
          },
          "execution_count": 115
        }
      ]
    },
    {
      "cell_type": "code",
      "metadata": {
        "id": "QszHrQrbuUqJ",
        "outputId": "ed34d249-ce3d-4850-922e-520d87214f96"
      },
      "source": [
        "BM_i = np.dot(np.linalg.inv(np.dot(xm.T,xm)),xm.T@ym)\n",
        "BM_i"
      ],
      "execution_count": null,
      "outputs": [
        {
          "output_type": "execute_result",
          "data": {
            "text/plain": [
              "array([[5.88982042]])"
            ]
          },
          "metadata": {
            "tags": []
          },
          "execution_count": 121
        }
      ]
    },
    {
      "cell_type": "markdown",
      "metadata": {
        "id": "3XpHePIvuUqL"
      },
      "source": [
        "Похоже на то, что посчиатали выше, но вот если посчтитать без интерцептора, то получится другая цифра"
      ]
    },
    {
      "cell_type": "code",
      "metadata": {
        "id": "yXaD-ObpuUqL",
        "outputId": "721d3986-3313-48fd-8325-e5019ce7ee48"
      },
      "source": [
        "xm = x.reshape(10,1)\n",
        "xm\n",
        "BM = np.dot(np.linalg.inv(np.dot(xm.T,xm)),xm.T@ym)\n",
        "BM"
      ],
      "execution_count": null,
      "outputs": [
        {
          "output_type": "execute_result",
          "data": {
            "text/plain": [
              "array([[5.88982042]])"
            ]
          },
          "metadata": {
            "tags": []
          },
          "execution_count": 122
        }
      ]
    },
    {
      "cell_type": "code",
      "metadata": {
        "id": "VQf5WECruUqN",
        "outputId": "f79077a8-2aad-4210-9f2a-48336c24f356"
      },
      "source": [
        "ym_pred = BM*x\n",
        "ym_pred = ym_pred.reshape(10,)\n",
        "ym_pred"
      ],
      "execution_count": null,
      "outputs": [
        {
          "output_type": "execute_result",
          "data": {
            "text/plain": [
              "array([ 206.1437147 ,  265.04191891, 1119.06587983, 1177.96408403,\n",
              "        235.59281681,  412.28742941,  318.05030269,  883.47306302,\n",
              "        706.77845042,  647.88024621])"
            ]
          },
          "metadata": {
            "tags": []
          },
          "execution_count": 134
        }
      ]
    },
    {
      "cell_type": "code",
      "metadata": {
        "id": "UhrUBjQJuUqQ",
        "outputId": "65c44b00-255f-48ef-933c-dd4764618266"
      },
      "source": [
        "plt.scatter(x, y)\n",
        "plt.plot(x, y_pred_i)\n",
        "plt.plot(x, y_pred)\n",
        "plt.plot(x, ym_pred)\n",
        "plt.xlabel('Заработанная плата заемщиков')\n",
        "plt.ylabel('Кредитный скоринг')\n",
        "plt.show()"
      ],
      "execution_count": null,
      "outputs": [
        {
          "output_type": "display_data",
          "data": {
            "image/png": "[encoded data removed]",
            "text/plain": [
              "<Figure size 432x288 with 1 Axes>"
            ]
          },
          "metadata": {
            "tags": [],
            "needs_background": "light"
          }
        }
      ]
    },
    {
      "cell_type": "markdown",
      "metadata": {
        "id": "TjNwo0m3uUqT"
      },
      "source": [
        "# 2 Тут во всю градиентный спуск"
      ]
    },
    {
      "cell_type": "code",
      "metadata": {
        "id": "W7yTLqSRuUqT"
      },
      "source": [
        "def mse_(B1, y=y, x=x, n=10):\n",
        "    return np.sum((B1*x-y)**2 / n)"
      ],
      "execution_count": null,
      "outputs": []
    },
    {
      "cell_type": "code",
      "metadata": {
        "id": "QBd2rdxfuUqV"
      },
      "source": [
        "B1 = 0"
      ],
      "execution_count": null,
      "outputs": []
    },
    {
      "cell_type": "code",
      "metadata": {
        "id": "8UQ8IIrluUqW"
      },
      "source": [
        "alpha = 1e-6"
      ],
      "execution_count": null,
      "outputs": []
    },
    {
      "cell_type": "code",
      "metadata": {
        "id": "X8iNKAKvuUqY",
        "outputId": "a197f173-5e50-46b1-a829-26e90217e33e"
      },
      "source": [
        "B1 = 0.1\n",
        "for i in range(200):\n",
        "    B1 -=alpha*np.sum((B1*x-y)*x)\n",
        "    mse = mse_(B1)\n",
        "    if i%5 == 0:\n",
        "        print('{}: B1 = {}, mse = {}'.format(i, B1, mse))"
      ],
      "execution_count": null,
      "outputs": [
        {
          "output_type": "stream",
          "text": [
            "0: B1 = 0.8976404, mse = 399855.3735371353\n",
            "5: B1 = 3.510702552944429, mse = 134495.19489143853\n",
            "10: B1 = 4.756006774962103, mse = 74227.13760583635\n",
            "15: B1 = 5.349480069742942, mse = 60539.18055245229\n",
            "20: B1 = 5.632311000041535, mse = 57430.39993575823\n",
            "25: B1 = 5.767099432540606, mse = 56724.34008438373\n",
            "30: B1 = 5.831335410961975, mse = 56563.98122501428\n",
            "35: B1 = 5.861948282164993, mse = 56527.56085112073\n",
            "40: B1 = 5.87653742529511, mse = 56519.28913080692\n",
            "45: B1 = 5.88349015755794, mse = 56517.410474724216\n",
            "50: B1 = 5.886803613700461, mse = 56516.98379822366\n",
            "55: B1 = 5.888382703933389, mse = 56516.88689233556\n",
            "60: B1 = 5.889135249268676, mse = 56516.864883269845\n",
            "65: B1 = 5.889493888990367, mse = 56516.85988461615\n",
            "70: B1 = 5.88966480553711, mse = 56516.85874933221\n",
            "75: B1 = 5.88974625905211, mse = 56516.85849148886\n",
            "80: B1 = 5.889785077266216, mse = 56516.858432928006\n",
            "85: B1 = 5.889803576820796, mse = 56516.85841962778\n",
            "90: B1 = 5.88981239313364, mse = 56516.85841660707\n",
            "95: B1 = 5.889816594714378, mse = 56516.858415921\n",
            "100: B1 = 5.889818597057196, mse = 56516.85841576519\n",
            "105: B1 = 5.88981955131156, mse = 56516.8584157298\n",
            "110: B1 = 5.889820006079537, mse = 56516.85841572176\n",
            "115: B1 = 5.889820222807823, mse = 56516.858415719944\n",
            "120: B1 = 5.88982032609379, mse = 56516.85841571953\n",
            "125: B1 = 5.889820375316671, mse = 56516.85841571945\n",
            "130: B1 = 5.889820398774767, mse = 56516.85841571941\n",
            "135: B1 = 5.889820409954167, mse = 56516.8584157194\n",
            "140: B1 = 5.889820415281921, mse = 56516.858415719405\n",
            "145: B1 = 5.889820417820964, mse = 56516.85841571941\n",
            "150: B1 = 5.889820419030992, mse = 56516.858415719405\n",
            "155: B1 = 5.889820419607655, mse = 56516.858415719405\n",
            "160: B1 = 5.889820419882473, mse = 56516.8584157194\n",
            "165: B1 = 5.889820420013444, mse = 56516.85841571941\n",
            "170: B1 = 5.889820420075861, mse = 56516.85841571941\n",
            "175: B1 = 5.889820420105606, mse = 56516.858415719405\n",
            "180: B1 = 5.889820420119782, mse = 56516.8584157194\n",
            "185: B1 = 5.889820420126537, mse = 56516.85841571941\n",
            "190: B1 = 5.889820420129757, mse = 56516.858415719405\n",
            "195: B1 = 5.889820420131292, mse = 56516.85841571941\n"
          ],
          "name": "stdout"
        }
      ]
    },
    {
      "cell_type": "code",
      "metadata": {
        "id": "mHRP4-F2uUqb"
      },
      "source": [
        "B1"
      ],
      "execution_count": null,
      "outputs": []
    },
    {
      "cell_type": "code",
      "metadata": {
        "id": "ELHZZ79guUqd"
      },
      "source": [
        "y_grad = B1*x\n",
        "y_grad"
      ],
      "execution_count": null,
      "outputs": []
    },
    {
      "cell_type": "code",
      "metadata": {
        "id": "6tYKP0RTuUqf"
      },
      "source": [
        "plt.scatter(x, y)\n",
        "plt.plot(x, y_pred_i)\n",
        "plt.plot(x, y_pred)\n",
        "plt.plot(x, y_grad)\n",
        "plt.xlabel('Заработанная плата заемщиков')\n",
        "plt.ylabel('Кредитный скоринг')\n",
        "plt.show()"
      ],
      "execution_count": null,
      "outputs": []
    }
  ]
}