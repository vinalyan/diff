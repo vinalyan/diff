{
  "nbformat": 4,
  "nbformat_minor": 0,
  "metadata": {
    "colab": {
      "name": "Матстат_урок_3_ДЗ_Кожемякин_В_Е.ipynb",
      "provenance": [],
      "authorship_tag": "ABX9TyPHEBvYP1cko9fMNFXs88HK",
      "include_colab_link": true
    },
    "kernelspec": {
      "name": "python3",
      "display_name": "Python 3"
    }
  },
  "cells": [
    {
      "cell_type": "markdown",
      "metadata": {
        "id": "view-in-github",
        "colab_type": "text"
      },
      "source": [
        "<a href=\"https://colab.research.google.com/github/vinalyan/diff/blob/master/%D0%9C%D0%B0%D1%82%D1%81%D1%82%D0%B0%D1%82_%D1%83%D1%80%D0%BE%D0%BA_3_%D0%94%D0%97_%D0%9A%D0%BE%D0%B6%D0%B5%D0%BC%D1%8F%D0%BA%D0%B8%D0%BD_%D0%92_%D0%95.ipynb\" target=\"_parent\"><img src=\"https://colab.research.google.com/assets/colab-badge.svg\" alt=\"Open In Colab\"/></a>"
      ]
    },
    {
      "cell_type": "markdown",
      "metadata": {
        "id": "HrecN7-XowLn"
      },
      "source": [
        "# Настройка\n"
      ]
    },
    {
      "cell_type": "code",
      "metadata": {
        "id": "TIIeW7IIoIyI"
      },
      "source": [
        "import numpy as np\n",
        "from math import factorial\n",
        "def combinations(n, k):\n",
        "    return int(factorial(n) / (factorial(k) * factorial(n - k)))\n",
        "\n",
        "from matplotlib import pyplot as plt\n",
        "import seaborn as sns"
      ],
      "execution_count": 11,
      "outputs": []
    },
    {
      "cell_type": "markdown",
      "metadata": {
        "id": "DhZu-IUso2t8"
      },
      "source": [
        "# Задание № 1\n",
        "Случайная непрерывная величина A имеет равномерное распределение на промежутке (200, 800].\n",
        "Найдите ее среднее значение и дисперсию."
      ]
    },
    {
      "cell_type": "markdown",
      "metadata": {
        "id": "v8T6FztqqZb0"
      },
      "source": [
        "## Решение"
      ]
    },
    {
      "cell_type": "markdown",
      "metadata": {
        "id": "X7u-OuRspWAm"
      },
      "source": [
        "Математическое ожидание $M(X)$ равномерно распределенной непрерывной случайной величины можно вычислить по формуле:\n",
        "$$M(X) = \\frac{a + b}{2} = \\frac{800 + 200}{2} = 500$$"
      ]
    },
    {
      "cell_type": "markdown",
      "metadata": {
        "id": "x3gA-KcSp9Cp"
      },
      "source": [
        "По следующей формуле можно рассчитать дисперсию $D(X)$:\n",
        "$$D(X) = \\frac{(b - a)^2}{12} = \\frac{(800 - 200)^2}{12} = 50$$"
      ]
    },
    {
      "cell_type": "code",
      "metadata": {
        "id": "FaOJbp3mqQzr",
        "outputId": "424c44b6-7453-4d6f-e33a-ce72617a6f3a",
        "colab": {
          "base_uri": "https://localhost:8080/",
          "height": 34
        }
      },
      "source": [
        "(800-200)/12"
      ],
      "execution_count": 1,
      "outputs": [
        {
          "output_type": "execute_result",
          "data": {
            "text/plain": [
              "50.0"
            ]
          },
          "metadata": {
            "tags": []
          },
          "execution_count": 1
        }
      ]
    },
    {
      "cell_type": "markdown",
      "metadata": {
        "id": "AdlFaovHqsLE"
      },
      "source": [
        "## Ответ\n",
        "$M(X) = 500$\n",
        "\n",
        "$D(X) = 50$"
      ]
    },
    {
      "cell_type": "markdown",
      "metadata": {
        "id": "JHv6B5dOrca0"
      },
      "source": [
        "# Задание № 2\n",
        "О случайной непрерывной равномерно распределенной величине B известно, что ее дисперсия равна 0.2.\n",
        "Можно ли найти правую границу величины B и ее среднее значение зная, что левая граница равна 0.5?\n",
        "Если да, найдите ее."
      ]
    },
    {
      "cell_type": "markdown",
      "metadata": {
        "id": "l9fX7JMDrjTe"
      },
      "source": [
        "## Решение\n"
      ]
    },
    {
      "cell_type": "markdown",
      "metadata": {
        "id": "y959-NLPryW3"
      },
      "source": [
        "Диперсия вычисляется по формуле:\n",
        "$$D(X) = \\frac{(b - a)^2}{12}$$\n",
        "где: $D(X) = 0,2$ , а $a = 0,5$\n",
        "\n",
        "тогда:\n",
        "\n",
        "$$0,2 = \\frac{(b - 0,5)^2}{12} => (b - 0,5)^2 = 6 => b -0,5 = 2.45 => b = 2.95 $$\n"
      ]
    },
    {
      "cell_type": "markdown",
      "metadata": {
        "id": "bMw6pn0fv9RT"
      },
      "source": [
        "Математическое ожидание $M(X)$ равномерно распределенной непрерывной случайной величины можно вычислить по формуле:\n",
        "$$M(X) = \\frac{a + b}{2} = \\frac{2,95 + 0,5}{2} = 1,725$$"
      ]
    },
    {
      "cell_type": "markdown",
      "metadata": {
        "id": "CQVQQDStuhkp"
      },
      "source": [
        "## Ответ\n",
        "Правая граница равна $2,95$"
      ]
    },
    {
      "cell_type": "code",
      "metadata": {
        "id": "up8VmRAZsDDh",
        "outputId": "70ea5b89-4e79-4b68-fe80-c7bce2d29e8e",
        "colab": {
          "base_uri": "https://localhost:8080/",
          "height": 50
        }
      },
      "source": [
        "print('правая граница величины: {}\\nсреднее значение: {}'.format(2.95, (2.95+0.5)/2))\n"
      ],
      "execution_count": 8,
      "outputs": [
        {
          "output_type": "stream",
          "text": [
            "правая граница величины: 2.95\n",
            "среднее значение: 1.725\n"
          ],
          "name": "stdout"
        }
      ]
    }
  ]
}