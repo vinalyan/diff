{
  "nbformat": 4,
  "nbformat_minor": 0,
  "metadata": {
    "colab": {
      "name": "Матстат_урок_8_ДЗ_Кожемякин_В_Е",
      "provenance": [],
      "authorship_tag": "ABX9TyNSt4rdRbLZVDOiFozvSzSY",
      "include_colab_link": true
    },
    "kernelspec": {
      "name": "python3",
      "display_name": "Python 3"
    }
  },
  "cells": [
    {
      "cell_type": "markdown",
      "metadata": {
        "id": "view-in-github",
        "colab_type": "text"
      },
      "source": [
        "<a href=\"https://colab.research.google.com/github/vinalyan/diff/blob/master/GeekBrains/%D0%9C%D0%B0%D1%82%D1%81%D1%82%D0%B0%D1%82_%D1%83%D1%80%D0%BE%D0%BA_8_%D0%94%D0%97_%D0%9A%D0%BE%D0%B6%D0%B5%D0%BC%D1%8F%D0%BA%D0%B8%D0%BD_%D0%92_%D0%95.ipynb\" target=\"_parent\"><img src=\"https://colab.research.google.com/assets/colab-badge.svg\" alt=\"Open In Colab\"/></a>"
      ]
    },
    {
      "cell_type": "markdown",
      "metadata": {
        "id": "_6X2foMg4uCR"
      },
      "source": [
        "#Настройка"
      ]
    },
    {
      "cell_type": "code",
      "metadata": {
        "id": "ylMwGDDdUyAQ"
      },
      "source": [
        "import numpy as np\n",
        "from scipy import stats\n",
        "import matplotlib.pyplot as plt\n"
      ],
      "execution_count": 90,
      "outputs": []
    },
    {
      "cell_type": "markdown",
      "metadata": {
        "id": "sDqg4cR4hZ7g"
      },
      "source": [
        "# Задание\n",
        "Провести дисперсионный анализ для определения того, есть ли различия среднего роста среди взрослых футболистов, хоккеистов и штангистов. Даны значения роста в трех группах случайно выбранных спортсменов: Футболисты: 173, 175, 180, 178, 177, 185, 183, 182. Хоккеисты: 177, 179, 180, 188, 177, 172, 171, 184, 180. Штангисты: 172, 173, 169, 177, 166, 180, 178, 177, 172, 166, 170."
      ]
    },
    {
      "cell_type": "markdown",
      "metadata": {
        "id": "ER4hWnpM45nV"
      },
      "source": [
        "## Решение"
      ]
    },
    {
      "cell_type": "code",
      "metadata": {
        "id": "iq4IHHTehbOE"
      },
      "source": [
        "foot = np.array([173, 175, 180, 178, 177, 185, 183, 182])\n",
        "hock = np.array([177, 179, 180, 188, 177, 172, 171, 184, 180])\n",
        "shtan = np.array([172, 173, 169, 177, 166, 180, 178, 177, 172, 166, 170])"
      ],
      "execution_count": 91,
      "outputs": []
    },
    {
      "cell_type": "markdown",
      "metadata": {
        "id": "0HpFT7UY5BBz"
      },
      "source": [
        "Посмотрим как все это будет выглядеть на графике"
      ]
    },
    {
      "cell_type": "code",
      "metadata": {
        "id": "uMdEpMpwid6T",
        "outputId": "41f18f2a-b643-446f-bdf0-5893d4f9bf38",
        "colab": {
          "base_uri": "https://localhost:8080/",
          "height": 295
        }
      },
      "source": [
        "plt.boxplot([foot, hock, shtan])\n",
        "plt.title('Зависимость роста от фактора')\n",
        "plt.ylabel('Рост')\n",
        "plt.xlabel('1 - футболисты; 2 - хоккеисты; 3 - штангисты')\n",
        "plt.show()"
      ],
      "execution_count": 92,
      "outputs": [
        {
          "output_type": "display_data",
          "data": {
            "image/png": "[encoded data removed]",
            "text/plain": [
              "<Figure size 432x288 with 1 Axes>"
            ]
          },
          "metadata": {
            "tags": [],
            "needs_background": "light"
          }
        }
      ]
    },
    {
      "cell_type": "markdown",
      "metadata": {
        "id": "TJLsuAMx5F7r"
      },
      "source": [
        "Из графика явно видно, что средний рост штангистов меньше роста футболистов и хоккеистов.\n",
        "\n",
        "Определим является ли различие статически значимым. По идее так и должно получиться."
      ]
    },
    {
      "cell_type": "markdown",
      "metadata": {
        "id": "85Hn9e8t6QLK"
      },
      "source": [
        "Определим $\\overline{y}_{i}$ — среднее значение переменной $Y$ для каждого из факторов. \n",
        "\n",
        "Определяется по формуле:\n",
        "$$\\overline{y}_{i} = \\frac{1}{n_i}\\sum\\limits_{j=1}^{n_i}y_{ij}$$\n",
        "тогда:\n",
        "* $\\overline{y}_{1} = 179,125$ - средний рост футболиста\n",
        "* $\\overline{y}_{2} = 178,667$ - средний рост хоккеиста\n",
        "* $\\overline{y}_{3} = 172,727$ - средний рост штангиста"
      ]
    },
    {
      "cell_type": "code",
      "metadata": {
        "id": "9q2gju9g7PIk",
        "outputId": "41488c8b-0eae-4a19-8397-51de7a246b58",
        "colab": {
          "base_uri": "https://localhost:8080/",
          "height": 68
        }
      },
      "source": [
        "y1_mean = np.mean(foot)\n",
        "y2_mean = np.mean(hock)\n",
        "y3_mean = np.mean(shtan)\n",
        "print(f'Средний рост футболитса - y1_mean = {round(y1_mean, 3)}')\n",
        "print(f'Средний рост хоккеиста - y2_mean = {round(y2_mean, 3)}')\n",
        "print(f'Средний рост штангиста - y3_mean = {round(y3_mean, 3)}')"
      ],
      "execution_count": 93,
      "outputs": [
        {
          "output_type": "stream",
          "text": [
            "Средний рост футболитса - y1_mean = 179.125\n",
            "Средний рост хоккеиста - y2_mean = 178.667\n",
            "Средний рост штангиста - y3_mean = 172.727\n"
          ],
          "name": "stdout"
        }
      ]
    },
    {
      "cell_type": "markdown",
      "metadata": {
        "id": "HAEJpzco6QUu"
      },
      "source": [
        "Из расчтетов тоже видно, что средний рост разниться и явно видно, что основная разница между штангистами и остальными.\n",
        "Такой крупной разницы между футболистами и хоккеистами не наблюдается.\n",
        "\n",
        "Продолжим вычисления для опредения является ли это отличие статистически значимиым.\n",
        "Найдем $\\overline{Y}$ — среднее значение переменной $Y$ по всем значениям по следующей формуле:\n",
        "$$\\overline{Y} = \\frac{1}{n}\\sum\\limits_{i=1}^{k}\\sum\\limits_{j=1}^{n_i}y_{ij} = \\frac{1}{n}\\sum\\limits_{i=1}^{k}\\overline{y}_{i}n_{i} = 176,464$$\n",
        "\n"
      ]
    },
    {
      "cell_type": "code",
      "metadata": {
        "id": "Len4AXjz9zym"
      },
      "source": [
        "k = 3\n",
        "n_1 = foot.size\n",
        "n_2 = hock.size\n",
        "n_3 = shtan.size\n",
        "n = n_1 + n_2 + n_3"
      ],
      "execution_count": 94,
      "outputs": []
    },
    {
      "cell_type": "code",
      "metadata": {
        "id": "RflhbAaY90JM",
        "outputId": "08e990a8-975a-49b4-eb0d-85315b0e6140",
        "colab": {
          "base_uri": "https://localhost:8080/",
          "height": 34
        }
      },
      "source": [
        "y_all = np.concatenate([foot, hock, shtan])\n",
        "y_all_mean = y_all.mean()\n",
        "print(f'Средний рост по всем значениям - y_all_mean = {round(y_all_mean, 3)}')"
      ],
      "execution_count": 95,
      "outputs": [
        {
          "output_type": "stream",
          "text": [
            "Средний рост по всем значениям - y_all_mean = 176.464\n"
          ],
          "name": "stdout"
        }
      ]
    },
    {
      "cell_type": "markdown",
      "metadata": {
        "id": "wAWJBcAx_bAD"
      },
      "source": [
        "Найдем последовательно: \n",
        "1. $S^2$ — сумму квадратов отклонений наблюдений от общего среднего:\n",
        "$$S^2 = \\sum\\limits_{i=1}^{k}\\sum\\limits_{j=1}^{n_i}({y}_{ij} - \\overline{Y})^2$$\n"
      ]
    },
    {
      "cell_type": "markdown",
      "metadata": {
        "id": "3l9iNMmN_a0d"
      },
      "source": [
        "2. $S^2_F$ - сумму квадратов отклонений средних групповых значений от общего среднего:\n",
        "$$S_F^2 = \\sum\\limits_{i=1}^{k}(\\overline{y}_i - \\overline{Y})^2n_i$$"
      ]
    },
    {
      "cell_type": "markdown",
      "metadata": {
        "id": "OW3EmaXaBrwz"
      },
      "source": [
        "3. $S^2_{ост}$ — остаточную сумму квадратов отклонений:\n",
        "$$S_{ост}^{2} = \\sum\\limits_{i=1}^{k}\\sum\\limits_{j=1}^{n_i}(y_{ij} - \\overline{y}_i)^2$$"
      ]
    },
    {
      "cell_type": "code",
      "metadata": {
        "id": "PLl8xkp4__jp",
        "outputId": "580414fe-ee1c-4699-f9a8-828159a04465",
        "colab": {
          "base_uri": "https://localhost:8080/",
          "height": 68
        }
      },
      "source": [
        "s2 = np.sum((y_all - y_all_mean)**2)\n",
        "s2_f = ((y1_mean - y_all_mean)**2) * n_1 + ((y2_mean - y_all_mean)**2) * n_2 + ((y3_mean - y_all_mean)**2) * n_3\n",
        "\n",
        "s2_o = np.sum((foot - y1_mean)**2) + np.sum((hock - y2_mean)**2) + np.sum((shtan - y3_mean)**2)\n",
        "print(f'Сумма квадратов отклонений от общего среднего - s2 = {round(s2, 3)}')\n",
        "print(f'Сумма квадратов отклонений средних групповых значений от среднего - s2_f = {round(s2_f, 3)}')\n",
        "print(f'Остаточная сумма квадратов отклонений - s2_o = {round(s2_o, 3)}')\n"
      ],
      "execution_count": 96,
      "outputs": [
        {
          "output_type": "stream",
          "text": [
            "Сумма квадратов отклонений от общего среднего - s2 = 830.964\n",
            "Сумма квадратов отклонений средних групповых значений от среднего - s2_f = 253.907\n",
            "Остаточная сумма квадратов отклонений - s2_o = 577.057\n"
          ],
          "name": "stdout"
        }
      ]
    },
    {
      "cell_type": "code",
      "metadata": {
        "id": "dNHwwabiC04m",
        "outputId": "3aa402eb-eccc-4bb6-af28-10bb9c07e7dc",
        "colab": {
          "base_uri": "https://localhost:8080/",
          "height": 51
        }
      },
      "source": [
        "#проверка, что посчтитали правильно\n",
        "print(s2_f + s2_o)\n",
        "print(s2)"
      ],
      "execution_count": 97,
      "outputs": [
        {
          "output_type": "stream",
          "text": [
            "830.964285714286\n",
            "830.9642857142854\n"
          ],
          "name": "stdout"
        }
      ]
    },
    {
      "cell_type": "markdown",
      "metadata": {
        "id": "uHpMqepXDKCS"
      },
      "source": [
        "Теперь последовательно вычислим:\n",
        "1. общую дисперсию: $$\\sigma_{общ}^{2} = \\frac{S^2}{n - 1}$$\n",
        "2. факторную дисперсию: $$\\sigma_{F}^{2} = \\frac{S_{F}^{2}}{k-1}$$\n",
        "3. остаточную дисперисю: $$\\sigma_{ост}^{2} = \\frac{S_{ост}^{2}}{n - k}$$"
      ]
    },
    {
      "cell_type": "code",
      "metadata": {
        "id": "czrATUk0ESG4",
        "outputId": "1555a36c-e3e5-4e79-e9e1-1b686968bf3c",
        "colab": {
          "base_uri": "https://localhost:8080/",
          "height": 68
        }
      },
      "source": [
        "D = s2 /(n - 1)\n",
        "D_f = s2_f / (k - 1)\n",
        "D_o = s2_o / (n - k)\n",
        "print(f'Общая дисперсия - D = {round(D, 3)}')\n",
        "print(f'Факторная дисперсия - D_f = {round(D_f, 3)}')\n",
        "print(f'Остаточная дисперсия - D_o = {round(D_o, 3)}')"
      ],
      "execution_count": 98,
      "outputs": [
        {
          "output_type": "stream",
          "text": [
            "Общая дисперсия - D = 30.776\n",
            "Факторная дисперсия - D_f = 126.954\n",
            "Остаточная дисперсия - D_o = 23.082\n"
          ],
          "name": "stdout"
        }
      ]
    },
    {
      "cell_type": "markdown",
      "metadata": {
        "id": "8tfxB2bDF5LM"
      },
      "source": [
        "Вычислим $F_H$: $$F_H = \\frac{\\sigma_{F}^{2}}{\\sigma_{ост}^{2}} = 5,5$$"
      ]
    },
    {
      "cell_type": "code",
      "metadata": {
        "id": "qLqZ4Y9wF6Ds",
        "outputId": "55c96ee3-1810-4a71-8b3c-6a207cd406b4",
        "colab": {
          "base_uri": "https://localhost:8080/",
          "height": 34
        }
      },
      "source": [
        "F_n = D_f / D_o\n",
        "print(f'Наблюдаемое значение - F_n = {round(F_n, 3)}')"
      ],
      "execution_count": 99,
      "outputs": [
        {
          "output_type": "stream",
          "text": [
            "Наблюдаемое значение - F_n = 5.5\n"
          ],
          "name": "stdout"
        }
      ]
    },
    {
      "cell_type": "markdown",
      "metadata": {
        "id": "lLcNSq9gG3Ga"
      },
      "source": [
        "Найдем значение $F_{крит}$ в таблице критических точек распределения Фишера-Снедекора для заданного уровня значимости $\\alpha = 0.05$ и двух степеней свободы: \n",
        "\n",
        "$df_{межд} = k - 1 = 3 - 1 = 2$ и $df_{внутр} = n - k = 28 - 3 = 25$.\n",
        "\n",
        "$F_{крит} = 3,38$"
      ]
    },
    {
      "cell_type": "markdown",
      "metadata": {
        "id": "cElp2TNWIDIY"
      },
      "source": [
        "Так как $F_H > F_{крит}$, различие среднего роста в трех группах статистически значимо."
      ]
    },
    {
      "cell_type": "markdown",
      "metadata": {
        "id": "aC-qzc-vIrds"
      },
      "source": [
        "##Ответ\n",
        "Различие роста в трех группах является статистически значимым на уровен $\\alpha = 0,05$"
      ]
    },
    {
      "cell_type": "markdown",
      "metadata": {
        "id": "rSL4-qumJHwG"
      },
      "source": [
        "Проверим через функции питона"
      ]
    },
    {
      "cell_type": "code",
      "metadata": {
        "id": "0uyxbbNnhyZH",
        "outputId": "a583bbbd-f46e-4023-90bc-5e14d7e16ca5",
        "colab": {
          "base_uri": "https://localhost:8080/",
          "height": 34
        }
      },
      "source": [
        "s = stats.f_oneway(hock , foot, shtan)\n",
        "s"
      ],
      "execution_count": 106,
      "outputs": [
        {
          "output_type": "execute_result",
          "data": {
            "text/plain": [
              "F_onewayResult(statistic=5.500053450812596, pvalue=0.010482206918698694)"
            ]
          },
          "metadata": {
            "tags": []
          },
          "execution_count": 106
        }
      ]
    },
    {
      "cell_type": "markdown",
      "metadata": {
        "id": "pv3CFhBNLm3H"
      },
      "source": [
        "Можно еще сравнить попарно"
      ]
    },
    {
      "cell_type": "code",
      "metadata": {
        "id": "ZsanM2-zLMZb",
        "outputId": "a6584df9-311c-4228-9421-1b4f3f694fea",
        "colab": {
          "base_uri": "https://localhost:8080/",
          "height": 68
        }
      },
      "source": [
        "print(stats.f_oneway(hock , foot))\n",
        "print(stats.f_oneway(shtan , foot))\n",
        "print(stats.f_oneway(shtan , hock))\n",
        "\n"
      ],
      "execution_count": 108,
      "outputs": [
        {
          "output_type": "stream",
          "text": [
            "F_onewayResult(statistic=0.038473767885532584, pvalue=0.8471274829862326)\n",
            "F_onewayResult(statistic=9.232797542249019, pvalue=0.007418502503470389)\n",
            "F_onewayResult(statistic=6.86, pvalue=0.017384077963160147)\n"
          ],
          "name": "stdout"
        }
      ]
    },
    {
      "cell_type": "markdown",
      "metadata": {
        "id": "QF_XriwnLqW-"
      },
      "source": [
        "Как и ожидалось, больше всего влияния оказывают штангисты. Они явно самые мелкие, это было видно из графиоков.\n",
        "\n",
        "При этом разница в серднем росте между футболистами и хоккеистами не является статистически значимой"
      ]
    },
    {
      "cell_type": "code",
      "metadata": {
        "id": "vybUxtn7L2C5"
      },
      "source": [
        ""
      ],
      "execution_count": null,
      "outputs": []
    }
  ]
}