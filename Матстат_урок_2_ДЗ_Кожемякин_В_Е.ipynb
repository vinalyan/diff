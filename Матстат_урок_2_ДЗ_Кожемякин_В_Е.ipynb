{
  "nbformat": 4,
  "nbformat_minor": 0,
  "metadata": {
    "colab": {
      "name": "Матстат_урок_2_ДЗ_Кожемякин_В_Е.ipynb",
      "provenance": [],
      "authorship_tag": "ABX9TyPy7xDMotFbMcskjteKok/B",
      "include_colab_link": true
    },
    "kernelspec": {
      "name": "python3",
      "display_name": "Python 3"
    }
  },
  "cells": [
    {
      "cell_type": "markdown",
      "metadata": {
        "id": "view-in-github",
        "colab_type": "text"
      },
      "source": [
        "<a href=\"https://colab.research.google.com/github/vinalyan/diff/blob/master/%D0%9C%D0%B0%D1%82%D1%81%D1%82%D0%B0%D1%82_%D1%83%D1%80%D0%BE%D0%BA_2_%D0%94%D0%97_%D0%9A%D0%BE%D0%B6%D0%B5%D0%BC%D1%8F%D0%BA%D0%B8%D0%BD_%D0%92_%D0%95.ipynb\" target=\"_parent\"><img src=\"https://colab.research.google.com/assets/colab-badge.svg\" alt=\"Open In Colab\"/></a>"
      ]
    },
    {
      "cell_type": "markdown",
      "metadata": {
        "id": "JC12G9x0bAAV"
      },
      "source": [
        "#Настройки"
      ]
    },
    {
      "cell_type": "code",
      "metadata": {
        "id": "3p4Uk1NUa3Kj"
      },
      "source": [
        "import numpy as np\n",
        "from math import factorial\n",
        "def combinations(n, k):\n",
        "    return int(factorial(n) / (factorial(k) * factorial(n - k)))\n",
        "\n",
        "from matplotlib import pyplot as plt"
      ],
      "execution_count": 1,
      "outputs": []
    },
    {
      "cell_type": "markdown",
      "metadata": {
        "id": "AI0tLBLibJeE"
      },
      "source": [
        "#Задание №1\n",
        "Вероятность того, что стрелок попадет в мишень, выстрелив один раз, равна $0.8$. \n",
        "\n",
        "Стрелок выстрелил $100$ раз. \n",
        "\n",
        "Найдите вероятность того, что стрелок попадет в цель ровно $85$ раз."
      ]
    },
    {
      "cell_type": "markdown",
      "metadata": {
        "id": "80hujZiobOEw"
      },
      "source": [
        "##Решение\n",
        "Число попаданий — это дискретная величина из отрезка $[0, 100]$.\n",
        "\n",
        "Вероятности возможных значений этой величины определяются по формуле Бернулли:\n",
        "$$P_n(X=k) = C_n^k p^k q^{n-k}$$\n",
        "где:\n",
        "\n",
        "$n = 100$\n",
        "\n",
        "$k = 85$\n",
        "\n",
        "$p = 0,8$\n",
        "\n",
        "$q=1-p=0,2$\n",
        "\n",
        "Итого, вероятность попадания $85$ раз из $100$ выстрелов равно:\n",
        "\n",
        "$$P_{100}(X=85) = C_{100}^{85} *{0,8}^{85}* {0,2}^{15}= 0,048$$"
      ]
    },
    {
      "cell_type": "markdown",
      "metadata": {
        "id": "QIrKXlFTbTub"
      },
      "source": [
        "##Ответ\n",
        "$P_{100}(X=85) = 0,048$"
      ]
    },
    {
      "cell_type": "code",
      "metadata": {
        "id": "BY6usyhYbRjv",
        "outputId": "e62871d3-341f-4640-d329-e46dd3be95b4",
        "colab": {
          "base_uri": "https://localhost:8080/",
          "height": 34
        }
      },
      "source": [
        "n = 100\n",
        "k = 85\n",
        "p = 0.8\n",
        "q = 1 - p\n",
        "res_1 = combinations(n, k) * (p**k)*(q**(n-k))\n",
        "res_1"
      ],
      "execution_count": 2,
      "outputs": [
        {
          "output_type": "execute_result",
          "data": {
            "text/plain": [
              "0.048061793700746355"
            ]
          },
          "metadata": {
            "tags": []
          },
          "execution_count": 2
        }
      ]
    },
    {
      "cell_type": "markdown",
      "metadata": {
        "id": "wL0NBQlyzovD"
      },
      "source": [
        "### График распределения\n",
        "Я дико засомневался в правильности ответа и попробовал построить графиг распределения этой штуки. \n",
        "Легче мне не стало, но график я тут осталвлю\n",
        "\n",
        "\n",
        "---\n",
        "\n",
        "**TODO:** \n",
        "1. выделть на графике значение 85\n",
        "2. выделить на графике значение res_1"
      ]
    },
    {
      "cell_type": "code",
      "metadata": {
        "id": "APTrgKT3hjyp",
        "outputId": "ffc836e5-db57-4748-8f59-d2ce70452879",
        "colab": {
          "base_uri": "https://localhost:8080/",
          "height": 295
        }
      },
      "source": [
        "n = 100\n",
        "p = 0.8\n",
        "q = 0.2\n",
        "\n",
        "y = []\n",
        "for k in range(1, 100):\n",
        "  y.append(combinations(n, k) * (p**k)*(q**(n-k))) \n",
        "x = np.arange(100)\n",
        "x = [x for x in range(1, 100)]\n",
        "\n",
        "plt.bar(x,y,alpha=0.7 )\n",
        "plt.title(\"Распределение\")\n",
        "plt.xlabel('Попадания')\n",
        "plt.ylabel('Вероятность')\n",
        "plt.text(85,res_1,'Где-то тут')\n",
        "plt.show()"
      ],
      "execution_count": 3,
      "outputs": [
        {
          "output_type": "display_data",
          "data": {
            "image/png": "[encoded data removed]",
            "text/plain": [
              "<Figure size 432x288 with 1 Axes>"
            ]
          },
          "metadata": {
            "tags": [],
            "needs_background": "light"
          }
        }
      ]
    },
    {
      "cell_type": "markdown",
      "metadata": {
        "id": "udTCH9Vo-NPC"
      },
      "source": [
        "# Задание №2\n",
        "Вероятность того, что лампочка перегорит в течение первого дня эксплуатации, равна $0.0004$. \n",
        "\n",
        "В жилом комплексе после ремонта в один день включили $5000$ новых лампочек. \n",
        "\n",
        "Какова вероятность, что ни одна из них не перегорит в первый день? \n",
        "\n",
        "Какова вероятность, что перегорят ровно две?"
      ]
    },
    {
      "cell_type": "markdown",
      "metadata": {
        "id": "WrfSI3tW-fjM"
      },
      "source": [
        "##Решение\n"
      ]
    },
    {
      "cell_type": "markdown",
      "metadata": {
        "id": "OS5RE57b-qMz"
      },
      "source": [
        "Будем считать, что тут много испытаний и вероятность перегорания лампочки в одном испытании мала. \n",
        "Следовательно толково тут использовать закон распределения Пуассона\n",
        "$$P_m \\approx \\frac{\\lambda^m}{m!}e^{-\\lambda}$$\n",
        "где:\n",
        "\n",
        "$n = 5000$ - количество лапмочек \n",
        "\n",
        "$p = 0.0004$ - вероятность перегорания одной лампы за один день \n",
        "\n",
        "$λ = n*p = 2$ - судя по всему, это означает, что за день из 5000 ламп сгорают две.\n",
        "\n",
        "$m = 0$ - для формулы, где ни одной лампы не сгорело\n",
        "\n",
        "$m = 2$ - для формулы, где сгорело ровно две лампы\n",
        "\n",
        "\n",
        "Тогда: \n",
        "1. вероятность того, что ни одна лапа не прегорит в первый день равна:\n",
        "\n",
        "$$P_0 \\approx \\frac{2^0}{0!}e^{-2} = e^{-2} = 0,135$$\n",
        "\n",
        "2. вероятность того, что в первый день перегорит ровно 2 лампы:\n",
        "$$P_2 \\approx \\frac{2^2}{2!}e^{-2} = 2*e^{-2} = 0,270$$\n"
      ]
    },
    {
      "cell_type": "markdown",
      "metadata": {
        "id": "UDFG0isBBrcc"
      },
      "source": [
        "## Ответ\n",
        "$P_0 \\approx 0,135$ - ни одна лампа не перегорит\n",
        "\n",
        "$P_2 \\approx 0,27$ - перегорит ровно две лампы"
      ]
    },
    {
      "cell_type": "code",
      "metadata": {
        "id": "8TyZrKNc-etr",
        "outputId": "4ac8c566-6f8d-4941-b1ef-def3c9c6f5c2",
        "colab": {
          "base_uri": "https://localhost:8080/",
          "height": 34
        }
      },
      "source": [
        "#ноль ламп\n",
        "n = 5000\n",
        "m0 = 0\n",
        "p = 0.0004\n",
        "lambda_ = n * p\n",
        "\n",
        "res_2_1 = (lambda_**m0 / np.math.factorial(m0)) * np.exp(-lambda_)\n",
        "res_2_1 "
      ],
      "execution_count": 4,
      "outputs": [
        {
          "output_type": "execute_result",
          "data": {
            "text/plain": [
              "0.1353352832366127"
            ]
          },
          "metadata": {
            "tags": []
          },
          "execution_count": 4
        }
      ]
    },
    {
      "cell_type": "code",
      "metadata": {
        "id": "1rpUupHgDjd2",
        "outputId": "93d70ced-d31a-4960-acc7-e5fcec5a49e1",
        "colab": {
          "base_uri": "https://localhost:8080/",
          "height": 34
        }
      },
      "source": [
        "#две лампы\n",
        "n = 5000\n",
        "m2 = 2\n",
        "p = 0.0004\n",
        "lambda_ = n * p\n",
        "\n",
        "res_2_2 = (lambda_**m2 / np.math.factorial(m2)) * np.exp(-lambda_)\n",
        "res_2_2"
      ],
      "execution_count": 5,
      "outputs": [
        {
          "output_type": "execute_result",
          "data": {
            "text/plain": [
              "0.2706705664732254"
            ]
          },
          "metadata": {
            "tags": []
          },
          "execution_count": 5
        }
      ]
    },
    {
      "cell_type": "code",
      "metadata": {
        "id": "Uf-6jw48HV67",
        "outputId": "c8ad64cd-bdcd-45ff-8b7e-d6f696ee2750",
        "colab": {
          "base_uri": "https://localhost:8080/",
          "height": 34
        }
      },
      "source": [
        "D= n*p*q\n",
        "D"
      ],
      "execution_count": 6,
      "outputs": [
        {
          "output_type": "execute_result",
          "data": {
            "text/plain": [
              "0.4"
            ]
          },
          "metadata": {
            "tags": []
          },
          "execution_count": 6
        }
      ]
    },
    {
      "cell_type": "code",
      "metadata": {
        "id": "OuYfMTsBHcTZ",
        "outputId": "7707a639-5fbf-41aa-acc5-5c760dbf6d8f",
        "colab": {
          "base_uri": "https://localhost:8080/",
          "height": 34
        }
      },
      "source": [
        "M =n*p\n",
        "M"
      ],
      "execution_count": 7,
      "outputs": [
        {
          "output_type": "execute_result",
          "data": {
            "text/plain": [
              "2.0"
            ]
          },
          "metadata": {
            "tags": []
          },
          "execution_count": 7
        }
      ]
    },
    {
      "cell_type": "markdown",
      "metadata": {
        "id": "28n2TMmVIVwX"
      },
      "source": [
        "#Задание №3\n",
        "Монету подбросили $144$ раза. \n",
        "\n",
        "Какова вероятность, что орел выпадет ровно $70$ раз?"
      ]
    },
    {
      "cell_type": "markdown",
      "metadata": {
        "id": "2Zq8_vW2IyvV"
      },
      "source": [
        "## Решение\n"
      ]
    },
    {
      "cell_type": "markdown",
      "metadata": {
        "id": "JpTAf4WRKOEt"
      },
      "source": [
        "Число усешных бросков монеты — это дискретная величина из отрезка $[0, 144]$.\n",
        "Вероятности возможных значений этой величины определяются по формуле Бернулли:\n",
        "$$P_n(X=k) = C_n^k p^k q^{n-k}$$\n",
        "где:\n",
        "\n",
        "$n = 144$\n",
        "\n",
        "$k = 70$\n",
        "\n",
        "$p = 0,5$\n",
        "\n",
        "$q=1-p=0,5$\n",
        "\n",
        "Итого, вероятность успешно выкинуть орла $70$ раз из $144$ бросков равно:\n",
        "\n",
        "$$P_{144}(X=70) = C_{144}^{70} *{0,5}^{70}* {0,5}^{74}= 0,063$$"
      ]
    },
    {
      "cell_type": "markdown",
      "metadata": {
        "id": "b_4vovnwJoTQ"
      },
      "source": [
        "##Ответ\n",
        "$P_{144}(X=70) = 0,063$"
      ]
    },
    {
      "cell_type": "code",
      "metadata": {
        "id": "8f3IejTNIzvF",
        "outputId": "47dee191-aae9-4a2b-bc05-eaae7e3bfa30",
        "colab": {
          "base_uri": "https://localhost:8080/",
          "height": 34
        }
      },
      "source": [
        "n = 144\n",
        "k = 70\n",
        "p = 0.5\n",
        "q = 1 - p\n",
        "res_3 = combinations(n, k) * (p**k)*(q**(n-k))\n",
        "res_3"
      ],
      "execution_count": 8,
      "outputs": [
        {
          "output_type": "execute_result",
          "data": {
            "text/plain": [
              "0.06281178035144776"
            ]
          },
          "metadata": {
            "tags": []
          },
          "execution_count": 8
        }
      ]
    },
    {
      "cell_type": "markdown",
      "metadata": {
        "id": "bpQR9TvDKeX7"
      },
      "source": [
        "### График распределения\n"
      ]
    },
    {
      "cell_type": "code",
      "metadata": {
        "id": "8vaR9gqNKfXx",
        "outputId": "fdbde840-1ecd-41d3-882c-fba90759536e",
        "colab": {
          "base_uri": "https://localhost:8080/",
          "height": 295
        }
      },
      "source": [
        "y = []\n",
        "for k in range(1, 100):\n",
        "  y.append(combinations(n, k) * (p**k)*(q**(n-k))) \n",
        "x = np.arange(100)\n",
        "x = [x for x in range(1, 100)]\n",
        "\n",
        "plt.bar(x,y,alpha=0.7 )\n",
        "plt.title(\"Распределение\")\n",
        "plt.xlabel('Попадания')\n",
        "plt.ylabel('Вероятность')\n",
        "plt.text(70,res_1,'Где-то тут')\n",
        "plt.show()"
      ],
      "execution_count": 9,
      "outputs": [
        {
          "output_type": "display_data",
          "data": {
            "image/png": "[encoded data removed]",
            "text/plain": [
              "<Figure size 432x288 with 1 Axes>"
            ]
          },
          "metadata": {
            "tags": [],
            "needs_background": "light"
          }
        }
      ]
    },
    {
      "cell_type": "markdown",
      "metadata": {
        "id": "6qKvVxDLK95L"
      },
      "source": [
        "#Задание №4\n",
        "В первом ящике находится $10$ мячей, из которых $7$ - белые. \n",
        "\n",
        "Во втором ящике - $11$ мячей, из которых $9$ белых. \n",
        "\n",
        "Из каждого ящика вытаскивают случайным образом по два мяча. \n",
        "\n",
        "1. Какова вероятность того, что все мячи белые? \n",
        "2. Какова вероятность того, что ровно два мяча белые? \n",
        "3. Какова вероятность того, что хотя бы один мяч белый?"
      ]
    },
    {
      "cell_type": "markdown",
      "metadata": {
        "id": "V8P2fOELNNPI"
      },
      "source": [
        "$B_{11}$ - из первой корзины достали белый шар с первой попытки\n",
        "\n",
        "$B_{12}$ - из первой корзины достали белый шар со второй попытки\n",
        "\n",
        "$B_{21}$ - из второй корзины достали белый шар с первой попытки\n",
        "\n",
        "$B_{22}$ - из второй корзины достали белый шар со второй попытки"
      ]
    },
    {
      "cell_type": "markdown",
      "metadata": {
        "id": "HwREPWzYS9Id"
      },
      "source": [
        "$P(A_1) = P(B_{12}|B_{11})$ - вероятность, что из первой корзины достали два белых шара.\n",
        "\n",
        "$P(A_2) = P(B_{22}|B_{21})$ - вероятность, что из второй корзины достали два белых шара.\n"
      ]
    },
    {
      "cell_type": "code",
      "metadata": {
        "id": "JgLw9CeuL2Ar",
        "outputId": "1a5a050c-7d0f-4771-bf45-7906c02cc214",
        "colab": {
          "base_uri": "https://localhost:8080/",
          "height": 34
        }
      },
      "source": [
        "7/10*6/9*9/11*8/10\n"
      ],
      "execution_count": 10,
      "outputs": [
        {
          "output_type": "execute_result",
          "data": {
            "text/plain": [
              "0.3054545454545454"
            ]
          },
          "metadata": {
            "tags": []
          },
          "execution_count": 10
        }
      ]
    },
    {
      "cell_type": "markdown",
      "metadata": {
        "id": "qngX5C0gMJb8"
      },
      "source": [
        "Тут надо понять как правильно посчитать:\n",
        "1. вероятность, что с первой достали два а из второй ноль\n",
        "2. вероятность, что из второй достали два, а из первой ноль\n",
        "3. вероятность того, что из кажной ровно по одному."
      ]
    },
    {
      "cell_type": "markdown",
      "metadata": {
        "id": "NHOkROafT8RL"
      },
      "source": [
        "$P(A_1) = P(B_{12}|B_{11})$ - вероятность, что из первой корзины достали два белых шара.\n",
        "$P(A_2) = P(B_{22}|B_{21})$ - вероятность, что из второй корзины достали два белых шара.\n",
        "\n",
        "$P(A_2) = P(B_{22}|\\overline {B_{21}})$ - вероятность, что из второй корзины достали два белых шара.\n"
      ]
    },
    {
      "cell_type": "code",
      "metadata": {
        "id": "92xn-ZzTMIOR",
        "outputId": "db38f7e8-a262-4911-c3a2-32678d886a96",
        "colab": {
          "base_uri": "https://localhost:8080/",
          "height": 34
        }
      },
      "source": [
        "7/10*6/9*2/11*1/10 "
      ],
      "execution_count": 11,
      "outputs": [
        {
          "output_type": "execute_result",
          "data": {
            "text/plain": [
              "0.008484848484848482"
            ]
          },
          "metadata": {
            "tags": []
          },
          "execution_count": 11
        }
      ]
    },
    {
      "cell_type": "code",
      "metadata": {
        "id": "E5RkpSYXSGGi",
        "outputId": "51df7674-0b9d-4a52-e877-3f92b8753d94",
        "colab": {
          "base_uri": "https://localhost:8080/",
          "height": 34
        }
      },
      "source": [
        "9/11*8/10*3/10*2/9"
      ],
      "execution_count": 12,
      "outputs": [
        {
          "output_type": "execute_result",
          "data": {
            "text/plain": [
              "0.04363636363636363"
            ]
          },
          "metadata": {
            "tags": []
          },
          "execution_count": 12
        }
      ]
    },
    {
      "cell_type": "code",
      "metadata": {
        "id": "Srj1Ld61SJy5",
        "outputId": "a518942a-b48f-4b77-d6c8-55bddd3de50e",
        "colab": {
          "base_uri": "https://localhost:8080/",
          "height": 34
        }
      },
      "source": [
        "7/10*3/9*9/11*2/10"
      ],
      "execution_count": 13,
      "outputs": [
        {
          "output_type": "execute_result",
          "data": {
            "text/plain": [
              "0.03818181818181818"
            ]
          },
          "metadata": {
            "tags": []
          },
          "execution_count": 13
        }
      ]
    },
    {
      "cell_type": "markdown",
      "metadata": {
        "id": "RO5IHVWOMm1j"
      },
      "source": [
        "1. вероятность, что из первой вытащили хоть один белый шар за две попытки\n",
        "2. вероятность, что из второй вытащили хоть один былей шар за две попытки"
      ]
    },
    {
      "cell_type": "code",
      "metadata": {
        "id": "Ms9mHMxqL_xL",
        "outputId": "baaa5fe7-facf-4266-a60d-98db599a3e5c",
        "colab": {
          "base_uri": "https://localhost:8080/",
          "height": 34
        }
      },
      "source": [
        "7/10*3/9 + 3/10*7/9 + 7/10*6/9"
      ],
      "execution_count": 14,
      "outputs": [
        {
          "output_type": "execute_result",
          "data": {
            "text/plain": [
              "0.9333333333333331"
            ]
          },
          "metadata": {
            "tags": []
          },
          "execution_count": 14
        }
      ]
    },
    {
      "cell_type": "code",
      "metadata": {
        "id": "u5fdx1hQQv_D",
        "outputId": "ec9e1b5a-4dc7-4b80-f532-5a0b2af71e75",
        "colab": {
          "base_uri": "https://localhost:8080/",
          "height": 34
        }
      },
      "source": [
        "combinations(7, 2) / combinations(10, 2)"
      ],
      "execution_count": 15,
      "outputs": [
        {
          "output_type": "execute_result",
          "data": {
            "text/plain": [
              "0.4666666666666667"
            ]
          },
          "metadata": {
            "tags": []
          },
          "execution_count": 15
        }
      ]
    }
  ]
}