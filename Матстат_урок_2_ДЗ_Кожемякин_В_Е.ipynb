{
  "nbformat": 4,
  "nbformat_minor": 0,
  "metadata": {
    "colab": {
      "name": "Матстат_урок_2_ДЗ_Кожемякин_В_Е.ipynb",
      "provenance": [],
      "authorship_tag": "ABX9TyOMfBWXLedzK4hALE4GyWz7",
      "include_colab_link": true
    },
    "kernelspec": {
      "name": "python3",
      "display_name": "Python 3"
    }
  },
  "cells": [
    {
      "cell_type": "markdown",
      "metadata": {
        "id": "view-in-github",
        "colab_type": "text"
      },
      "source": [
        "<a href=\"https://colab.research.google.com/github/vinalyan/diff/blob/master/%D0%9C%D0%B0%D1%82%D1%81%D1%82%D0%B0%D1%82_%D1%83%D1%80%D0%BE%D0%BA_2_%D0%94%D0%97_%D0%9A%D0%BE%D0%B6%D0%B5%D0%BC%D1%8F%D0%BA%D0%B8%D0%BD_%D0%92_%D0%95.ipynb\" target=\"_parent\"><img src=\"https://colab.research.google.com/assets/colab-badge.svg\" alt=\"Open In Colab\"/></a>"
      ]
    },
    {
      "cell_type": "markdown",
      "metadata": {
        "id": "JC12G9x0bAAV"
      },
      "source": [
        "#Настройки"
      ]
    },
    {
      "cell_type": "code",
      "metadata": {
        "id": "3p4Uk1NUa3Kj"
      },
      "source": [
        "import numpy as np\n",
        "from math import factorial\n",
        "def combinations(n, k):\n",
        "    return int(factorial(n) / (factorial(k) * factorial(n - k)))\n",
        "\n",
        "from matplotlib import pyplot as plt"
      ],
      "execution_count": 249,
      "outputs": []
    },
    {
      "cell_type": "markdown",
      "metadata": {
        "id": "AI0tLBLibJeE"
      },
      "source": [
        "#Задание №1\n",
        "Вероятность того, что стрелок попадет в мишень, выстрелив один раз, равна $0.8$. \n",
        "\n",
        "Стрелок выстрелил $100$ раз. \n",
        "\n",
        "Найдите вероятность того, что стрелок попадет в цель ровно $85$ раз."
      ]
    },
    {
      "cell_type": "markdown",
      "metadata": {
        "id": "80hujZiobOEw"
      },
      "source": [
        "##Решение\n",
        "Число выстрелов наступления — это дискретная величина из отрезка $[0, 100]$.\n",
        "Вероятности возможных значений этой величины определяются по формуле Бернулли:\n",
        "$$P_n(X=k) = C_n^k p^k q^{n-k}$$\n",
        "где:\n",
        "\n",
        "$n = 100$\n",
        "\n",
        "$k = 85$\n",
        "\n",
        "$p = 0,8$\n",
        "\n",
        "$q=1-p=0,2$\n",
        "\n",
        "Итого, вероятность попадания $85$ раз из $100$ выстрелов равно:\n",
        "\n",
        "$$P_{100}(X=85) = C_{100}^{85} *{0,8}^{85}* {0,2}^{15}= 0,048$$"
      ]
    },
    {
      "cell_type": "markdown",
      "metadata": {
        "id": "QIrKXlFTbTub"
      },
      "source": [
        "##Ответ\n"
      ]
    },
    {
      "cell_type": "code",
      "metadata": {
        "id": "BY6usyhYbRjv",
        "outputId": "7384bc67-9154-4a92-fadd-8f577f167e4a",
        "colab": {
          "base_uri": "https://localhost:8080/",
          "height": 34
        }
      },
      "source": [
        "n = 100\n",
        "k = 85\n",
        "p = 0.8\n",
        "q = 1 - p\n",
        "res_1 = combinations(n, k) * (p**k)*(q**(n-k))\n",
        "res_1"
      ],
      "execution_count": 192,
      "outputs": [
        {
          "output_type": "execute_result",
          "data": {
            "text/plain": [
              "0.048061793700746355"
            ]
          },
          "metadata": {
            "tags": []
          },
          "execution_count": 192
        }
      ]
    },
    {
      "cell_type": "markdown",
      "metadata": {
        "id": "wL0NBQlyzovD"
      },
      "source": [
        "### График распределения\n",
        "Я дико засомневался в правильности ответа и попробовал построить графиг распределения этой штуки. \n",
        "Легче мне не стало, но график я тут осталвлю"
      ]
    },
    {
      "cell_type": "code",
      "metadata": {
        "id": "APTrgKT3hjyp",
        "outputId": "39281275-cd37-4e16-d3f6-0c74305d8791",
        "colab": {
          "base_uri": "https://localhost:8080/",
          "height": 295
        }
      },
      "source": [
        "n = 100\n",
        "p = 0.8\n",
        "q = 0.2\n",
        "\n",
        "y = []\n",
        "for k in range(1, 100):\n",
        "  y.append(combinations(n, k) * (p**k)*(q**(n-k))) \n",
        "x = np.arange(100)\n",
        "x = [x for x in range(1, 100)]\n",
        "\n",
        "plt.bar(x,y,alpha=0.7 )\n",
        "plt.title(\"Распределение\")\n",
        "plt.xlabel('Попадания')\n",
        "plt.ylabel('Вероятность')\n",
        "plt.text(85,res_1,'Где-то тут')\n",
        "plt.show()"
      ],
      "execution_count": 250,
      "outputs": [
        {
          "output_type": "display_data",
          "data": {
            "image/png": "[encoded data removed]",
            "text/plain": [
              "<Figure size 432x288 with 1 Axes>"
            ]
          },
          "metadata": {
            "tags": [],
            "needs_background": "light"
          }
        }
      ]
    },
    {
      "cell_type": "markdown",
      "metadata": {
        "id": "udTCH9Vo-NPC"
      },
      "source": [
        "# Задание №2\n",
        "Вероятность того, что лампочка перегорит в течение первого дня эксплуатации, равна $0.0004$. \n",
        "\n",
        "В жилом комплексе после ремонта в один день включили $5000$ новых лампочек. \n",
        "\n",
        "Какова вероятность, что ни одна из них не перегорит в первый день? \n",
        "\n",
        "Какова вероятность, что перегорят ровно две?"
      ]
    },
    {
      "cell_type": "markdown",
      "metadata": {
        "id": "WrfSI3tW-fjM"
      },
      "source": [
        "##Решение\n"
      ]
    },
    {
      "cell_type": "markdown",
      "metadata": {
        "id": "OS5RE57b-qMz"
      },
      "source": [
        "Будем считать, что тут много испытаний и вероятность перегорания лампочки в одном испытании мала. \n",
        "Следовательно толково тут использовать закон распределения Пуассона\n",
        "$$P_m \\approx \\frac{\\lambda^m}{m!}e^{-\\lambda}$$\n",
        "где:\n",
        "\n",
        "$n = 5000$ - количество лапмочек \n",
        "\n",
        "$p = 0.0004$ - вероятность перегорания одной лампы за один день \n",
        "\n",
        "$λ = n*p = 2$ - судя по всему, это означает, что за день из 5000 ламп сгорают две.\n",
        "\n",
        "$m = 0$ - для формулы, где ниодной лампы не сгорело\n",
        "\n",
        "$m = 2$ - для формулы, где сгорело ровно две лампы\n",
        "\n",
        "\n",
        "Тогда: \n",
        "1. вероятность того, что ни одна лапа не прегорит в первый день равна:\n",
        "\n",
        "$$P_0 \\approx \\frac{2^0}{0!}e^{-2} = e^{-2} = 0,135$$\n",
        "\n",
        "2. вероятность того, что в первый день перегорит ровно 2 лампы:\n",
        "$$P_2 \\approx \\frac{2^2}{2!}e^{-2} = 2*e^{-2} = 0,270$$\n"
      ]
    },
    {
      "cell_type": "markdown",
      "metadata": {
        "id": "UDFG0isBBrcc"
      },
      "source": [
        "## Ответ\n",
        "$P_0 \\approx 0,135$ - ни одна лампа не перегорит\n",
        "\n",
        "$P_2 \\approx 0,27$ - перегорит ровно две лампы"
      ]
    },
    {
      "cell_type": "code",
      "metadata": {
        "id": "8TyZrKNc-etr",
        "outputId": "e9662e54-a0ab-4ef7-d42a-c1ab484b61fa",
        "colab": {
          "base_uri": "https://localhost:8080/",
          "height": 34
        }
      },
      "source": [
        "#ноль ламп\n",
        "n = 5000\n",
        "m0 = 0\n",
        "p = 0.0004\n",
        "lambda_ = n * p\n",
        "\n",
        "(lambda_**m0 / np.math.factorial(m0)) * np.exp(-lambda_)"
      ],
      "execution_count": 265,
      "outputs": [
        {
          "output_type": "execute_result",
          "data": {
            "text/plain": [
              "0.1353352832366127"
            ]
          },
          "metadata": {
            "tags": []
          },
          "execution_count": 265
        }
      ]
    },
    {
      "cell_type": "code",
      "metadata": {
        "id": "1rpUupHgDjd2",
        "outputId": "47703374-c283-4920-862e-05730157f5f5",
        "colab": {
          "base_uri": "https://localhost:8080/",
          "height": 34
        }
      },
      "source": [
        "#две лампы\n",
        "n = 5000\n",
        "m2 = 2\n",
        "p = 0.0004\n",
        "lambda_ = n * p\n",
        "\n",
        "(lambda_**m2 / np.math.factorial(m2)) * np.exp(-lambda_)"
      ],
      "execution_count": 266,
      "outputs": [
        {
          "output_type": "execute_result",
          "data": {
            "text/plain": [
              "0.2706705664732254"
            ]
          },
          "metadata": {
            "tags": []
          },
          "execution_count": 266
        }
      ]
    }
  ]
}