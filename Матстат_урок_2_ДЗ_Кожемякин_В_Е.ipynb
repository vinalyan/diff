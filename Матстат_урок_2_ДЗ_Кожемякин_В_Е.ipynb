{
  "nbformat": 4,
  "nbformat_minor": 0,
  "metadata": {
    "colab": {
      "name": "Матстат_урок_2_ДЗ_Кожемякин_В_Е.ipynb",
      "provenance": [],
      "authorship_tag": "ABX9TyNMe/7ul+0uLZL6k8Wks7E9",
      "include_colab_link": true
    },
    "kernelspec": {
      "name": "python3",
      "display_name": "Python 3"
    }
  },
  "cells": [
    {
      "cell_type": "markdown",
      "metadata": {
        "id": "view-in-github",
        "colab_type": "text"
      },
      "source": [
        "<a href=\"https://colab.research.google.com/github/vinalyan/diff/blob/master/%D0%9C%D0%B0%D1%82%D1%81%D1%82%D0%B0%D1%82_%D1%83%D1%80%D0%BE%D0%BA_2_%D0%94%D0%97_%D0%9A%D0%BE%D0%B6%D0%B5%D0%BC%D1%8F%D0%BA%D0%B8%D0%BD_%D0%92_%D0%95.ipynb\" target=\"_parent\"><img src=\"https://colab.research.google.com/assets/colab-badge.svg\" alt=\"Open In Colab\"/></a>"
      ]
    },
    {
      "cell_type": "markdown",
      "metadata": {
        "id": "JC12G9x0bAAV"
      },
      "source": [
        "#Настройки"
      ]
    },
    {
      "cell_type": "code",
      "metadata": {
        "id": "3p4Uk1NUa3Kj"
      },
      "source": [
        "import numpy as np\n",
        "from math import factorial\n",
        "def combinations(n, k):\n",
        "    return int(factorial(n) / (factorial(k) * factorial(n - k)))"
      ],
      "execution_count": 1,
      "outputs": []
    },
    {
      "cell_type": "markdown",
      "metadata": {
        "id": "AI0tLBLibJeE"
      },
      "source": [
        "#Задание №1\n",
        "Вероятность того, что стрелок попадет в мишень, выстрелив один раз, равна $0.8$. \n",
        "\n",
        "Стрелок выстрелил $100$ раз. \n",
        "\n",
        "Найдите вероятность того, что стрелок попадет в цель ровно $85$ раз."
      ]
    },
    {
      "cell_type": "markdown",
      "metadata": {
        "id": "80hujZiobOEw"
      },
      "source": [
        "##Решение\n",
        "Число выстрелов наступления — это дискретная величина из отрезка $[0, 100]$.\n",
        "Вероятности возможных значений этой величины определяются по формуле Бернулли:\n",
        "$$P_n(X=k) = C_n^k p^k q^{n-k}$$\n",
        "где:\n",
        "\n",
        "$n = 100$\n",
        "\n",
        "$k = 85$\n",
        "\n",
        "$p = 0,8$\n",
        "\n",
        "$q=1-p=0,2$\n",
        "\n",
        "Итого, вероятность попадания $85$ раз из $100$ выстрелов равно:\n",
        "\n",
        "$$P_{100}(X=85) = C_{100}^{80} {0,8}^{85} {0,2}^{15}= 0,48$$"
      ]
    },
    {
      "cell_type": "markdown",
      "metadata": {
        "id": "QIrKXlFTbTub"
      },
      "source": [
        "##Ответ\n"
      ]
    },
    {
      "cell_type": "code",
      "metadata": {
        "id": "BY6usyhYbRjv",
        "outputId": "3bc3c7ff-feee-448a-a891-47344594f561",
        "colab": {
          "base_uri": "https://localhost:8080/",
          "height": 34
        }
      },
      "source": [
        "res_1 = combinations(100, 85) * 0.8**85*0.2**15\n",
        "res_1"
      ],
      "execution_count": 3,
      "outputs": [
        {
          "output_type": "execute_result",
          "data": {
            "text/plain": [
              "0.048061793700746556"
            ]
          },
          "metadata": {
            "tags": []
          },
          "execution_count": 3
        }
      ]
    }
  ]
}