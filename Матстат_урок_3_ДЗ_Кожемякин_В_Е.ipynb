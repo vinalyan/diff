{
  "nbformat": 4,
  "nbformat_minor": 0,
  "metadata": {
    "colab": {
      "name": "Матстат_урок_3_ДЗ_Кожемякин_В_Е.ipynb",
      "provenance": [],
      "authorship_tag": "ABX9TyMp+VVs++Da2eui3LtF3ABy",
      "include_colab_link": true
    },
    "kernelspec": {
      "name": "python3",
      "display_name": "Python 3"
    }
  },
  "cells": [
    {
      "cell_type": "markdown",
      "metadata": {
        "id": "view-in-github",
        "colab_type": "text"
      },
      "source": [
        "<a href=\"https://colab.research.google.com/github/vinalyan/diff/blob/master/%D0%9C%D0%B0%D1%82%D1%81%D1%82%D0%B0%D1%82_%D1%83%D1%80%D0%BE%D0%BA_3_%D0%94%D0%97_%D0%9A%D0%BE%D0%B6%D0%B5%D0%BC%D1%8F%D0%BA%D0%B8%D0%BD_%D0%92_%D0%95.ipynb\" target=\"_parent\"><img src=\"https://colab.research.google.com/assets/colab-badge.svg\" alt=\"Open In Colab\"/></a>"
      ]
    },
    {
      "cell_type": "markdown",
      "metadata": {
        "id": "3_fL9E7LErL6"
      },
      "source": [
        "#Настройки"
      ]
    },
    {
      "cell_type": "code",
      "metadata": {
        "id": "NS-clxeSEuku"
      },
      "source": [
        "import numpy as np\n",
        "from math import factorial\n",
        "def combinations(n, k):\n",
        "    return int(factorial(n) / (factorial(k) * factorial(n - k)))\n",
        "\n",
        "from matplotlib import pyplot as plt\n",
        "import seaborn as sns"
      ],
      "execution_count": 3,
      "outputs": []
    },
    {
      "cell_type": "markdown",
      "metadata": {
        "id": "YVKeS-HbErDr"
      },
      "source": [
        "#Задание №1\n",
        "\n"
      ]
    },
    {
      "cell_type": "markdown",
      "metadata": {
        "id": "wKROvblGEq27"
      },
      "source": [
        "## Решение\n",
        "Даны значения зарплат из выборки выпускников: $100, 80, 75, 77, 89, 33, 45, 25, 65, 17, 30, 24, 57, 55, 70, 75, 65, 84, 90, 150$. \n",
        "\n",
        "Посчитать:\n",
        "* среднее арифметическое, \n",
        "* среднее квадратичное отклонение, \n",
        "* смещенную оценку дисперсий для данной выборки \n",
        "* несмещенную оценку дисперсий для данной выборки."
      ]
    },
    {
      "cell_type": "code",
      "metadata": {
        "id": "t3CfRN8DFw64"
      },
      "source": [
        "x = [100, 80, 75, 77, 89, 33, 45, 25, 65, 17, 30, 24, 57, 55, 70, 75, 65, 84, 90, 150]\n",
        "#отсортируем выборку\n",
        "x.sort()\n",
        "#посчитаем количество элементов\n",
        "n = len(x)"
      ],
      "execution_count": 135,
      "outputs": []
    },
    {
      "cell_type": "markdown",
      "metadata": {
        "id": "W4baYWJvLM_Y"
      },
      "source": [
        "Среднее арифметическое находится по формуле:\n",
        "$$M(X) = \\frac{1}{n} \\sum\\limits_{i=1}^{n} x_i = 65,3$$\n",
        "где $x$ — зарплата, $n$ — количество студентов в выборке.\n",
        "\n"
      ]
    },
    {
      "cell_type": "code",
      "metadata": {
        "id": "xHehG2GjK8cm",
        "outputId": "c6f2046c-6532-49cf-f7ca-58aaf898fe91",
        "colab": {
          "base_uri": "https://localhost:8080/",
          "height": 34
        }
      },
      "source": [
        "#среднее арифметическое\n",
        "a= 0\n",
        "for i in x: a = a + i \n",
        "mu = a / n\n",
        "mu\n"
      ],
      "execution_count": 136,
      "outputs": [
        {
          "output_type": "execute_result",
          "data": {
            "text/plain": [
              "65.3"
            ]
          },
          "metadata": {
            "tags": []
          },
          "execution_count": 136
        }
      ]
    },
    {
      "cell_type": "markdown",
      "metadata": {
        "id": "ZrKa_A7DLGIw"
      },
      "source": [
        "Среднее квадратичное отклонение находится по формуле: \n",
        "$$S = \\sqrt{\\frac{\\sum\\limits_{i=1}^{n} (x_i - \\overline{x})^2}{n}} = 30.82$$\n"
      ]
    },
    {
      "cell_type": "code",
      "metadata": {
        "id": "rSzEbxwAK-2E",
        "outputId": "3e3a9674-8920-4b4d-a299-abcc0d24df97",
        "colab": {
          "base_uri": "https://localhost:8080/",
          "height": 34
        }
      },
      "source": [
        "#среднее квадратичное отклонение\n",
        "a= 0\n",
        "for i in x: a = a + (i - mu)**2\n",
        "s = (a / n)**0.5\n",
        "s"
      ],
      "execution_count": 137,
      "outputs": [
        {
          "output_type": "execute_result",
          "data": {
            "text/plain": [
              "30.823854398825596"
            ]
          },
          "metadata": {
            "tags": []
          },
          "execution_count": 137
        }
      ]
    },
    {
      "cell_type": "code",
      "metadata": {
        "id": "_OvXiqlUNIe_",
        "outputId": "65f16bdf-225e-43c5-9492-0129a4f25900",
        "colab": {
          "base_uri": "https://localhost:8080/",
          "height": 34
        }
      },
      "source": [
        "np.std(x)"
      ],
      "execution_count": 138,
      "outputs": [
        {
          "output_type": "execute_result",
          "data": {
            "text/plain": [
              "30.823854398825592"
            ]
          },
          "metadata": {
            "tags": []
          },
          "execution_count": 138
        }
      ]
    },
    {
      "cell_type": "markdown",
      "metadata": {
        "id": "yODYBZyNQaeF"
      },
      "source": [
        "Оценка дисперсии находится по следующим формулам:\n",
        "\n",
        "Смещенная:\n",
        "$$S^2 = \\frac{\\sum\\limits_{i=1}^{n} (x_i - \\overline{x})^2}{n} = 950$$\n",
        "Несмещенная:\n",
        "$$S^2 = \\frac{\\sum\\limits_{i=1}^{n} (x_i - \\overline{x})^2}{n-1} = 1000$$\n",
        "\n"
      ]
    },
    {
      "cell_type": "code",
      "metadata": {
        "id": "kfSZOd4OQ8lB",
        "outputId": "c74da4b8-57bf-4ccd-c2fb-d22fee829773",
        "colab": {
          "base_uri": "https://localhost:8080/",
          "height": 34
        }
      },
      "source": [
        "#Смещанная оценка дисперсии\n",
        "a= 0\n",
        "for i in x: a = a + (i - mu)**2\n",
        "d = a / n\n",
        "d"
      ],
      "execution_count": 139,
      "outputs": [
        {
          "output_type": "execute_result",
          "data": {
            "text/plain": [
              "950.11"
            ]
          },
          "metadata": {
            "tags": []
          },
          "execution_count": 139
        }
      ]
    },
    {
      "cell_type": "code",
      "metadata": {
        "id": "Nauax8byQ2hB",
        "outputId": "02bbb765-c5e1-43df-d3da-ed8432b8c5b3",
        "colab": {
          "base_uri": "https://localhost:8080/",
          "height": 34
        }
      },
      "source": [
        "np.var(x)"
      ],
      "execution_count": 140,
      "outputs": [
        {
          "output_type": "execute_result",
          "data": {
            "text/plain": [
              "950.1099999999999"
            ]
          },
          "metadata": {
            "tags": []
          },
          "execution_count": 140
        }
      ]
    },
    {
      "cell_type": "code",
      "metadata": {
        "id": "wy_AZ5ciRUOk",
        "outputId": "44162fe1-424b-4396-e854-1632a5b9fcec",
        "colab": {
          "base_uri": "https://localhost:8080/",
          "height": 34
        }
      },
      "source": [
        "#Смещанная оценка дисперсии\n",
        "a= 0\n",
        "for i in x: a = a + (i - mu) ** 2\n",
        "d_ddof = a / (n - 1)\n",
        "d_ddof"
      ],
      "execution_count": 141,
      "outputs": [
        {
          "output_type": "execute_result",
          "data": {
            "text/plain": [
              "1000.1157894736842"
            ]
          },
          "metadata": {
            "tags": []
          },
          "execution_count": 141
        }
      ]
    },
    {
      "cell_type": "code",
      "metadata": {
        "id": "NAED6EErM_aa",
        "outputId": "7b02680e-5208-4949-97d9-9ffec6cdf06a",
        "colab": {
          "base_uri": "https://localhost:8080/",
          "height": 34
        }
      },
      "source": [
        "np.var(x, ddof=1)"
      ],
      "execution_count": 142,
      "outputs": [
        {
          "output_type": "execute_result",
          "data": {
            "text/plain": [
              "1000.115789473684"
            ]
          },
          "metadata": {
            "tags": []
          },
          "execution_count": 142
        }
      ]
    },
    {
      "cell_type": "markdown",
      "metadata": {
        "id": "k_WlOFGGR8KT"
      },
      "source": [
        "###Немножко графиков"
      ]
    },
    {
      "cell_type": "code",
      "metadata": {
        "id": "M8eaSXodRvwJ",
        "outputId": "509b04d4-7f72-442b-d149-01ea1a7f48db",
        "colab": {
          "base_uri": "https://localhost:8080/",
          "height": 295
        }
      },
      "source": [
        "plt.hist(x)\n",
        "plt.title(\"Распределение зарплаты в выборке \"\"x\"\" \")\n",
        "plt.xlabel('Зарплата')\n",
        "plt.ylabel('Частота')\n",
        "plt.show()"
      ],
      "execution_count": 143,
      "outputs": [
        {
          "output_type": "display_data",
          "data": {
            "image/png": "[encoded data removed]",
            "text/plain": [
              "<Figure size 432x288 with 1 Axes>"
            ]
          },
          "metadata": {
            "tags": [],
            "needs_background": "light"
          }
        }
      ]
    },
    {
      "cell_type": "code",
      "metadata": {
        "id": "64I34LcAR6_s",
        "outputId": "f5a9efca-5569-4dc6-ae8f-1a925ef0e3d7",
        "colab": {
          "base_uri": "https://localhost:8080/",
          "height": 252
        }
      },
      "source": [
        "sns.boxplot(y = x )\n",
        "plt.show()"
      ],
      "execution_count": 144,
      "outputs": [
        {
          "output_type": "display_data",
          "data": {
            "image/png": "[encoded data removed]",
            "text/plain": [
              "<Figure size 432x288 with 1 Axes>"
            ]
          },
          "metadata": {
            "tags": [],
            "needs_background": "light"
          }
        }
      ]
    },
    {
      "cell_type": "markdown",
      "metadata": {
        "id": "VMagbbACE_HX"
      },
      "source": [
        "##Ответ\n",
        "* среднее арифметическое -  $65,3$\n",
        "* среднее квадратичное отклонение - $30.820$\n",
        "* смещенную оценку дисперсий для данной выборки - $950$\n",
        "* несмещенную оценку дисперсий для данной выборки - $1000$."
      ]
    },
    {
      "cell_type": "code",
      "metadata": {
        "id": "kWScOqFAEoB7",
        "outputId": "ba0aecf3-6671-40d5-d7a1-658d394f0225",
        "colab": {
          "base_uri": "https://localhost:8080/",
          "height": 84
        }
      },
      "source": [
        "print('среденне арифметическое: {}\\nСКО: {}\\nдисперия (смещенная): {}\\nдисперия (не смещенная): {}'.format(mu, s, d,  d_ddof))"
      ],
      "execution_count": 152,
      "outputs": [
        {
          "output_type": "stream",
          "text": [
            "среденне арифметическое: 65.3\n",
            "СКО: 30.823854398825596\n",
            "дисперия (смещенная): 950.11\n",
            "дисперия (не смещенная): 1000.1157894736842\n"
          ],
          "name": "stdout"
        }
      ]
    },
    {
      "cell_type": "markdown",
      "metadata": {
        "id": "Pez3Mdl6ap91"
      },
      "source": [
        "#Задание №2\n",
        "В первом ящике находится 8 мячей, из которых 5 - белые. \n",
        "\n",
        "Во втором ящике - 12 мячей, из которых 5 белых. \n",
        "\n",
        "Из первого ящика вытаскивают случайным образом 2 мяча, из второго 4. \n",
        "\n",
        "Какова вероятность того, что 3 мяча белые?"
      ]
    },
    {
      "cell_type": "markdown",
      "metadata": {
        "id": "DP33vtt0avad"
      },
      "source": [
        "##Решение\n",
        "$A$ - событие, что извлечено ровно 3 белых мяча. \n",
        "\n",
        "Событие $A$ произойдет, если произойдет одно из следующих событий:\n",
        "1. $A_{21}$ - из первого достали 2 ,белых мяча, а из второго 1;\n",
        "2. $A_{12}$ - из первого достали 1 белый мяч, а из второго 2; \n",
        "3. $A_{03}$ - из второго ящика достали 3 белых мяча, а из первого ни одного;\n",
        "\n"
      ]
    },
    {
      "cell_type": "markdown",
      "metadata": {
        "id": "MPiJjlcJ8P1j"
      },
      "source": [
        "Опеределим вероятность события $A_{03}$:\n",
        " $$P(A_{03}) = \\frac{C_{3}^2}{C_{8}^2} * \\frac{C_{5}^3*C_{7}^1 }{C_{12}^4} = 0,015$$"
      ]
    },
    {
      "cell_type": "code",
      "metadata": {
        "id": "zIJHlbcYcNVE",
        "outputId": "da30d3ef-8fe3-42e6-954b-8423c3410bee",
        "colab": {
          "base_uri": "https://localhost:8080/",
          "height": 0
        }
      },
      "source": [
        "pa_03 = (combinations(5, 3) * combinations(7, 1)) / combinations(12, 4) * combinations(3, 2)/combinations(8, 2)\n",
        "pa_03"
      ],
      "execution_count": 153,
      "outputs": [
        {
          "output_type": "execute_result",
          "data": {
            "text/plain": [
              "0.01515151515151515"
            ]
          },
          "metadata": {
            "tags": []
          },
          "execution_count": 153
        }
      ]
    },
    {
      "cell_type": "code",
      "metadata": {
        "id": "MZ-5uOBdLdKx",
        "outputId": "00c3a282-f0f1-4387-d895-68620f2fae89",
        "colab": {
          "base_uri": "https://localhost:8080/",
          "height": 0
        }
      },
      "source": [
        "combinations(3, 2)/combinations(8, 2)"
      ],
      "execution_count": 154,
      "outputs": [
        {
          "output_type": "execute_result",
          "data": {
            "text/plain": [
              "0.10714285714285714"
            ]
          },
          "metadata": {
            "tags": []
          },
          "execution_count": 154
        }
      ]
    },
    {
      "cell_type": "markdown",
      "metadata": {
        "id": "2SyIx9BqNv1b"
      },
      "source": [
        "Опеределим вероятность события $A_{12}$:\n",
        " $$P(A_{12}) = \\frac{C_{5}^1*C_{3}^1}{C_{8}^2} * \\frac{C_{5}^2*C_{7}^2 }{C_{12}^4} = 0,23$$"
      ]
    },
    {
      "cell_type": "code",
      "metadata": {
        "id": "0VPKG_BXOHAL",
        "outputId": "e423fcde-599c-4394-858b-d065b8c179a2",
        "colab": {
          "base_uri": "https://localhost:8080/",
          "height": 0
        }
      },
      "source": [
        "pa_12 = combinations(5, 1) * combinations(3, 1) / combinations(8, 2) * (combinations(5, 2) * combinations(7, 2)) / combinations(12, 4)\n",
        "pa_12"
      ],
      "execution_count": 155,
      "outputs": [
        {
          "output_type": "execute_result",
          "data": {
            "text/plain": [
              "0.22727272727272727"
            ]
          },
          "metadata": {
            "tags": []
          },
          "execution_count": 155
        }
      ]
    },
    {
      "cell_type": "markdown",
      "metadata": {
        "id": "eRgylq0yPNQq"
      },
      "source": [
        "Опеределим вероятность события $A_{21}$:\n",
        " $$P(A_{21}) = \\frac{C_{5}^2}{C_{8}^2} * \\frac{C_{5}^1*C_{7}^3 }{C_{12}^4} = 0,13$$"
      ]
    },
    {
      "cell_type": "code",
      "metadata": {
        "id": "dcSm94QiPYOo",
        "outputId": "2fa19295-6152-4fe1-ef7f-2a4d9d4f7897",
        "colab": {
          "base_uri": "https://localhost:8080/",
          "height": 0
        }
      },
      "source": [
        "pa_21 = combinations(5, 2) / combinations(8, 2) * (combinations(5, 1) * combinations(7, 3)) / combinations(12, 4)\n",
        "pa_21"
      ],
      "execution_count": 156,
      "outputs": [
        {
          "output_type": "execute_result",
          "data": {
            "text/plain": [
              "0.12626262626262627"
            ]
          },
          "metadata": {
            "tags": []
          },
          "execution_count": 156
        }
      ]
    },
    {
      "cell_type": "markdown",
      "metadata": {
        "id": "TRZvfHBLPwQ8"
      },
      "source": [
        "В связи с тем, что все указанные события являются не совместимыми, то вероятность события $A$ рассчитыватся по формуле:\n",
        "$$ P(A) = P(A_{03}) + P(A_{12}) + P(A_{21})$$"
      ]
    },
    {
      "cell_type": "markdown",
      "metadata": {
        "id": "84sKpR-IPgTM"
      },
      "source": [
        "##Ответ\n",
        "$$ P(A) = P(A_{03}) + P(A_{12}) + P(A_{21}) = 0.37$$"
      ]
    },
    {
      "cell_type": "code",
      "metadata": {
        "id": "wtRUpnoBPxxm",
        "outputId": "d8c1945d-d132-411d-ff51-56190203c837",
        "colab": {
          "base_uri": "https://localhost:8080/",
          "height": 35
        }
      },
      "source": [
        "pa = pa_03+pa_12+pa_21\n",
        "('Веротяность того, что все мячи белые: {}'.format(pa))"
      ],
      "execution_count": 157,
      "outputs": [
        {
          "output_type": "execute_result",
          "data": {
            "application/vnd.google.colaboratory.intrinsic+json": {
              "type": "string"
            },
            "text/plain": [
              "'Веротяность того, что все мячи белые: 0.3686868686868687'"
            ]
          },
          "metadata": {
            "tags": []
          },
          "execution_count": 157
        }
      ]
    },
    {
      "cell_type": "markdown",
      "metadata": {
        "id": "9P1_ayGkQZGM"
      },
      "source": [
        "# Задание №3\n",
        "\n",
        "На соревновании по биатлону один из трех спортсменов стреляет и попадает в мишень. Вероятность попадания для первого спортсмена равна 0.9, для второго — 0.8, для третьего — 0.6. Найти вероятность того, что выстрел произведен: \n",
        "\n",
        "a). первым спортсменом \n",
        "\n",
        "б). вторым спортсменом \n",
        "\n",
        "в). третьим спортсменом.\n",
        " \n",
        " \n",
        "\n"
      ]
    },
    {
      "cell_type": "markdown",
      "metadata": {
        "id": "CpMyT6A2RCCJ"
      },
      "source": [
        "## Решение\n",
        "$A$ - событие успешного поражения мишени, а события $B_1, B_2$ и $B_3$ — что выстрел совершил первый, второй или третий спортсмен: \n",
        "\n",
        "\n",
        "\n"
      ]
    },
    {
      "cell_type": "markdown",
      "metadata": {
        "id": "yX4Qa_fpgwZd"
      },
      "source": [
        "* $P(A\\:|\\:B_1) = 0,9$  \n",
        "* $P(A\\:|\\:B_2) = 0,8$ \n",
        "* $P(A\\:|\\:B_3) = 0,6$"
      ]
    },
    {
      "cell_type": "markdown",
      "metadata": {
        "id": "Ea4VRfnRdwH9"
      },
      "source": [
        "Полная вероятность равна:\n",
        "$$P(A) = P(B_1) \\cdot P(A\\:|\\:B_1) + P(B_2) \\cdot P(A\\:|\\:B_2) + P(B_3) \\cdot P(A\\:|\\:B_3) = 0,77$$"
      ]
    },
    {
      "cell_type": "code",
      "metadata": {
        "id": "eJRQhbLHdUoB",
        "outputId": "a8fdcedc-618b-4a0c-89ce-e342936323f8",
        "colab": {
          "base_uri": "https://localhost:8080/",
          "height": 34
        }
      },
      "source": [
        "pa = 1 / 3 * 0.9 + 1 / 3 * 0.8 + 1 / 3 * 0.6\n",
        "pa"
      ],
      "execution_count": 159,
      "outputs": [
        {
          "output_type": "execute_result",
          "data": {
            "text/plain": [
              "0.7666666666666666"
            ]
          },
          "metadata": {
            "tags": []
          },
          "execution_count": 159
        }
      ]
    },
    {
      "cell_type": "markdown",
      "metadata": {
        "id": "dY4Lfr1Pbdxr"
      },
      "source": [
        "Определим, что стрелял первый спортмен:\n",
        "$$P(B_1\\:|\\:A) = \\frac{P(B_1) \\cdot P(A\\:|\\:B_1)}{P(A)}$$\n",
        "\n",
        "$$P(B_1\\:|\\:A) = \\frac{\\frac{1}{3} \\cdot 0,9}{\\frac{1}{3} \\cdot 0,9 + \\frac{1}{3} \\cdot 0,8 + \\frac{1}{3} \\cdot 0,6} = 0,39$$"
      ]
    },
    {
      "cell_type": "markdown",
      "metadata": {
        "id": "OY_DC_wLbkQ5"
      },
      "source": [
        "Вероятности попадания других двух стрелков рассчитываются аналогично. "
      ]
    },
    {
      "cell_type": "code",
      "metadata": {
        "id": "BP7i4PAJdMJq",
        "outputId": "fa62301a-8ce5-41c7-9f30-9820ab3c296a",
        "colab": {
          "base_uri": "https://localhost:8080/",
          "height": 34
        }
      },
      "source": [
        "p1= 1/3*0.9/pa\n",
        "p1"
      ],
      "execution_count": 161,
      "outputs": [
        {
          "output_type": "execute_result",
          "data": {
            "text/plain": [
              "0.391304347826087"
            ]
          },
          "metadata": {
            "tags": []
          },
          "execution_count": 161
        }
      ]
    },
    {
      "cell_type": "code",
      "metadata": {
        "id": "NdhK4Z75eoG3",
        "outputId": "ae520166-8130-4848-dca6-479f4993d2f2",
        "colab": {
          "base_uri": "https://localhost:8080/",
          "height": 34
        }
      },
      "source": [
        "p2= 1/3*0.8/pa\n",
        "p2"
      ],
      "execution_count": 162,
      "outputs": [
        {
          "output_type": "execute_result",
          "data": {
            "text/plain": [
              "0.3478260869565218"
            ]
          },
          "metadata": {
            "tags": []
          },
          "execution_count": 162
        }
      ]
    },
    {
      "cell_type": "code",
      "metadata": {
        "id": "X6nL3tRien7L",
        "outputId": "3918f341-df91-4e5a-ac88-1cd5fd3d213d",
        "colab": {
          "base_uri": "https://localhost:8080/",
          "height": 34
        }
      },
      "source": [
        "p3= 1/3*0.6/pa\n",
        "p3"
      ],
      "execution_count": 163,
      "outputs": [
        {
          "output_type": "execute_result",
          "data": {
            "text/plain": [
              "0.2608695652173913"
            ]
          },
          "metadata": {
            "tags": []
          },
          "execution_count": 163
        }
      ]
    },
    {
      "cell_type": "markdown",
      "metadata": {
        "id": "5iE7pYjPdG4I"
      },
      "source": [
        "##Ответ\n",
        "$P(B_1\\:|\\:A) = 0,39$\n",
        "\n",
        "$P(B_2\\:|\\:A) = 0,35$\n",
        "\n",
        "$P(B_3\\:|\\:A) = 0,26$"
      ]
    },
    {
      "cell_type": "code",
      "metadata": {
        "id": "1Gmsb7ju51hr",
        "outputId": "50e37fac-fe3e-46da-88d3-814b237cc154",
        "colab": {
          "base_uri": "https://localhost:8080/",
          "height": 67
        }
      },
      "source": [
        "print('попал первый: {}\\nпопал второй: {}\\nпопал третий: {}'.format(p1, p2, p3))"
      ],
      "execution_count": 165,
      "outputs": [
        {
          "output_type": "stream",
          "text": [
            "попал первый: 0.391304347826087\n",
            "попал второй: 0.3478260869565218\n",
            "попал третий: 0.2608695652173913\n"
          ],
          "name": "stdout"
        }
      ]
    },
    {
      "cell_type": "code",
      "metadata": {
        "id": "Kny5ySqJkye5",
        "outputId": "03724f7a-0af1-4241-8d68-10fedd08f833",
        "colab": {
          "base_uri": "https://localhost:8080/",
          "height": 34
        }
      },
      "source": [
        "p1+p2+p3"
      ],
      "execution_count": 166,
      "outputs": [
        {
          "output_type": "execute_result",
          "data": {
            "text/plain": [
              "1.0"
            ]
          },
          "metadata": {
            "tags": []
          },
          "execution_count": 166
        }
      ]
    },
    {
      "cell_type": "markdown",
      "metadata": {
        "id": "hYhMAvpdg5O4"
      },
      "source": [
        "# Задание №4\n",
        "В университет на факультеты A и B поступило равное количество студентов, а на факультет C студентов поступило столько же, сколько на A и B вместе. \n",
        "\n",
        "Вероятность того, что студент факультета A сдаст первую сессию, равна 0.8. \n",
        "\n",
        "Для студента факультета B эта вероятность равна 0.7, \n",
        "\n",
        "Для студента факультета C - 0.9.\n",
        "\n",
        " Студент сдал первую сессию. Какова вероятность, что он учится: \n",
        " \n",
        "a). на факультете A \n",
        "\n",
        "б). на факультете B \n",
        "\n",
        "в). на факультете C?"
      ]
    },
    {
      "cell_type": "markdown",
      "metadata": {
        "id": "y5GCCd8fhLVG"
      },
      "source": [
        "## Решение\n",
        "$A$ - событие успешнй сдачи сессии, а события $B_1, B_2$ и $B_3$ — что сессию сдал студент факультета А, B или С "
      ]
    },
    {
      "cell_type": "markdown",
      "metadata": {
        "id": "DPS_hpQAh4zM"
      },
      "source": [
        "* $P(A\\:|\\:B_1) = 0,8$  \n",
        "* $P(A\\:|\\:B_2) = 0,7$ \n",
        "* $P(A\\:|\\:B_3) = 0,9$"
      ]
    },
    {
      "cell_type": "markdown",
      "metadata": {
        "id": "XHbMumF-iL27"
      },
      "source": [
        "Выясняем с какого факультета студент:\n",
        "* $P(B_1) = 0,25$ - факультет A  \n",
        "* $P(B_2) = 0,25$ - факультет B \n",
        "* $P(B_3) = 0,5$ - факультет C"
      ]
    },
    {
      "cell_type": "markdown",
      "metadata": {
        "id": "wRVC59fikEjT"
      },
      "source": [
        "Полная вероятность равна:\n",
        "$$P(A) = P(B_1) \\cdot P(A\\:|\\:B_1) + P(B_2) \\cdot P(A\\:|\\:B_2) + P(B_3) \\cdot P(A\\:|\\:B_3) = 0.845$$"
      ]
    },
    {
      "cell_type": "code",
      "metadata": {
        "id": "eoyw1b4skBy7",
        "outputId": "aa3fd1b8-1876-4512-ad88-4e7a5702f0a7",
        "colab": {
          "base_uri": "https://localhost:8080/",
          "height": 0
        }
      },
      "source": [
        "pa = 0.25 * 0.8 + 0.25* 0.7 + 0.5 * 0.9\n",
        "pa"
      ],
      "execution_count": 183,
      "outputs": [
        {
          "output_type": "execute_result",
          "data": {
            "text/plain": [
              "0.825"
            ]
          },
          "metadata": {
            "tags": []
          },
          "execution_count": 183
        }
      ]
    },
    {
      "cell_type": "markdown",
      "metadata": {
        "id": "5Q_oD8l_mJnR"
      },
      "source": [
        "Далее рассчеты ведутся по аналогии с задачей №3.\n",
        "Вероятность, что сессию закрыл студент фактультета А\n",
        "$$P(B_1\\:|\\:A) = \\frac{P(A\\:|\\:B_1)*P(B_1)}{P(A)} = 0,24$$"
      ]
    },
    {
      "cell_type": "code",
      "metadata": {
        "id": "fp4CG_pYkTmg",
        "outputId": "d4385c90-4788-4a4e-be15-05fd18ec677b",
        "colab": {
          "base_uri": "https://localhost:8080/",
          "height": 0
        }
      },
      "source": [
        "p1=1 / 4 * 0.8 / pa\n",
        "p1"
      ],
      "execution_count": 184,
      "outputs": [
        {
          "output_type": "execute_result",
          "data": {
            "text/plain": [
              "0.24242424242424246"
            ]
          },
          "metadata": {
            "tags": []
          },
          "execution_count": 184
        }
      ]
    },
    {
      "cell_type": "code",
      "metadata": {
        "id": "WyROi71zkT9u",
        "outputId": "dc5092ae-1424-45b5-fb30-fc113d53efe3",
        "colab": {
          "base_uri": "https://localhost:8080/",
          "height": 0
        }
      },
      "source": [
        "p2 = 1 / 4 * 0.7 / pa\n",
        "p2"
      ],
      "execution_count": 185,
      "outputs": [
        {
          "output_type": "execute_result",
          "data": {
            "text/plain": [
              "0.21212121212121213"
            ]
          },
          "metadata": {
            "tags": []
          },
          "execution_count": 185
        }
      ]
    },
    {
      "cell_type": "code",
      "metadata": {
        "id": "hvtwQ3N6kkdG",
        "outputId": "089f45cb-0289-408e-d34a-b8be1f988dc9",
        "colab": {
          "base_uri": "https://localhost:8080/",
          "height": 0
        }
      },
      "source": [
        "p3 = 1 / 2 * 0.9 / pa\n",
        "p3"
      ],
      "execution_count": 186,
      "outputs": [
        {
          "output_type": "execute_result",
          "data": {
            "text/plain": [
              "0.5454545454545455"
            ]
          },
          "metadata": {
            "tags": []
          },
          "execution_count": 186
        }
      ]
    },
    {
      "cell_type": "markdown",
      "metadata": {
        "id": "9M58bpXukRNY"
      },
      "source": [
        "##Ответ\n",
        "$P(B_1\\:|\\:A) = 0,24$\n",
        "\n",
        "$P(B_2\\:|\\:A) = 0,21$\n",
        "\n",
        "$P(B_3\\:|\\:A) = 0,55$"
      ]
    },
    {
      "cell_type": "code",
      "metadata": {
        "id": "ZEk47UQ16jEQ",
        "outputId": "55e54a7e-4302-4969-a96f-e9320322c705",
        "colab": {
          "base_uri": "https://localhost:8080/",
          "height": 67
        }
      },
      "source": [
        "print('Факультет A: {}\\nФакультет B: {}\\nФакультет C: {}'.format(p1, p2, p3))"
      ],
      "execution_count": 187,
      "outputs": [
        {
          "output_type": "stream",
          "text": [
            "Факультет A: 0.24242424242424246\n",
            "Факультет B: 0.21212121212121213\n",
            "Факультет C: 0.5454545454545455\n"
          ],
          "name": "stdout"
        }
      ]
    },
    {
      "cell_type": "code",
      "metadata": {
        "id": "nxq2Umk3ksvh",
        "outputId": "457f67e7-7764-45ef-a458-0dbd3b740dd4",
        "colab": {
          "base_uri": "https://localhost:8080/",
          "height": 34
        }
      },
      "source": [
        "p1+p2+p3"
      ],
      "execution_count": 188,
      "outputs": [
        {
          "output_type": "execute_result",
          "data": {
            "text/plain": [
              "1.0"
            ]
          },
          "metadata": {
            "tags": []
          },
          "execution_count": 188
        }
      ]
    },
    {
      "cell_type": "markdown",
      "metadata": {
        "id": "OH2vOuYAnSZj"
      },
      "source": [
        "# Задание №5\n",
        "Устройство состоит из трех деталей. \n",
        "вероятность выйти из строя в первый месяц: \n",
        "* для первой детали - 0.1, \n",
        "* для второй - 0.2, \n",
        "* для третьей - 0.25. \n",
        "\n",
        "Какова вероятность того, что в первый месяц выйдут из строя:\n",
        "\n",
        "а). все детали \n",
        "\n",
        "б). только две детали \n",
        "\n",
        "в). хотя бы одна деталь \n",
        "\n",
        "г). от одной до двух деталей?"
      ]
    },
    {
      "cell_type": "markdown",
      "metadata": {
        "id": "pSiICWwHno1i"
      },
      "source": [
        "##Решение\n",
        "Обозначим события:\n",
        "\n",
        "\n",
        "\n",
        "\n",
        "\n",
        "\n",
        "\n"
      ]
    },
    {
      "cell_type": "markdown",
      "metadata": {
        "id": "alHMOeUVpNrv"
      },
      "source": [
        "$B_1$ - выход из строя первой детали\n",
        "\n",
        "$B_2$ - выход из строя второй детали\n",
        "\n",
        "$B_3$ - выход из строя третьей детали."
      ]
    },
    {
      "cell_type": "markdown",
      "metadata": {
        "id": "bu5soQJlpOtI"
      },
      "source": [
        "Определим вероятность события $A_3$ выход из строя всех деталей\n",
        "\n",
        "Для наступления этого события надо, что бы одновременно произошли все события $B_1$, $B_2$ и $B_3$, следовательно \n",
        "$$P(A_3) = P(B_1) * P(B_2) * P(B_3) = 0,005$$"
      ]
    },
    {
      "cell_type": "code",
      "metadata": {
        "id": "FxXEbzAOqdeH",
        "outputId": "5dc0e98f-165f-4700-81c8-5fc816d47b8b",
        "colab": {
          "base_uri": "https://localhost:8080/",
          "height": 34
        }
      },
      "source": [
        "pa_3 = 0.1*0.2*0.25\n",
        "pa_3"
      ],
      "execution_count": 189,
      "outputs": [
        {
          "output_type": "execute_result",
          "data": {
            "text/plain": [
              "0.005000000000000001"
            ]
          },
          "metadata": {
            "tags": []
          },
          "execution_count": 189
        }
      ]
    },
    {
      "cell_type": "markdown",
      "metadata": {
        "id": "HRvq4RT_rLDU"
      },
      "source": [
        "Определим вероятность события $A_2$ выход из строя двух деталей\n",
        "\n",
        "Для наступления данного события надо, что бы не произошло любое из событий $B_1$, $B_2$ и $B_3$, а два других произошли, следовательно:\n",
        "$$P(A_2) = P(\\overline B_1) * P(B_2) * P(B_3)+P(B_1) * P(\\overline B_2) * P(B_3)+P(B_1) * P(B_2) * P(\\overline B_3) = 0,08$$"
      ]
    },
    {
      "cell_type": "code",
      "metadata": {
        "id": "1OOikWeusIrm",
        "outputId": "2d2aa040-98ff-4ab6-862a-0c5d76f496cf",
        "colab": {
          "base_uri": "https://localhost:8080/",
          "height": 34
        }
      },
      "source": [
        "pa_2 = 0.9*0.2*0.25+0.1*0.8*0.25+0.1*0.2*0.75\n",
        "pa_2"
      ],
      "execution_count": 190,
      "outputs": [
        {
          "output_type": "execute_result",
          "data": {
            "text/plain": [
              "0.08"
            ]
          },
          "metadata": {
            "tags": []
          },
          "execution_count": 190
        }
      ]
    },
    {
      "cell_type": "markdown",
      "metadata": {
        "id": "ZVfCrr-ys-zp"
      },
      "source": [
        "Определим вероятность события $A_{13}$ - выход из строя хотя бы одной детали.\n",
        "\n",
        "Для наступления данного события необходимо, что бы произошла любая из комбинаций событий $B_1$, $B_2$ и $B_3$, кроме случая, когда все они не произошли.\n",
        "Следовательно:\n",
        "$$P(A_{13}) = 1 - P(\\overline B_1)*P(\\overline B_2)*P(\\overline B_3) = 0,46$$"
      ]
    },
    {
      "cell_type": "code",
      "metadata": {
        "id": "P_gdqGqjuYdx",
        "outputId": "8149fad2-0bfc-4c8f-dd12-966f4bffb719",
        "colab": {
          "base_uri": "https://localhost:8080/",
          "height": 34
        }
      },
      "source": [
        "pa_13 = 1 - 0.9*0.8*0.75\n",
        "pa_13"
      ],
      "execution_count": 191,
      "outputs": [
        {
          "output_type": "execute_result",
          "data": {
            "text/plain": [
              "0.45999999999999996"
            ]
          },
          "metadata": {
            "tags": []
          },
          "execution_count": 191
        }
      ]
    },
    {
      "cell_type": "markdown",
      "metadata": {
        "id": "ahqRCGltuoko"
      },
      "source": [
        "Определим вероятность события $A_{12}$ - выход из строя от одной до двух деталей.\n",
        "\n",
        "Для наступления данного события необходимо, что бы произошло событие $A_2$ или событие $A_1$ - выход из строя только одной детали. \n",
        "Для наступления события $A_1$ необходимо, что бы произошло только одно из событий $B1$,  $B2$, $B3$. \n",
        "\n",
        "$$P(A_1) = P(B_1)*P(\\overline B_2)*P(\\overline B_3) + P(\\overline B_1)*P(B_2)*P(\\overline B_3) + P(\\overline B_1)*P(\\overline B_2)*P(B_3)$$\n",
        "\n",
        "Следовательно:\n",
        "$$P(A_{12})=P(A_2) + P(A_1) =0,455$$"
      ]
    },
    {
      "cell_type": "code",
      "metadata": {
        "id": "PeDEEhl5zBS6",
        "outputId": "96e030dd-20dc-4631-dadb-00ce6535f0b4",
        "colab": {
          "base_uri": "https://localhost:8080/",
          "height": 34
        }
      },
      "source": [
        "pa_1 = 0.1*0.8*0.75 + 0.9*0.2*0.75+0.9*0.8*0.25\n",
        "pa_1"
      ],
      "execution_count": 192,
      "outputs": [
        {
          "output_type": "execute_result",
          "data": {
            "text/plain": [
              "0.375"
            ]
          },
          "metadata": {
            "tags": []
          },
          "execution_count": 192
        }
      ]
    },
    {
      "cell_type": "code",
      "metadata": {
        "id": "T1cyShuGzlNF",
        "outputId": "58c6c593-166f-4617-e4b7-253805f9c558",
        "colab": {
          "base_uri": "https://localhost:8080/",
          "height": 34
        }
      },
      "source": [
        "pa_12 = pa_1 + pa_2\n",
        "pa_12"
      ],
      "execution_count": 193,
      "outputs": [
        {
          "output_type": "execute_result",
          "data": {
            "text/plain": [
              "0.455"
            ]
          },
          "metadata": {
            "tags": []
          },
          "execution_count": 193
        }
      ]
    },
    {
      "cell_type": "markdown",
      "metadata": {
        "id": "sSENW-wz2_Or"
      },
      "source": [
        "##Ответ\n",
        "$P(A_3) = 0,005$\n",
        "\n",
        "$P(A_2) = 0,08$\n",
        "\n",
        "$P(A_{13}) = 0,46$\n",
        "\n",
        "$P(A_{12}) =0,455$"
      ]
    },
    {
      "cell_type": "code",
      "metadata": {
        "id": "_o7oE-o23l8F",
        "outputId": "bf9eec33-3539-4d24-ad35-b0ff4cb4adbe",
        "colab": {
          "base_uri": "https://localhost:8080/",
          "height": 84
        }
      },
      "source": [
        "print('все детали: {}\\nтолько две: {}\\nхотя бы одна: {}\\nот одной до двух: {}'.format(pa_3, pa_2, pa_13,pa_12))"
      ],
      "execution_count": 194,
      "outputs": [
        {
          "output_type": "stream",
          "text": [
            "все детали: 0.005000000000000001\n",
            "только две: 0.08\n",
            "хотя бы одна: 0.45999999999999996\n",
            "от одной до двух: 0.455\n"
          ],
          "name": "stdout"
        }
      ]
    },
    {
      "cell_type": "code",
      "metadata": {
        "id": "b3Y3Xd0y7b2g",
        "outputId": "d036d5ac-5833-4b37-e74e-8552f8a442f1",
        "colab": {
          "base_uri": "https://localhost:8080/",
          "height": 34
        }
      },
      "source": [
        "pa_1+pa_2+pa_3+pa_0"
      ],
      "execution_count": 196,
      "outputs": [
        {
          "output_type": "execute_result",
          "data": {
            "text/plain": [
              "1.0"
            ]
          },
          "metadata": {
            "tags": []
          },
          "execution_count": 196
        }
      ]
    }
  ]
}