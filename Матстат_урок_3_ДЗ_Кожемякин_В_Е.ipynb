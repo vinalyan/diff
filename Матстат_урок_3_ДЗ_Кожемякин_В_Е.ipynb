{
  "nbformat": 4,
  "nbformat_minor": 0,
  "metadata": {
    "colab": {
      "name": "Матстат_урок_3_ДЗ_Кожемякин_В_Е.ipynb",
      "provenance": [],
      "authorship_tag": "ABX9TyP8GzHjVp86Zh+cNbYIun4V",
      "include_colab_link": true
    },
    "kernelspec": {
      "name": "python3",
      "display_name": "Python 3"
    }
  },
  "cells": [
    {
      "cell_type": "markdown",
      "metadata": {
        "id": "view-in-github",
        "colab_type": "text"
      },
      "source": [
        "<a href=\"https://colab.research.google.com/github/vinalyan/diff/blob/master/%D0%9C%D0%B0%D1%82%D1%81%D1%82%D0%B0%D1%82_%D1%83%D1%80%D0%BE%D0%BA_3_%D0%94%D0%97_%D0%9A%D0%BE%D0%B6%D0%B5%D0%BC%D1%8F%D0%BA%D0%B8%D0%BD_%D0%92_%D0%95.ipynb\" target=\"_parent\"><img src=\"https://colab.research.google.com/assets/colab-badge.svg\" alt=\"Open In Colab\"/></a>"
      ]
    },
    {
      "cell_type": "markdown",
      "metadata": {
        "id": "3_fL9E7LErL6"
      },
      "source": [
        "#Настройки"
      ]
    },
    {
      "cell_type": "code",
      "metadata": {
        "id": "NS-clxeSEuku"
      },
      "source": [
        "import numpy as np\n",
        "from math import factorial\n",
        "def combinations(n, k):\n",
        "    return int(factorial(n) / (factorial(k) * factorial(n - k)))\n",
        "\n",
        "from matplotlib import pyplot as plt\n",
        "import seaborn as sns"
      ],
      "execution_count": 94,
      "outputs": []
    },
    {
      "cell_type": "markdown",
      "metadata": {
        "id": "YVKeS-HbErDr"
      },
      "source": [
        "#Задание №1\n",
        "\n"
      ]
    },
    {
      "cell_type": "markdown",
      "metadata": {
        "id": "wKROvblGEq27"
      },
      "source": [
        "## Решение\n",
        "Даны значения зарплат из выборки выпускников: $100, 80, 75, 77, 89, 33, 45, 25, 65, 17, 30, 24, 57, 55, 70, 75, 65, 84, 90, 150$. \n",
        "\n",
        "Посчитать:\n",
        "* среднее арифметическое, \n",
        "* среднее квадратичное отклонение, \n",
        "* смещенную оценку дисперсий для данной выборки \n",
        "* несмещенную оценку дисперсий для данной выборки."
      ]
    },
    {
      "cell_type": "code",
      "metadata": {
        "id": "t3CfRN8DFw64"
      },
      "source": [
        "x = [100, 80, 75, 77, 89, 33, 45, 25, 65, 17, 30, 24, 57, 55, 70, 75, 65, 84, 90, 150]\n",
        "#отсортируем выборку\n",
        "x.sort()\n",
        "#посчитаем количество элементов\n",
        "n = len(x)"
      ],
      "execution_count": 70,
      "outputs": []
    },
    {
      "cell_type": "markdown",
      "metadata": {
        "id": "W4baYWJvLM_Y"
      },
      "source": [
        "Среднее арифметическое находится по формуле:\n",
        "$$M(X) = \\frac{1}{n} \\sum\\limits_{i=1}^{n} x_i = 65,3$$\n",
        "где $x$ — зарплата, $n$ — количество студентов в выборке.\n",
        "\n"
      ]
    },
    {
      "cell_type": "code",
      "metadata": {
        "id": "xHehG2GjK8cm",
        "outputId": "a9b7eea7-4454-4ac8-9ea1-86e333f0269b",
        "colab": {
          "base_uri": "https://localhost:8080/",
          "height": 34
        }
      },
      "source": [
        "#среднее арифметическое\n",
        "a= 0\n",
        "for i in x: a = a + i \n",
        "mu = a / n\n",
        "mu\n"
      ],
      "execution_count": 72,
      "outputs": [
        {
          "output_type": "execute_result",
          "data": {
            "text/plain": [
              "65.3"
            ]
          },
          "metadata": {
            "tags": []
          },
          "execution_count": 72
        }
      ]
    },
    {
      "cell_type": "markdown",
      "metadata": {
        "id": "ZrKa_A7DLGIw"
      },
      "source": [
        "Среднее квадратичное отклонение находится по формуле: \n",
        "$$S = \\sqrt{\\frac{\\sum\\limits_{i=1}^{n} (x_i - \\overline{x})^2}{n}} = 30.82$$\n"
      ]
    },
    {
      "cell_type": "code",
      "metadata": {
        "id": "rSzEbxwAK-2E",
        "outputId": "3d0e1217-90be-4b7a-d1fa-fac457ca0b24",
        "colab": {
          "base_uri": "https://localhost:8080/",
          "height": 34
        }
      },
      "source": [
        "#среднее квадратичное отклонение\n",
        "a= 0\n",
        "for i in x: a = a + (i - mu)**2\n",
        "s = (a / n)**0.5\n",
        "s"
      ],
      "execution_count": 78,
      "outputs": [
        {
          "output_type": "execute_result",
          "data": {
            "text/plain": [
              "30.823854398825596"
            ]
          },
          "metadata": {
            "tags": []
          },
          "execution_count": 78
        }
      ]
    },
    {
      "cell_type": "code",
      "metadata": {
        "id": "_OvXiqlUNIe_",
        "outputId": "b3306119-1b39-4869-f032-0ad048f5124f",
        "colab": {
          "base_uri": "https://localhost:8080/",
          "height": 34
        }
      },
      "source": [
        "np.std(x)"
      ],
      "execution_count": 79,
      "outputs": [
        {
          "output_type": "execute_result",
          "data": {
            "text/plain": [
              "30.823854398825592"
            ]
          },
          "metadata": {
            "tags": []
          },
          "execution_count": 79
        }
      ]
    },
    {
      "cell_type": "markdown",
      "metadata": {
        "id": "yODYBZyNQaeF"
      },
      "source": [
        "Оценка дисперсии находится по следующим формулам:\n",
        "\n",
        "Смещенная:\n",
        "$$S^2 = \\frac{\\sum\\limits_{i=1}^{n} (x_i - \\overline{x})^2}{n} = 950$$\n",
        "Несмещенная:\n",
        "$$S^2 = \\frac{\\sum\\limits_{i=1}^{n} (x_i - \\overline{x})^2}{n-1} = 1000$$\n",
        "\n"
      ]
    },
    {
      "cell_type": "code",
      "metadata": {
        "id": "kfSZOd4OQ8lB",
        "outputId": "6e20dd2e-55da-45c5-82cd-2bdd648c2957",
        "colab": {
          "base_uri": "https://localhost:8080/",
          "height": 34
        }
      },
      "source": [
        "#Смещанная оценка дисперсии\n",
        "a= 0\n",
        "for i in x: a = a + (i - mu)**2\n",
        "d = a / n\n",
        "d"
      ],
      "execution_count": 114,
      "outputs": [
        {
          "output_type": "execute_result",
          "data": {
            "text/plain": [
              "950.11"
            ]
          },
          "metadata": {
            "tags": []
          },
          "execution_count": 114
        }
      ]
    },
    {
      "cell_type": "code",
      "metadata": {
        "id": "Nauax8byQ2hB",
        "outputId": "93e6b858-461f-4d33-e51c-f2c334975a45",
        "colab": {
          "base_uri": "https://localhost:8080/",
          "height": 34
        }
      },
      "source": [
        "np.var(x)"
      ],
      "execution_count": 81,
      "outputs": [
        {
          "output_type": "execute_result",
          "data": {
            "text/plain": [
              "950.1099999999999"
            ]
          },
          "metadata": {
            "tags": []
          },
          "execution_count": 81
        }
      ]
    },
    {
      "cell_type": "code",
      "metadata": {
        "id": "wy_AZ5ciRUOk",
        "outputId": "4bebc239-6da4-40c4-ff53-17506a6acdae",
        "colab": {
          "base_uri": "https://localhost:8080/",
          "height": 34
        }
      },
      "source": [
        "#Смещанная оценка дисперсии\n",
        "a= 0\n",
        "for i in x: a = a + (i - mu) ** 2\n",
        "d_ddof = a / (n - 1)\n",
        "d_ddof"
      ],
      "execution_count": 113,
      "outputs": [
        {
          "output_type": "execute_result",
          "data": {
            "text/plain": [
              "1000.1157894736842"
            ]
          },
          "metadata": {
            "tags": []
          },
          "execution_count": 113
        }
      ]
    },
    {
      "cell_type": "code",
      "metadata": {
        "id": "NAED6EErM_aa",
        "outputId": "8e3e6c9a-fe8e-47be-c879-ab55fa03c76f",
        "colab": {
          "base_uri": "https://localhost:8080/",
          "height": 34
        }
      },
      "source": [
        "np.var(x, ddof=1)"
      ],
      "execution_count": 80,
      "outputs": [
        {
          "output_type": "execute_result",
          "data": {
            "text/plain": [
              "1000.115789473684"
            ]
          },
          "metadata": {
            "tags": []
          },
          "execution_count": 80
        }
      ]
    },
    {
      "cell_type": "markdown",
      "metadata": {
        "id": "k_WlOFGGR8KT"
      },
      "source": [
        "###Немножко графиков"
      ]
    },
    {
      "cell_type": "code",
      "metadata": {
        "id": "M8eaSXodRvwJ",
        "outputId": "09d685b5-9eea-4e82-bb72-85c19dc24077",
        "colab": {
          "base_uri": "https://localhost:8080/",
          "height": 295
        }
      },
      "source": [
        "plt.hist(x)\n",
        "plt.title(\"Распределение зарплаты в выборке \"\"x\"\" \")\n",
        "plt.xlabel('Зарплата')\n",
        "plt.ylabel('Частота')\n",
        "plt.show()"
      ],
      "execution_count": 103,
      "outputs": [
        {
          "output_type": "display_data",
          "data": {
            "image/png": "[encoded data removed]",
            "text/plain": [
              "<Figure size 432x288 with 1 Axes>"
            ]
          },
          "metadata": {
            "tags": [],
            "needs_background": "light"
          }
        }
      ]
    },
    {
      "cell_type": "code",
      "metadata": {
        "id": "64I34LcAR6_s",
        "outputId": "f353caed-d176-4f25-be29-eab61effdd20",
        "colab": {
          "base_uri": "https://localhost:8080/",
          "height": 252
        }
      },
      "source": [
        "sns.boxplot(y = x )\n",
        "plt.show()"
      ],
      "execution_count": 108,
      "outputs": [
        {
          "output_type": "display_data",
          "data": {
            "image/png": "[encoded data removed]",
            "text/plain": [
              "<Figure size 432x288 with 1 Axes>"
            ]
          },
          "metadata": {
            "tags": [],
            "needs_background": "light"
          }
        }
      ]
    },
    {
      "cell_type": "markdown",
      "metadata": {
        "id": "VMagbbACE_HX"
      },
      "source": [
        "##Ответ\n",
        "* среднее арифметическое -  $65,3$\n",
        "* среднее квадратичное отклонение - $30.820$\n",
        "* смещенную оценку дисперсий для данной выборки - $950$\n",
        "* несмещенную оценку дисперсий для данной выборки - $1000$."
      ]
    },
    {
      "cell_type": "code",
      "metadata": {
        "id": "kWScOqFAEoB7",
        "outputId": "500acc32-cee4-49ab-c5f6-20b7ed7c406b",
        "colab": {
          "base_uri": "https://localhost:8080/",
          "height": 34
        }
      },
      "source": [
        "mu"
      ],
      "execution_count": 109,
      "outputs": [
        {
          "output_type": "execute_result",
          "data": {
            "text/plain": [
              "65.3"
            ]
          },
          "metadata": {
            "tags": []
          },
          "execution_count": 109
        }
      ]
    },
    {
      "cell_type": "code",
      "metadata": {
        "id": "WZ9KQA1OXZdl",
        "outputId": "a9121b2e-5521-49ac-cad1-31d6fbdb7cbe",
        "colab": {
          "base_uri": "https://localhost:8080/",
          "height": 34
        }
      },
      "source": [
        "s"
      ],
      "execution_count": 110,
      "outputs": [
        {
          "output_type": "execute_result",
          "data": {
            "text/plain": [
              "30.823854398825596"
            ]
          },
          "metadata": {
            "tags": []
          },
          "execution_count": 110
        }
      ]
    },
    {
      "cell_type": "code",
      "metadata": {
        "id": "bOUdIWjxXbHs",
        "outputId": "1d3b37b3-c016-4ecf-886d-54da5b4f55cf",
        "colab": {
          "base_uri": "https://localhost:8080/",
          "height": 34
        }
      },
      "source": [
        "d"
      ],
      "execution_count": 115,
      "outputs": [
        {
          "output_type": "execute_result",
          "data": {
            "text/plain": [
              "950.11"
            ]
          },
          "metadata": {
            "tags": []
          },
          "execution_count": 115
        }
      ]
    },
    {
      "cell_type": "code",
      "metadata": {
        "id": "d1XD7xPBXnc9",
        "outputId": "1b1db874-89a2-4740-aca5-8c269e7cf668",
        "colab": {
          "base_uri": "https://localhost:8080/",
          "height": 34
        }
      },
      "source": [
        "d_ddof"
      ],
      "execution_count": 116,
      "outputs": [
        {
          "output_type": "execute_result",
          "data": {
            "text/plain": [
              "1000.1157894736842"
            ]
          },
          "metadata": {
            "tags": []
          },
          "execution_count": 116
        }
      ]
    }
  ]
}