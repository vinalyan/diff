{
  "nbformat": 4,
  "nbformat_minor": 0,
  "metadata": {
    "colab": {
      "name": "Матстат_урок_6_ДЗ_Кожемякин_В_Е.ipynb",
      "provenance": [],
      "authorship_tag": "ABX9TyOQhhvIfFA2KxSabuIDrfNA",
      "include_colab_link": true
    },
    "kernelspec": {
      "name": "python3",
      "display_name": "Python 3"
    }
  },
  "cells": [
    {
      "cell_type": "markdown",
      "metadata": {
        "id": "view-in-github",
        "colab_type": "text"
      },
      "source": [
        "<a href=\"https://colab.research.google.com/github/vinalyan/diff/blob/master/%D0%9C%D0%B0%D1%82%D1%81%D1%82%D0%B0%D1%82_%D1%83%D1%80%D0%BE%D0%BA_6_%D0%94%D0%97_%D0%9A%D0%BE%D0%B6%D0%B5%D0%BC%D1%8F%D0%BA%D0%B8%D0%BD_%D0%92_%D0%95.ipynb\" target=\"_parent\"><img src=\"https://colab.research.google.com/assets/colab-badge.svg\" alt=\"Open In Colab\"/></a>"
      ]
    },
    {
      "cell_type": "markdown",
      "metadata": {
        "id": "gzC8DLnevdDv"
      },
      "source": [
        "#Настройка\n"
      ]
    },
    {
      "cell_type": "code",
      "metadata": {
        "id": "J8HcKgintpvW",
        "outputId": "bba458d2-142f-4bab-d0a5-0e87871fa4f1",
        "colab": {
          "base_uri": "https://localhost:8080/",
          "height": 34
        }
      },
      "source": [
        "import numpy as np\n",
        "from math import factorial\n",
        "def combinations(n, k):\n",
        "    return int(factorial(n) / (factorial(k) * factorial(n - k)))\n",
        "\n",
        "from matplotlib import pyplot as plt\n",
        "import seaborn as sns\n",
        "from scipy.stats import norm\n",
        "import pandas as pd\n",
        "\n",
        "print('Настройка завершена')"
      ],
      "execution_count": 55,
      "outputs": [
        {
          "output_type": "stream",
          "text": [
            "Настройка завершена\n"
          ],
          "name": "stdout"
        }
      ]
    },
    {
      "cell_type": "markdown",
      "metadata": {
        "id": "H4ynipLlv0wC"
      },
      "source": [
        "#Задание №1\n",
        "Даны значения величины заработной платы заемщиков банка (zp) и значения их поведенческого кредитного скоринга (ks):\n",
        "zp = [35, 45, 190, 200, 40, 70, 54, 150, 120, 110],\n",
        "ks = [401, 574, 874, 919, 459, 739, 653, 902, 746, 832].\n",
        "Найдите ковариацию этих двух величин с помощью элементарных действий, а затем с помощью функции cov из numpy.\n",
        "Полученные значения должны быть равны.\n",
        "Найдите коэффициент корреляции Пирсона с помощью ковариации и среднеквадратичных отклонений двух признаков,\n",
        "а затем с использованием функций из библиотек numpy и pandas."
      ]
    },
    {
      "cell_type": "markdown",
      "metadata": {
        "id": "2KLnilA9zUzQ"
      },
      "source": [
        "## Решение\n",
        "Найдем ковариацию этих двух волшебных величичию. Ковариация определяется по формуле:\n",
        "$$cov_{XY} = M(XY) - M(X)M(Y)$$\n",
        "\n",
        "Коэффициент корреляции определяется по формуе:\n",
        "\n",
        "$$r_{XY} = \\frac {cov_{XY}}{\\sigma_X \\sigma_Y}$$"
      ]
    },
    {
      "cell_type": "code",
      "metadata": {
        "id": "2xHVhK60z0IC"
      },
      "source": [
        "zp = np.array([35, 45, 190, 200, 40, 70, 54, 150, 120, 110])\n",
        "ks = np.array([401, 574, 874, 919, 459, 739, 653, 902, 746, 832])\n",
        "s = zp * ks"
      ],
      "execution_count": 56,
      "outputs": []
    },
    {
      "cell_type": "code",
      "metadata": {
        "id": "_dF0DR4E1DIm",
        "outputId": "09f29a0b-0a26-4129-db6e-f4a406d424e2",
        "colab": {
          "base_uri": "https://localhost:8080/",
          "height": 34
        }
      },
      "source": [
        "#Считаем ковариацию практически руками\n",
        "cov = s.mean() - zp.mean() * ks.mean()\n",
        "cov"
      ],
      "execution_count": 57,
      "outputs": [
        {
          "output_type": "execute_result",
          "data": {
            "text/plain": [
              "9157.839999999997"
            ]
          },
          "metadata": {
            "tags": []
          },
          "execution_count": 57
        }
      ]
    },
    {
      "cell_type": "code",
      "metadata": {
        "id": "xIKb8xXH231q",
        "outputId": "7ef2b56c-e736-4e53-877f-9e5a076eca49",
        "colab": {
          "base_uri": "https://localhost:8080/",
          "height": 51
        }
      },
      "source": [
        "#Считаем ковариацию c помощью функции cov \n",
        "np.cov( zp , ks, ddof = 0 )"
      ],
      "execution_count": 58,
      "outputs": [
        {
          "output_type": "execute_result",
          "data": {
            "text/plain": [
              "array([[ 3494.64,  9157.84],\n",
              "       [ 9157.84, 30468.89]])"
            ]
          },
          "metadata": {
            "tags": []
          },
          "execution_count": 58
        }
      ]
    },
    {
      "cell_type": "code",
      "metadata": {
        "id": "0cJJSrsc4BuV",
        "outputId": "ac0ddf9c-e394-47ba-fadb-9960c4c779ee",
        "colab": {
          "base_uri": "https://localhost:8080/",
          "height": 34
        }
      },
      "source": [
        "#Практически руками считаем коэфициент корреляции\n",
        "sigma_zp = np.std(zp)\n",
        "sigma_ks = np.std(ks)\n",
        "r= cov / (sigma_zp * sigma_ks)\n",
        "r"
      ],
      "execution_count": 59,
      "outputs": [
        {
          "output_type": "execute_result",
          "data": {
            "text/plain": [
              "0.8874900920739158"
            ]
          },
          "metadata": {
            "tags": []
          },
          "execution_count": 59
        }
      ]
    },
    {
      "cell_type": "code",
      "metadata": {
        "id": "r-T_F95h6sIG",
        "outputId": "5cfb91a7-44ab-4f79-ba0f-8de039cc494b",
        "colab": {
          "base_uri": "https://localhost:8080/",
          "height": 51
        }
      },
      "source": [
        "#Считаем корреляцию с помощью функции из numpy\n",
        "np.corrcoef(zp , ks)"
      ],
      "execution_count": 60,
      "outputs": [
        {
          "output_type": "execute_result",
          "data": {
            "text/plain": [
              "array([[1.        , 0.88749009],\n",
              "       [0.88749009, 1.        ]])"
            ]
          },
          "metadata": {
            "tags": []
          },
          "execution_count": 60
        }
      ]
    },
    {
      "cell_type": "code",
      "metadata": {
        "id": "5PjB4WJL8qan",
        "outputId": "7fe07813-ac08-470f-df5e-ff25a4bc1401",
        "colab": {
          "base_uri": "https://localhost:8080/",
          "height": 359
        }
      },
      "source": [
        "#Тренируемся с пандами\n",
        "df = pd.DataFrame({'ks': ks ,'zp': zp})\n",
        "df"
      ],
      "execution_count": 61,
      "outputs": [
        {
          "output_type": "execute_result",
          "data": {
            "text/html": [
              "<div>\n",
              "<style scoped>\n",
              "    .dataframe tbody tr th:only-of-type {\n",
              "        vertical-align: middle;\n",
              "    }\n",
              "\n",
              "    .dataframe tbody tr th {\n",
              "        vertical-align: top;\n",
              "    }\n",
              "\n",
              "    .dataframe thead th {\n",
              "        text-align: right;\n",
              "    }\n",
              "</style>\n",
              "<table border=\"1\" class=\"dataframe\">\n",
              "  <thead>\n",
              "    <tr style=\"text-align: right;\">\n",
              "      <th></th>\n",
              "      <th>ks</th>\n",
              "      <th>zp</th>\n",
              "    </tr>\n",
              "  </thead>\n",
              "  <tbody>\n",
              "    <tr>\n",
              "      <th>0</th>\n",
              "      <td>401</td>\n",
              "      <td>35</td>\n",
              "    </tr>\n",
              "    <tr>\n",
              "      <th>1</th>\n",
              "      <td>574</td>\n",
              "      <td>45</td>\n",
              "    </tr>\n",
              "    <tr>\n",
              "      <th>2</th>\n",
              "      <td>874</td>\n",
              "      <td>190</td>\n",
              "    </tr>\n",
              "    <tr>\n",
              "      <th>3</th>\n",
              "      <td>919</td>\n",
              "      <td>200</td>\n",
              "    </tr>\n",
              "    <tr>\n",
              "      <th>4</th>\n",
              "      <td>459</td>\n",
              "      <td>40</td>\n",
              "    </tr>\n",
              "    <tr>\n",
              "      <th>5</th>\n",
              "      <td>739</td>\n",
              "      <td>70</td>\n",
              "    </tr>\n",
              "    <tr>\n",
              "      <th>6</th>\n",
              "      <td>653</td>\n",
              "      <td>54</td>\n",
              "    </tr>\n",
              "    <tr>\n",
              "      <th>7</th>\n",
              "      <td>902</td>\n",
              "      <td>150</td>\n",
              "    </tr>\n",
              "    <tr>\n",
              "      <th>8</th>\n",
              "      <td>746</td>\n",
              "      <td>120</td>\n",
              "    </tr>\n",
              "    <tr>\n",
              "      <th>9</th>\n",
              "      <td>832</td>\n",
              "      <td>110</td>\n",
              "    </tr>\n",
              "  </tbody>\n",
              "</table>\n",
              "</div>"
            ],
            "text/plain": [
              "    ks   zp\n",
              "0  401   35\n",
              "1  574   45\n",
              "2  874  190\n",
              "3  919  200\n",
              "4  459   40\n",
              "5  739   70\n",
              "6  653   54\n",
              "7  902  150\n",
              "8  746  120\n",
              "9  832  110"
            ]
          },
          "metadata": {
            "tags": []
          },
          "execution_count": 61
        }
      ]
    },
    {
      "cell_type": "code",
      "metadata": {
        "id": "aYvTk0_39Pnt",
        "outputId": "c3c9c7c1-690c-48c9-f299-2ce401d77829",
        "colab": {
          "base_uri": "https://localhost:8080/",
          "height": 111
        }
      },
      "source": [
        "df.corr()"
      ],
      "execution_count": 62,
      "outputs": [
        {
          "output_type": "execute_result",
          "data": {
            "text/html": [
              "<div>\n",
              "<style scoped>\n",
              "    .dataframe tbody tr th:only-of-type {\n",
              "        vertical-align: middle;\n",
              "    }\n",
              "\n",
              "    .dataframe tbody tr th {\n",
              "        vertical-align: top;\n",
              "    }\n",
              "\n",
              "    .dataframe thead th {\n",
              "        text-align: right;\n",
              "    }\n",
              "</style>\n",
              "<table border=\"1\" class=\"dataframe\">\n",
              "  <thead>\n",
              "    <tr style=\"text-align: right;\">\n",
              "      <th></th>\n",
              "      <th>ks</th>\n",
              "      <th>zp</th>\n",
              "    </tr>\n",
              "  </thead>\n",
              "  <tbody>\n",
              "    <tr>\n",
              "      <th>ks</th>\n",
              "      <td>1.00000</td>\n",
              "      <td>0.88749</td>\n",
              "    </tr>\n",
              "    <tr>\n",
              "      <th>zp</th>\n",
              "      <td>0.88749</td>\n",
              "      <td>1.00000</td>\n",
              "    </tr>\n",
              "  </tbody>\n",
              "</table>\n",
              "</div>"
            ],
            "text/plain": [
              "         ks       zp\n",
              "ks  1.00000  0.88749\n",
              "zp  0.88749  1.00000"
            ]
          },
          "metadata": {
            "tags": []
          },
          "execution_count": 62
        }
      ]
    },
    {
      "cell_type": "markdown",
      "metadata": {
        "id": "-LrOn_Zw-0Ol"
      },
      "source": [
        "##Ответ\n",
        "$cov_{XY} = 9157$\n",
        "\n",
        "$r_{XY} = 8,89$ "
      ]
    },
    {
      "cell_type": "markdown",
      "metadata": {
        "id": "1Ec3zmEs_ug4"
      },
      "source": [
        "#Задание №2\n",
        "Измерены значения IQ выборки студентов,\n",
        "обучающихся в местных технических вузах:\n",
        "131, 125, 115, 122, 131, 115, 107, 99, 125, 111.\n",
        "Известно, что в генеральной совокупности IQ распределен нормально.\n",
        "Найдите доверительный интервал для математического ожидания с надежностью 0.95."
      ]
    },
    {
      "cell_type": "markdown",
      "metadata": {
        "id": "xOKDkKQhADiP"
      },
      "source": [
        "##Решение"
      ]
    },
    {
      "cell_type": "markdown",
      "metadata": {
        "id": "0BonudJAAQBF"
      },
      "source": [
        "Так как СКО генеральной совокупности неизвестно, то будет использовать $t$ критерий Стьюдента.\n",
        "$$\\overline X \\pm t_{a/2}* \\sigma / \\sqrt n$$\n",
        "где: \n",
        "\n",
        "$t_{a/2} = 2,3$ - определяем по таблице Стьюдента с надежностью $0,95$ и степенями свободы равным $9$\n",
        "\n",
        "$\\overline X = 118,1$\n",
        "\n",
        "$\\sigma = 10,5$ - несмещенное СКО выборки\n"
      ]
    },
    {
      "cell_type": "code",
      "metadata": {
        "id": "kszTuNuAAJKa",
        "outputId": "ddd08689-b2cc-40ae-93ea-3d131004caa3",
        "colab": {
          "base_uri": "https://localhost:8080/",
          "height": 68
        }
      },
      "source": [
        "#Вычисляем математическое ожидаени\n",
        "iq = np.array([131, 125, 115, 122, 131, 115, 107, 99, 125, 111])\n",
        "X = iq.mean()\n",
        "t = 2.3\n",
        "#Вычисляем несмещенное СКО\n",
        "sigma = np.std(iq , ddof = 1)\n",
        "\n",
        "#Вычисляем доверительный интервал\n",
        "l = X - t * (sigma/(iq.size**0.5))\n",
        "r = X + t* (sigma/(iq.size**0.5))\n",
        "\n",
        "print('Среднее арифметическое: {}'.format(X))\n",
        "print('Несмещенное СКО: {:.3}'.format(sigma))\n",
        "print('Доверительный интервал: [{:.6};{:.6}]'.format(l,r))"
      ],
      "execution_count": 63,
      "outputs": [
        {
          "output_type": "stream",
          "text": [
            "Среднее арифметическое: 118.1\n",
            "Несмещенное СКО: 10.5\n",
            "Доверительный интервал: [110.43;125.77]\n"
          ],
          "name": "stdout"
        }
      ]
    },
    {
      "cell_type": "markdown",
      "metadata": {
        "id": "KBNJhkl1EVFq"
      },
      "source": [
        "##Ответ\n",
        "Доверительный интервал: $[110.43;125.77]$"
      ]
    },
    {
      "cell_type": "code",
      "metadata": {
        "id": "WeluIYqqAHsD"
      },
      "source": [
        ""
      ],
      "execution_count": 63,
      "outputs": []
    },
    {
      "cell_type": "markdown",
      "metadata": {
        "id": "LJiOH9PaH_Fb"
      },
      "source": [
        "#Задание №3\n",
        "Известно, что рост футболистов в сборной распределен нормально\n",
        "с дисперсией генеральной совокупности, равной 25 кв.см. Объем выборки равен 27,\n",
        "среднее выборочное составляет 174.2. Найдите доверительный интервал для математического\n",
        "ожидания с надежностью 0.95."
      ]
    },
    {
      "cell_type": "markdown",
      "metadata": {
        "id": "ieRWD3cCIGfF"
      },
      "source": [
        "##Решение\n",
        "Так как $\\sigma$ - СКО генеральной совокупности известно, то будем использовать $Z$ критерий."
      ]
    },
    {
      "cell_type": "markdown",
      "metadata": {
        "id": "_LVIu_z9IYgo"
      },
      "source": [
        "Доверительный интервал определяется по следующей формуле:\n",
        "$$\\overline X \\pm Z_{a/2}* \\sigma / \\sqrt n$$\n",
        "где: \n",
        "\n",
        "$Z_{a/2} = 1,96$\n",
        "\n",
        "$\\overline X = 174,2$\n",
        "\n",
        "$\\sigma = 5$\n",
        "\n",
        "$n = 27$\n",
        "\n",
        "Подставив все это в формулу получим доверительный интервал для математического ожидания $[172.3 ; 176.1]$\n",
        " "
      ]
    },
    {
      "cell_type": "code",
      "metadata": {
        "id": "lulDVHRJI_JF",
        "outputId": "5cd65fb1-edfa-44aa-fc24-ae2d02ceaf53",
        "colab": {
          "base_uri": "https://localhost:8080/",
          "height": 34
        }
      },
      "source": [
        "z = norm.ppf(0.975)\n",
        "sigma = 5\n",
        "n = 27\n",
        "X = 174.2\n",
        "l = X - z * (sigma/(n**0.5))\n",
        "r = X + z* (sigma/(n**0.5))\n"
      ],
      "execution_count": 64,
      "outputs": [
        {
          "output_type": "stream",
          "text": [
            "Доверительный интервал: [172.3 ; 176.1]\n"
          ],
          "name": "stdout"
        }
      ]
    },
    {
      "cell_type": "markdown",
      "metadata": {
        "id": "f6LxxadzKjIk"
      },
      "source": [
        "##Ответ\n",
        "Доверительный интервал:\n",
        "\n",
        "$[172.3 ; 176.1]$"
      ]
    },
    {
      "cell_type": "code",
      "metadata": {
        "id": "uj2JiB8WL06G",
        "outputId": "62982268-fca0-4730-a3f6-e56e5238796a",
        "colab": {
          "base_uri": "https://localhost:8080/",
          "height": 34
        }
      },
      "source": [
        "print('Доверительный интервал: [{:.4} ; {:.4}]'.format(l,r))"
      ],
      "execution_count": 66,
      "outputs": [
        {
          "output_type": "stream",
          "text": [
            "Доверительный интервал: [172.3 ; 176.1]\n"
          ],
          "name": "stdout"
        }
      ]
    },
    {
      "cell_type": "code",
      "metadata": {
        "id": "Akz8kkmVJd5Y",
        "outputId": "e08b084d-4b5c-47f6-d200-9c804709450a",
        "colab": {
          "base_uri": "https://localhost:8080/",
          "height": 34
        }
      },
      "source": [
        "z = norm.ppf(0.025)\n",
        "z"
      ],
      "execution_count": 65,
      "outputs": [
        {
          "output_type": "execute_result",
          "data": {
            "text/plain": [
              "-1.9599639845400545"
            ]
          },
          "metadata": {
            "tags": []
          },
          "execution_count": 65
        }
      ]
    }
  ]
}