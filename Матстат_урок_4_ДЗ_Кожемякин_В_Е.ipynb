{
  "nbformat": 4,
  "nbformat_minor": 0,
  "metadata": {
    "colab": {
      "name": "Матстат_урок_4_ДЗ_Кожемякин_В_Е.ipynb",
      "provenance": [],
      "toc_visible": true,
      "authorship_tag": "ABX9TyPyY5pmKUvJB9bRikV0DtEV",
      "include_colab_link": true
    },
    "kernelspec": {
      "name": "python3",
      "display_name": "Python 3"
    }
  },
  "cells": [
    {
      "cell_type": "markdown",
      "metadata": {
        "id": "view-in-github",
        "colab_type": "text"
      },
      "source": [
        "<a href=\"https://colab.research.google.com/github/vinalyan/diff/blob/master/%D0%9C%D0%B0%D1%82%D1%81%D1%82%D0%B0%D1%82_%D1%83%D1%80%D0%BE%D0%BA_4_%D0%94%D0%97_%D0%9A%D0%BE%D0%B6%D0%B5%D0%BC%D1%8F%D0%BA%D0%B8%D0%BD_%D0%92_%D0%95.ipynb\" target=\"_parent\"><img src=\"https://colab.research.google.com/assets/colab-badge.svg\" alt=\"Open In Colab\"/></a>"
      ]
    },
    {
      "cell_type": "markdown",
      "metadata": {
        "id": "HrecN7-XowLn"
      },
      "source": [
        "# Настройка\n"
      ]
    },
    {
      "cell_type": "code",
      "metadata": {
        "id": "TIIeW7IIoIyI"
      },
      "source": [
        "import numpy as np\n",
        "from math import factorial\n",
        "def combinations(n, k):\n",
        "    return int(factorial(n) / (factorial(k) * factorial(n - k)))\n",
        "\n",
        "from matplotlib import pyplot as plt\n",
        "import seaborn as sns\n",
        "from scipy.stats import norm"
      ],
      "execution_count": 1,
      "outputs": []
    },
    {
      "cell_type": "markdown",
      "metadata": {
        "id": "DhZu-IUso2t8"
      },
      "source": [
        "# Задание № 1\n",
        "Случайная непрерывная величина A имеет равномерное распределение на промежутке (200, 800].\n",
        "Найдите ее среднее значение и дисперсию."
      ]
    },
    {
      "cell_type": "markdown",
      "metadata": {
        "id": "v8T6FztqqZb0"
      },
      "source": [
        "## Решение"
      ]
    },
    {
      "cell_type": "markdown",
      "metadata": {
        "id": "X7u-OuRspWAm"
      },
      "source": [
        "Математическое ожидание $M(X)$ равномерно распределенной непрерывной случайной величины можно вычислить по формуле:\n",
        "$$M(X) = \\frac{a + b}{2} = \\frac{800 + 200}{2} = 500$$"
      ]
    },
    {
      "cell_type": "markdown",
      "metadata": {
        "id": "x3gA-KcSp9Cp"
      },
      "source": [
        "По следующей формуле можно рассчитать дисперсию $D(X)$:\n",
        "$$D(X) = \\frac{(b - a)^2}{12} = \\frac{(800 - 200)^2}{12} = 50$$"
      ]
    },
    {
      "cell_type": "code",
      "metadata": {
        "id": "FaOJbp3mqQzr",
        "outputId": "424c44b6-7453-4d6f-e33a-ce72617a6f3a",
        "colab": {
          "base_uri": "https://localhost:8080/",
          "height": 34
        }
      },
      "source": [
        "(800-200)/12"
      ],
      "execution_count": null,
      "outputs": [
        {
          "output_type": "execute_result",
          "data": {
            "text/plain": [
              "50.0"
            ]
          },
          "metadata": {
            "tags": []
          },
          "execution_count": 1
        }
      ]
    },
    {
      "cell_type": "markdown",
      "metadata": {
        "id": "AdlFaovHqsLE"
      },
      "source": [
        "## Ответ\n",
        "$M(X) = 500$\n",
        "\n",
        "$D(X) = 50$"
      ]
    },
    {
      "cell_type": "markdown",
      "metadata": {
        "id": "JHv6B5dOrca0"
      },
      "source": [
        "# Задание № 2\n",
        "О случайной непрерывной равномерно распределенной величине B известно, что ее дисперсия равна 0.2.\n",
        "Можно ли найти правую границу величины B и ее среднее значение зная, что левая граница равна 0.5?\n",
        "Если да, найдите ее."
      ]
    },
    {
      "cell_type": "markdown",
      "metadata": {
        "id": "l9fX7JMDrjTe"
      },
      "source": [
        "## Решение\n"
      ]
    },
    {
      "cell_type": "markdown",
      "metadata": {
        "id": "y959-NLPryW3"
      },
      "source": [
        "Диперсия вычисляется по формуле:\n",
        "$$D(X) = \\frac{(b - a)^2}{12}$$\n",
        "где: $D(X) = 0,2$ , а $a = 0,5$\n",
        "\n",
        "тогда:\n",
        "\n",
        "$$0,2 = \\frac{(b - 0,5)^2}{12} => (b - 0,5)^2 = 6 => b -0,5 = 2.45 => b = 2.95 $$\n"
      ]
    },
    {
      "cell_type": "markdown",
      "metadata": {
        "id": "bMw6pn0fv9RT"
      },
      "source": [
        "Математическое ожидание $M(X)$ равномерно распределенной непрерывной случайной величины можно вычислить по формуле:\n",
        "$$M(X) = \\frac{a + b}{2} = \\frac{2,95 + 0,5}{2} = 1,725$$"
      ]
    },
    {
      "cell_type": "markdown",
      "metadata": {
        "id": "CQVQQDStuhkp"
      },
      "source": [
        "## Ответ\n",
        "Правая граница равна $2,95$"
      ]
    },
    {
      "cell_type": "code",
      "metadata": {
        "id": "up8VmRAZsDDh",
        "outputId": "70ea5b89-4e79-4b68-fe80-c7bce2d29e8e",
        "colab": {
          "base_uri": "https://localhost:8080/",
          "height": 50
        }
      },
      "source": [
        "print('правая граница величины: {}\\nсреднее значение: {}'.format(2.95, (2.95+0.5)/2))\n"
      ],
      "execution_count": null,
      "outputs": [
        {
          "output_type": "stream",
          "text": [
            "правая граница величины: 2.95\n",
            "среднее значение: 1.725\n"
          ],
          "name": "stdout"
        }
      ]
    },
    {
      "cell_type": "markdown",
      "metadata": {
        "id": "ogllpQOra2Kn"
      },
      "source": [
        "#Задание № 3\n",
        "Непрерывная случайная величина X распределена нормально и задана плотностью распределения\n",
        "$$f(x) = \\frac {1}{4 * \\sqrt{2\\pi}} * e^ {- \\frac {(x+2)^2}{32}}.\n",
        "$$\n",
        "Найдите:\n",
        "\n",
        "а). M(X) \n",
        "\n",
        "б). D(X) \n",
        "\n",
        "в) std(X) (среднее квадратичное отклонение)"
      ]
    },
    {
      "cell_type": "markdown",
      "metadata": {
        "id": "mY5YqBCWgpMn"
      },
      "source": [
        "##Решение\n",
        "Так как формула нормального распределения имеет вид:\n",
        "$$f(x) = \\frac{1}{\\sigma \\sqrt{2 \\pi}} e ^ {- \\frac{(x - a)^2}{2 \\sigma^2}},$$\n",
        "то:"
      ]
    },
    {
      "cell_type": "markdown",
      "metadata": {
        "id": "sD07gVsQgJfM"
      },
      "source": [
        "##Ответ\n",
        "$M(X) = -2$\n",
        "\n",
        "$D(X) = 16$\n",
        "\n",
        "$\\sigma = 4$"
      ]
    },
    {
      "cell_type": "markdown",
      "metadata": {
        "id": "UQqUyfZ1hIn1"
      },
      "source": [
        "#Задание № 4\n",
        "Рост взрослого населения города X имеет нормальное распределение.\n",
        "Причем, средний рост равен 174 см, а среднее квадратичное отклонение равно 8 см.\n",
        "Какова вероятность того, что случайным образом выбранный взрослый человек имеет рост:\n",
        "\n",
        "а). больше 182 см\n",
        "\n",
        "б). больше 190 см\n",
        "\n",
        "в). от 166 см до 190 см\n",
        "\n",
        "г). от 166 см до 182 см\n",
        "\n",
        "д). от 158 см до 190 см\n",
        "\n",
        "е). не выше 150 см или не ниже 190 см\n",
        "\n",
        "ё). не выше 150 см или не ниже 198 см\n",
        "\n",
        "ж). ниже 166 см."
      ]
    },
    {
      "cell_type": "markdown",
      "metadata": {
        "id": "zO2zLWn3h0nX"
      },
      "source": [
        "##Решение\n"
      ]
    },
    {
      "cell_type": "markdown",
      "metadata": {
        "id": "uwijL1VhQ7Ew"
      },
      "source": [
        "Отраизм это все на графике. "
      ]
    },
    {
      "cell_type": "code",
      "metadata": {
        "id": "HcNRAjpGrofw",
        "outputId": "501c48bd-94ac-4fa3-e475-ced03b4ad343",
        "colab": {
          "base_uri": "https://localhost:8080/",
          "height": 305
        }
      },
      "source": [
        "font = {'family': 'serif',\n",
        "        'color':  'darkred',\n",
        "        'weight': 'normal',\n",
        "        'size': 16,\n",
        "        }\n",
        "\n",
        "fig= plt.figure()\n",
        "ax = fig.add_subplot(111)\n",
        "\n",
        "# Значения между 140 и 205 с шагом 0.01\n",
        "x = np.arange(140, 205, 0.01)\n",
        "# Нормальное расределение с М(x) = 174 СКО = 8\n",
        "\n",
        "y = norm.pdf(x,174,8)\n",
        "# Среднее значение = 174, СКО = 8.\n",
        "ax.plot(x, y)\n",
        "\n",
        "xax = ax.xaxis   # или xax = ax.get_xaxis()\n",
        "xax.set_ticks([150,158,166,174,182,190,198])\n",
        "\n",
        "#Отразим на графике\n",
        "''' \n",
        "sig_3m - участок (150,158)\n",
        "sig_2m - участок (158,166)\n",
        "sig_1m - участок (166,174)\n",
        "sig_1p - участок (174,182)\n",
        "sig_2p - участок (182,190)\n",
        "sig_3p - участок (190,198)\n",
        "'''\n",
        "sig_3m = (x > 150) & (x <= 158)\n",
        "plt.fill_between(x, y, where=(sig_3m), color='blue') \n",
        "sig_2m = (x > 158) & (x <= 166)\n",
        "plt.fill_between(x, y, where=(sig_2m), color='green') \n",
        "sig_1m = (x > 166) & (x <= 174)\n",
        "plt.fill_between(x, y, where=(sig_1m), color='red') \n",
        "\n",
        "sig_1p = (x > 174) & (x <= 182)\n",
        "plt.fill_between(x, y, where=(sig_1p), color='red') \n",
        "sig_2p = (x > 182) & (x <= 190)\n",
        "plt.fill_between(x, y, where=(sig_2p), color='green') \n",
        "sig_3p = (x > 190) & (x <= 198)\n",
        "plt.fill_between(x, y, where=(sig_3p), color='blue') \n",
        "\n",
        "plt.title('Damped exponential decay', fontdict=font)\n",
        "plt.xlabel('X', fontdict=font)\n",
        "plt.ylabel('p(X)', fontdict=font)\n",
        "\n",
        "xax.grid(True)\n",
        "plt.show()"
      ],
      "execution_count": 99,
      "outputs": [
        {
          "output_type": "display_data",
          "data": {
            "image/png": "[encoded data removed]",
            "text/plain": [
              "<Figure size 432x288 with 1 Axes>"
            ]
          },
          "metadata": {
            "tags": [],
            "needs_background": "light"
          }
        }
      ]
    },
    {
      "cell_type": "markdown",
      "metadata": {
        "id": "O20-e20Lilyu"
      },
      "source": [
        "По правилам трех сигм получим распределение наблюдей по участкам будет следующим:\n",
        "* $(166 ; 182)$  - $68$ %\n",
        "* $(158 ; 190)$ - $ 95.4$ %\n",
        "* $(150 ; 198)$ - $99.72$ %."
      ]
    },
    {
      "cell_type": "markdown",
      "metadata": {
        "id": "Bi7Xkg1Ts-Pu"
      },
      "source": [
        "от  $150$  до  $198$  — $99.72$ %."
      ]
    },
    {
      "cell_type": "markdown",
      "metadata": {
        "id": "oQ433hjSuGLx"
      },
      "source": [
        "##Ответ\n",
        "а). больше 182 см\n",
        "\n",
        "б). больше 190 см\n",
        "\n",
        "в). от 166 см до 190 см\n",
        "\n",
        "г). от $166$ см до $182$ см - $68$%\n",
        "\n",
        "д). от $158$ см до $190$ см - $95,4$%\n",
        "\n",
        "е). не выше 150 см или не ниже 190 см\n",
        "\n",
        "ё). не выше 150 см или не ниже 198 см\n",
        "\n",
        "ж). ниже 166 см."
      ]
    },
    {
      "cell_type": "code",
      "metadata": {
        "id": "1IzC-YBmtU4a",
        "outputId": "fffc2035-ef2e-47be-997d-0daa3fcc4697",
        "colab": {
          "base_uri": "https://localhost:8080/",
          "height": 0
        }
      },
      "source": [
        "174 - 8*3\n"
      ],
      "execution_count": 5,
      "outputs": [
        {
          "output_type": "execute_result",
          "data": {
            "text/plain": [
              "150"
            ]
          },
          "metadata": {
            "tags": []
          },
          "execution_count": 5
        }
      ]
    }
  ]
}