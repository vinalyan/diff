{
  "nbformat": 4,
  "nbformat_minor": 0,
  "metadata": {
    "colab": {
      "name": "Матстат_урок_4_ДЗ_Кожемякин_В_Е.ipynb",
      "provenance": [],
      "authorship_tag": "ABX9TyPMq0AZDf9l51Yf0cbyCeUX",
      "include_colab_link": true
    },
    "kernelspec": {
      "name": "python3",
      "display_name": "Python 3"
    }
  },
  "cells": [
    {
      "cell_type": "markdown",
      "metadata": {
        "id": "view-in-github",
        "colab_type": "text"
      },
      "source": [
        "<a href=\"https://colab.research.google.com/github/vinalyan/diff/blob/master/%D0%9C%D0%B0%D1%82%D1%81%D1%82%D0%B0%D1%82_%D1%83%D1%80%D0%BE%D0%BA_4_%D0%94%D0%97_%D0%9A%D0%BE%D0%B6%D0%B5%D0%BC%D1%8F%D0%BA%D0%B8%D0%BD_%D0%92_%D0%95.ipynb\" target=\"_parent\"><img src=\"https://colab.research.google.com/assets/colab-badge.svg\" alt=\"Open In Colab\"/></a>"
      ]
    },
    {
      "cell_type": "markdown",
      "metadata": {
        "id": "HrecN7-XowLn"
      },
      "source": [
        "# Настройка\n"
      ]
    },
    {
      "cell_type": "code",
      "metadata": {
        "id": "TIIeW7IIoIyI"
      },
      "source": [
        "import numpy as np\n",
        "from math import factorial\n",
        "def combinations(n, k):\n",
        "    return int(factorial(n) / (factorial(k) * factorial(n - k)))\n",
        "\n",
        "from matplotlib import pyplot as plt\n",
        "import seaborn as sns\n",
        "from scipy.stats import norm"
      ],
      "execution_count": 1,
      "outputs": []
    },
    {
      "cell_type": "code",
      "metadata": {
        "id": "5r9g2cyi2YMd"
      },
      "source": [
        "font = {'family': 'serif',\n",
        "        'color':  'darkred',\n",
        "        'weight': 'normal',\n",
        "        'size': 16,\n",
        "        }"
      ],
      "execution_count": 201,
      "outputs": []
    },
    {
      "cell_type": "markdown",
      "metadata": {
        "id": "DhZu-IUso2t8"
      },
      "source": [
        "# Задание № 1\n",
        "Случайная непрерывная величина A имеет равномерное распределение на промежутке (200, 800].\n",
        "Найдите ее среднее значение и дисперсию."
      ]
    },
    {
      "cell_type": "markdown",
      "metadata": {
        "id": "v8T6FztqqZb0"
      },
      "source": [
        "## Решение"
      ]
    },
    {
      "cell_type": "markdown",
      "metadata": {
        "id": "X7u-OuRspWAm"
      },
      "source": [
        "Математическое ожидание $M(X)$ равномерно распределенной непрерывной случайной величины можно вычислить по формуле:\n",
        "$$M(X) = \\frac{a + b}{2} = \\frac{800 + 200}{2} = 500$$"
      ]
    },
    {
      "cell_type": "markdown",
      "metadata": {
        "id": "x3gA-KcSp9Cp"
      },
      "source": [
        "По следующей формуле можно рассчитать дисперсию $D(X)$:\n",
        "$$D(X) = \\frac{(b - a)^2}{12} = \\frac{(800 - 200)^2}{12} = 50$$"
      ]
    },
    {
      "cell_type": "code",
      "metadata": {
        "id": "FaOJbp3mqQzr",
        "outputId": "424c44b6-7453-4d6f-e33a-ce72617a6f3a",
        "colab": {
          "base_uri": "https://localhost:8080/",
          "height": 34
        }
      },
      "source": [
        "(800-200)/12"
      ],
      "execution_count": null,
      "outputs": [
        {
          "output_type": "execute_result",
          "data": {
            "text/plain": [
              "50.0"
            ]
          },
          "metadata": {
            "tags": []
          },
          "execution_count": 1
        }
      ]
    },
    {
      "cell_type": "markdown",
      "metadata": {
        "id": "AdlFaovHqsLE"
      },
      "source": [
        "## Ответ\n",
        "$M(X) = 500$\n",
        "\n",
        "$D(X) = 50$"
      ]
    },
    {
      "cell_type": "markdown",
      "metadata": {
        "id": "JHv6B5dOrca0"
      },
      "source": [
        "# Задание № 2\n",
        "О случайной непрерывной равномерно распределенной величине B известно, что ее дисперсия равна 0.2.\n",
        "Можно ли найти правую границу величины B и ее среднее значение зная, что левая граница равна 0.5?\n",
        "Если да, найдите ее."
      ]
    },
    {
      "cell_type": "markdown",
      "metadata": {
        "id": "l9fX7JMDrjTe"
      },
      "source": [
        "## Решение\n"
      ]
    },
    {
      "cell_type": "markdown",
      "metadata": {
        "id": "y959-NLPryW3"
      },
      "source": [
        "Диперсия вычисляется по формуле:\n",
        "$$D(X) = \\frac{(b - a)^2}{12}$$\n",
        "где: $D(X) = 0,2$ , а $a = 0,5$\n",
        "\n",
        "тогда:\n",
        "\n",
        "$$0,2 = \\frac{(b - 0,5)^2}{12} => (b - 0,5)^2 = 6 => b -0,5 = 2.45 => b = 2.95 $$\n"
      ]
    },
    {
      "cell_type": "markdown",
      "metadata": {
        "id": "bMw6pn0fv9RT"
      },
      "source": [
        "Математическое ожидание $M(X)$ равномерно распределенной непрерывной случайной величины можно вычислить по формуле:\n",
        "$$M(X) = \\frac{a + b}{2} = \\frac{2,95 + 0,5}{2} = 1,725$$"
      ]
    },
    {
      "cell_type": "markdown",
      "metadata": {
        "id": "CQVQQDStuhkp"
      },
      "source": [
        "## Ответ\n",
        "Правая граница равна $2,95$\n",
        "\n",
        "Среднее значение $1,725$"
      ]
    },
    {
      "cell_type": "code",
      "metadata": {
        "id": "up8VmRAZsDDh",
        "outputId": "3409df53-bf8b-4b08-ea14-d7099059bcb4",
        "colab": {
          "base_uri": "https://localhost:8080/",
          "height": 50
        }
      },
      "source": [
        "print('правая граница величины: {}'.format(2.95))\n",
        "print('среднее значение: {:.4}'.format((2.95+0.5)/2))\n"
      ],
      "execution_count": 306,
      "outputs": [
        {
          "output_type": "stream",
          "text": [
            "правая граница величины: 2.95\n",
            "среднее значение: 1.725\n"
          ],
          "name": "stdout"
        }
      ]
    },
    {
      "cell_type": "markdown",
      "metadata": {
        "id": "ogllpQOra2Kn"
      },
      "source": [
        "#Задание № 3\n",
        "Непрерывная случайная величина X распределена нормально и задана плотностью распределения\n",
        "$$f(x) = \\frac {1}{4 * \\sqrt{2\\pi}} * e^ {- \\frac {(x+2)^2}{32}}.\n",
        "$$\n",
        "Найдите:\n",
        "\n",
        "а). M(X) \n",
        "\n",
        "б). D(X) \n",
        "\n",
        "в) std(X) (среднее квадратичное отклонение)"
      ]
    },
    {
      "cell_type": "markdown",
      "metadata": {
        "id": "mY5YqBCWgpMn"
      },
      "source": [
        "##Решение\n",
        "Так как формула нормального распределения имеет вид:\n",
        "$$f(x) = \\frac{1}{\\sigma \\sqrt{2 \\pi}} e ^ {- \\frac{(x - a)^2}{2 \\sigma^2}},$$\n",
        "то:"
      ]
    },
    {
      "cell_type": "markdown",
      "metadata": {
        "id": "sD07gVsQgJfM"
      },
      "source": [
        "##Ответ\n",
        "$M(X) = -2$\n",
        "\n",
        "$D(X) = 16$\n",
        "\n",
        "$\\sigma = 4$"
      ]
    },
    {
      "cell_type": "markdown",
      "metadata": {
        "id": "UQqUyfZ1hIn1"
      },
      "source": [
        "#Задание № 4\n",
        "Рост взрослого населения города X имеет нормальное распределение.\n",
        "Причем, средний рост равен 174 см, а среднее квадратичное отклонение равно 8 см.\n",
        "Какова вероятность того, что случайным образом выбранный взрослый человек имеет рост:\n",
        "1. больше 182 см\n",
        "2. больше 190 см\n",
        "3. от 166 см до 190 см\n",
        "4. от 166 см до 182 см\n",
        "5. от 158 см до 190 см\n",
        "6. не выше 150 см или не ниже 190 см\n",
        "7. не выше 150 см или не ниже 198 см\n",
        "8. ниже 166 см."
      ]
    },
    {
      "cell_type": "markdown",
      "metadata": {
        "id": "zO2zLWn3h0nX"
      },
      "source": [
        "##Решение\n"
      ]
    },
    {
      "cell_type": "markdown",
      "metadata": {
        "id": "u8Mlcyis1JMN"
      },
      "source": [
        "###Расчеты"
      ]
    },
    {
      "cell_type": "markdown",
      "metadata": {
        "id": "Bi7Xkg1Ts-Pu"
      },
      "source": [
        "Разобьем на несколько участков следущим образом:\n",
        "* $a_1$ где $x \\leqslant 150$\n",
        "* $a_2$ где $150 < x \\leqslant 158$\n",
        "* $a_3$ где $158 < x \\leqslant 166$\n",
        "* $a_4$ где $166 < x \\leqslant 174$\n",
        "* $a_5$ где $174 < x \\leqslant 182$\n",
        "* $a_6$ где $182 < x \\leqslant 190$\n",
        "* $a_7$ где $190 < x \\leqslant 198$\n",
        "* $a_8$ где $x > 198$"
      ]
    },
    {
      "cell_type": "markdown",
      "metadata": {
        "id": "CPtdzERzprRs"
      },
      "source": [
        "Обозначим вероятность попадания величины $x$ на участок $a_i$ как\n",
        "$P(a_i)$ "
      ]
    },
    {
      "cell_type": "markdown",
      "metadata": {
        "id": "O20-e20Lilyu"
      },
      "source": [
        "По правилам трех сигм получим распределение наблюдей по участкам будет следующим:\n",
        "1. $P(166< x \\leqslant 182) = P(a_4) + P(a_5) = 0,68$ \n",
        "2. $P(158 < x \\leqslant 190) = P(a_3) + P(a_4) +P(a_5) +P(a_6)  = 0,954$ \n",
        "3. $P(150 < x \\leqslant 198) = \n",
        "P(a_2) + P(a_3) + P(a_4) + P(a_5) + P(a_6) + P(a_7) =0,9972$.\n",
        "\n"
      ]
    },
    {
      "cell_type": "markdown",
      "metadata": {
        "id": "4NqeQe4orzLG"
      },
      "source": [
        "Если тут все посчитать, то:\n",
        "\n",
        "$P(a_1) = P(a_8)=0,0014$\n",
        "\n",
        "$P(a_2) = P(a_7)=0,022$\n",
        "\n",
        "$P(a_3) = P(a_6)=0,137$\n",
        "\n",
        "$P(a_4) = P(a_5)=0,34$\n",
        "\n",
        "\n"
      ]
    },
    {
      "cell_type": "code",
      "metadata": {
        "id": "cgTrsV-0t35Q",
        "outputId": "4be5c54d-6842-45f4-90d4-db8ad6709c8b",
        "colab": {
          "base_uri": "https://localhost:8080/",
          "height": 84
        }
      },
      "source": [
        "p4 = 0.34\n",
        "p5=p4\n",
        "p3 = 0.954/2 - p4\n",
        "p6=p3\n",
        "p2 = 0.9972 /2 - p3 - p4\n",
        "p7=p2\n",
        "p1 = 0.5 - p2 - p3 - p4\n",
        "p8=p1\n",
        "print('P(x <= 150) = P(x > 198) = P(a1) = P(a8) = {:.4}'.format(p1))\n",
        "print('P(150 < x <= 158) = P(190 < x <= 198) = P(a2) = P(a7) = {:.4}'.format(p2))\n",
        "print('P(158 < x <= 166) = P(182 < x <= 190) = P(a3) = P(a6) = {:.4}'.format(p3))\n",
        "print('P(166 < x <= 174) = P(174 < x <= 182) = P(a4) = P(a5) = {:.4}'.format(p4))\n"
      ],
      "execution_count": 290,
      "outputs": [
        {
          "output_type": "stream",
          "text": [
            "P(x <= 150) = P(x > 198) = P(a1) = P(a8) = 0.0014\n",
            "P(150 < x <= 158) = P(190 < x <= 198) = P(a2) = P(a7) = 0.0216\n",
            "P(158 < x <= 166) = P(182 < x <= 190) = P(a3) = P(a6) = 0.137\n",
            "P(166 < x <= 174) = P(174 < x <= 182) = P(a4) = P(a5) = 0.34\n"
          ],
          "name": "stdout"
        }
      ]
    },
    {
      "cell_type": "code",
      "metadata": {
        "id": "Zy48CMMzwJOj",
        "outputId": "64e3e301-a7dd-48e7-a7e3-52c3d40aaefa",
        "colab": {
          "base_uri": "https://localhost:8080/",
          "height": 34
        }
      },
      "source": [
        "p1+p2+p3+p4+p5+p6+p7+p8"
      ],
      "execution_count": 236,
      "outputs": [
        {
          "output_type": "execute_result",
          "data": {
            "text/plain": [
              "1.0000000000000002"
            ]
          },
          "metadata": {
            "tags": []
          },
          "execution_count": 236
        }
      ]
    },
    {
      "cell_type": "markdown",
      "metadata": {
        "id": "nhrkMM1dojVg"
      },
      "source": [
        "дальше все этом можно удобно поскладывать руками или посмотреть на графике. "
      ]
    },
    {
      "cell_type": "code",
      "metadata": {
        "id": "GJ6j07PsqHHY"
      },
      "source": [
        "res_1= p6+p7+p8\n",
        "res_2 = p7+p8\n",
        "res_3 = p4+p5+p6\n",
        "res_4 = p4+p5\n",
        "res_5 = p3+p4+p5+p6\n",
        "res_6 = p1+p7+p8\n",
        "res_7 = p1+p8\n",
        "res_8 = p1+p2+p3"
      ],
      "execution_count": 277,
      "outputs": []
    },
    {
      "cell_type": "markdown",
      "metadata": {
        "id": "uwijL1VhQ7Ew"
      },
      "source": [
        "### Тут график"
      ]
    },
    {
      "cell_type": "code",
      "metadata": {
        "id": "HcNRAjpGrofw",
        "outputId": "bd85ac54-c4f6-4079-dbc8-e1d93f71c788",
        "colab": {
          "base_uri": "https://localhost:8080/",
          "height": 325
        }
      },
      "source": [
        "fig= plt.figure()\n",
        "ax = fig.add_subplot(111)\n",
        "\n",
        "# Значения между 140 и 205 с шагом 0.01\n",
        "x = np.arange(140, 205, 0.01)\n",
        "# Нормальное расределение с М(x) = 174 СКО = 8\n",
        "\n",
        "y = norm.pdf(x,174,8)\n",
        "# Среднее значение = 174, СКО = 8.\n",
        "ax.plot(x, y)\n",
        "\n",
        "xax = ax.xaxis   # или xax = ax.get_xaxis()\n",
        "xax.set_ticks([150,158,166,174,182,190,198])\n",
        "\n",
        "#Отразим на графике\n",
        "''' \n",
        "sig_3m - участок (150,158)\n",
        "sig_2m - участок (158,166)\n",
        "sig_1m - участок (166,174)\n",
        "sig_1p - участок (174,182)\n",
        "sig_2p - участок (182,190)\n",
        "sig_3p - участок (190,198)\n",
        "'''\n",
        "sig_3m = (x > 150) & (x <= 158)\n",
        "plt.fill_between(x, y, where=(sig_3m), color='royalblue') \n",
        "sig_2m = (x > 158) & (x <= 166)\n",
        "plt.fill_between(x, y, where=(sig_2m), color='seagreen') \n",
        "sig_1m = (x > 166) & (x <= 174)\n",
        "plt.fill_between(x, y, where=(sig_1m), color='firebrick') \n",
        "\n",
        "sig_1p = (x > 174) & (x <= 182)\n",
        "plt.fill_between(x, y, where=(sig_1p), color='firebrick') \n",
        "sig_2p = (x > 182) & (x <= 190)\n",
        "plt.fill_between(x, y, where=(sig_2p), color='seagreen') \n",
        "sig_3p = (x > 190) & (x <= 198)\n",
        "plt.fill_between(x, y, where=(sig_3p), color='royalblue') \n",
        "\n",
        "plt.title('Плотность вероятности распределения роста\\nМ(X) = 174   sig=8', fontdict=font)\n",
        "plt.xlabel('X', fontdict=font)\n",
        "plt.ylabel('p(X)', fontdict=font)\n",
        "\n",
        "plt.text(142, 0.007, 'a1\\n0,0014')\n",
        "plt.text(151, 0.007, 'a2\\n0,022')\n",
        "plt.text(159, 0.007, 'a3\\n0,137')\n",
        "plt.text(167, 0.007, 'a4\\n0,34')\n",
        "plt.text(175, 0.007, 'a5\\n0,34')\n",
        "plt.text(183, 0.007, 'a6\\n0,137')\n",
        "plt.text(191, 0.007, 'a7\\n0,022')\n",
        "plt.text(200, 0.007, 'a8\\n0,0014')\n",
        "xax.grid(True)\n",
        "plt.show()\n",
        "\n"
      ],
      "execution_count": 253,
      "outputs": [
        {
          "output_type": "display_data",
          "data": {
            "image/png": "[encoded data removed]",
            "text/plain": [
              "<Figure size 432x288 with 1 Axes>"
            ]
          },
          "metadata": {
            "tags": [],
            "needs_background": "light"
          }
        }
      ]
    },
    {
      "cell_type": "markdown",
      "metadata": {
        "id": "oQ433hjSuGLx"
      },
      "source": [
        "##Ответ\n",
        "1. больше $182$ см - $16$%\n",
        "2. больше $190$ см - $2,3$%\n",
        "3. от $166$ см до $190$ см - $81,7$%\n",
        "4. от $166$ см до $182$ см - $68$%\n",
        "5. от $158$ см до $190$ см - $95,4$%\n",
        "6. не выше $150$ см или не ниже $190$ см  - $2,4$%\n",
        "7. не выше $150$ см или не ниже $198$ см - $0,28$%\n",
        "8. ниже $166$ см - $16$%"
      ]
    },
    {
      "cell_type": "code",
      "metadata": {
        "id": "JGG19p_a2CUl",
        "outputId": "f4032d94-e146-4817-9551-81d2e93700ba",
        "colab": {
          "base_uri": "https://localhost:8080/",
          "height": 151
        }
      },
      "source": [
        "print('1) P(x > 182): P(a6) + P(a7) + P(a8) = {:.4}'.format(res_1))\n",
        "print('2) P(x > 190): P(a7) + P(a8) = {:.4}'.format(res_2))\n",
        "print('3) P(166 < x <= 190): P(a4) + P(a5) + P(a6) = {:.4}'.format(res_3))\n",
        "print('4) P(166 < x <= 182): P(a4) + P(a5) = {:.4}'.format(res_4))\n",
        "print('5) P(158 < x <= 190): P(a3) + P(a4) + P(a5) + P(a6) = {:.4}'.format(res_5))\n",
        "print('6) P(x <= 150) + P(x >= 190): P(a1) + P(a7) + P(a8) = {:.4}'.format(res_6))\n",
        "print('7) P(x <= 150) + P(x >= 198): P(a1) + P(a8) = {:.4}'.format(res_7))\n",
        "print('8) P(x < 166) : P(a1) + P(a2) + P(a3) = {:.4}'.format(res_8))\n"
      ],
      "execution_count": 289,
      "outputs": [
        {
          "output_type": "stream",
          "text": [
            "1) P(x > 182): P(a6) + P(a7) + P(a8) = 0.16\n",
            "2) P(x > 190): P(a7) + P(a8) = 0.023\n",
            "3) P(166 < x <= 190): P(a4) + P(a5) + P(a6) = 0.817\n",
            "4) P(166 < x <= 182): P(a4) + P(a5) = 0.68\n",
            "5) P(158 < x <= 190): P(a3) + P(a4) + P(a5) + P(a6) = 0.954\n",
            "6) P(x <= 150) + P(x >= 190): P(a1) + P(a7) + P(a8) = 0.0244\n",
            "7) P(x <= 150) + P(x >= 198): P(a1) + P(a8) = 0.0028\n",
            "8) P(x < 166) : P(a1) + P(a2) + P(a3) = 0.16\n"
          ],
          "name": "stdout"
        }
      ]
    },
    {
      "cell_type": "markdown",
      "metadata": {
        "id": "yadwWGvrAdXo"
      },
      "source": [
        "###Проверка с использованием таблицы\n"
      ]
    },
    {
      "cell_type": "markdown",
      "metadata": {
        "id": "JZbkGoPvKy-1"
      },
      "source": [
        "<img src='https://konspekta.net/studopedianet/baza3/440489078389.files/image697.jpg' width=500></img>"
      ]
    },
    {
      "cell_type": "code",
      "metadata": {
        "id": "mkdIrMW3Andj"
      },
      "source": [
        "#1 больше 182 - 16%\n",
        "#нормируем сигму (182-174)/8\n",
        "#считаем вероятность\n",
        "res_1p = 1-0.84\n",
        "\n",
        "#2 больше 190 -2,3 %\n",
        "#(190-174)/8\n",
        "res_2p = 1 - 0.9772\n",
        "\n",
        "#3 от 166 см до 190 см\n",
        "#(166-174)/8 \n",
        "#(190-174)/8\n",
        "res_3p = 0.9772-(1 - 0.84)\n",
        "\n",
        "#4. от 166 см до 182 см\n",
        "#print((166-174)/8, (182-174)/8)\n",
        "res_4p = 0.84 - (1- 0.84)\n",
        "\n",
        "#5 от 158 см до 190 см \n",
        "# (158-174)/8 (190-174)/8\n",
        "res_5p = 0.9772 - (1 - 0.9772)\n",
        "\n",
        "#6 не выше 150 см или не ниже 190 см \n",
        "# print((150-174)/8, (190-174)/8)\n",
        "res_6p = (1 - 0.99865) + (1 - 0.97250)\n",
        "\n",
        "#7 не выше 150 см или не ниже 198 см\n",
        "# print((150-174)/8, (198-174)/8)\n",
        "res_7p = (1 - 0.99865) + (1 - 0.99865)\n",
        "\n",
        "#8 ниже 166 см \n",
        "# print((166-174)/8)\n",
        "res_8p = (1 - 0.841345)\n",
        "\n"
      ],
      "execution_count": 274,
      "outputs": []
    },
    {
      "cell_type": "code",
      "metadata": {
        "id": "TI0n-95is-W2",
        "outputId": "b47483f7-7213-49dc-9d85-9d4e3537e443",
        "colab": {
          "base_uri": "https://localhost:8080/",
          "height": 168
        }
      },
      "source": [
        "print('ошибка в 1 : {:.2}'.format(res_1 - res_1p))\n",
        "print('ошибка в 2 : {:.2}'.format(res_2 - res_2p))\n",
        "print('ошибка в 3 : {:.2}'.format(res_3 - res_3p))\n",
        "print('ошибка в 4 : {:.2}'.format(res_4 - res_4p))\n",
        "print('ошибка в 5 : {:.2}'.format(res_5 - res_5p))\n",
        "print('ошибка в 6 : {:.2}'.format(res_6 - res_6p))\n",
        "print('ошибка в 7 : {:.2}'.format(res_7 - res_7p))\n",
        "print('ошибка в 8 : {:.2}'.format(res_8 - res_8p))\n",
        "print('средняя ошибка : {:.2}'.format(( (res_7 - res_7p) +\n",
        "                                        (res_6 - res_6p) +\n",
        "                                        (res_5 - res_5p) +\n",
        "                                        (res_4 - res_4p) +\n",
        "                                        (res_3 - res_3p) + \n",
        "                                        (res_1 - res_1p) + \n",
        "                                        (res_8 - res_8p) +\n",
        "                                        (res_2 - res_2p)\n",
        "                                        )/8 ))\n",
        "\n"
      ],
      "execution_count": 299,
      "outputs": [
        {
          "output_type": "stream",
          "text": [
            "ошибка в 1 : -5.6e-17\n",
            "ошибка в 2 : 0.0002\n",
            "ошибка в 3 : -0.0002\n",
            "ошибка в 4 : 1.1e-16\n",
            "ошибка в 5 : -0.0004\n",
            "ошибка в 6 : -0.0044\n",
            "ошибка в 7 : 0.0001\n",
            "ошибка в 8 : 0.0013\n",
            "средняя ошибка : -0.00043\n"
          ],
          "name": "stdout"
        }
      ]
    },
    {
      "cell_type": "markdown",
      "metadata": {
        "id": "fMOur0ha7Rvo"
      },
      "source": [
        "#Задание №5\n",
        "На сколько сигм (средних квадратичных отклонений) отклоняется рост человека, равный 190 см, от\n",
        "математического ожидания роста в популяции, в которой $M(X) = 178$ см и $D(X) = 25$ кв.см?"
      ]
    },
    {
      "cell_type": "markdown",
      "metadata": {
        "id": "JTtobsB69qJ3"
      },
      "source": [
        "##Решение"
      ]
    },
    {
      "cell_type": "markdown",
      "metadata": {
        "id": "j-ioxkEH-Jt0"
      },
      "source": [
        "$$Z = \\frac{X-\\mu}{\\sigma}= \\frac{190-178}{5}= 2,4$$"
      ]
    },
    {
      "cell_type": "markdown",
      "metadata": {
        "id": "pKifroZI-49C"
      },
      "source": [
        "##Ответ\n",
        "$Z=2,4$"
      ]
    },
    {
      "cell_type": "code",
      "metadata": {
        "id": "dA5oTVLf-v5i",
        "outputId": "d333efd2-b6bd-471b-c34e-2a414e4129cb",
        "colab": {
          "base_uri": "https://localhost:8080/",
          "height": 34
        }
      },
      "source": [
        "(190-178)/5"
      ],
      "execution_count": 227,
      "outputs": [
        {
          "output_type": "execute_result",
          "data": {
            "text/plain": [
              "2.4"
            ]
          },
          "metadata": {
            "tags": []
          },
          "execution_count": 227
        }
      ]
    }
  ]
}