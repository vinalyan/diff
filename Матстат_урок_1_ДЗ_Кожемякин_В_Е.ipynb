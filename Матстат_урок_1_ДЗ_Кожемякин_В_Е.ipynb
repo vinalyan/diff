{
  "nbformat": 4,
  "nbformat_minor": 0,
  "metadata": {
    "colab": {
      "name": "Матстат урок 1. ДЗ. Кожемякин В.Е.ipynb",
      "provenance": [],
      "authorship_tag": "ABX9TyOI6MOaSyGm9+qLJ/ctfC4e",
      "include_colab_link": true
    },
    "kernelspec": {
      "name": "python3",
      "display_name": "Python 3"
    }
  },
  "cells": [
    {
      "cell_type": "markdown",
      "metadata": {
        "id": "view-in-github",
        "colab_type": "text"
      },
      "source": [
        "<a href=\"https://colab.research.google.com/github/vinalyan/diff/blob/master/%D0%9C%D0%B0%D1%82%D1%81%D1%82%D0%B0%D1%82_%D1%83%D1%80%D0%BE%D0%BA_1_%D0%94%D0%97_%D0%9A%D0%BE%D0%B6%D0%B5%D0%BC%D1%8F%D0%BA%D0%B8%D0%BD_%D0%92_%D0%95.ipynb\" target=\"_parent\"><img src=\"https://colab.research.google.com/assets/colab-badge.svg\" alt=\"Open In Colab\"/></a>"
      ]
    },
    {
      "cell_type": "markdown",
      "metadata": {
        "id": "ypH8Pt-BUM4O"
      },
      "source": [
        "# Настройки \n"
      ]
    },
    {
      "cell_type": "code",
      "metadata": {
        "id": "Ro953f9tULuV"
      },
      "source": [
        "import numpy as np\n",
        "from math import factorial\n",
        "def combinations(n, k):\n",
        "    return int(factorial(n) / (factorial(k) * factorial(n - k)))   "
      ],
      "execution_count": null,
      "outputs": []
    },
    {
      "cell_type": "markdown",
      "metadata": {
        "id": "0JfJJ6H4--yK"
      },
      "source": [
        "#Задание номер 1\n",
        "Из колоды в $52$ карты извлекаются случайным образом $4$ карты. \n",
        "1.   Найти вероятность того, что все карты – крести\n",
        "2.   Найти вероятность, что среди $4-х$ карт окажется ХОТЯ БЫ один туз.\n",
        "\n",
        "\n",
        "\n",
        "\n"
      ]
    },
    {
      "cell_type": "markdown",
      "metadata": {
        "id": "TdKH9BlZ---s"
      },
      "source": [
        "## Решение 1\n",
        "Найти вероятность того, что все карты – крести.\n",
        "\n",
        "$A$ событий извлечения $4-х$ карт из $52$, где все извлеченные карты - крести\n"
      ]
    },
    {
      "cell_type": "markdown",
      "metadata": {
        "id": "IBFEzl1XWfIA"
      },
      "source": [
        "Сначала определим количество благоприятных исходов. Для этого надо посчитать колчиестров сочетаний $4$ карт из $13$. Так как в колоде 13 карт масти крести.\n",
        "\n",
        "Число таких сочетаний будет равно:\n",
        "$$C_{13}^4 = \\frac{13!}{4!(13 - 4)!} = \\frac{13!}{4! \\cdot 11!} = 715$$\n"
      ]
    },
    {
      "cell_type": "code",
      "metadata": {
        "id": "_guMT57FAinY",
        "outputId": "684e01ed-7527-43c3-ed99-63f23f7a28d2",
        "colab": {
          "base_uri": "https://localhost:8080/",
          "height": 34
        }
      },
      "source": [
        "combinations(13, 4)"
      ],
      "execution_count": 13,
      "outputs": [
        {
          "output_type": "execute_result",
          "data": {
            "text/plain": [
              "715"
            ]
          },
          "metadata": {
            "tags": []
          },
          "execution_count": 13
        }
      ]
    },
    {
      "cell_type": "markdown",
      "metadata": {
        "id": "C9A0VoPYYN7k"
      },
      "source": [
        "Теперь определим общее количество исходов при извлечении $4-х$ карт из $52$ \n",
        "$$C_{52}^4 = \\frac{52!}{4!(52 - 4)!} = 270725$$ "
      ]
    },
    {
      "cell_type": "code",
      "metadata": {
        "id": "JjRe7WAmYUUI",
        "outputId": "4c264a09-e2ee-46da-ac8e-7762d1f4edbd",
        "colab": {
          "base_uri": "https://localhost:8080/",
          "height": 34
        }
      },
      "source": [
        "combinations(52, 4)"
      ],
      "execution_count": 20,
      "outputs": [
        {
          "output_type": "execute_result",
          "data": {
            "text/plain": [
              "270725"
            ]
          },
          "metadata": {
            "tags": []
          },
          "execution_count": 20
        }
      ]
    },
    {
      "cell_type": "markdown",
      "metadata": {
        "id": "n0AyqUOPd59G"
      },
      "source": [
        "Таким образом вероятность события $A$ будет равно $$P(A) = \\frac {C_{13}^4}{C_{52}^4} = 0.03$$ "
      ]
    },
    {
      "cell_type": "code",
      "metadata": {
        "id": "LPVywSCQfPRi",
        "outputId": "74aa1020-bfe7-4bda-d806-61dee039b66d",
        "colab": {
          "base_uri": "https://localhost:8080/",
          "height": 34
        }
      },
      "source": [
        "combinations(13, 4)/combinations(52, 4)"
      ],
      "execution_count": 24,
      "outputs": [
        {
          "output_type": "execute_result",
          "data": {
            "text/plain": [
              "0.0026410564225690276"
            ]
          },
          "metadata": {
            "tags": []
          },
          "execution_count": 24
        }
      ]
    },
    {
      "cell_type": "markdown",
      "metadata": {
        "id": "XqtFtKnHBF0E"
      },
      "source": [
        "# Задание номер 2\n",
        "На входной двери подъезда установлен кодовый замок, содержащий десять кнопок с цифрами от 0 до 9. Код содержит три цифры, которые нужно нажать одновременно. Какова вероятность того, что человек, не знающий код, откроет дверь с первой попытки?"
      ]
    },
    {
      "cell_type": "markdown",
      "metadata": {
        "id": "gBegDPL0BNam"
      },
      "source": [
        "## Решение\n",
        "Для ответа на этот вопрос первым делом необходимо расчитать число возможных вариантов нажатия на три кнопки из десяти, т.е. полное число возможных исходов. \n",
        "Для этого воспользуемся формулой вычисления количества сочетаний:\n",
        "$$C_{10}^3 = \\frac{10!}{3!(10 - 3)!} = \\frac{10!}{3! \\cdot 7!} = \\frac{10 \\cdot 9 \\cdot 8}{3!} = 120$$"
      ]
    },
    {
      "cell_type": "markdown",
      "metadata": {
        "id": "cTCOAXmrDUGn"
      },
      "source": [
        "Для открытия двери, если, конечно, там ничего не поломано, нас устраивает только один исход. \n",
        "Для вычисления вероятности наступления события воспользуемся формулой из классического определения вероятности:\n",
        "$$P(A) = \\frac{m}{n} = \\frac{1}{120} = 0,008$$"
      ]
    },
    {
      "cell_type": "code",
      "metadata": {
        "id": "43pVJA_1_zyQ"
      },
      "source": [
        "\n"
      ],
      "execution_count": 3,
      "outputs": []
    },
    {
      "cell_type": "code",
      "metadata": {
        "id": "DH-2xV2_CCT_",
        "outputId": "eeba2c81-291f-448e-8115-01ba77b6e09f",
        "colab": {
          "base_uri": "https://localhost:8080/",
          "height": 34
        }
      },
      "source": [
        "res_2 = 1 / combinations(10, 3)\n",
        "res_2"
      ],
      "execution_count": 11,
      "outputs": [
        {
          "output_type": "execute_result",
          "data": {
            "text/plain": [
              "0.008333333333333333"
            ]
          },
          "metadata": {
            "tags": []
          },
          "execution_count": 11
        }
      ]
    },
    {
      "cell_type": "markdown",
      "metadata": {
        "id": "aDhUcx1EE7lF"
      },
      "source": [
        "# Задание номер 3\n",
        "В ящике имеется 15 деталей, из которых 9 окрашены. Рабочий случайным образом извлекает 3 детали. Какова вероятность того, что все извлеченные детали окрашены?"
      ]
    },
    {
      "cell_type": "markdown",
      "metadata": {
        "id": "lPjJohCXFhxH"
      },
      "source": [
        "## Решение\n",
        "Событием $A$ будем считать извлечение рабочим трех окрашенных деталей. \n"
      ]
    },
    {
      "cell_type": "markdown",
      "metadata": {
        "id": "vlGxQaSYPMR0"
      },
      "source": [
        "Событие $B_1$ - извлечение первой окрашенной детали. Для наступления данного события $9$ исходов из $24$ являются благоприятными.Вероятность наступления события $$P(B_1)= \\frac{9}{24} $$"
      ]
    },
    {
      "cell_type": "markdown",
      "metadata": {
        "id": "njGl7zf1PRr9"
      },
      "source": [
        "Событие $B_2$ - извлечение второй окрашенной детали. Для наступления данного события $8$ исходов из $23$ являются благоприятными.Вероятность наступления события $$P(B_2)= \\frac{8}{23} $$"
      ]
    },
    {
      "cell_type": "markdown",
      "metadata": {
        "id": "g4seCpZmPeJL"
      },
      "source": [
        "Событие $B_3$ - извлечение первой окрашенной детали. Для наступления данного события $7$ исходов из $22$ являются благоприятными.Вероятность наступления события $$P(B_3)= \\frac{7}{22} $$"
      ]
    },
    {
      "cell_type": "markdown",
      "metadata": {
        "id": "34B1kxBwPlFG"
      },
      "source": [
        "\n",
        "Так как события независимы, то вероятность события $A$\n",
        "$$P(A)= P(B_1)*P(B_2)*P(B_3) = \\frac{9}{24} \\cdot \\frac{8}{23}\\cdot \\frac{7}{22}  = 0,04$$\n",
        "\n"
      ]
    },
    {
      "cell_type": "code",
      "metadata": {
        "id": "l60cZeuWH3oZ",
        "outputId": "830f9bf9-a196-42aa-d942-415c83bad909",
        "colab": {
          "base_uri": "https://localhost:8080/",
          "height": 34
        }
      },
      "source": [
        "res_3 = 9/24*8/23*7/22\n",
        "res_3"
      ],
      "execution_count": 10,
      "outputs": [
        {
          "output_type": "execute_result",
          "data": {
            "text/plain": [
              "0.04150197628458498"
            ]
          },
          "metadata": {
            "tags": []
          },
          "execution_count": 10
        }
      ]
    },
    {
      "cell_type": "markdown",
      "metadata": {
        "id": "lpBPi0y3RreP"
      },
      "source": [
        "# Задание номер 4\n",
        "В лотерее 100 билетов. Из них 2 выигрышных. Какова вероятность того, что 2 приобретенных билета окажутся выигрышными?"
      ]
    },
    {
      "cell_type": "markdown",
      "metadata": {
        "id": "ZjgFViYSR1Nd"
      },
      "source": [
        "## Решение\n",
        "\n"
      ]
    },
    {
      "cell_type": "code",
      "metadata": {
        "id": "V4L-YKsYSQs6",
        "outputId": "7d088990-cf49-4651-ae00-a3b01a57cc65",
        "colab": {
          "base_uri": "https://localhost:8080/",
          "height": 34
        }
      },
      "source": [
        "res_4 = 1 / combinations(100, 2)\n",
        "res_4"
      ],
      "execution_count": 12,
      "outputs": [
        {
          "output_type": "execute_result",
          "data": {
            "text/plain": [
              "0.00020202020202020202"
            ]
          },
          "metadata": {
            "tags": []
          },
          "execution_count": 12
        }
      ]
    }
  ]
}