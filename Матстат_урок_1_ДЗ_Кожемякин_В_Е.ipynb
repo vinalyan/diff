{
  "nbformat": 4,
  "nbformat_minor": 0,
  "metadata": {
    "colab": {
      "name": "Матстат урок 1. ДЗ. Кожемякин В.Е.ipynb",
      "provenance": [],
      "authorship_tag": "ABX9TyNnq6uCaDUhq+z9gGw0QDVW",
      "include_colab_link": true
    },
    "kernelspec": {
      "name": "python3",
      "display_name": "Python 3"
    }
  },
  "cells": [
    {
      "cell_type": "markdown",
      "metadata": {
        "id": "view-in-github",
        "colab_type": "text"
      },
      "source": [
        "<a href=\"https://colab.research.google.com/github/vinalyan/diff/blob/master/%D0%9C%D0%B0%D1%82%D1%81%D1%82%D0%B0%D1%82_%D1%83%D1%80%D0%BE%D0%BA_1_%D0%94%D0%97_%D0%9A%D0%BE%D0%B6%D0%B5%D0%BC%D1%8F%D0%BA%D0%B8%D0%BD_%D0%92_%D0%95.ipynb\" target=\"_parent\"><img src=\"https://colab.research.google.com/assets/colab-badge.svg\" alt=\"Open In Colab\"/></a>"
      ]
    },
    {
      "cell_type": "markdown",
      "metadata": {
        "id": "0JfJJ6H4--yK"
      },
      "source": [
        "#Задание номер 1\n",
        "Из колоды в 52 карты извлекаются случайным образом 4 карты. \n",
        "1.   Найти вероятность того, что все карты – крести\n",
        "2.   Найти вероятность, что среди 4-х карт окажется ХОТЯ БЫ один туз.\n",
        "\n",
        "\n",
        "\n",
        "\n"
      ]
    },
    {
      "cell_type": "markdown",
      "metadata": {
        "id": "TdKH9BlZ---s"
      },
      "source": [
        "## *Решение* \n",
        "\n",
        "\n"
      ]
    },
    {
      "cell_type": "markdown",
      "metadata": {
        "id": "d2Y-tM4o_730"
      },
      "source": [
        "\n",
        "\n",
        "$$C_{52}^4 = \\frac{52!}{4!(36 - 4)!} = \\frac{36!}{4! \\cdot 32!} = \\frac{33 \\cdot 34 \\cdot 35 \\cdot 36}{4!} = \\frac{33 \\cdot 34 \\cdot 35 \\cdot 36}{2 \\cdot 3 \\cdot 4} = 58905$$\n"
      ]
    },
    {
      "cell_type": "code",
      "metadata": {
        "id": "_guMT57FAinY"
      },
      "source": [
        ""
      ],
      "execution_count": null,
      "outputs": []
    },
    {
      "cell_type": "markdown",
      "metadata": {
        "id": "XqtFtKnHBF0E"
      },
      "source": [
        "# Задание номер 2\n",
        "На входной двери подъезда установлен кодовый замок, содержащий десять кнопок с цифрами от 0 до 9. Код содержит три цифры, которые нужно нажать одновременно. Какова вероятность того, что человек, не знающий код, откроет дверь с первой попытки?"
      ]
    },
    {
      "cell_type": "markdown",
      "metadata": {
        "id": "gBegDPL0BNam"
      },
      "source": [
        "## Решение\n",
        "Для ответа на этот вопрос первым делом необходимо расчитать число возможных вариантов нажатия на три кнопки из десяти, т.е. полное число возможных исходов. \n",
        "Для этого воспользуемся формулой вычисления количества сочетаний:\n",
        "$$C_{10}^3 = \\frac{10!}{3!(10 - 3)!} = \\frac{10!}{3! \\cdot 7!} = \\frac{10 \\cdot 9 \\cdot 8}{3!} = 120$$"
      ]
    },
    {
      "cell_type": "markdown",
      "metadata": {
        "id": "cTCOAXmrDUGn"
      },
      "source": [
        "Для открытия двери, если, конечно, там ничего не поломано, нас устраивает только один исход. \n",
        "Для вычисления вероятности наступления события воспользуемся формулой из классического определения вероятности:\n",
        "$$P(A) = \\frac{m}{n} = \\frac{1}{120} = 0,008$$"
      ]
    },
    {
      "cell_type": "code",
      "metadata": {
        "id": "43pVJA_1_zyQ"
      },
      "source": [
        "import numpy as np\n",
        "from math import factorial\n",
        "def combinations(n, k):\n",
        "    return int(factorial(n) / (factorial(k) * factorial(n - k)))   \n"
      ],
      "execution_count": 3,
      "outputs": []
    },
    {
      "cell_type": "code",
      "metadata": {
        "id": "DH-2xV2_CCT_",
        "outputId": "c19624e3-f5aa-4334-e09f-38ca64f59a09",
        "colab": {
          "base_uri": "https://localhost:8080/",
          "height": 34
        }
      },
      "source": [
        "res = 1 / combinations(10, 3)\n",
        "res"
      ],
      "execution_count": 7,
      "outputs": [
        {
          "output_type": "execute_result",
          "data": {
            "text/plain": [
              "0.008333333333333333"
            ]
          },
          "metadata": {
            "tags": []
          },
          "execution_count": 7
        }
      ]
    },
    {
      "cell_type": "code",
      "metadata": {
        "id": "_YkoKALWCLtv"
      },
      "source": [
        ""
      ],
      "execution_count": null,
      "outputs": []
    },
    {
      "cell_type": "markdown",
      "metadata": {
        "id": "9t4w9IPMDI5x"
      },
      "source": [
        ""
      ]
    }
  ]
}