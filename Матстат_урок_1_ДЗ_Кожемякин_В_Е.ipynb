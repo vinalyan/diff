{
  "nbformat": 4,
  "nbformat_minor": 0,
  "metadata": {
    "colab": {
      "name": "Матстат урок 1. ДЗ. Кожемякин В.Е.ipynb",
      "provenance": [],
      "authorship_tag": "ABX9TyM40WPboyu8GjGA2giPqhXM",
      "include_colab_link": true
    },
    "kernelspec": {
      "name": "python3",
      "display_name": "Python 3"
    }
  },
  "cells": [
    {
      "cell_type": "markdown",
      "metadata": {
        "id": "view-in-github",
        "colab_type": "text"
      },
      "source": [
        "<a href=\"https://colab.research.google.com/github/vinalyan/diff/blob/master/%D0%9C%D0%B0%D1%82%D1%81%D1%82%D0%B0%D1%82_%D1%83%D1%80%D0%BE%D0%BA_1_%D0%94%D0%97_%D0%9A%D0%BE%D0%B6%D0%B5%D0%BC%D1%8F%D0%BA%D0%B8%D0%BD_%D0%92_%D0%95.ipynb\" target=\"_parent\"><img src=\"https://colab.research.google.com/assets/colab-badge.svg\" alt=\"Open In Colab\"/></a>"
      ]
    },
    {
      "cell_type": "markdown",
      "metadata": {
        "id": "ypH8Pt-BUM4O"
      },
      "source": [
        "# Настройки \n"
      ]
    },
    {
      "cell_type": "code",
      "metadata": {
        "id": "Ro953f9tULuV"
      },
      "source": [
        "import numpy as np\n",
        "from math import factorial\n",
        "def combinations(n, k):\n",
        "    return int(factorial(n) / (factorial(k) * factorial(n - k)))   "
      ],
      "execution_count": 48,
      "outputs": []
    },
    {
      "cell_type": "markdown",
      "metadata": {
        "id": "0JfJJ6H4--yK"
      },
      "source": [
        "#Задание номер 1\n",
        "Из колоды в $52$ карты извлекаются случайным образом $4$ карты. \n",
        "1.   Найти вероятность того, что все карты – крести\n",
        "2.   Найти вероятность, что среди $4-х$ карт окажется ХОТЯ БЫ один туз.\n",
        "\n",
        "\n",
        "\n",
        "\n"
      ]
    },
    {
      "cell_type": "markdown",
      "metadata": {
        "id": "TdKH9BlZ---s"
      },
      "source": [
        "## Решение 1\n",
        "Найти вероятность того, что все карты – крести.\n",
        "\n",
        "$A$  -событие извлечения $4-х$ карт из $52$, где все извлеченные карты - крести\n"
      ]
    },
    {
      "cell_type": "markdown",
      "metadata": {
        "id": "IBFEzl1XWfIA"
      },
      "source": [
        "Сначала определим количество благоприятных исходов. Для этого надо посчитать колчиестров сочетаний $4$ карт из $13$. Так как в колоде 13 карт масти крести.\n",
        "\n",
        "Число таких сочетаний будет равно:\n",
        "$$C_{13}^4 = \\frac{13!}{4!(13 - 4)!} = \\frac{13!}{4! \\cdot 11!} = 715$$\n"
      ]
    },
    {
      "cell_type": "code",
      "metadata": {
        "id": "_guMT57FAinY",
        "outputId": "9bc7f970-149a-4d81-8ad8-f7be9184b1fd",
        "colab": {
          "base_uri": "https://localhost:8080/",
          "height": 34
        }
      },
      "source": [
        "combinations(13, 4)"
      ],
      "execution_count": 61,
      "outputs": [
        {
          "output_type": "execute_result",
          "data": {
            "text/plain": [
              "715"
            ]
          },
          "metadata": {
            "tags": []
          },
          "execution_count": 61
        }
      ]
    },
    {
      "cell_type": "markdown",
      "metadata": {
        "id": "C9A0VoPYYN7k"
      },
      "source": [
        "Теперь определим общее количество исходов при извлечении $4-х$ карт из $52$ \n",
        "$$C_{52}^4 = \\frac{52!}{4!(52 - 4)!} = 270725$$ "
      ]
    },
    {
      "cell_type": "code",
      "metadata": {
        "id": "JjRe7WAmYUUI",
        "outputId": "3c5dd31d-7b79-40d4-d962-c4c2a88ede13",
        "colab": {
          "base_uri": "https://localhost:8080/",
          "height": 34
        }
      },
      "source": [
        "combinations(52, 4)"
      ],
      "execution_count": 62,
      "outputs": [
        {
          "output_type": "execute_result",
          "data": {
            "text/plain": [
              "270725"
            ]
          },
          "metadata": {
            "tags": []
          },
          "execution_count": 62
        }
      ]
    },
    {
      "cell_type": "markdown",
      "metadata": {
        "id": "n0AyqUOPd59G"
      },
      "source": [
        "Таким образом вероятность события $A$ будет равна $$P(A) = \\frac {C_{13}^4}{C_{52}^4} = 0.03$$ "
      ]
    },
    {
      "cell_type": "markdown",
      "metadata": {
        "id": "uI--IJowix7q"
      },
      "source": [
        "##Ответ:\n",
        "$0.03$ "
      ]
    },
    {
      "cell_type": "code",
      "metadata": {
        "id": "LPVywSCQfPRi",
        "outputId": "0739e349-9b09-4bae-d2b6-f2c7f878b189",
        "colab": {
          "base_uri": "https://localhost:8080/",
          "height": 34
        }
      },
      "source": [
        "res_1_1 = combinations(13, 4)/combinations(52, 4)\n",
        "res_1_1"
      ],
      "execution_count": 63,
      "outputs": [
        {
          "output_type": "execute_result",
          "data": {
            "text/plain": [
              "0.0026410564225690276"
            ]
          },
          "metadata": {
            "tags": []
          },
          "execution_count": 63
        }
      ]
    },
    {
      "cell_type": "markdown",
      "metadata": {
        "id": "wKMiLw0KgXuj"
      },
      "source": [
        "## Решение 2\n",
        "Найти вероятность, что среди  4−х  карт окажется ХОТЯ БЫ один туз\n",
        "\n",
        "$A$ - событие, что среди извлеченных $4-х$ карт будет $1$, $2$, $3$ или $4$ туза "
      ]
    },
    {
      "cell_type": "markdown",
      "metadata": {
        "id": "VUXqBPulhOHS"
      },
      "source": [
        "$B_1$ - количество комбинаций при извлечении $4-х$ карт с $1$ тузом\n",
        "$$B_1 = {C_{4}^1}*{C_{48}^3} =88400$$"
      ]
    },
    {
      "cell_type": "code",
      "metadata": {
        "id": "XOzfz4IKhNqy",
        "outputId": "66823c96-0c2e-48ad-e9b9-f481758fc496",
        "colab": {
          "base_uri": "https://localhost:8080/",
          "height": 34
        }
      },
      "source": [
        "B1=combinations(4, 1)*combinations(48, 3)\n",
        "B1"
      ],
      "execution_count": 70,
      "outputs": [
        {
          "output_type": "execute_result",
          "data": {
            "text/plain": [
              "69184"
            ]
          },
          "metadata": {
            "tags": []
          },
          "execution_count": 70
        }
      ]
    },
    {
      "cell_type": "markdown",
      "metadata": {
        "id": "c9YSAHB9ickB"
      },
      "source": [
        "$B_2$ - количество комбинаций при извлечении $4-х$ карт с $2$ тузами\n",
        "$$B_2 = {C_{4}^2}*{C_{48}^2}=6768$$\n",
        "\n"
      ]
    },
    {
      "cell_type": "code",
      "metadata": {
        "id": "lM5nG4WhimZl",
        "outputId": "0b6de1ef-3e81-4e6b-a2be-4a129610a6b0",
        "colab": {
          "base_uri": "https://localhost:8080/",
          "height": 34
        }
      },
      "source": [
        "B2=combinations(4, 2)*combinations(48, 2)\n",
        "B2"
      ],
      "execution_count": 71,
      "outputs": [
        {
          "output_type": "execute_result",
          "data": {
            "text/plain": [
              "6768"
            ]
          },
          "metadata": {
            "tags": []
          },
          "execution_count": 71
        }
      ]
    },
    {
      "cell_type": "markdown",
      "metadata": {
        "id": "wxJz1EW4jFjT"
      },
      "source": [
        "$B_3$ - количество комбинаций при извлечении $4-х$ карт с $3$ тузами\n",
        "$$B_3 = {C_{4}^3}*{C_{48}^1}=192$$\n"
      ]
    },
    {
      "cell_type": "code",
      "metadata": {
        "id": "9op2VXBfjTa2",
        "outputId": "23097104-114c-4a88-a49d-253560b049c2",
        "colab": {
          "base_uri": "https://localhost:8080/",
          "height": 34
        }
      },
      "source": [
        "B3=combinations(4, 3)*combinations(48, 1)\n",
        "B3"
      ],
      "execution_count": 72,
      "outputs": [
        {
          "output_type": "execute_result",
          "data": {
            "text/plain": [
              "192"
            ]
          },
          "metadata": {
            "tags": []
          },
          "execution_count": 72
        }
      ]
    },
    {
      "cell_type": "markdown",
      "metadata": {
        "id": "VW9rs88ZjhuV"
      },
      "source": [
        "$B_4$ - количество комбинаций при извлечении $4-х$ карт с $4$ тузами\n",
        "$$B_4 = 1$$"
      ]
    },
    {
      "cell_type": "markdown",
      "metadata": {
        "id": "qCIgdk5BlW1H"
      },
      "source": [
        "Теперь определим общее количество исходов при извлечении $4-х$ карт из $52$ \n",
        "$$C_{52}^4 = \\frac{52!}{4!(52 - 4)!} = 270725$$ "
      ]
    },
    {
      "cell_type": "code",
      "metadata": {
        "id": "s8ybo9anlZLq",
        "outputId": "c9abea42-64e1-4eaf-c1b2-a12dcd4371e5",
        "colab": {
          "base_uri": "https://localhost:8080/",
          "height": 34
        }
      },
      "source": [
        "combinations(52, 4)"
      ],
      "execution_count": 73,
      "outputs": [
        {
          "output_type": "execute_result",
          "data": {
            "text/plain": [
              "270725"
            ]
          },
          "metadata": {
            "tags": []
          },
          "execution_count": 73
        }
      ]
    },
    {
      "cell_type": "markdown",
      "metadata": {
        "id": "gTxxjBDMlxAS"
      },
      "source": [
        "Таким образом вероятность события $A$ будет равна $$P(A) = \\frac {B_1+B_2+B_3+B_4}{C_{52}^4} = 0.03$$ "
      ]
    },
    {
      "cell_type": "markdown",
      "metadata": {
        "id": "hU35W7L_mxB1"
      },
      "source": [
        "##Ответ\n",
        "$0,28$"
      ]
    },
    {
      "cell_type": "code",
      "metadata": {
        "id": "PhacFAuEmUKM",
        "outputId": "7e5292db-3fb7-4972-d976-e65fd2996e0a",
        "colab": {
          "base_uri": "https://localhost:8080/",
          "height": 34
        }
      },
      "source": [
        "res_1_2 = (B1+B2+B3+1) / combinations(52, 4)\n",
        "res_1_2"
      ],
      "execution_count": 74,
      "outputs": [
        {
          "output_type": "execute_result",
          "data": {
            "text/plain": [
              "0.2812632745405855"
            ]
          },
          "metadata": {
            "tags": []
          },
          "execution_count": 74
        }
      ]
    },
    {
      "cell_type": "markdown",
      "metadata": {
        "id": "XqtFtKnHBF0E"
      },
      "source": [
        "# Задание номер 2\n",
        "На входной двери подъезда установлен кодовый замок, содержащий десять кнопок с цифрами от 0 до 9. Код содержит три цифры, которые нужно нажать одновременно. Какова вероятность того, что человек, не знающий код, откроет дверь с первой попытки?"
      ]
    },
    {
      "cell_type": "markdown",
      "metadata": {
        "id": "gBegDPL0BNam"
      },
      "source": [
        "## Решение\n",
        "Рассчитаем число возможных вариантов нажатия на три кнопки из десяти, т.е. полное число возможных исходов. \n",
        "\n",
        "$$C_{10}^3 = \\frac{10!}{3!(10 - 3)!} = \\frac{10!}{3! \\cdot 7!} = \\frac{10 \\cdot 9 \\cdot 8}{3!} = 120$$"
      ]
    },
    {
      "cell_type": "markdown",
      "metadata": {
        "id": "cTCOAXmrDUGn"
      },
      "source": [
        "Для открытия двери, если, конечно, там ничего не поломано, нас устраивает только один исход. \n",
        "Для вычисления вероятности наступления события воспользуемся формулой из классического определения вероятности:\n",
        "$$P(A) = \\frac{m}{n} = \\frac{1}{120} = 0,008$$"
      ]
    },
    {
      "cell_type": "code",
      "metadata": {
        "id": "DH-2xV2_CCT_",
        "outputId": "8a68b874-591b-40a4-95bc-a6fa21d2a2d2",
        "colab": {
          "base_uri": "https://localhost:8080/",
          "height": 34
        }
      },
      "source": [
        "res_2 = 1 / combinations(10, 3)\n",
        "res_2"
      ],
      "execution_count": 77,
      "outputs": [
        {
          "output_type": "execute_result",
          "data": {
            "text/plain": [
              "0.008333333333333333"
            ]
          },
          "metadata": {
            "tags": []
          },
          "execution_count": 77
        }
      ]
    },
    {
      "cell_type": "markdown",
      "metadata": {
        "id": "1YfZoAbeklFF"
      },
      "source": [
        "## Ответ\n",
        "$0,008$\n"
      ]
    },
    {
      "cell_type": "markdown",
      "metadata": {
        "id": "aDhUcx1EE7lF"
      },
      "source": [
        "# Задание номер 3\n",
        "В ящике имеется 15 деталей, из которых 9 окрашены. Рабочий случайным образом извлекает 3 детали. Какова вероятность того, что все извлеченные детали окрашены?"
      ]
    },
    {
      "cell_type": "markdown",
      "metadata": {
        "id": "lPjJohCXFhxH"
      },
      "source": [
        "## Решение\n",
        "Событием $A$ будем считать извлечение рабочим трех окрашенных деталей. \n"
      ]
    },
    {
      "cell_type": "markdown",
      "metadata": {
        "id": "vlGxQaSYPMR0"
      },
      "source": [
        "Событие $B_1$ - извлечение первой окрашенной детали. Для наступления данного события $9$ исходов из $24$ являются благоприятными.Вероятность наступления события $$P(B_1)= \\frac{9}{24} $$"
      ]
    },
    {
      "cell_type": "markdown",
      "metadata": {
        "id": "njGl7zf1PRr9"
      },
      "source": [
        "Событие $B_2$ - извлечение второй окрашенной детали. Для наступления данного события $8$ исходов из $23$ являются благоприятными.Вероятность наступления события $$P(B_2)= \\frac{8}{23} $$"
      ]
    },
    {
      "cell_type": "markdown",
      "metadata": {
        "id": "g4seCpZmPeJL"
      },
      "source": [
        "Событие $B_3$ - извлечение первой окрашенной детали. Для наступления данного события $7$ исходов из $22$ являются благоприятными.Вероятность наступления события $$P(B_3)= \\frac{7}{22} $$"
      ]
    },
    {
      "cell_type": "markdown",
      "metadata": {
        "id": "34B1kxBwPlFG"
      },
      "source": [
        "\n",
        "Так как события независимы, то вероятность события $A$\n",
        "$$P(A)= P(B_1)*P(B_2)*P(B_3) = \\frac{9}{24} \\cdot \\frac{8}{23}\\cdot \\frac{7}{22}  = 0,04$$\n",
        "\n"
      ]
    },
    {
      "cell_type": "code",
      "metadata": {
        "id": "l60cZeuWH3oZ",
        "outputId": "eca2c03b-103b-482b-81dc-943d64235ce9",
        "colab": {
          "base_uri": "https://localhost:8080/",
          "height": 34
        }
      },
      "source": [
        "res_3 = 9/24*8/23*7/22\n",
        "res_3"
      ],
      "execution_count": 75,
      "outputs": [
        {
          "output_type": "execute_result",
          "data": {
            "text/plain": [
              "0.04150197628458498"
            ]
          },
          "metadata": {
            "tags": []
          },
          "execution_count": 75
        }
      ]
    },
    {
      "cell_type": "code",
      "metadata": {
        "id": "DlWjOTxqkxQF",
        "outputId": "0b4d456d-0073-44a6-ae03-7cf4f8bbe56f",
        "colab": {
          "base_uri": "https://localhost:8080/",
          "height": 34
        }
      },
      "source": [
        "combinations(9, 3)/combinations(24, 3)"
      ],
      "execution_count": 76,
      "outputs": [
        {
          "output_type": "execute_result",
          "data": {
            "text/plain": [
              "0.041501976284584984"
            ]
          },
          "metadata": {
            "tags": []
          },
          "execution_count": 76
        }
      ]
    },
    {
      "cell_type": "markdown",
      "metadata": {
        "id": "0_SSjENtk9Zg"
      },
      "source": [
        "## Ответ\n",
        "$0,04$"
      ]
    },
    {
      "cell_type": "markdown",
      "metadata": {
        "id": "lpBPi0y3RreP"
      },
      "source": [
        "# Задание номер 4\n",
        "В лотерее 100 билетов. Из них 2 выигрышных. Какова вероятность того, что 2 приобретенных билета окажутся выигрышными?"
      ]
    },
    {
      "cell_type": "markdown",
      "metadata": {
        "id": "N3Wy9lfrpNCJ"
      },
      "source": [
        "$A$ - приобретение $2-х$ выигрыных билетов.\n",
        "\n"
      ]
    },
    {
      "cell_type": "markdown",
      "metadata": {
        "id": "ZjgFViYSR1Nd"
      },
      "source": [
        "## Решение\n",
        "\n",
        "$A$ - приобретение $2-х$ выигрыных билетов."
      ]
    },
    {
      "cell_type": "markdown",
      "metadata": {
        "id": "luH36TxUpztr"
      },
      "source": [
        "Определим общее количестов исходов при приобретении $2-х$ билетов из $100$:\n",
        "$$C_{100}^2 = \\frac{100!}{2!(100 - 2)!}  = 4950$$"
      ]
    },
    {
      "cell_type": "code",
      "metadata": {
        "id": "mlFpWRAnqdFZ",
        "outputId": "69f7a64e-1a52-4d49-f54a-0fbd0cfaca66",
        "colab": {
          "base_uri": "https://localhost:8080/",
          "height": 34
        }
      },
      "source": [
        "combinations(100, 2)"
      ],
      "execution_count": 80,
      "outputs": [
        {
          "output_type": "execute_result",
          "data": {
            "text/plain": [
              "4950"
            ]
          },
          "metadata": {
            "tags": []
          },
          "execution_count": 80
        }
      ]
    },
    {
      "cell_type": "markdown",
      "metadata": {
        "id": "HnsHc4uyq85V"
      },
      "source": [
        "Так как нас устраивает только один исход, то вероятность события $A$ равна\n",
        "$$P(A) = \\frac{1}{C_{100}^2}  = 0,0002$$"
      ]
    },
    {
      "cell_type": "markdown",
      "metadata": {
        "id": "lSLc7aO5rZ3I"
      },
      "source": [
        "## Ответ\n",
        "$0,002$"
      ]
    },
    {
      "cell_type": "code",
      "metadata": {
        "id": "V4L-YKsYSQs6",
        "outputId": "7d088990-cf49-4651-ae00-a3b01a57cc65",
        "colab": {
          "base_uri": "https://localhost:8080/",
          "height": 34
        }
      },
      "source": [
        "res_4 = 1 / combinations(100, 2)\n",
        "res_4"
      ],
      "execution_count": 12,
      "outputs": [
        {
          "output_type": "execute_result",
          "data": {
            "text/plain": [
              "0.00020202020202020202"
            ]
          },
          "metadata": {
            "tags": []
          },
          "execution_count": 12
        }
      ]
    },
    {
      "cell_type": "code",
      "metadata": {
        "id": "H38LmCe3pmiH",
        "outputId": "beaccddd-69f9-4834-a511-f3ef8825ea24",
        "colab": {
          "base_uri": "https://localhost:8080/",
          "height": 34
        }
      },
      "source": [
        "1/50*1/99"
      ],
      "execution_count": 79,
      "outputs": [
        {
          "output_type": "execute_result",
          "data": {
            "text/plain": [
              "0.00020202020202020202"
            ]
          },
          "metadata": {
            "tags": []
          },
          "execution_count": 79
        }
      ]
    }
  ]
}