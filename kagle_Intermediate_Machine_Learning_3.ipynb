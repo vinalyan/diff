{
  "nbformat": 4,
  "nbformat_minor": 0,
  "metadata": {
    "colab": {
      "name": "kagle_Intermediate Machine Learning 3.ipynb",
      "provenance": [],
      "authorship_tag": "ABX9TyOUEO+c/XWI+Hekh9HXc07M",
      "include_colab_link": true
    },
    "kernelspec": {
      "name": "python3",
      "display_name": "Python 3"
    }
  },
  "cells": [
    {
      "cell_type": "markdown",
      "metadata": {
        "id": "view-in-github",
        "colab_type": "text"
      },
      "source": [
        "<a href=\"https://colab.research.google.com/github/vinalyan/diff/blob/master/kagle_Intermediate_Machine_Learning_3.ipynb\" target=\"_parent\"><img src=\"https://colab.research.google.com/assets/colab-badge.svg\" alt=\"Open In Colab\"/></a>"
      ]
    },
    {
      "cell_type": "markdown",
      "metadata": {
        "id": "OoN4AwXNNaV3"
      },
      "source": [
        "# Дискретная переменная \n",
        "**Categorical** **Variables**\n",
        "\n",
        "Тут я пытаюсь разобраться с [Categorical Variables\n",
        "](https://www.kaggle.com/alexisbcook/categorical-variables)"
      ]
    },
    {
      "cell_type": "markdown",
      "metadata": {
        "id": "Wb7GPSRxNwNR"
      },
      "source": [
        "# Теория\n",
        "В этом разделе, мы разберемся с понятием **дискретная (категрийная)** **переменная** и три подхода к работе с такими переменными. \n"
      ]
    },
    {
      "cell_type": "markdown",
      "metadata": {
        "id": "T8QJTlOYPY-S"
      },
      "source": [
        "## Введение\n",
        "**Дискретная переменная** может принимать ограниченное число значений.\n",
        "*   Рассмотрим опрос в котором спрашивается, как часто вы едите завтра и предлают четыре варианта ответа: \"Никогда\", \"Редко\", \"Большинство дней\", \"Каждый день\" (\"Never\", \"Rarely\", \"Most days\", or \"Every day\"). В этом случае данные являются дискретными, так как ответы попадают в фиксированный набор категоний.\n",
        "*   Новый пункт\n",
        "\n"
      ]
    }
  ]
}