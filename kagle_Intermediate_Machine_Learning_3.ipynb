{
  "nbformat": 4,
  "nbformat_minor": 0,
  "metadata": {
    "colab": {
      "name": "kagle_Intermediate Machine Learning 3.ipynb",
      "provenance": [],
      "authorship_tag": "ABX9TyM728crrvtHQYnDapbIqNGk",
      "include_colab_link": true
    },
    "kernelspec": {
      "name": "python3",
      "display_name": "Python 3"
    }
  },
  "cells": [
    {
      "cell_type": "markdown",
      "metadata": {
        "id": "view-in-github",
        "colab_type": "text"
      },
      "source": [
        "<a href=\"https://colab.research.google.com/github/vinalyan/diff/blob/master/kagle_Intermediate_Machine_Learning_3.ipynb\" target=\"_parent\"><img src=\"https://colab.research.google.com/assets/colab-badge.svg\" alt=\"Open In Colab\"/></a>"
      ]
    },
    {
      "cell_type": "markdown",
      "metadata": {
        "id": "OoN4AwXNNaV3"
      },
      "source": [
        "# Дискретная переменная \n",
        "**Categorical** **Variables**\n",
        "\n",
        "Тут я пытаюсь разобраться с [Categorical Variables\n",
        "](https://www.kaggle.com/alexisbcook/categorical-variables)"
      ]
    },
    {
      "cell_type": "markdown",
      "metadata": {
        "id": "Wb7GPSRxNwNR"
      },
      "source": [
        "# Теория\n",
        "В этом разделе, мы разберемся с понятием **дискретная (категрийная)** **переменная** и три подхода к работе с такими переменными. \n"
      ]
    },
    {
      "cell_type": "markdown",
      "metadata": {
        "id": "T8QJTlOYPY-S"
      },
      "source": [
        "## Введение\n",
        "**Дискретная переменная** может принимать ограниченное число значений.\n",
        "*   Рассмотрим опрос в котором спрашивается, как часто вы едите завтра и предлают четыре варианта ответа: *\"Никогда\", \"Редко\", \"Большинство дней\", \"Каждый день\"* (\"Never\", \"Rarely\", \"Most days\", or \"Every day\"). В этом случае данные являются дискретными, так как ответы попадают в фиксированный набор категоний.\n",
        "*   Если люди ответили на вопрос какая у них машина, ответы попадают в категории \"Хонда\", \"Тайота\", \"Прочий хлам\". Это тоже дискретные переменные. \n",
        "\n",
        "В большинстве моделей машинного обучения на языке Python без правильной подготовки данных с дискретными переменными может быть много дефектов. \n",
        "\n",
        "\n",
        "\n",
        "\n"
      ]
    },
    {
      "cell_type": "markdown",
      "metadata": {
        "id": "81jK4ZWfSM8v"
      },
      "source": [
        "## Три основных подхода к работы с дискретными данными\n",
        "\n"
      ]
    },
    {
      "cell_type": "markdown",
      "metadata": {
        "id": "fUW9QpbnT7RO"
      },
      "source": [
        "### 1. Удаление дискретных переменных Drop Categorical Variables\n",
        "Простейший вариант работы с дискретными переменными - это удаление их из набора данных. \n",
        "Данный подход хорошо работает только в случае, если колонка с дискретными переменными не несет полезной информации. \n"
      ]
    },
    {
      "cell_type": "markdown",
      "metadata": {
        "id": "ER-s7NieUrkA"
      },
      "source": [
        "### 2. Кодировка метки Label Encoding\n",
        "**Кодировка метки** - присвоение каждому уникальному значению отдельного целого значнения.\n",
        "Данный подход предполагает упорядочивание категорий.\n",
        "**\"Never\" (0) < \"Rarely\" (1) < \"Most days\" (2) < \"Every day\" (3).**\n",
        "\n",
        "Не все дискретные переменные имеют четкий порядок следования. \n",
        "Дискретные переменные с четким порядком следования называются **порядковыми (ordinal variables)**\n",
        "\n",
        "В моделях основанных на деревянной структуре (типа решающих деревьев) можно ожидать, что такой подход будет работать корректно.\n"
      ]
    },
    {
      "cell_type": "markdown",
      "metadata": {
        "id": "QPanseqaXoJz"
      },
      "source": [
        "## 3. Горячая замена (One-Hot Encoding)\n"
      ]
    }
  ]
}