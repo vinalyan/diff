{
  "nbformat": 4,
  "nbformat_minor": 0,
  "metadata": {
    "colab": {
      "name": "Вероятнсти стрельбы в танках.ipynb",
      "provenance": [],
      "collapsed_sections": [
        "zdKJeUbJw4LP"
      ],
      "authorship_tag": "ABX9TyNelB738zZ2NaE8CmujhTwD",
      "include_colab_link": true
    },
    "kernelspec": {
      "name": "python3",
      "display_name": "Python 3"
    },
    "language_info": {
      "name": "python"
    }
  },
  "cells": [
    {
      "cell_type": "markdown",
      "metadata": {
        "id": "view-in-github",
        "colab_type": "text"
      },
      "source": [
        "<a href=\"https://colab.research.google.com/github/vinalyan/diff/blob/master/%D0%92%D0%B5%D1%80%D0%BE%D1%8F%D1%82%D0%BD%D1%81%D1%82%D0%B8_%D1%81%D1%82%D1%80%D0%B5%D0%BB%D1%8C%D0%B1%D1%8B_%D0%B2_%D1%82%D0%B0%D0%BD%D0%BA%D0%B0%D1%85.ipynb\" target=\"_parent\"><img src=\"https://colab.research.google.com/assets/colab-badge.svg\" alt=\"Open In Colab\"/></a>"
      ]
    },
    {
      "cell_type": "markdown",
      "metadata": {
        "id": "QAKD_X7kqYa3"
      },
      "source": [
        "# Настройки"
      ]
    },
    {
      "cell_type": "code",
      "metadata": {
        "id": "9jCyDdNCqP2n"
      },
      "source": [
        "import numpy as np\n",
        "from math import factorial\n",
        "def combinations(n, k):\n",
        "    return int(factorial(n) / (factorial(k) * factorial(n - k)))\n",
        "\n",
        "from matplotlib import pyplot as plt"
      ],
      "execution_count": 39,
      "outputs": []
    },
    {
      "cell_type": "code",
      "metadata": {
        "colab": {
          "base_uri": "https://localhost:8080/"
        },
        "id": "-l6_q_KjvTjG",
        "outputId": "3e8d4e64-d16c-4a39-ff05-8e63dcddedef"
      },
      "source": [
        "# Тут будут различные переменные \n",
        "# Результаты на кубах\n",
        "Plus_1 = 6/6\n",
        "Plus_2 = 5/6\n",
        "Plus_3 = 4/6\n",
        "Plus_4 = 3/6\n",
        "Plus_5 = 1/6\n",
        "Plus_6 = 1/6\n",
        "Plus_3"
      ],
      "execution_count": 259,
      "outputs": [
        {
          "output_type": "execute_result",
          "data": {
            "text/plain": [
              "0.6666666666666666"
            ]
          },
          "metadata": {
            "tags": []
          },
          "execution_count": 259
        }
      ]
    },
    {
      "cell_type": "code",
      "metadata": {
        "id": "lmgyOSxJhddf"
      },
      "source": [
        "# Простейший вариант рассчитать через оружие\n",
        "arms = np.array([\n",
        "                ['AK     ',3, 0, 8],\n",
        "                ['PKM    ',5, 0, 16],\n",
        "                ['PKM(M) ',3, 0, 16],\n",
        "                ['AGS    ',9, 0, 16],  \n",
        "                ['AGS(M) ',3, 0, 16], \n",
        "                ['BTR    ',3, 0, 20],  \n",
        "                ['BTR(M) ',2, 0, 20],\n",
        "                ['Shil   ',6, 0, 14],\n",
        "                ['Shil(M)',4, 0, 14],  \n",
        "                ['Tank.  ',3, 1, 32]\n",
        "                ])"
      ],
      "execution_count": 260,
      "outputs": []
    },
    {
      "cell_type": "code",
      "metadata": {
        "id": "2Xb4x8pAmWu2"
      },
      "source": [
        "  #Нормы\n",
        "  alpha_power = 0.8 #Норма убойности\n",
        "  alpha_range = 1 - alpha_power # Норма дальности\n",
        "  alpha_build = 0.9 #Норма убойности по зданию\n",
        "  alpha_base = 1 - alpha_build #Норма убойности по полю\n",
        "  max_range = 48 #Максимальная дальность"
      ],
      "execution_count": 266,
      "outputs": []
    },
    {
      "cell_type": "markdown",
      "metadata": {
        "id": "3W4Hhl8_qh55"
      },
      "source": [
        "#Задача\n",
        "\n",
        "Составить модель рассчета вероятности попаданий в зависимости от различных условий.\n",
        "\n",
        "Основной план:\n",
        "1. Рассчитать вероятности уничтожения одной подставки одним выстрелом\n",
        "2. Рассчитать необходимое количество выстрелов для гарантированного уничтожения одной или нескольких подставок.\n",
        "\n"
      ]
    },
    {
      "cell_type": "markdown",
      "metadata": {
        "id": "KM290neBr9vZ"
      },
      "source": [
        "# Расчеты\n",
        "### Расчеты проводятся по стандаратной пехоте с +3 на попадание и +3 на спасбросок\n",
        "\n",
        "1. Базовая вероятность = Вероятность попадания * Вероятность провала спасбраска\n",
        "2. Здание = (Вероятность попадания с усложением +1) *  (Вероятность попадания с усложением +1 если первый бросок успешен) *  Вероятность провала спасбраска\n",
        "3. Брутал = (Вероятность попадания с усложением +1) *  Вероятность провала спасбраска\n",
        "\n",
        "### Успешным считается выстрел в результате которого уничтожена 1 подставка пехоты\n",
        "Выстрелом считается одна попытка поразить цель. Бросок одного куба атаки со всеми модификаторами. Все защитные броски со всем модификаторами\n",
        "\n"
      ]
    },
    {
      "cell_type": "markdown",
      "metadata": {
        "id": "d7VC0VwSzCXf"
      },
      "source": [
        "## 1. Рассчет вероятностей уничтожения одной подставки одним выстрелом\n",
        "Необходимо рассчитать вероятности уничтожения одной пехотной подсавки одним выстрелом:\n",
        "1. база (без реролов) рассчеты без модификаторов\n",
        "2. в здании - +1 к сложности попадания и рерол успешного попадания\n",
        "3. правило брутал - +1 к сложности попадания, нет рерола успешных попаданий\n"
      ]
    },
    {
      "cell_type": "code",
      "metadata": {
        "colab": {
          "base_uri": "https://localhost:8080/"
        },
        "id": "fdL4EmdLr9Vf",
        "outputId": "2a015f25-eee0-4bad-e18e-be96c78767b9"
      },
      "source": [
        "# Базовая вероятность\n",
        "P_base = Plus_3*(1 - Plus_3)\n",
        "# Пехота в здании вероятность\n",
        "P_build = Plus_4 * Plus_4 * (1 - Plus_3)\n",
        "# Брутал\n",
        "P_brutal = Plus_4*(1 - Plus_3)\n",
        "\n",
        "P_base, P_build , P_brutal"
      ],
      "execution_count": 262,
      "outputs": [
        {
          "output_type": "execute_result",
          "data": {
            "text/plain": [
              "(0.22222222222222224, 0.08333333333333334, 0.16666666666666669)"
            ]
          },
          "metadata": {
            "tags": []
          },
          "execution_count": 262
        }
      ]
    },
    {
      "cell_type": "markdown",
      "metadata": {
        "id": "zdKJeUbJw4LP"
      },
      "source": [
        "## 2. Рассчет количества выстрелов для поражения \n",
        "Рассчитать количетсво выстрелов, необходимое для гарантированного поражения одной подствки. \n",
        "\n",
        "Гарантированное поражени считаем равным более $90$%\n",
        "Последовательно рассчета следующая:\n",
        "1. Рассчитываем вероятность того, что ни один выстрел не был успешным\n",
        "2. Из 1 - вероятность рассчитанная в п.1\n"
      ]
    },
    {
      "cell_type": "markdown",
      "metadata": {
        "id": "r_jfY_Z06mIz"
      },
      "source": [
        "### Рассчитываем вероятность хотябы одного успешного выстрела\n",
        "Число попаданий — это дискретная величина из отрезка $[0, n]$.\n",
        "\n",
        "Первоначально необходимо рассчитать вероятность того, что не будет ни одного попадания. Для этого воспользуемся формулой Бернули.  \n",
        "$$P_n(X=k) = C_n^k p^k q^{n-k}$$\n",
        "где:\n",
        "\n",
        "$n$ - количество выстрелов\n",
        "\n",
        "$k = 0$ - количество необходимых попаданий\n",
        "\n",
        "$p$ - вероятность успеха одного выстрела\n",
        "\n",
        "$q=1-p$ - вероятность неуспеха одного выстрела\n",
        "\n",
        "Далее результат вычтем из полной вероятности. Итоговая формула имеет вид:\n",
        "$$P  = 1 - P_n(X=0) = 1 - C_n^0  q^{n}$$\n",
        "\n",
        "\n",
        "\n",
        "\n"
      ]
    },
    {
      "cell_type": "markdown",
      "metadata": {
        "id": "Cz44PDNBHRb4"
      },
      "source": [
        "## Результаты"
      ]
    },
    {
      "cell_type": "code",
      "metadata": {
        "colab": {
          "base_uri": "https://localhost:8080/"
        },
        "id": "zgdf7-LE_9xG",
        "outputId": "1492275a-2665-4262-898e-2521851e3f15"
      },
      "source": [
        "print (f\"Правило BulletProof  - атакющий перебрасывает успешные попадания\")\n",
        "print (f\"Правило Brutal - Отмена Boolet BulletProof\")\n",
        "print (f\"Нормы:\")\n",
        "print (f\"Дальность: {alpha_range}\")\n",
        "print (f\"Убойность: {alpha_power}\")\n",
        "print (f\"Поле: {alpha_base}\")\n",
        "print (f\"Убойность: {alpha_build}\")\n",
        "\n",
        "# Рассчитаем базовые значния\n",
        "for n in range(12):\n",
        "  P_base_n = 1 - combinations(n, 0) * (P_base**0)*((1- P_base)**(n-0))\n",
        "  P_build_n = 1 - combinations(n, 0) * (P_build**0)*((1- P_build)**(n-0))\n",
        "  P_brutal_n = 1 - combinations(n, 0) * (P_brutal**0)*((1- P_brutal)**(n-0))\n",
        "  \n",
        "  print (f\"Выстрелы = {n}, База = {P_base_n: .2f}, Дом = {P_build_n: .2f}\")     "
      ],
      "execution_count": 263,
      "outputs": [
        {
          "output_type": "stream",
          "text": [
            "Правило BulletProof  - атакющий перебрасывает успешные попадания\n",
            "Правило Brutal - Отмена Boolet BulletProof\n",
            "Нормы:\n",
            "Дальность: 0.19999999999999996\n",
            "Убойность: 0.8\n",
            "Поле: 0.19999999999999996\n",
            "Убойность: 0.8\n",
            "Выстрелы = 0, База =  0.00, Дом =  0.00\n",
            "Выстрелы = 1, База =  0.22, Дом =  0.08\n",
            "Выстрелы = 2, База =  0.40, Дом =  0.16\n",
            "Выстрелы = 3, База =  0.53, Дом =  0.23\n",
            "Выстрелы = 4, База =  0.63, Дом =  0.29\n",
            "Выстрелы = 5, База =  0.72, Дом =  0.35\n",
            "Выстрелы = 6, База =  0.78, Дом =  0.41\n",
            "Выстрелы = 7, База =  0.83, Дом =  0.46\n",
            "Выстрелы = 8, База =  0.87, Дом =  0.50\n",
            "Выстрелы = 9, База =  0.90, Дом =  0.54\n",
            "Выстрелы = 10, База =  0.92, Дом =  0.58\n",
            "Выстрелы = 11, База =  0.94, Дом =  0.62\n"
          ],
          "name": "stdout"
        }
      ]
    },
    {
      "cell_type": "code",
      "metadata": {
        "colab": {
          "base_uri": "https://localhost:8080/"
        },
        "id": "hJ0zsGVwD5D0",
        "outputId": "51e725ac-7544-4064-c4c4-27216d54aeb7"
      },
      "source": [
        "arms"
      ],
      "execution_count": 264,
      "outputs": [
        {
          "output_type": "execute_result",
          "data": {
            "text/plain": [
              "array([['AK     ', '3', '0', '8'],\n",
              "       ['PKM    ', '5', '0', '16'],\n",
              "       ['PKM(M) ', '3', '0', '16'],\n",
              "       ['AGS    ', '9', '0', '16'],\n",
              "       ['AGS(M) ', '3', '0', '16'],\n",
              "       ['BTR    ', '3', '0', '20'],\n",
              "       ['BTR(M) ', '2', '0', '20'],\n",
              "       ['Shil   ', '6', '0', '14'],\n",
              "       ['Shil(M)', '4', '0', '14'],\n",
              "       ['Tank.  ', '3', '1', '32']], dtype='<U7')"
            ]
          },
          "metadata": {
            "tags": []
          },
          "execution_count": 264
        }
      ]
    },
    {
      "cell_type": "code",
      "metadata": {
        "colab": {
          "base_uri": "https://localhost:8080/"
        },
        "id": "M_ulZ_BnKXp1",
        "outputId": "3055a8b9-6be7-49f3-d89a-3dab0a31e204"
      },
      "source": [
        "print (f\"Правило BulletProof  - атакющий перебрасывает успешные попадания\")\n",
        "print (f\"Правило Brutal - Отмена Boolet BulletProof\")\n",
        "print (f\"Нормы:\")\n",
        "print (f\"Дальность: {alpha_range: .2f}\")\n",
        "print (f\"Убойность: {alpha_power: .2f}\")\n",
        "print (f\"Поле: {alpha_base: .2f}\")\n",
        "print (f\"Дом: {alpha_build: .2f}\")\n",
        "print (f\"__________________________\")\n",
        "print (f\"Тип \\t Мощь Выстрелы\\tУрПоле\\t УрДом\\tДальность\\t МощьПоле МощьДом\")\n",
        "\n",
        "for arm in arms:\n",
        "\n",
        "  name = arm[0]\n",
        "  n = int(arm[1])\n",
        "  brutal = int(arm[2])\n",
        "  w_range = int(arm[3])/max_range #нормируем показатель. Исходим из того\n",
        "\n",
        "\n",
        "  # Вероятность успешного одного выстрела по пехоте на отктытой местности\n",
        "  P_base = Plus_3*(1 - Plus_3)\n",
        "  # Вероятность успешного одного выстрела по пехоте в здании (зависит от значения брутал)\n",
        "  if brutal == 1:\n",
        "    P_build = Plus_4 * (1 - Plus_3)\n",
        "  else:\n",
        "    P_build = Plus_4 * Plus_4 * (1 - Plus_3)\n",
        "  #Вероятность успешного огня одной подставкой (зависит от типа подставки)\n",
        "  P_base_n = 1 - combinations(int(n), 0) * (P_base**0)*((1- P_base)**(int(n)-0))\n",
        "  P_build_n = 1 - combinations(n, 0) * (P_build**0)*((1- P_build)**(n-0))\n",
        "\n",
        "  #Мощность юнита\n",
        "  Power_base = P_base_n*alpha_power + w_range*alpha_range\n",
        "  Power_build = P_build_n*alpha_power + w_range*alpha_range\n",
        "  Total_power = Power_base*alpha_base + Power_build*alpha_build\n",
        "\n",
        "\n",
        "  #print (f\"INFO: {name} {P_base_n*alpha_power} {w_range*alpha_range}\")\n",
        "\n",
        "  print (f\"{name}\\t{Total_power: .2f}\\t  {n}\\t {P_base_n: .2f}\\t{P_build_n: .2f}\\t{w_range: .2f}\\t{Power_base: .2f}\\t {Power_build: .2f}\")"
      ],
      "execution_count": 301,
      "outputs": [
        {
          "output_type": "stream",
          "text": [
            "Правило BulletProof  - атакющий перебрасывает успешные попадания\n",
            "Правило Brutal - Отмена Boolet BulletProof\n",
            "Нормы:\n",
            "Дальность:  0.20\n",
            "Убойность:  0.80\n",
            "Поле:  0.10\n",
            "Дом:  0.90\n",
            "__________________________\n",
            "Тип \t Мощь Выстрелы\tУрПоле\t УрДом\tДальность\t МощьПоле МощьДом\n",
            "AK     \t 0.24\t  3\t  0.53\t 0.23\t 0.17\t 0.46\t  0.22\n",
            "PKM    \t 0.38\t  5\t  0.72\t 0.35\t 0.33\t 0.64\t  0.35\n",
            "PKM(M) \t 0.27\t  3\t  0.53\t 0.23\t 0.33\t 0.49\t  0.25\n",
            "AGS    \t 0.53\t  9\t  0.90\t 0.54\t 0.33\t 0.78\t  0.50\n",
            "AGS(M) \t 0.27\t  3\t  0.53\t 0.23\t 0.33\t 0.49\t  0.25\n",
            "BTR    \t 0.29\t  3\t  0.53\t 0.23\t 0.42\t 0.51\t  0.27\n",
            "BTR(M) \t 0.23\t  2\t  0.40\t 0.16\t 0.42\t 0.40\t  0.21\n",
            "Shil   \t 0.41\t  6\t  0.78\t 0.41\t 0.29\t 0.68\t  0.38\n",
            "Shil(M)\t 0.32\t  4\t  0.63\t 0.29\t 0.29\t 0.57\t  0.29\n",
            "Tank.  \t 0.48\t  3\t  0.53\t 0.42\t 0.67\t 0.56\t  0.47\n"
          ],
          "name": "stdout"
        }
      ]
    },
    {
      "cell_type": "code",
      "metadata": {
        "id": "VbWQWug-7vmI"
      },
      "source": [
        ""
      ],
      "execution_count": null,
      "outputs": []
    }
  ]
}