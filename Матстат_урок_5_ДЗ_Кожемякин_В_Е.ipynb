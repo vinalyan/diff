{
  "nbformat": 4,
  "nbformat_minor": 0,
  "metadata": {
    "colab": {
      "name": "Матстат_урок_5_ДЗ_Кожемякин_В_Е.ipynb",
      "provenance": [],
      "collapsed_sections": [],
      "authorship_tag": "ABX9TyPvnGI0MW7h1hCFJXmp/6uu",
      "include_colab_link": true
    },
    "kernelspec": {
      "name": "python3",
      "display_name": "Python 3"
    }
  },
  "cells": [
    {
      "cell_type": "markdown",
      "metadata": {
        "id": "view-in-github",
        "colab_type": "text"
      },
      "source": [
        "<a href=\"https://colab.research.google.com/github/vinalyan/diff/blob/master/%D0%9C%D0%B0%D1%82%D1%81%D1%82%D0%B0%D1%82_%D1%83%D1%80%D0%BE%D0%BA_5_%D0%94%D0%97_%D0%9A%D0%BE%D0%B6%D0%B5%D0%BC%D1%8F%D0%BA%D0%B8%D0%BD_%D0%92_%D0%95.ipynb\" target=\"_parent\"><img src=\"https://colab.research.google.com/assets/colab-badge.svg\" alt=\"Open In Colab\"/></a>"
      ]
    },
    {
      "cell_type": "markdown",
      "metadata": {
        "id": "siJG4BZ_KwJq"
      },
      "source": [
        "# Настройка\n",
        "\n",
        "\n",
        "\n"
      ]
    },
    {
      "cell_type": "code",
      "metadata": {
        "id": "1ft9ujd4KqCZ",
        "outputId": "68ff4712-a99b-4ad4-ce7f-5771fb1d39b8",
        "colab": {
          "base_uri": "https://localhost:8080/",
          "height": 34
        }
      },
      "source": [
        "import numpy as np\n",
        "from math import factorial\n",
        "def combinations(n, k):\n",
        "    return int(factorial(n) / (factorial(k) * factorial(n - k)))\n",
        "\n",
        "from matplotlib import pyplot as plt\n",
        "import seaborn as sns\n",
        "from scipy.stats import norm\n",
        "print('Настройка завершена')"
      ],
      "execution_count": 7,
      "outputs": [
        {
          "output_type": "stream",
          "text": [
            "Настройка завершена\n"
          ],
          "name": "stdout"
        }
      ]
    },
    {
      "cell_type": "markdown",
      "metadata": {
        "id": "eOzAkf50K6sR"
      },
      "source": [
        "# Задание № 1\n",
        "Известно, что генеральная совокупность распределена нормально со средним квадратическим отклонением, равным 16. Найти доверительный интервал для оценки математического ожидания a с надежностью 0.95, если выборочная средняя M = 80, а объем выборки n = 256."
      ]
    },
    {
      "cell_type": "markdown",
      "metadata": {
        "id": "sN01Zl1cMRuv"
      },
      "source": [
        "$\\mu_0 = $ "
      ]
    },
    {
      "cell_type": "markdown",
      "metadata": {
        "id": "MpAlKv1NNPup"
      },
      "source": [
        ""
      ]
    },
    {
      "cell_type": "markdown",
      "metadata": {
        "id": "Yy5FO_3XNPYh"
      },
      "source": [
        ""
      ]
    },
    {
      "cell_type": "markdown",
      "metadata": {
        "id": "uN-DqdERaJkE"
      },
      "source": [
        "# Задание №3\n",
        "\n",
        "Утверждается, что шарики для подшипников, изготовленные автоматическим станком, имеют средний диаметр $17$ мм.\n",
        "Используя односторонний критерий с $α=0,05$, проверить эту гипотезу, если в выборке из $n=100$ шариков средний диаметр\n",
        "оказался равным $17.5$ мм, а дисперсия известна и равна $4$ кв.мм."
      ]
    },
    {
      "cell_type": "markdown",
      "metadata": {
        "id": "p-L22CrBulWk"
      },
      "source": [
        "##Решение"
      ]
    },
    {
      "cell_type": "markdown",
      "metadata": {
        "id": "gVaZqiLCaVDF"
      },
      "source": [
        "1. Сформулируем основную гипотезу\n",
        "\n",
        "$$H_0: диаметр = 17, \\mu = \\mu_0$$\n",
        "\n",
        "\n"
      ]
    },
    {
      "cell_type": "markdown",
      "metadata": {
        "id": "DmmBQgzHmFVo"
      },
      "source": [
        "2. Сформулируем альтернативную гипотезу\n",
        "$$H_1: диаметр = 17,5, \\mu > \\mu_0$$ \n"
      ]
    },
    {
      "cell_type": "markdown",
      "metadata": {
        "id": "B1BVSt2QmEku"
      },
      "source": [
        "3. Так как известно СКО генеральной совокупности, то воспользуемся $Z$ критерием\n",
        "\n"
      ]
    },
    {
      "cell_type": "markdown",
      "metadata": {
        "id": "hiwKh4_5pots"
      },
      "source": [
        "3. Уровень значимости задан по задаче и равен $α=0,05$. \n",
        "\n",
        "4. Тогда табличное значение:\n",
        "$$Z_t = 1,645 $$\n"
      ]
    },
    {
      "cell_type": "markdown",
      "metadata": {
        "id": "oJOaeudbOfWy"
      },
      "source": [
        "5. Определим наблюдаемое значение по формуле:\n",
        "$$Z_н = \\frac {H_1 - H_0} {\\sigma/\\sqrt{n} } $$\n",
        "$$Z_н = \\frac {17.5 - 17.0} {0,2 } = 2,5 $$"
      ]
    },
    {
      "cell_type": "markdown",
      "metadata": {
        "id": "1p19FbQpPtnZ"
      },
      "source": [
        "##Ответ\n",
        "Гипотеза $H_0$ не верна\n"
      ]
    },
    {
      "cell_type": "code",
      "metadata": {
        "id": "S6QVvaS0oMMC",
        "outputId": "b378e8f9-5484-433f-ee18-e7ce67cbff75",
        "colab": {
          "base_uri": "https://localhost:8080/",
          "height": 34
        }
      },
      "source": [
        "h_0 = 17\n",
        "h_1 = 17.5\n",
        "zt =norm.ppf(0.95)\n",
        "sig = 2/10\n",
        "zn = (h_1 - h_0)/sig\n",
        "if zn > zt: \n",
        "  print(\"Гипотеза H0 не верна\")\n",
        "else: \n",
        "  print(\"Гипотеза H0 верна\")"
      ],
      "execution_count": 9,
      "outputs": [
        {
          "output_type": "stream",
          "text": [
            "Гипотеза H0 не верна\n"
          ],
          "name": "stdout"
        }
      ]
    }
  ]
}