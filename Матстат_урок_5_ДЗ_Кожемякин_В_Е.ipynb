{
  "nbformat": 4,
  "nbformat_minor": 0,
  "metadata": {
    "colab": {
      "name": "Матстат_урок_5_ДЗ_Кожемякин_В_Е.ipynb",
      "provenance": [],
      "collapsed_sections": [],
      "authorship_tag": "ABX9TyO8L6JpuYgZUr5bEqSMUiaT",
      "include_colab_link": true
    },
    "kernelspec": {
      "name": "python3",
      "display_name": "Python 3"
    }
  },
  "cells": [
    {
      "cell_type": "markdown",
      "metadata": {
        "id": "view-in-github",
        "colab_type": "text"
      },
      "source": [
        "<a href=\"https://colab.research.google.com/github/vinalyan/diff/blob/master/%D0%9C%D0%B0%D1%82%D1%81%D1%82%D0%B0%D1%82_%D1%83%D1%80%D0%BE%D0%BA_5_%D0%94%D0%97_%D0%9A%D0%BE%D0%B6%D0%B5%D0%BC%D1%8F%D0%BA%D0%B8%D0%BD_%D0%92_%D0%95.ipynb\" target=\"_parent\"><img src=\"https://colab.research.google.com/assets/colab-badge.svg\" alt=\"Open In Colab\"/></a>"
      ]
    },
    {
      "cell_type": "markdown",
      "metadata": {
        "id": "siJG4BZ_KwJq"
      },
      "source": [
        "# Настройка\n",
        "\n",
        "\n",
        "\n"
      ]
    },
    {
      "cell_type": "code",
      "metadata": {
        "id": "1ft9ujd4KqCZ",
        "outputId": "ade12cd1-57b7-4adf-e204-4188f35675d8",
        "colab": {
          "base_uri": "https://localhost:8080/",
          "height": 34
        }
      },
      "source": [
        "import numpy as np\n",
        "from math import factorial\n",
        "def combinations(n, k):\n",
        "    return int(factorial(n) / (factorial(k) * factorial(n - k)))\n",
        "\n",
        "from matplotlib import pyplot as plt\n",
        "import seaborn as sns\n",
        "from scipy.stats import norm\n",
        "print('Настройка завершена')"
      ],
      "execution_count": 3,
      "outputs": [
        {
          "output_type": "stream",
          "text": [
            "Настройка завершена\n"
          ],
          "name": "stdout"
        }
      ]
    },
    {
      "cell_type": "markdown",
      "metadata": {
        "id": "eOzAkf50K6sR"
      },
      "source": [
        "# Задание № 1\n",
        "Известно, что генеральная совокупность распределена нормально со средним квадратическим отклонением, равным 16. Найти доверительный интервал для оценки математического ожидания a с надежностью 0.95, если выборочная средняя M = 80, а объем выборки n = 256."
      ]
    },
    {
      "cell_type": "markdown",
      "metadata": {
        "id": "0FAk5hs71UCS"
      },
      "source": [
        "## Решение\n",
        "Так как $\\sigma$ - СКО генеральной совокупности известно, то будет использовать $Z$ критерий."
      ]
    },
    {
      "cell_type": "markdown",
      "metadata": {
        "id": "BEzkqHF11wrA"
      },
      "source": [
        "Доверительный интервал определяется по следующей формуле:\n",
        "$$\\overline X \\pm Z_{a/2}* \\sigma / \\sqrt n$$\n",
        "где: $Z_{a/2} = 1,96$\n",
        "$$80 \\pm 1,96 * 16 /16 = [78; 82]$$ "
      ]
    },
    {
      "cell_type": "markdown",
      "metadata": {
        "id": "YHPBZL8623p-"
      },
      "source": [
        "##Ответ\n",
        "Доверительный интервал: [78;82]"
      ]
    },
    {
      "cell_type": "code",
      "metadata": {
        "id": "ppqfFYhU3M7Q",
        "outputId": "ab5030cd-c001-42e5-e287-86755a7f318a",
        "colab": {
          "base_uri": "https://localhost:8080/",
          "height": 34
        }
      },
      "source": [
        "t = norm.ppf(0.975)\n",
        "sigma = 16\n",
        "n = 256\n",
        "M = 80\n",
        "l = M - z * (sigma/(n**0.5))\n",
        "r = M + z* (sigma/(n**0.5))\n",
        "print('Доверительный интервал: [{:.3} ; {:.3}]'.format(l,r))"
      ],
      "execution_count": 24,
      "outputs": [
        {
          "output_type": "stream",
          "text": [
            "Доверительный интервал: [78.0 ; 82.0]\n"
          ],
          "name": "stdout"
        }
      ]
    },
    {
      "cell_type": "markdown",
      "metadata": {
        "id": "xP9yfGk1xPJZ"
      },
      "source": [
        "##Задание №2\n",
        "В результате 10 независимых измерений некоторой величины X, выполненных с одинаковой точностью, получены опытные данные: 6.9, 6.1, 6.2, 6.8, 7.5, 6.3, 6.4, 6.9, 6.7, 6.1 Предполагая, что результаты измерений подчинены нормальному закону распределения вероятностей, оценить истинное значение величины X при помощи доверительного интервала, покрывающего это значение с доверительной вероятностью 0,95.\n",
        "\n"
      ]
    },
    {
      "cell_type": "markdown",
      "metadata": {
        "id": "2cnxVZzq5QJQ"
      },
      "source": [
        "###Решение\n"
      ]
    },
    {
      "cell_type": "markdown",
      "metadata": {
        "id": "vUF70yrW5XWJ"
      },
      "source": [
        "Так как СКО генеральной совокупности неизвестно, то будет использовать $t$ критерий Стьюдента.\n",
        "$$\\overline X \\pm t_{a/2}* \\sigma / \\sqrt n$$\n",
        "где: $t_{a/2} = 2,262$\n",
        "\n",
        "***Тут у меня была ошибка. Я заявил T критерий но по факту считал как Z критерий и получилось не очень правильно***"
      ]
    },
    {
      "cell_type": "markdown",
      "metadata": {
        "id": "8zljmtgp9bi0"
      },
      "source": [
        "###Ответ\n",
        "Истенное значение величины $X = 6,59$\n",
        "\n",
        "Доверительный интервал: $[6,27 ; 6,91]$"
      ]
    },
    {
      "cell_type": "code",
      "metadata": {
        "id": "bKA2YEoE5ee2",
        "outputId": "ec2c3f67-9737-45f9-b5c7-e2064fd9a4cb",
        "colab": {
          "base_uri": "https://localhost:8080/",
          "height": 51
        }
      },
      "source": [
        "t = 2.262\n",
        "v = np.array([6.9, 6.1, 6.2, 6.8, 7.5, 6.3, 6.4, 6.9, 6.7, 6.1])\n",
        "X = v.mean()\n",
        "sigma = np.std(v, ddof=1)\n",
        "l = X - t * (sigma/(v.size**0.5))\n",
        "r = X + t* (sigma/(v.size**0.5))\n",
        "print('Истинное значениие величины X: {:.3}'.format(X))\n",
        "print('Доверительный интервал: [{:.3} ; {:.3}]'.format(l,r))"
      ],
      "execution_count": 27,
      "outputs": [
        {
          "output_type": "stream",
          "text": [
            "Истинное значениие величины X: 6.59\n",
            "Доверительный интервал: [6.27 ; 6.91]\n"
          ],
          "name": "stdout"
        }
      ]
    },
    {
      "cell_type": "code",
      "metadata": {
        "id": "yuwA9KKI7gPm",
        "outputId": "c76f0441-fb15-4fd0-8dfa-efef89ed018d",
        "colab": {
          "base_uri": "https://localhost:8080/",
          "height": 34
        }
      },
      "source": [
        "a = 0\n",
        "for i in v:\n",
        "  a = a + (X - i)**2\n",
        "(a / 9) ** 0.5"
      ],
      "execution_count": 18,
      "outputs": [
        {
          "output_type": "execute_result",
          "data": {
            "text/plain": [
              "0.4508017549014448"
            ]
          },
          "metadata": {
            "tags": []
          },
          "execution_count": 18
        }
      ]
    },
    {
      "cell_type": "markdown",
      "metadata": {
        "id": "uN-DqdERaJkE"
      },
      "source": [
        "# Задание №3\n",
        "\n",
        "Утверждается, что шарики для подшипников, изготовленные автоматическим станком, имеют средний диаметр $17$ мм.\n",
        "Используя односторонний критерий с $α=0,05$, проверить эту гипотезу, если в выборке из $n=100$ шариков средний диаметр\n",
        "оказался равным $17.5$ мм, а дисперсия известна и равна $4$ кв.мм."
      ]
    },
    {
      "cell_type": "markdown",
      "metadata": {
        "id": "p-L22CrBulWk"
      },
      "source": [
        "##Решение"
      ]
    },
    {
      "cell_type": "markdown",
      "metadata": {
        "id": "gVaZqiLCaVDF"
      },
      "source": [
        "1. Сформулируем основную и альтернативную гипотезы\n",
        "\n",
        "$$H_0: диаметр = 17, \\mu = \\mu_0$$\n",
        "$$H_1: диаметр = 17,5, \\mu > \\mu_0$$ \n",
        "\n",
        "\n"
      ]
    },
    {
      "cell_type": "markdown",
      "metadata": {
        "id": "B1BVSt2QmEku"
      },
      "source": [
        "2. Так как известно СКО генеральной совокупности, то воспользуемся $Z$ критерием\n",
        "\n"
      ]
    },
    {
      "cell_type": "markdown",
      "metadata": {
        "id": "hiwKh4_5pots"
      },
      "source": [
        "3. Уровень значимости задан по задаче и равен $α=0,05$. \n",
        "\n",
        "4. Тогда табличное значение:\n",
        "$$Z_t = 1,645 $$\n"
      ]
    },
    {
      "cell_type": "markdown",
      "metadata": {
        "id": "oJOaeudbOfWy"
      },
      "source": [
        "5. Определим наблюдаемое значение по формуле:\n",
        "$$Z_н = \\frac {H_1 - H_0} {\\sigma/\\sqrt{n} } $$\n",
        "$$Z_н = \\frac {17.5 - 17.0} {0,2 } = 2,5 $$"
      ]
    },
    {
      "cell_type": "markdown",
      "metadata": {
        "id": "B0PG0ugCRE6q"
      },
      "source": [
        "Так как $Z_н > Z_t$ то гипотеза $H_0$ не верна. "
      ]
    },
    {
      "cell_type": "markdown",
      "metadata": {
        "id": "1p19FbQpPtnZ"
      },
      "source": [
        "##Ответ\n",
        "Гипотеза $H_0$ не верна\n"
      ]
    },
    {
      "cell_type": "code",
      "metadata": {
        "id": "S6QVvaS0oMMC",
        "outputId": "5565fff7-d9f7-43b2-a3c4-7d50e9895a69",
        "colab": {
          "base_uri": "https://localhost:8080/",
          "height": 34
        }
      },
      "source": [
        "h_0 = 17\n",
        "h_1 = 17.5\n",
        "zt =norm.ppf(0.95)\n",
        "sig = 2/10\n",
        "zn = (h_1 - h_0)/(sig)\n",
        "\n",
        "if zn > zt: \n",
        "  print(\"Гипотеза H0 не верна\")\n",
        "else: \n",
        "  print(\"Гипотеза H0 верна\")"
      ],
      "execution_count": 37,
      "outputs": [
        {
          "output_type": "stream",
          "text": [
            "Гипотеза H0 не верна\n"
          ],
          "name": "stdout"
        }
      ]
    },
    {
      "cell_type": "code",
      "metadata": {
        "id": "-ihfuBUfMzFf",
        "outputId": "c95f68a9-fef6-4612-f941-eb65ed32e76b",
        "colab": {
          "base_uri": "https://localhost:8080/",
          "height": 34
        }
      },
      "source": [
        "zn"
      ],
      "execution_count": 36,
      "outputs": [
        {
          "output_type": "execute_result",
          "data": {
            "text/plain": [
              "40.0"
            ]
          },
          "metadata": {
            "tags": []
          },
          "execution_count": 36
        }
      ]
    },
    {
      "cell_type": "markdown",
      "metadata": {
        "id": "kFVZjXF9iD2D"
      },
      "source": [
        "### Тут попытка в графики"
      ]
    },
    {
      "cell_type": "markdown",
      "metadata": {
        "id": "kRA2VIYeneGn"
      },
      "source": [
        "График вроде правильный, но странно, что $y = 2$ при $x = 17$. [В интернетах пишут, что это не ошибка.](https://stackoverflow.com/questions/38141951/why-does-scipy-norm-pdf-sometimes-give-pdf-1-how-to-correct-it). Пока разбираться не стал, тупо поделил на 4, для наглядности хватает, но подумать надо. "
      ]
    },
    {
      "cell_type": "code",
      "metadata": {
        "id": "N9pHcucLSUvw",
        "outputId": "16ad39bb-ad6f-4dbf-b7f8-377e56020b12",
        "colab": {
          "base_uri": "https://localhost:8080/",
          "height": 265
        }
      },
      "source": [
        "fig = plt.figure()\n",
        "ax = fig.add_subplot(111)\n",
        "\n",
        "# Значения между 16.5 и 18 с шагом 0.01\n",
        "x = np.arange(16.5, 18, 0.01)\n",
        "# Нормальное расределение с М(x) = 17 СКО = 0,2\n",
        "\n",
        "y = norm.pdf(x,17,sig) / 2 * y.max()\n",
        "# Среднее значение = 17, СКО = 0.2.\n",
        "\n",
        "ax.plot(x, y, label='H0')\n",
        "\n",
        "sig_a = (x > 17 + zt * sig)\n",
        "plt.fill_between(x, y, where=(sig_a), color='royalblue') \n",
        "xax = ax.xaxis   # или xax = ax.get_xaxis()\n",
        "xax.set_ticks([17,17 + zt * sig, 17 + zn * sig])\n",
        "xax.grid(True)\n",
        "plt.text(17.33, 0.4, 'zt')\n",
        "plt.text(17.5, 0.4, 'zn')\n",
        "\n",
        "ax.legend()\n",
        "\n",
        "plt.show()"
      ],
      "execution_count": null,
      "outputs": [
        {
          "output_type": "display_data",
          "data": {
            "image/png": "[encoded data removed]",
            "text/plain": [
              "<Figure size 432x288 with 1 Axes>"
            ]
          },
          "metadata": {
            "tags": [],
            "needs_background": "light"
          }
        }
      ]
    },
    {
      "cell_type": "markdown",
      "metadata": {
        "id": "AwJE-e-PFTyk"
      },
      "source": [
        "##Задание 4\n",
        "Продавец утверждает, что средний вес пачки печенья составляет 200 г. Из партии извлечена выборка из 10 пачек. Вес каждой пачки составляет: 202, 203, 199, 197, 195, 201, 200, 204, 194, 190. Известно, что их веса распределены нормально. Верно ли утверждение продавца, если учитывать, что доверительная вероятность равна 99%?\n",
        "\n"
      ]
    },
    {
      "cell_type": "markdown",
      "metadata": {
        "id": "_0-ZpVvEFror"
      },
      "source": [
        "##Решение\n"
      ]
    },
    {
      "cell_type": "markdown",
      "metadata": {
        "id": "Ej7J-oHlFzYg"
      },
      "source": [
        "Сформулируем основную и альтернативную гипотезы\n",
        "\n",
        "$$H_0: вес = 200, \\mu = \\mu_0$$\n",
        "$$H_1: вес \\ne17,5, \\mu \\ne \\mu_0$$ \n",
        "Так как СКО генеральной совокупности не известно, то рассчитаем смещенное СКО по выборке  $\\sigma = 4,45$\n",
        "\n",
        "Кртическое значение табличного значения определим по таблице Стьюдента для значени 0,005 и степенями свободы равным 9 $$t_t = 3,25$$\n",
        "\n",
        "Получается, что для соответсвия гипотезе $H_0$ наблюдаемые значения $t_n$ должны принадлежать участку $[-3,25 ; 3,25]$\n",
        "\n",
        "Наблюдаемое значени определим по формуле\n",
        "$$t_n = \\frac{\\overline X - \\mu_0}{\\sigma / \\sqrt n} = -1,065 $$\n",
        "\n",
        "Так как наблюдаемое значение принадлежит допустимому участку, то считаем что гипотеза $H_0$ верна.\n",
        "\n",
        "\n"
      ]
    },
    {
      "cell_type": "markdown",
      "metadata": {
        "id": "aehBygi3Pdmb"
      },
      "source": [
        "##Ответ\n",
        "Гипотеза $H_0$ верна"
      ]
    },
    {
      "cell_type": "code",
      "metadata": {
        "id": "E8YwJKQcFxYC",
        "outputId": "724958ac-411a-490d-c098-eb64957444cd",
        "colab": {
          "base_uri": "https://localhost:8080/",
          "height": 34
        }
      },
      "source": [
        "h_0 = 200\n",
        "v = np.array([202, 203, 199, 197, 195, 201, 200, 204, 194, 190])\n",
        "h_1 = v.mean()\n",
        "t_t = 3.25\n",
        "sigma = np.std(v, ddof=1)\n",
        "\n",
        "t_n = abs((h_1 - h_0) / (sigma / v.size**0.5 ))\n",
        "if t_n > t_t: \n",
        "  print(\"Гипотеза H0 не верна\")\n",
        "else: \n",
        "  print(\"Гипотеза H0 верна\")"
      ],
      "execution_count": 41,
      "outputs": [
        {
          "output_type": "stream",
          "text": [
            "Гипотеза H0 верна\n"
          ],
          "name": "stdout"
        }
      ]
    },
    {
      "cell_type": "code",
      "metadata": {
        "id": "W-rDzn82NgDv",
        "outputId": "1b3b9114-7cf3-4171-8f00-46c0de30078d",
        "colab": {
          "base_uri": "https://localhost:8080/",
          "height": 34
        }
      },
      "source": [
        "sigma"
      ],
      "execution_count": 40,
      "outputs": [
        {
          "output_type": "execute_result",
          "data": {
            "text/plain": [
              "4.453463071962462"
            ]
          },
          "metadata": {
            "tags": []
          },
          "execution_count": 40
        }
      ]
    },
    {
      "cell_type": "code",
      "metadata": {
        "id": "RvZ2kHHPKpwa",
        "outputId": "76ffcc94-f607-4ca8-9c00-3ff0a083d995",
        "colab": {
          "base_uri": "https://localhost:8080/",
          "height": 34
        }
      },
      "source": [
        "h_1"
      ],
      "execution_count": 34,
      "outputs": [
        {
          "output_type": "execute_result",
          "data": {
            "text/plain": [
              "198.5"
            ]
          },
          "metadata": {
            "tags": []
          },
          "execution_count": 34
        }
      ]
    },
    {
      "cell_type": "code",
      "metadata": {
        "id": "c9LaaNCcKj4X",
        "outputId": "bc04159b-570d-4492-9ba0-bc300752b4a9",
        "colab": {
          "base_uri": "https://localhost:8080/",
          "height": 34
        }
      },
      "source": [
        "abs(t_n)"
      ],
      "execution_count": 42,
      "outputs": [
        {
          "output_type": "execute_result",
          "data": {
            "text/plain": [
              "1.0651074037450896"
            ]
          },
          "metadata": {
            "tags": []
          },
          "execution_count": 42
        }
      ]
    },
    {
      "cell_type": "code",
      "metadata": {
        "id": "Cg0iG6AyKkjW"
      },
      "source": [
        ""
      ],
      "execution_count": null,
      "outputs": []
    }
  ]
}