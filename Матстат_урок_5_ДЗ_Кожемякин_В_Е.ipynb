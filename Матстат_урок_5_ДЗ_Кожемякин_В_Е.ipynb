{
  "nbformat": 4,
  "nbformat_minor": 0,
  "metadata": {
    "colab": {
      "name": "Матстат_урок_5_ДЗ_Кожемякин_В_Е.ipynb",
      "provenance": [],
      "collapsed_sections": [],
      "authorship_tag": "ABX9TyM8NO6o8C+O1VjQRTCOj162",
      "include_colab_link": true
    },
    "kernelspec": {
      "name": "python3",
      "display_name": "Python 3"
    }
  },
  "cells": [
    {
      "cell_type": "markdown",
      "metadata": {
        "id": "view-in-github",
        "colab_type": "text"
      },
      "source": [
        "<a href=\"https://colab.research.google.com/github/vinalyan/diff/blob/master/%D0%9C%D0%B0%D1%82%D1%81%D1%82%D0%B0%D1%82_%D1%83%D1%80%D0%BE%D0%BA_5_%D0%94%D0%97_%D0%9A%D0%BE%D0%B6%D0%B5%D0%BC%D1%8F%D0%BA%D0%B8%D0%BD_%D0%92_%D0%95.ipynb\" target=\"_parent\"><img src=\"https://colab.research.google.com/assets/colab-badge.svg\" alt=\"Open In Colab\"/></a>"
      ]
    },
    {
      "cell_type": "markdown",
      "metadata": {
        "id": "siJG4BZ_KwJq"
      },
      "source": [
        "# Настройка\n",
        "\n",
        "\n",
        "\n"
      ]
    },
    {
      "cell_type": "code",
      "metadata": {
        "id": "1ft9ujd4KqCZ",
        "outputId": "9a73e343-2795-41e0-ba5b-f745198b4864",
        "colab": {
          "base_uri": "https://localhost:8080/",
          "height": 34
        }
      },
      "source": [
        "import numpy as np\n",
        "from math import factorial\n",
        "def combinations(n, k):\n",
        "    return int(factorial(n) / (factorial(k) * factorial(n - k)))\n",
        "\n",
        "from matplotlib import pyplot as plt\n",
        "import seaborn as sns\n",
        "from scipy.stats import norm\n",
        "print('Настройка завершена')"
      ],
      "execution_count": 2,
      "outputs": [
        {
          "output_type": "stream",
          "text": [
            "Настройка завершена\n"
          ],
          "name": "stdout"
        }
      ]
    },
    {
      "cell_type": "markdown",
      "metadata": {
        "id": "eOzAkf50K6sR"
      },
      "source": [
        "# Задание № 1\n",
        "Известно, что генеральная совокупность распределена нормально со средним квадратическим отклонением, равным 16. Найти доверительный интервал для оценки математического ожидания a с надежностью 0.95, если выборочная средняя M = 80, а объем выборки n = 256."
      ]
    },
    {
      "cell_type": "markdown",
      "metadata": {
        "id": "0FAk5hs71UCS"
      },
      "source": [
        "## Решение\n",
        "Так как $\\sigma$ - СКО генеральной совокупности известно, то будет использовать $Z$ критерий."
      ]
    },
    {
      "cell_type": "markdown",
      "metadata": {
        "id": "BEzkqHF11wrA"
      },
      "source": [
        "Доверительный интервал определяется по следующей формуле:\n",
        "$$\\overline X \\pm Z_{a/2}* \\sigma / \\sqrt n$$\n",
        "где: $Z_{a/2} = 1,96$\n",
        "$$80 \\pm 1,96 * 16 /16 = [78; 82]$$ "
      ]
    },
    {
      "cell_type": "markdown",
      "metadata": {
        "id": "YHPBZL8623p-"
      },
      "source": [
        "##Ответ\n",
        "Доверительный интервал: [78;82]"
      ]
    },
    {
      "cell_type": "code",
      "metadata": {
        "id": "ppqfFYhU3M7Q",
        "outputId": "1e3bdc42-e545-428d-96bd-ac1082d05894",
        "colab": {
          "base_uri": "https://localhost:8080/",
          "height": 34
        }
      },
      "source": [
        "z = norm.ppf(0.975)\n",
        "sigma = 16\n",
        "n = 256\n",
        "M = 80\n",
        "l = M - z * (sigma/(n**0.5))\n",
        "r = M + z* (sigma/(n**0.5))\n",
        "print('Доверительный интервал: [{:.3} ; {:.3}]'.format(l,r))"
      ],
      "execution_count": 6,
      "outputs": [
        {
          "output_type": "stream",
          "text": [
            "Доверительный интервал: [78.0 ; 82.0]\n"
          ],
          "name": "stdout"
        }
      ]
    },
    {
      "cell_type": "markdown",
      "metadata": {
        "id": "uN-DqdERaJkE"
      },
      "source": [
        "# Задание №3\n",
        "\n",
        "Утверждается, что шарики для подшипников, изготовленные автоматическим станком, имеют средний диаметр $17$ мм.\n",
        "Используя односторонний критерий с $α=0,05$, проверить эту гипотезу, если в выборке из $n=100$ шариков средний диаметр\n",
        "оказался равным $17.5$ мм, а дисперсия известна и равна $4$ кв.мм."
      ]
    },
    {
      "cell_type": "markdown",
      "metadata": {
        "id": "p-L22CrBulWk"
      },
      "source": [
        "##Решение"
      ]
    },
    {
      "cell_type": "markdown",
      "metadata": {
        "id": "gVaZqiLCaVDF"
      },
      "source": [
        "1. Сформулируем основную и альтернативную гипотезы\n",
        "\n",
        "$$H_0: диаметр = 17, \\mu = \\mu_0$$\n",
        "$$H_1: диаметр = 17,5, \\mu > \\mu_0$$ \n",
        "\n",
        "\n"
      ]
    },
    {
      "cell_type": "markdown",
      "metadata": {
        "id": "B1BVSt2QmEku"
      },
      "source": [
        "2. Так как известно СКО генеральной совокупности, то воспользуемся $Z$ критерием\n",
        "\n"
      ]
    },
    {
      "cell_type": "markdown",
      "metadata": {
        "id": "hiwKh4_5pots"
      },
      "source": [
        "3. Уровень значимости задан по задаче и равен $α=0,05$. \n",
        "\n",
        "4. Тогда табличное значение:\n",
        "$$Z_t = 1,645 $$\n"
      ]
    },
    {
      "cell_type": "markdown",
      "metadata": {
        "id": "oJOaeudbOfWy"
      },
      "source": [
        "5. Определим наблюдаемое значение по формуле:\n",
        "$$Z_н = \\frac {H_1 - H_0} {\\sigma/\\sqrt{n} } $$\n",
        "$$Z_н = \\frac {17.5 - 17.0} {0,2 } = 2,5 $$"
      ]
    },
    {
      "cell_type": "markdown",
      "metadata": {
        "id": "B0PG0ugCRE6q"
      },
      "source": [
        "Так как $Z_н > Z_t$ то гипотеза $H_0$ не верна. "
      ]
    },
    {
      "cell_type": "markdown",
      "metadata": {
        "id": "1p19FbQpPtnZ"
      },
      "source": [
        "##Ответ\n",
        "Гипотеза $H_0$ не верна\n"
      ]
    },
    {
      "cell_type": "code",
      "metadata": {
        "id": "S6QVvaS0oMMC",
        "outputId": "fd362a52-31fd-4a33-fca6-97a78d9af50d",
        "colab": {
          "base_uri": "https://localhost:8080/",
          "height": 34
        }
      },
      "source": [
        "h_0 = 17\n",
        "h_1 = 17.5\n",
        "zt =norm.ppf(0.95)\n",
        "sig = 2/10\n",
        "zn = (h_1 - h_0)/sig\n",
        "if zn > zt: \n",
        "  print(\"Гипотеза H0 не верна\")\n",
        "else: \n",
        "  print(\"Гипотеза H0 верна\")"
      ],
      "execution_count": null,
      "outputs": [
        {
          "output_type": "stream",
          "text": [
            "Гипотеза H0 не верна\n"
          ],
          "name": "stdout"
        }
      ]
    },
    {
      "cell_type": "markdown",
      "metadata": {
        "id": "kFVZjXF9iD2D"
      },
      "source": [
        "### Тут попытка в графики"
      ]
    },
    {
      "cell_type": "markdown",
      "metadata": {
        "id": "kRA2VIYeneGn"
      },
      "source": [
        "График вроде правильный, но странно, что $y = 2$ при $x = 17$. [В интернетах пишут, что это не ошибка.](https://stackoverflow.com/questions/38141951/why-does-scipy-norm-pdf-sometimes-give-pdf-1-how-to-correct-it). Пока разбираться не стал для наглядности хватает и этого. "
      ]
    },
    {
      "cell_type": "code",
      "metadata": {
        "id": "N9pHcucLSUvw",
        "outputId": "5f133536-bec1-4160-a308-86a237225955",
        "colab": {
          "base_uri": "https://localhost:8080/",
          "height": 265
        }
      },
      "source": [
        "fig = plt.figure()\n",
        "ax = fig.add_subplot(111)\n",
        "\n",
        "# Значения между 16.5 и 18 с шагом 0.01\n",
        "x = np.arange(16.5, 18, 0.01)\n",
        "# Нормальное расределение с М(x) = 17 СКО = 0,2\n",
        "\n",
        "y = norm.pdf(x,17,sig) \n",
        "# Среднее значение = 17, СКО = 0.2.\n",
        "\n",
        "ax.plot(x, y, label='H0')\n",
        "\n",
        "sig_a = (x > 17 + zt * sig)\n",
        "plt.fill_between(x, y, where=(sig_a), color='royalblue') \n",
        "xax = ax.xaxis   # или xax = ax.get_xaxis()\n",
        "xax.set_ticks([17,17 + zt * sig, 17 + zn * sig])\n",
        "xax.grid(True)\n",
        "plt.text(17.329, 1.5, 'zt')\n",
        "plt.text(17.5, 1.5, 'zn')\n",
        "\n",
        "ax.legend()\n",
        "\n",
        "plt.show()"
      ],
      "execution_count": null,
      "outputs": [
        {
          "output_type": "display_data",
          "data": {
            "image/png": "[encoded data removed]",
            "text/plain": [
              "<Figure size 432x288 with 1 Axes>"
            ]
          },
          "metadata": {
            "tags": [],
            "needs_background": "light"
          }
        }
      ]
    }
  ]
}